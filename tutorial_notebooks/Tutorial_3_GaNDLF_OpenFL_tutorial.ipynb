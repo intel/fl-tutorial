{
 "cells": [
  {
   "cell_type": "markdown",
   "metadata": {
    "id": "MNLv8vXMXTUH"
   },
   "source": [
    "# Federated GaNDLF Tutorial with PathMNIST Dataset\n",
    "[![Open In Colab](https://colab.research.google.com/assets/colab-badge.svg)](https://colab.research.google.com/github/intel/fl-tutorial/blob/gh-pages/tutorial_notebooks/Tutorial_3_GaNDLF_OpenFL_tutorial.ipynb)\n",
    "### Note: If running the notebook on google colab, please make sure to use python version 3.8, OpenFL works with this version only.\n",
    "\n",
    "In this tutorial, we will be using the **Generally Nuanced Deep Learning Framework** (GaNDLF) to perform training and inference on a ResNet architecture, with PathMNIST, a dataset of colon pathology images, using [OpenFL](https://github.com/intel/openfl) in a federated learning fashion. This is a multi-class classification task: there are 9 different types of colon tissue displayed in the pathology images, each represented by its own class.\n",
    "\n",
    "This tutorial demonstrates how to use GaNDLF with a simple classification task. Some steps that would ordinarily be part of the workflow (e.g. data CSV and config YAML file construction) have already been performed for simplicity; please refer to the [GaNDLF documentation](https://cbica.github.io/GaNDLF/) for more details on replication of these steps."
   ]
  },
  {
   "cell_type": "markdown",
   "metadata": {
    "id": "q92y6gnijuIl"
   },
   "source": [
    "## Dependencies and Packages\n",
    "\n",
    "Let's get these out of the way first."
   ]
  },
  {
   "cell_type": "code",
   "execution_count": 1,
   "metadata": {
    "colab": {
     "base_uri": "https://localhost:8080/"
    },
    "id": "XyH3XctEjuIn",
    "outputId": "7f84ef58-3d1e-4654-a358-c0f53574419d"
   },
   "outputs": [
    {
     "name": "stdout",
     "output_type": "stream",
     "text": [
      "Requirement already satisfied: pip in /home/karan/workspace/fl-tutorial/venv/lib/python3.8/site-packages (22.2.2)\n",
      "Looking in indexes: https://pypi.org/simple, https://download.pytorch.org/whl/lts/1.8/cu111\n",
      "Requirement already satisfied: pandas in /home/karan/workspace/fl-tutorial/venv/lib/python3.8/site-packages (1.4.4)\n",
      "Requirement already satisfied: matplotlib in /home/karan/workspace/fl-tutorial/venv/lib/python3.8/site-packages (3.6.0)\n",
      "Requirement already satisfied: torch==1.8.2 in /home/karan/workspace/fl-tutorial/venv/lib/python3.8/site-packages (1.8.2+cu111)\n",
      "Requirement already satisfied: torchvision==0.9.2 in /home/karan/workspace/fl-tutorial/venv/lib/python3.8/site-packages (0.9.2+cu111)\n",
      "Requirement already satisfied: typing-extensions in /home/karan/workspace/fl-tutorial/venv/lib/python3.8/site-packages (from torch==1.8.2) (4.3.0)\n",
      "Requirement already satisfied: numpy in /home/karan/workspace/fl-tutorial/venv/lib/python3.8/site-packages (from torch==1.8.2) (1.21.0)\n",
      "Requirement already satisfied: pillow>=4.1.1 in /home/karan/workspace/fl-tutorial/venv/lib/python3.8/site-packages (from torchvision==0.9.2) (9.2.0)\n",
      "Requirement already satisfied: python-dateutil>=2.8.1 in /home/karan/workspace/fl-tutorial/venv/lib/python3.8/site-packages (from pandas) (2.8.2)\n",
      "Requirement already satisfied: pytz>=2020.1 in /home/karan/workspace/fl-tutorial/venv/lib/python3.8/site-packages (from pandas) (2022.2.1)\n",
      "Requirement already satisfied: packaging>=20.0 in /home/karan/workspace/fl-tutorial/venv/lib/python3.8/site-packages (from matplotlib) (21.3)\n",
      "Requirement already satisfied: cycler>=0.10 in /home/karan/workspace/fl-tutorial/venv/lib/python3.8/site-packages (from matplotlib) (0.11.0)\n",
      "Requirement already satisfied: pyparsing>=2.2.1 in /home/karan/workspace/fl-tutorial/venv/lib/python3.8/site-packages (from matplotlib) (3.0.9)\n",
      "Requirement already satisfied: fonttools>=4.22.0 in /home/karan/workspace/fl-tutorial/venv/lib/python3.8/site-packages (from matplotlib) (4.37.2)\n",
      "Requirement already satisfied: kiwisolver>=1.0.1 in /home/karan/workspace/fl-tutorial/venv/lib/python3.8/site-packages (from matplotlib) (1.4.4)\n",
      "Requirement already satisfied: contourpy>=1.0.1 in /home/karan/workspace/fl-tutorial/venv/lib/python3.8/site-packages (from matplotlib) (1.0.5)\n",
      "Requirement already satisfied: six>=1.5 in /home/karan/workspace/fl-tutorial/venv/lib/python3.8/site-packages (from python-dateutil>=2.8.1->pandas) (1.16.0)\n"
     ]
    }
   ],
   "source": [
    "# Use latest pip to avoid dependency issues\n",
    "!python -m pip install -U pip\n",
    "!(python -m pip install --no-cache-dir \\\n",
    "    pandas \\\n",
    "    matplotlib \\\n",
    "    torch==1.8.2 \\\n",
    "    torchvision==0.9.2 \\\n",
    "    --extra-index-url https://download.pytorch.org/whl/lts/1.8/cu111)"
   ]
  },
  {
   "cell_type": "markdown",
   "metadata": {
    "id": "IPQen72UjuIq"
   },
   "source": [
    "## 1. Familiarize yourself with the Dataset\n",
    "\n",
    "MedMNIST is a large-scale MNIST-like collection of standardized biomedical images, including 12 datasets for 2D and 6 datasets for 3D. MedMNIST is designed to perform classification on lightweight 2D and 3D images with various data scales (from 100 to 100,000) and diverse tasks (binary/multi-class, ordinal regression and multi-label).\n",
    "\n",
    "![Datasets in MedMNIST](https://raw.githubusercontent.com/MedMNIST/MedMNIST/main/assets/medmnistv2.jpg)\n",
    "\n",
    "Source: https://github.com/MedMNIST/MedMNIST\n",
    "\n",
    "Jiancheng Yang, Rui Shi, Donglai Wei, Zequan Liu, Lin Zhao, Bilian Ke, Hanspeter Pfister, Bingbing Ni. \"MedMNIST v2: A Large-Scale Lightweight Benchmark for 2D and 3D Biomedical Image Classification\". arXiv preprint arXiv:2110.14795, 2021."
   ]
  },
  {
   "cell_type": "markdown",
   "metadata": {
    "id": "K4aglAM8RjM8"
   },
   "source": [
    "### 1.1 Download PathMNIST Dataset\n",
    "\n",
    "The tool will download all datasets. We're mainly interested in `pathmnist`. Feel free to interrupt the execution after it has downloaded `pathmnist`."
   ]
  },
  {
   "cell_type": "code",
   "execution_count": 2,
   "metadata": {
    "colab": {
     "base_uri": "https://localhost:8080/"
    },
    "id": "SfnHKKAcjuIq",
    "outputId": "5f977c84-dd6b-4b2b-f6ad-3ab4e2f30bf2"
   },
   "outputs": [
    {
     "name": "stdout",
     "output_type": "stream",
     "text": [
      "MEDMNIST:  2.1.0\n",
      "Downloading pathmnist...\n",
      "Using downloaded and verified file: /home/karan/.medmnist/pathmnist.npz\n",
      "Downloading chestmnist...\n",
      "Using downloaded and verified file: /home/karan/.medmnist/chestmnist.npz\n",
      "Downloading dermamnist...\n",
      "Using downloaded and verified file: /home/karan/.medmnist/dermamnist.npz\n",
      "Downloading octmnist...\n",
      "Using downloaded and verified file: /home/karan/.medmnist/octmnist.npz\n",
      "Downloading pneumoniamnist...\n",
      "Using downloaded and verified file: /home/karan/.medmnist/pneumoniamnist.npz\n",
      "Downloading retinamnist...\n",
      "Using downloaded and verified file: /home/karan/.medmnist/retinamnist.npz\n",
      "Downloading breastmnist...\n",
      "Using downloaded and verified file: /home/karan/.medmnist/breastmnist.npz\n",
      "Downloading bloodmnist...\n",
      "Using downloaded and verified file: /home/karan/.medmnist/bloodmnist.npz\n",
      "Downloading tissuemnist...\n",
      "Using downloaded and verified file: /home/karan/.medmnist/tissuemnist.npz\n",
      "Downloading organamnist...\n",
      "Using downloaded and verified file: /home/karan/.medmnist/organamnist.npz\n",
      "Downloading organcmnist...\n",
      "Using downloaded and verified file: /home/karan/.medmnist/organcmnist.npz\n",
      "Downloading organsmnist...\n",
      "Using downloaded and verified file: /home/karan/.medmnist/organsmnist.npz\n",
      "Downloading organmnist3d...\n",
      "Using downloaded and verified file: /home/karan/.medmnist/organmnist3d.npz\n",
      "Downloading nodulemnist3d...\n",
      "Using downloaded and verified file: /home/karan/.medmnist/nodulemnist3d.npz\n",
      "Downloading adrenalmnist3d...\n",
      "Using downloaded and verified file: /home/karan/.medmnist/adrenalmnist3d.npz\n",
      "Downloading fracturemnist3d...\n",
      "Using downloaded and verified file: /home/karan/.medmnist/fracturemnist3d.npz\n",
      "Downloading vesselmnist3d...\n",
      "Using downloaded and verified file: /home/karan/.medmnist/vesselmnist3d.npz\n",
      "Downloading synapsemnist3d...\n",
      "Using downloaded and verified file: /home/karan/.medmnist/synapsemnist3d.npz\n"
     ]
    }
   ],
   "source": [
    "# Install medmnist package\n",
    "!python -m pip install -q medmnist\n",
    "!python -c \"import medmnist; print('MEDMNIST: ', medmnist.__version__)\"\n",
    "\n",
    "# Download medmnist datasets\n",
    "!python -m medmnist download"
   ]
  },
  {
   "cell_type": "markdown",
   "metadata": {
    "id": "kSyQA7DsRuhE"
   },
   "source": [
    "### 1.2 Convert to images\n",
    "\n",
    "MedMNIST datasets come as a single consolidated `np.ndarray`. We will convert these to `png` images to allow us to use the dataset with `GaNDLF`, a deep learning framework for medical images."
   ]
  },
  {
   "cell_type": "code",
   "execution_count": 3,
   "metadata": {
    "colab": {
     "base_uri": "https://localhost:8080/"
    },
    "id": "6h2zsqeyjuIr",
    "outputId": "4a535fe6-91a8-43fe-f66d-44c6904bf03f"
   },
   "outputs": [
    {
     "name": "stdout",
     "output_type": "stream",
     "text": [
      "Saving pathmnist train...\n",
      "100%|███████████████████████████████████| 89996/89996 [00:33<00:00, 2684.89it/s]\n",
      "Saving pathmnist val...\n",
      "100%|███████████████████████████████████| 10004/10004 [00:03<00:00, 2627.28it/s]\n",
      "Saving pathmnist test...\n",
      "100%|█████████████████████████████████████| 7180/7180 [00:02<00:00, 2712.49it/s]\n"
     ]
    }
   ],
   "source": [
    "# Convert dataset from numpy to *.png\n",
    "!(python -m medmnist save \\\n",
    "  --flag=pathmnist \\\n",
    "  --folder=./medmnist/dataset/ \\\n",
    "  --postfix=png)"
   ]
  },
  {
   "cell_type": "markdown",
   "metadata": {
    "id": "GoCqhjnvR8AF"
   },
   "source": [
    "### 1.3 Download `train`, `val` and `test` lists\n",
    "\n",
    "These `csv` files are list of paths to `png` images created earlier, that will be partitioned into their respective splits."
   ]
  },
  {
   "cell_type": "code",
   "execution_count": 4,
   "metadata": {
    "colab": {
     "base_uri": "https://localhost:8080/"
    },
    "id": "wgUZvhLXjuIs",
    "outputId": "3f549ae2-3ad9-42c0-fc9f-9edcef631bbc"
   },
   "outputs": [
    {
     "name": "stderr",
     "output_type": "stream",
     "text": [
      "\n",
      "     0K .......... .......... .......... .......... .......... 20%  583K 0s\n",
      "    50K .......... .......... .......... .......... .......... 40%  218K 0s\n",
      "   100K .......... .......... .......... .......... .......... 60%  612K 0s\n",
      "   150K .......... .......... .......... .......... .......... 80%  609K 0s\n"
     ]
    },
    {
     "name": "stdout",
     "output_type": "stream",
     "text": [
      "Downloaded train list\n"
     ]
    },
    {
     "name": "stderr",
     "output_type": "stream",
     "text": [
      "   200K .......... .......... .......... .......... .......   100%  626K=0.6s\n",
      "     0K .......... .......... .......... .......... .......... 88%  184K 0s\n"
     ]
    },
    {
     "name": "stdout",
     "output_type": "stream",
     "text": [
      "Downloaded val list\n"
     ]
    },
    {
     "name": "stderr",
     "output_type": "stream",
     "text": [
      "    50K ......                                                100%  235K=0.3s\n"
     ]
    },
    {
     "name": "stdout",
     "output_type": "stream",
     "text": [
      "Downloaded test list\n"
     ]
    },
    {
     "name": "stderr",
     "output_type": "stream",
     "text": [
      "     0K .......... .......... .........                       100%  675K=0.04s"
     ]
    }
   ],
   "source": [
    "%%bash\n",
    "# Train CSV list\n",
    "wget -q --show-progress -O ./medmnist/dataset/train_path_full.csv \"https://app.box.com/index.php?rm=box_download_shared_file&shared_name=um4003lkrvyj55jm4a0jz7zsuokb0r8o&file_id=f_991821586980\"\n",
    "echo \"Downloaded train list\"\n",
    "\n",
    "# Validation CSV list\n",
    "wget -q --show-progress -O ./medmnist/dataset/val_path_full.csv \"https://app.box.com/index.php?rm=box_download_shared_file&shared_name=rsmff27sm2z34r5xso1jx8xix7nhfspc&file_id=f_991817441206\"\n",
    "echo \"Downloaded val list\"\n",
    "\n",
    "# Test CSV list\n",
    "wget -q --show-progress -O ./medmnist/dataset/test_path_tiny.csv \"https://app.box.com/index.php?rm=box_download_shared_file&shared_name=22lm0qfzk5luap72mtdpzx5l3ocflopa&file_id=f_991819617152\"\n",
    "echo \"Downloaded test list\""
   ]
  },
  {
   "cell_type": "markdown",
   "metadata": {
    "id": "YQZNhunDbCXd"
   },
   "source": [
    "We will be using this single-source of images for our Federated Learning experiment. \n",
    "\n",
    "To avoid duplication of data at multiple paths for the experiment, we update the paths in all CSVs to reflect full path instead of relative paths. Full path ensures it will be accessible from any location in our runtime.\n",
    "\n",
    "Essentially, we update `./medmnist` to `/full/path/to/medmnist` in all the 3 CSV files."
   ]
  },
  {
   "cell_type": "code",
   "execution_count": 5,
   "metadata": {
    "colab": {
     "base_uri": "https://localhost:8080/"
    },
    "id": "4me_ZvEbjuIt",
    "outputId": "a573804d-b298-4d34-a4b3-e4ee59cb5618"
   },
   "outputs": [
    {
     "name": "stdout",
     "output_type": "stream",
     "text": [
      "Updated paths in  ./medmnist/dataset/train_path_full.csv\n",
      "Updated paths in  ./medmnist/dataset/val_path_full.csv\n",
      "Updated paths in  ./medmnist/dataset/test_path_tiny.csv\n"
     ]
    }
   ],
   "source": [
    "import os\n",
    "import shutil\n",
    "import numpy as np\n",
    "import pandas as pd\n",
    "\n",
    "# Convert ALL paths in the CSV to Absolute paths\n",
    "csv_files = {\n",
    "    'train': './medmnist/dataset/train_path_full.csv',\n",
    "    'val': './medmnist/dataset/val_path_full.csv',\n",
    "    'test': './medmnist/dataset/test_path_tiny.csv'\n",
    "}\n",
    "\n",
    "for path in csv_files.values():\n",
    "    with open(path, 'r') as f:\n",
    "        content = f.read()\n",
    "        content = content.replace('./medmnist', os.path.abspath('./medmnist'))\n",
    "    \n",
    "    with open(path, 'w') as f:\n",
    "        f.write(content)\n",
    "    print('Updated paths in ', path)"
   ]
  },
  {
   "cell_type": "markdown",
   "metadata": {
    "id": "_hoh3DQgjuIt"
   },
   "source": [
    "### 1.4 Preview Sample Data\n",
    "\n",
    "Let's use a bit of plotting to see what our data is like."
   ]
  },
  {
   "cell_type": "markdown",
   "metadata": {
    "id": "6ik8N82pjuIv"
   },
   "source": [
    "Below cell helps visualize a few images with their labels. "
   ]
  },
  {
   "cell_type": "code",
   "execution_count": 6,
   "metadata": {
    "colab": {
     "base_uri": "https://localhost:8080/",
     "height": 482
    },
    "id": "01zh8OzHjuIw",
    "outputId": "65c58d3a-7adf-468f-9718-40a8803892c3"
   },
   "outputs": [
    {
     "data": {
      "image/png": "[encoded data removed]",
      "text/plain": [
       "<Figure size 800x800 with 25 Axes>"
      ]
     },
     "metadata": {},
     "output_type": "display_data"
    }
   ],
   "source": [
    "import matplotlib.pyplot as plt\n",
    "from PIL import Image\n",
    "\n",
    "n_img = 5\n",
    "train_samples = pd.read_csv(csv_files['train']).head(n_img*n_img)\n",
    "\n",
    "label2str = [\n",
    "    'adipose',\n",
    "    'background',\n",
    "    'debris',\n",
    "    'lymphocytes',\n",
    "    'mucus',\n",
    "    'smooth muscle',\n",
    "    'normal colon mucosa',\n",
    "    'cancer associated stroma',\n",
    "    'colorectal adenocarcinoma epithelium'\n",
    "]\n",
    "\n",
    "fig, ax = plt.subplots(n_img, n_img, figsize=(8, 8))\n",
    "\n",
    "for k in range(len(train_samples)):\n",
    "    i = k // n_img\n",
    "    j = k % n_img\n",
    "    filepath = train_samples.iloc[k]['Channel_0']\n",
    "    label = train_samples.iloc[k]['valuetopredict']\n",
    "    ax[i, j].imshow(Image.open(filepath))\n",
    "    ax[i, j].title.set_text(label2str[label][:9])\n",
    "    ax[i, j].axis('off')\n",
    "fig.subplots_adjust(wspace=0.03, hspace=0.3)\n"
   ]
  },
  {
   "cell_type": "markdown",
   "metadata": {
    "id": "5JOK-ASjjuIw"
   },
   "source": [
    "## 2. Federated Learning\n",
    "\n",
    "Let's install OpenFL and GaNDLF. This will let us train our models and run FL experiments.\n",
    "\n",
    "Generally Nuanced Deep Learning Framework or GaNDLF is a generalizable application framework for segmentation, regression, and classification using PyTorch. It supports multiple deep learning model architectures, modalities and classes. \n",
    "\n",
    "Open Federated Learning (OpenFL) is a Deep Learning framework-agnostic Python3 library for federated learning that enables organizations to collaboratively train a model without sharing sensitive information. Training of statistical models may be done with any deep learning framework, such as TensorFlow or PyTorch, via a plugin mechanism. OpenFL is a community supported project, originally developed by Intel Labs and the Intel Internet of Things Group."
   ]
  },
  {
   "cell_type": "code",
   "execution_count": 7,
   "metadata": {
    "colab": {
     "base_uri": "https://localhost:8080/"
    },
    "id": "-uUWy_9cjuIx",
    "outputId": "9c3c2705-40f5-4667-99d1-cb114ca44bc4",
    "scrolled": true
   },
   "outputs": [
    {
     "name": "stderr",
     "output_type": "stream",
     "text": [
      "Cloning into 'openfl'...\n"
     ]
    },
    {
     "name": "stdout",
     "output_type": "stream",
     "text": [
      "Processing /home/karan/workspace/fl-tutorial/tutorial_notebooks/openfl\n",
      "  Preparing metadata (setup.py): started\n",
      "  Preparing metadata (setup.py): finished with status 'done'\n",
      "Requirement already satisfied: Click==8.0.1 in /home/karan/workspace/fl-tutorial/venv/lib/python3.8/site-packages (from openfl==1.4) (8.0.1)\n",
      "Requirement already satisfied: PyYAML>=5.4.1 in /home/karan/workspace/fl-tutorial/venv/lib/python3.8/site-packages (from openfl==1.4) (6.0)\n",
      "Requirement already satisfied: cloudpickle in /home/karan/workspace/fl-tutorial/venv/lib/python3.8/site-packages (from openfl==1.4) (2.2.0)\n",
      "Requirement already satisfied: cryptography>=3.4.6 in /home/karan/workspace/fl-tutorial/venv/lib/python3.8/site-packages (from openfl==1.4) (38.0.1)\n",
      "Requirement already satisfied: docker in /home/karan/workspace/fl-tutorial/venv/lib/python3.8/site-packages (from openfl==1.4) (6.0.0)\n",
      "Requirement already satisfied: dynaconf==3.1.7 in /home/karan/workspace/fl-tutorial/venv/lib/python3.8/site-packages (from openfl==1.4) (3.1.7)\n",
      "Requirement already satisfied: flatten_json in /home/karan/workspace/fl-tutorial/venv/lib/python3.8/site-packages (from openfl==1.4) (0.1.13)\n",
      "Requirement already satisfied: grpcio~=1.34.0 in /home/karan/workspace/fl-tutorial/venv/lib/python3.8/site-packages (from openfl==1.4) (1.34.1)\n",
      "Requirement already satisfied: ipykernel in /home/karan/workspace/fl-tutorial/venv/lib/python3.8/site-packages (from openfl==1.4) (6.15.3)\n",
      "Requirement already satisfied: jupyterlab in /home/karan/workspace/fl-tutorial/venv/lib/python3.8/site-packages (from openfl==1.4) (3.4.7)\n",
      "Requirement already satisfied: numpy in /home/karan/workspace/fl-tutorial/venv/lib/python3.8/site-packages (from openfl==1.4) (1.21.0)\n",
      "Requirement already satisfied: pandas in /home/karan/workspace/fl-tutorial/venv/lib/python3.8/site-packages (from openfl==1.4) (1.4.4)\n",
      "Requirement already satisfied: protobuf==3.19.4 in /home/karan/workspace/fl-tutorial/venv/lib/python3.8/site-packages (from openfl==1.4) (3.19.4)\n",
      "Requirement already satisfied: requests in /home/karan/workspace/fl-tutorial/venv/lib/python3.8/site-packages (from openfl==1.4) (2.28.1)\n",
      "Requirement already satisfied: rich in /home/karan/workspace/fl-tutorial/venv/lib/python3.8/site-packages (from openfl==1.4) (12.5.1)\n",
      "Requirement already satisfied: scikit-learn in /home/karan/workspace/fl-tutorial/venv/lib/python3.8/site-packages (from openfl==1.4) (1.1.2)\n",
      "Requirement already satisfied: tensorboard in /home/karan/workspace/fl-tutorial/venv/lib/python3.8/site-packages (from openfl==1.4) (2.10.0)\n",
      "Requirement already satisfied: tensorboardX in /home/karan/workspace/fl-tutorial/venv/lib/python3.8/site-packages (from openfl==1.4) (2.5.1)\n",
      "Requirement already satisfied: tqdm in /home/karan/workspace/fl-tutorial/venv/lib/python3.8/site-packages (from openfl==1.4) (4.64.1)\n",
      "Requirement already satisfied: cffi>=1.12 in /home/karan/workspace/fl-tutorial/venv/lib/python3.8/site-packages (from cryptography>=3.4.6->openfl==1.4) (1.15.1)\n",
      "Requirement already satisfied: six>=1.5.2 in /home/karan/workspace/fl-tutorial/venv/lib/python3.8/site-packages (from grpcio~=1.34.0->openfl==1.4) (1.16.0)\n",
      "Requirement already satisfied: websocket-client>=0.32.0 in /home/karan/workspace/fl-tutorial/venv/lib/python3.8/site-packages (from docker->openfl==1.4) (1.4.1)\n",
      "Requirement already satisfied: packaging>=14.0 in /home/karan/workspace/fl-tutorial/venv/lib/python3.8/site-packages (from docker->openfl==1.4) (21.3)\n",
      "Requirement already satisfied: urllib3>=1.26.0 in /home/karan/workspace/fl-tutorial/venv/lib/python3.8/site-packages (from docker->openfl==1.4) (1.26.12)\n",
      "Requirement already satisfied: charset-normalizer<3,>=2 in /home/karan/workspace/fl-tutorial/venv/lib/python3.8/site-packages (from requests->openfl==1.4) (2.1.1)\n",
      "Requirement already satisfied: certifi>=2017.4.17 in /home/karan/workspace/fl-tutorial/venv/lib/python3.8/site-packages (from requests->openfl==1.4) (2022.9.14)\n",
      "Requirement already satisfied: idna<4,>=2.5 in /home/karan/workspace/fl-tutorial/venv/lib/python3.8/site-packages (from requests->openfl==1.4) (3.4)\n",
      "Requirement already satisfied: ipython>=7.23.1 in /home/karan/workspace/fl-tutorial/venv/lib/python3.8/site-packages (from ipykernel->openfl==1.4) (8.5.0)\n",
      "Requirement already satisfied: jupyter-client>=6.1.12 in /home/karan/workspace/fl-tutorial/venv/lib/python3.8/site-packages (from ipykernel->openfl==1.4) (7.3.5)\n",
      "Requirement already satisfied: tornado>=6.1 in /home/karan/workspace/fl-tutorial/venv/lib/python3.8/site-packages (from ipykernel->openfl==1.4) (6.2)\n",
      "Requirement already satisfied: debugpy>=1.0 in /home/karan/workspace/fl-tutorial/venv/lib/python3.8/site-packages (from ipykernel->openfl==1.4) (1.6.3)\n",
      "Requirement already satisfied: pyzmq>=17 in /home/karan/workspace/fl-tutorial/venv/lib/python3.8/site-packages (from ipykernel->openfl==1.4) (24.0.0)\n",
      "Requirement already satisfied: traitlets>=5.1.0 in /home/karan/workspace/fl-tutorial/venv/lib/python3.8/site-packages (from ipykernel->openfl==1.4) (5.4.0)\n",
      "Requirement already satisfied: nest-asyncio in /home/karan/workspace/fl-tutorial/venv/lib/python3.8/site-packages (from ipykernel->openfl==1.4) (1.5.5)\n",
      "Requirement already satisfied: matplotlib-inline>=0.1 in /home/karan/workspace/fl-tutorial/venv/lib/python3.8/site-packages (from ipykernel->openfl==1.4) (0.1.6)\n",
      "Requirement already satisfied: psutil in /home/karan/workspace/fl-tutorial/venv/lib/python3.8/site-packages (from ipykernel->openfl==1.4) (5.9.2)\n",
      "Requirement already satisfied: notebook<7 in /home/karan/workspace/fl-tutorial/venv/lib/python3.8/site-packages (from jupyterlab->openfl==1.4) (6.4.12)\n",
      "Requirement already satisfied: nbclassic in /home/karan/workspace/fl-tutorial/venv/lib/python3.8/site-packages (from jupyterlab->openfl==1.4) (0.4.3)\n",
      "Requirement already satisfied: jinja2>=2.1 in /home/karan/workspace/fl-tutorial/venv/lib/python3.8/site-packages (from jupyterlab->openfl==1.4) (3.1.2)\n",
      "Requirement already satisfied: jupyter-core in /home/karan/workspace/fl-tutorial/venv/lib/python3.8/site-packages (from jupyterlab->openfl==1.4) (4.11.1)\n",
      "Requirement already satisfied: tomli in /home/karan/workspace/fl-tutorial/venv/lib/python3.8/site-packages (from jupyterlab->openfl==1.4) (2.0.1)\n",
      "Requirement already satisfied: jupyterlab-server~=2.10 in /home/karan/workspace/fl-tutorial/venv/lib/python3.8/site-packages (from jupyterlab->openfl==1.4) (2.15.1)\n",
      "Requirement already satisfied: jupyter-server~=1.16 in /home/karan/workspace/fl-tutorial/venv/lib/python3.8/site-packages (from jupyterlab->openfl==1.4) (1.18.1)\n",
      "Requirement already satisfied: python-dateutil>=2.8.1 in /home/karan/workspace/fl-tutorial/venv/lib/python3.8/site-packages (from pandas->openfl==1.4) (2.8.2)\n",
      "Requirement already satisfied: pytz>=2020.1 in /home/karan/workspace/fl-tutorial/venv/lib/python3.8/site-packages (from pandas->openfl==1.4) (2022.2.1)\n",
      "Requirement already satisfied: pygments<3.0.0,>=2.6.0 in /home/karan/workspace/fl-tutorial/venv/lib/python3.8/site-packages (from rich->openfl==1.4) (2.13.0)\n",
      "Requirement already satisfied: typing-extensions<5.0,>=4.0.0 in /home/karan/workspace/fl-tutorial/venv/lib/python3.8/site-packages (from rich->openfl==1.4) (4.3.0)\n",
      "Requirement already satisfied: commonmark<0.10.0,>=0.9.0 in /home/karan/workspace/fl-tutorial/venv/lib/python3.8/site-packages (from rich->openfl==1.4) (0.9.1)\n",
      "Requirement already satisfied: scipy>=1.3.2 in /home/karan/workspace/fl-tutorial/venv/lib/python3.8/site-packages (from scikit-learn->openfl==1.4) (1.9.1)\n",
      "Requirement already satisfied: joblib>=1.0.0 in /home/karan/workspace/fl-tutorial/venv/lib/python3.8/site-packages (from scikit-learn->openfl==1.4) (1.2.0)\n",
      "Requirement already satisfied: threadpoolctl>=2.0.0 in /home/karan/workspace/fl-tutorial/venv/lib/python3.8/site-packages (from scikit-learn->openfl==1.4) (3.1.0)\n",
      "Requirement already satisfied: absl-py>=0.4 in /home/karan/workspace/fl-tutorial/venv/lib/python3.8/site-packages (from tensorboard->openfl==1.4) (1.2.0)\n",
      "Requirement already satisfied: setuptools>=41.0.0 in /home/karan/workspace/fl-tutorial/venv/lib/python3.8/site-packages (from tensorboard->openfl==1.4) (65.3.0)\n",
      "Requirement already satisfied: google-auth<3,>=1.6.3 in /home/karan/workspace/fl-tutorial/venv/lib/python3.8/site-packages (from tensorboard->openfl==1.4) (2.11.0)\n",
      "Requirement already satisfied: google-auth-oauthlib<0.5,>=0.4.1 in /home/karan/workspace/fl-tutorial/venv/lib/python3.8/site-packages (from tensorboard->openfl==1.4) (0.4.6)\n",
      "Requirement already satisfied: tensorboard-plugin-wit>=1.6.0 in /home/karan/workspace/fl-tutorial/venv/lib/python3.8/site-packages (from tensorboard->openfl==1.4) (1.8.1)\n",
      "Requirement already satisfied: tensorboard-data-server<0.7.0,>=0.6.0 in /home/karan/workspace/fl-tutorial/venv/lib/python3.8/site-packages (from tensorboard->openfl==1.4) (0.6.1)\n",
      "Requirement already satisfied: werkzeug>=1.0.1 in /home/karan/workspace/fl-tutorial/venv/lib/python3.8/site-packages (from tensorboard->openfl==1.4) (2.2.2)\n",
      "Requirement already satisfied: markdown>=2.6.8 in /home/karan/workspace/fl-tutorial/venv/lib/python3.8/site-packages (from tensorboard->openfl==1.4) (3.4.1)\n",
      "Requirement already satisfied: wheel>=0.26 in /home/karan/workspace/fl-tutorial/venv/lib/python3.8/site-packages (from tensorboard->openfl==1.4) (0.37.1)\n",
      "Requirement already satisfied: pycparser in /home/karan/workspace/fl-tutorial/venv/lib/python3.8/site-packages (from cffi>=1.12->cryptography>=3.4.6->openfl==1.4) (2.21)\n",
      "Requirement already satisfied: rsa<5,>=3.1.4 in /home/karan/workspace/fl-tutorial/venv/lib/python3.8/site-packages (from google-auth<3,>=1.6.3->tensorboard->openfl==1.4) (4.9)\n",
      "Requirement already satisfied: pyasn1-modules>=0.2.1 in /home/karan/workspace/fl-tutorial/venv/lib/python3.8/site-packages (from google-auth<3,>=1.6.3->tensorboard->openfl==1.4) (0.2.8)\n",
      "Requirement already satisfied: cachetools<6.0,>=2.0.0 in /home/karan/workspace/fl-tutorial/venv/lib/python3.8/site-packages (from google-auth<3,>=1.6.3->tensorboard->openfl==1.4) (5.2.0)\n",
      "Requirement already satisfied: requests-oauthlib>=0.7.0 in /home/karan/workspace/fl-tutorial/venv/lib/python3.8/site-packages (from google-auth-oauthlib<0.5,>=0.4.1->tensorboard->openfl==1.4) (1.3.1)\n",
      "Requirement already satisfied: jedi>=0.16 in /home/karan/workspace/fl-tutorial/venv/lib/python3.8/site-packages (from ipython>=7.23.1->ipykernel->openfl==1.4) (0.18.1)\n",
      "Requirement already satisfied: decorator in /home/karan/workspace/fl-tutorial/venv/lib/python3.8/site-packages (from ipython>=7.23.1->ipykernel->openfl==1.4) (5.1.1)\n",
      "Requirement already satisfied: prompt-toolkit<3.1.0,>3.0.1 in /home/karan/workspace/fl-tutorial/venv/lib/python3.8/site-packages (from ipython>=7.23.1->ipykernel->openfl==1.4) (3.0.31)\n",
      "Requirement already satisfied: stack-data in /home/karan/workspace/fl-tutorial/venv/lib/python3.8/site-packages (from ipython>=7.23.1->ipykernel->openfl==1.4) (0.5.0)\n",
      "Requirement already satisfied: pickleshare in /home/karan/workspace/fl-tutorial/venv/lib/python3.8/site-packages (from ipython>=7.23.1->ipykernel->openfl==1.4) (0.7.5)\n",
      "Requirement already satisfied: pexpect>4.3 in /home/karan/workspace/fl-tutorial/venv/lib/python3.8/site-packages (from ipython>=7.23.1->ipykernel->openfl==1.4) (4.8.0)\n",
      "Requirement already satisfied: backcall in /home/karan/workspace/fl-tutorial/venv/lib/python3.8/site-packages (from ipython>=7.23.1->ipykernel->openfl==1.4) (0.2.0)\n",
      "Requirement already satisfied: MarkupSafe>=2.0 in /home/karan/workspace/fl-tutorial/venv/lib/python3.8/site-packages (from jinja2>=2.1->jupyterlab->openfl==1.4) (2.1.1)\n",
      "Requirement already satisfied: entrypoints in /home/karan/workspace/fl-tutorial/venv/lib/python3.8/site-packages (from jupyter-client>=6.1.12->ipykernel->openfl==1.4) (0.4)\n",
      "Requirement already satisfied: nbconvert>=6.4.4 in /home/karan/workspace/fl-tutorial/venv/lib/python3.8/site-packages (from jupyter-server~=1.16->jupyterlab->openfl==1.4) (7.0.0)\n",
      "Requirement already satisfied: anyio<4,>=3.1.0 in /home/karan/workspace/fl-tutorial/venv/lib/python3.8/site-packages (from jupyter-server~=1.16->jupyterlab->openfl==1.4) (3.6.1)\n",
      "Requirement already satisfied: terminado>=0.8.3 in /home/karan/workspace/fl-tutorial/venv/lib/python3.8/site-packages (from jupyter-server~=1.16->jupyterlab->openfl==1.4) (0.15.0)\n",
      "Requirement already satisfied: prometheus-client in /home/karan/workspace/fl-tutorial/venv/lib/python3.8/site-packages (from jupyter-server~=1.16->jupyterlab->openfl==1.4) (0.14.1)\n",
      "Requirement already satisfied: argon2-cffi in /home/karan/workspace/fl-tutorial/venv/lib/python3.8/site-packages (from jupyter-server~=1.16->jupyterlab->openfl==1.4) (21.3.0)\n",
      "Requirement already satisfied: Send2Trash in /home/karan/workspace/fl-tutorial/venv/lib/python3.8/site-packages (from jupyter-server~=1.16->jupyterlab->openfl==1.4) (1.8.0)\n",
      "Requirement already satisfied: nbformat>=5.2.0 in /home/karan/workspace/fl-tutorial/venv/lib/python3.8/site-packages (from jupyter-server~=1.16->jupyterlab->openfl==1.4) (5.5.0)\n",
      "Requirement already satisfied: jsonschema>=3.0.1 in /home/karan/workspace/fl-tutorial/venv/lib/python3.8/site-packages (from jupyterlab-server~=2.10->jupyterlab->openfl==1.4) (4.16.0)\n",
      "Requirement already satisfied: json5 in /home/karan/workspace/fl-tutorial/venv/lib/python3.8/site-packages (from jupyterlab-server~=2.10->jupyterlab->openfl==1.4) (0.9.10)\n",
      "Requirement already satisfied: babel in /home/karan/workspace/fl-tutorial/venv/lib/python3.8/site-packages (from jupyterlab-server~=2.10->jupyterlab->openfl==1.4) (2.10.3)\n",
      "Requirement already satisfied: importlib-metadata>=3.6 in /home/karan/workspace/fl-tutorial/venv/lib/python3.8/site-packages (from jupyterlab-server~=2.10->jupyterlab->openfl==1.4) (4.12.0)\n",
      "Requirement already satisfied: ipython-genutils in /home/karan/workspace/fl-tutorial/venv/lib/python3.8/site-packages (from notebook<7->jupyterlab->openfl==1.4) (0.2.0)\n",
      "Requirement already satisfied: pyparsing!=3.0.5,>=2.0.2 in /home/karan/workspace/fl-tutorial/venv/lib/python3.8/site-packages (from packaging>=14.0->docker->openfl==1.4) (3.0.9)\n",
      "Requirement already satisfied: notebook-shim>=0.1.0 in /home/karan/workspace/fl-tutorial/venv/lib/python3.8/site-packages (from nbclassic->jupyterlab->openfl==1.4) (0.1.0)\n",
      "Requirement already satisfied: sniffio>=1.1 in /home/karan/workspace/fl-tutorial/venv/lib/python3.8/site-packages (from anyio<4,>=3.1.0->jupyter-server~=1.16->jupyterlab->openfl==1.4) (1.3.0)\n",
      "Requirement already satisfied: zipp>=0.5 in /home/karan/workspace/fl-tutorial/venv/lib/python3.8/site-packages (from importlib-metadata>=3.6->jupyterlab-server~=2.10->jupyterlab->openfl==1.4) (3.8.1)\n",
      "Requirement already satisfied: parso<0.9.0,>=0.8.0 in /home/karan/workspace/fl-tutorial/venv/lib/python3.8/site-packages (from jedi>=0.16->ipython>=7.23.1->ipykernel->openfl==1.4) (0.8.3)\n",
      "Requirement already satisfied: attrs>=17.4.0 in /home/karan/workspace/fl-tutorial/venv/lib/python3.8/site-packages (from jsonschema>=3.0.1->jupyterlab-server~=2.10->jupyterlab->openfl==1.4) (22.1.0)\n",
      "Requirement already satisfied: pkgutil-resolve-name>=1.3.10 in /home/karan/workspace/fl-tutorial/venv/lib/python3.8/site-packages (from jsonschema>=3.0.1->jupyterlab-server~=2.10->jupyterlab->openfl==1.4) (1.3.10)\n",
      "Requirement already satisfied: importlib-resources>=1.4.0 in /home/karan/workspace/fl-tutorial/venv/lib/python3.8/site-packages (from jsonschema>=3.0.1->jupyterlab-server~=2.10->jupyterlab->openfl==1.4) (5.9.0)\n",
      "Requirement already satisfied: pyrsistent!=0.17.0,!=0.17.1,!=0.17.2,>=0.14.0 in /home/karan/workspace/fl-tutorial/venv/lib/python3.8/site-packages (from jsonschema>=3.0.1->jupyterlab-server~=2.10->jupyterlab->openfl==1.4) (0.18.1)\n",
      "Requirement already satisfied: tinycss2 in /home/karan/workspace/fl-tutorial/venv/lib/python3.8/site-packages (from nbconvert>=6.4.4->jupyter-server~=1.16->jupyterlab->openfl==1.4) (1.1.1)\n",
      "Requirement already satisfied: jupyterlab-pygments in /home/karan/workspace/fl-tutorial/venv/lib/python3.8/site-packages (from nbconvert>=6.4.4->jupyter-server~=1.16->jupyterlab->openfl==1.4) (0.2.2)\n",
      "Requirement already satisfied: mistune<3,>=2.0.3 in /home/karan/workspace/fl-tutorial/venv/lib/python3.8/site-packages (from nbconvert>=6.4.4->jupyter-server~=1.16->jupyterlab->openfl==1.4) (2.0.4)\n",
      "Requirement already satisfied: bleach in /home/karan/workspace/fl-tutorial/venv/lib/python3.8/site-packages (from nbconvert>=6.4.4->jupyter-server~=1.16->jupyterlab->openfl==1.4) (5.0.1)\n",
      "Requirement already satisfied: lxml in /home/karan/workspace/fl-tutorial/venv/lib/python3.8/site-packages (from nbconvert>=6.4.4->jupyter-server~=1.16->jupyterlab->openfl==1.4) (4.9.1)\n",
      "Requirement already satisfied: beautifulsoup4 in /home/karan/workspace/fl-tutorial/venv/lib/python3.8/site-packages (from nbconvert>=6.4.4->jupyter-server~=1.16->jupyterlab->openfl==1.4) (4.11.1)\n",
      "Requirement already satisfied: nbclient>=0.5.0 in /home/karan/workspace/fl-tutorial/venv/lib/python3.8/site-packages (from nbconvert>=6.4.4->jupyter-server~=1.16->jupyterlab->openfl==1.4) (0.6.8)\n",
      "Requirement already satisfied: pandocfilters>=1.4.1 in /home/karan/workspace/fl-tutorial/venv/lib/python3.8/site-packages (from nbconvert>=6.4.4->jupyter-server~=1.16->jupyterlab->openfl==1.4) (1.5.0)\n",
      "Requirement already satisfied: defusedxml in /home/karan/workspace/fl-tutorial/venv/lib/python3.8/site-packages (from nbconvert>=6.4.4->jupyter-server~=1.16->jupyterlab->openfl==1.4) (0.7.1)\n",
      "Requirement already satisfied: fastjsonschema in /home/karan/workspace/fl-tutorial/venv/lib/python3.8/site-packages (from nbformat>=5.2.0->jupyter-server~=1.16->jupyterlab->openfl==1.4) (2.16.1)\n",
      "Requirement already satisfied: ptyprocess>=0.5 in /home/karan/workspace/fl-tutorial/venv/lib/python3.8/site-packages (from pexpect>4.3->ipython>=7.23.1->ipykernel->openfl==1.4) (0.7.0)\n",
      "Requirement already satisfied: wcwidth in /home/karan/workspace/fl-tutorial/venv/lib/python3.8/site-packages (from prompt-toolkit<3.1.0,>3.0.1->ipython>=7.23.1->ipykernel->openfl==1.4) (0.2.5)\n",
      "Requirement already satisfied: pyasn1<0.5.0,>=0.4.6 in /home/karan/workspace/fl-tutorial/venv/lib/python3.8/site-packages (from pyasn1-modules>=0.2.1->google-auth<3,>=1.6.3->tensorboard->openfl==1.4) (0.4.8)\n",
      "Requirement already satisfied: oauthlib>=3.0.0 in /home/karan/workspace/fl-tutorial/venv/lib/python3.8/site-packages (from requests-oauthlib>=0.7.0->google-auth-oauthlib<0.5,>=0.4.1->tensorboard->openfl==1.4) (3.2.1)\n",
      "Requirement already satisfied: argon2-cffi-bindings in /home/karan/workspace/fl-tutorial/venv/lib/python3.8/site-packages (from argon2-cffi->jupyter-server~=1.16->jupyterlab->openfl==1.4) (21.2.0)\n",
      "Requirement already satisfied: asttokens in /home/karan/workspace/fl-tutorial/venv/lib/python3.8/site-packages (from stack-data->ipython>=7.23.1->ipykernel->openfl==1.4) (2.0.8)\n",
      "Requirement already satisfied: executing in /home/karan/workspace/fl-tutorial/venv/lib/python3.8/site-packages (from stack-data->ipython>=7.23.1->ipykernel->openfl==1.4) (1.0.0)\n",
      "Requirement already satisfied: pure-eval in /home/karan/workspace/fl-tutorial/venv/lib/python3.8/site-packages (from stack-data->ipython>=7.23.1->ipykernel->openfl==1.4) (0.2.2)\n",
      "Requirement already satisfied: soupsieve>1.2 in /home/karan/workspace/fl-tutorial/venv/lib/python3.8/site-packages (from beautifulsoup4->nbconvert>=6.4.4->jupyter-server~=1.16->jupyterlab->openfl==1.4) (2.3.2.post1)\n",
      "Requirement already satisfied: webencodings in /home/karan/workspace/fl-tutorial/venv/lib/python3.8/site-packages (from bleach->nbconvert>=6.4.4->jupyter-server~=1.16->jupyterlab->openfl==1.4) (0.5.1)\n",
      "Building wheels for collected packages: openfl\n",
      "  Building wheel for openfl (setup.py): started\n",
      "  Building wheel for openfl (setup.py): finished with status 'done'\n",
      "  Created wheel for openfl: filename=openfl-1.4-py3-none-any.whl size=615343 sha256=5fe128111bac365c87cb4ffd49b2693b888ed42f108ea0c0bc9bbd4d95dbeccf\n",
      "  Stored in directory: /tmp/pip-ephem-wheel-cache-_t0do33_/wheels/63/88/54/cd14f60121c308a944503cb09825c66d9f4c92e44e441e9a80\n",
      "Successfully built openfl\n",
      "Installing collected packages: openfl\n",
      "  Attempting uninstall: openfl\n",
      "    Found existing installation: openfl 1.4\n",
      "    Uninstalling openfl-1.4:\n",
      "      Successfully uninstalled openfl-1.4\n",
      "Successfully installed openfl-1.4\n"
     ]
    }
   ],
   "source": [
    "%%bash\n",
    "# Install OpenFL\n",
    "rm -rf openfl\n",
    "git clone -b miccai_fl_tutorial https://github.com/intel/openfl.git\n",
    "cd openfl\n",
    "python -m pip install ."
   ]
  },
  {
   "cell_type": "code",
   "execution_count": 8,
   "metadata": {
    "colab": {
     "base_uri": "https://localhost:8080/"
    },
    "id": "-8_CZGyJPx6u",
    "outputId": "37ed6f1d-9b74-41f3-a079-8aad81ab31a3"
   },
   "outputs": [
    {
     "name": "stderr",
     "output_type": "stream",
     "text": [
      "Cloning into 'GaNDLF'...\n",
      "Note: checking out 'bdf7c72c90a0ed0355c2c66ce940db3dac828997'.\n",
      "\n",
      "You are in 'detached HEAD' state. You can look around, make experimental\n",
      "changes and commit them, and you can discard any commits you make in this\n",
      "state without impacting any branches by performing another checkout.\n",
      "\n",
      "If you want to create a new branch to retain commits you create, you may\n",
      "do so (now or later) by using -b with the checkout command again. Example:\n",
      "\n",
      "  git checkout -b <new-branch-name>\n",
      "\n",
      "Submodule 'GANDLF/OPM' (https://github.com/CBICA/OPM.git) registered for path 'GANDLF/OPM'\n",
      "Submodule 'GANDLF/anonymize/dicomanonymizer' (https://github.com/KitwareMedical/dicom-anonymizer.git) registered for path 'GANDLF/anonymize/dicomanonymizer'\n",
      "Cloning into '/home/karan/workspace/fl-tutorial/tutorial_notebooks/GaNDLF/GANDLF/OPM'...\n",
      "Cloning into '/home/karan/workspace/fl-tutorial/tutorial_notebooks/GaNDLF/GANDLF/anonymize/dicomanonymizer'...\n"
     ]
    },
    {
     "name": "stdout",
     "output_type": "stream",
     "text": [
      "Submodule path 'GANDLF/OPM': checked out 'f46ce145128415b0baf893b4782294c90953f251'\n",
      "Submodule path 'GANDLF/anonymize/dicomanonymizer': checked out '5193ca5409f397e637e4c1a6dfd8f86a09a3cfc4'\n",
      "Installing GANDLF\n",
      "Processing /home/karan/workspace/fl-tutorial/tutorial_notebooks/GaNDLF\n",
      "  Installing build dependencies: started\n",
      "  Installing build dependencies: finished with status 'done'\n",
      "  Getting requirements to build wheel: started\n",
      "  Getting requirements to build wheel: finished with status 'done'\n",
      "  Preparing metadata (pyproject.toml): started\n",
      "  Preparing metadata (pyproject.toml): finished with status 'done'\n",
      "Requirement already satisfied: pandas in /home/karan/workspace/fl-tutorial/venv/lib/python3.8/site-packages (from GANDLF==0.0.14) (1.4.4)\n",
      "Requirement already satisfied: setuptools in /home/karan/workspace/fl-tutorial/venv/lib/python3.8/site-packages (from GANDLF==0.0.14) (65.3.0)\n",
      "Requirement already satisfied: opencv-python in /home/karan/workspace/fl-tutorial/venv/lib/python3.8/site-packages (from GANDLF==0.0.14) (4.6.0.66)\n",
      "Requirement already satisfied: pydicom in /home/karan/workspace/fl-tutorial/venv/lib/python3.8/site-packages (from GANDLF==0.0.14) (2.3.0)\n",
      "Requirement already satisfied: medcam in /home/karan/workspace/fl-tutorial/venv/lib/python3.8/site-packages (from GANDLF==0.0.14) (0.1.21)\n",
      "Requirement already satisfied: torchmetrics==0.5.1 in /home/karan/workspace/fl-tutorial/venv/lib/python3.8/site-packages (from GANDLF==0.0.14) (0.5.1)\n",
      "Requirement already satisfied: torch==1.8.2 in /home/karan/workspace/fl-tutorial/venv/lib/python3.8/site-packages (from GANDLF==0.0.14) (1.8.2+cu111)\n",
      "Requirement already satisfied: pytest in /home/karan/workspace/fl-tutorial/venv/lib/python3.8/site-packages (from GANDLF==0.0.14) (7.1.3)\n",
      "Requirement already satisfied: onnx in /home/karan/workspace/fl-tutorial/venv/lib/python3.8/site-packages (from GANDLF==0.0.14) (1.12.0)\n",
      "Requirement already satisfied: pylint in /home/karan/workspace/fl-tutorial/venv/lib/python3.8/site-packages (from GANDLF==0.0.14) (2.15.2)\n",
      "Requirement already satisfied: scikit-image>=0.19.1 in /home/karan/workspace/fl-tutorial/venv/lib/python3.8/site-packages (from GANDLF==0.0.14) (0.19.3)\n",
      "Requirement already satisfied: scipy in /home/karan/workspace/fl-tutorial/venv/lib/python3.8/site-packages (from GANDLF==0.0.14) (1.9.1)\n",
      "Requirement already satisfied: black in /home/karan/workspace/fl-tutorial/venv/lib/python3.8/site-packages (from GANDLF==0.0.14) (22.8.0)\n",
      "Requirement already satisfied: pyyaml in /home/karan/workspace/fl-tutorial/venv/lib/python3.8/site-packages (from GANDLF==0.0.14) (6.0)\n",
      "Requirement already satisfied: pytest-cov in /home/karan/workspace/fl-tutorial/venv/lib/python3.8/site-packages (from GANDLF==0.0.14) (3.0.0)\n",
      "Requirement already satisfied: torchvision in /home/karan/workspace/fl-tutorial/venv/lib/python3.8/site-packages (from GANDLF==0.0.14) (0.9.2+cu111)\n",
      "Requirement already satisfied: scikit-learn>=0.23.2 in /home/karan/workspace/fl-tutorial/venv/lib/python3.8/site-packages (from GANDLF==0.0.14) (1.1.2)\n",
      "Requirement already satisfied: requests>=2.25.0 in /home/karan/workspace/fl-tutorial/venv/lib/python3.8/site-packages (from GANDLF==0.0.14) (2.28.1)\n",
      "Requirement already satisfied: seaborn in /home/karan/workspace/fl-tutorial/venv/lib/python3.8/site-packages (from GANDLF==0.0.14) (0.12.0)\n",
      "Requirement already satisfied: pyvips in /home/karan/workspace/fl-tutorial/venv/lib/python3.8/site-packages (from GANDLF==0.0.14) (2.2.1)\n",
      "Requirement already satisfied: tiffslide in /home/karan/workspace/fl-tutorial/venv/lib/python3.8/site-packages (from GANDLF==0.0.14) (1.8.1)\n",
      "Requirement already satisfied: coverage in /home/karan/workspace/fl-tutorial/venv/lib/python3.8/site-packages (from GANDLF==0.0.14) (6.4.4)\n",
      "Requirement already satisfied: psutil in /home/karan/workspace/fl-tutorial/venv/lib/python3.8/site-packages (from GANDLF==0.0.14) (5.9.2)\n",
      "Requirement already satisfied: zarr==2.10.3 in /home/karan/workspace/fl-tutorial/venv/lib/python3.8/site-packages (from GANDLF==0.0.14) (2.10.3)\n",
      "Requirement already satisfied: torchio==0.18.57 in /home/karan/workspace/fl-tutorial/venv/lib/python3.8/site-packages (from GANDLF==0.0.14) (0.18.57)\n",
      "Requirement already satisfied: tqdm in /home/karan/workspace/fl-tutorial/venv/lib/python3.8/site-packages (from GANDLF==0.0.14) (4.64.1)\n",
      "Requirement already satisfied: pickle5>=0.0.11 in /home/karan/workspace/fl-tutorial/venv/lib/python3.8/site-packages (from GANDLF==0.0.14) (0.0.11)\n",
      "Requirement already satisfied: OpenPatchMiner==0.1.8 in /home/karan/workspace/fl-tutorial/venv/lib/python3.8/site-packages (from GANDLF==0.0.14) (0.1.8)\n",
      "Requirement already satisfied: numpy==1.21.0 in /home/karan/workspace/fl-tutorial/venv/lib/python3.8/site-packages (from GANDLF==0.0.14) (1.21.0)\n",
      "Requirement already satisfied: matplotlib in /home/karan/workspace/fl-tutorial/venv/lib/python3.8/site-packages (from GANDLF==0.0.14) (3.6.0)\n",
      "Requirement already satisfied: SimpleITK!=2.0.* in /home/karan/workspace/fl-tutorial/venv/lib/python3.8/site-packages (from GANDLF==0.0.14) (2.2.0)\n",
      "Requirement already satisfied: wheel in /home/karan/workspace/fl-tutorial/venv/lib/python3.8/site-packages (from OpenPatchMiner==0.1.8->GANDLF==0.0.14) (0.37.1)\n",
      "Requirement already satisfied: keyring in /home/karan/workspace/fl-tutorial/venv/lib/python3.8/site-packages (from OpenPatchMiner==0.1.8->GANDLF==0.0.14) (23.9.1)\n",
      "Requirement already satisfied: imagecodecs in /home/karan/workspace/fl-tutorial/venv/lib/python3.8/site-packages (from OpenPatchMiner==0.1.8->GANDLF==0.0.14) (2022.8.8)\n",
      "Requirement already satisfied: tifffile in /home/karan/workspace/fl-tutorial/venv/lib/python3.8/site-packages (from OpenPatchMiner==0.1.8->GANDLF==0.0.14) (2022.8.12)\n",
      "Requirement already satisfied: twine in /home/karan/workspace/fl-tutorial/venv/lib/python3.8/site-packages (from OpenPatchMiner==0.1.8->GANDLF==0.0.14) (4.0.1)\n",
      "Requirement already satisfied: typing-extensions in /home/karan/workspace/fl-tutorial/venv/lib/python3.8/site-packages (from torch==1.8.2->GANDLF==0.0.14) (4.3.0)\n",
      "Requirement already satisfied: nibabel in /home/karan/workspace/fl-tutorial/venv/lib/python3.8/site-packages (from torchio==0.18.57->GANDLF==0.0.14) (4.0.2)\n",
      "Requirement already satisfied: Deprecated in /home/karan/workspace/fl-tutorial/venv/lib/python3.8/site-packages (from torchio==0.18.57->GANDLF==0.0.14) (1.2.13)\n",
      "Requirement already satisfied: humanize in /home/karan/workspace/fl-tutorial/venv/lib/python3.8/site-packages (from torchio==0.18.57->GANDLF==0.0.14) (4.3.0)\n",
      "Requirement already satisfied: click in /home/karan/workspace/fl-tutorial/venv/lib/python3.8/site-packages (from torchio==0.18.57->GANDLF==0.0.14) (8.0.1)\n",
      "Requirement already satisfied: packaging in /home/karan/workspace/fl-tutorial/venv/lib/python3.8/site-packages (from torchmetrics==0.5.1->GANDLF==0.0.14) (21.3)\n",
      "Requirement already satisfied: numcodecs>=0.6.4 in /home/karan/workspace/fl-tutorial/venv/lib/python3.8/site-packages (from zarr==2.10.3->GANDLF==0.0.14) (0.10.2)\n",
      "Requirement already satisfied: fasteners in /home/karan/workspace/fl-tutorial/venv/lib/python3.8/site-packages (from zarr==2.10.3->GANDLF==0.0.14) (0.18)\n",
      "Requirement already satisfied: asciitree in /home/karan/workspace/fl-tutorial/venv/lib/python3.8/site-packages (from zarr==2.10.3->GANDLF==0.0.14) (0.3.3)\n",
      "Requirement already satisfied: certifi>=2017.4.17 in /home/karan/workspace/fl-tutorial/venv/lib/python3.8/site-packages (from requests>=2.25.0->GANDLF==0.0.14) (2022.9.14)\n",
      "Requirement already satisfied: charset-normalizer<3,>=2 in /home/karan/workspace/fl-tutorial/venv/lib/python3.8/site-packages (from requests>=2.25.0->GANDLF==0.0.14) (2.1.1)\n",
      "Requirement already satisfied: idna<4,>=2.5 in /home/karan/workspace/fl-tutorial/venv/lib/python3.8/site-packages (from requests>=2.25.0->GANDLF==0.0.14) (3.4)\n",
      "Requirement already satisfied: urllib3<1.27,>=1.21.1 in /home/karan/workspace/fl-tutorial/venv/lib/python3.8/site-packages (from requests>=2.25.0->GANDLF==0.0.14) (1.26.12)\n",
      "Requirement already satisfied: imageio>=2.4.1 in /home/karan/workspace/fl-tutorial/venv/lib/python3.8/site-packages (from scikit-image>=0.19.1->GANDLF==0.0.14) (2.21.3)\n",
      "Requirement already satisfied: PyWavelets>=1.1.1 in /home/karan/workspace/fl-tutorial/venv/lib/python3.8/site-packages (from scikit-image>=0.19.1->GANDLF==0.0.14) (1.4.0)\n",
      "Requirement already satisfied: pillow!=7.1.0,!=7.1.1,!=8.3.0,>=6.1.0 in /home/karan/workspace/fl-tutorial/venv/lib/python3.8/site-packages (from scikit-image>=0.19.1->GANDLF==0.0.14) (9.2.0)\n",
      "Requirement already satisfied: networkx>=2.2 in /home/karan/workspace/fl-tutorial/venv/lib/python3.8/site-packages (from scikit-image>=0.19.1->GANDLF==0.0.14) (2.8.6)\n",
      "Requirement already satisfied: threadpoolctl>=2.0.0 in /home/karan/workspace/fl-tutorial/venv/lib/python3.8/site-packages (from scikit-learn>=0.23.2->GANDLF==0.0.14) (3.1.0)\n",
      "Requirement already satisfied: joblib>=1.0.0 in /home/karan/workspace/fl-tutorial/venv/lib/python3.8/site-packages (from scikit-learn>=0.23.2->GANDLF==0.0.14) (1.2.0)\n",
      "Requirement already satisfied: platformdirs>=2 in /home/karan/workspace/fl-tutorial/venv/lib/python3.8/site-packages (from black->GANDLF==0.0.14) (2.5.2)\n",
      "Requirement already satisfied: pathspec>=0.9.0 in /home/karan/workspace/fl-tutorial/venv/lib/python3.8/site-packages (from black->GANDLF==0.0.14) (0.10.1)\n",
      "Requirement already satisfied: tomli>=1.1.0 in /home/karan/workspace/fl-tutorial/venv/lib/python3.8/site-packages (from black->GANDLF==0.0.14) (2.0.1)\n",
      "Requirement already satisfied: mypy-extensions>=0.4.3 in /home/karan/workspace/fl-tutorial/venv/lib/python3.8/site-packages (from black->GANDLF==0.0.14) (0.4.3)\n",
      "Requirement already satisfied: python-dateutil>=2.7 in /home/karan/workspace/fl-tutorial/venv/lib/python3.8/site-packages (from matplotlib->GANDLF==0.0.14) (2.8.2)\n",
      "Requirement already satisfied: kiwisolver>=1.0.1 in /home/karan/workspace/fl-tutorial/venv/lib/python3.8/site-packages (from matplotlib->GANDLF==0.0.14) (1.4.4)\n",
      "Requirement already satisfied: cycler>=0.10 in /home/karan/workspace/fl-tutorial/venv/lib/python3.8/site-packages (from matplotlib->GANDLF==0.0.14) (0.11.0)\n",
      "Requirement already satisfied: contourpy>=1.0.1 in /home/karan/workspace/fl-tutorial/venv/lib/python3.8/site-packages (from matplotlib->GANDLF==0.0.14) (1.0.5)\n",
      "Requirement already satisfied: pyparsing>=2.2.1 in /home/karan/workspace/fl-tutorial/venv/lib/python3.8/site-packages (from matplotlib->GANDLF==0.0.14) (3.0.9)\n",
      "Requirement already satisfied: fonttools>=4.22.0 in /home/karan/workspace/fl-tutorial/venv/lib/python3.8/site-packages (from matplotlib->GANDLF==0.0.14) (4.37.2)\n",
      "Requirement already satisfied: Markdown in /home/karan/workspace/fl-tutorial/venv/lib/python3.8/site-packages (from medcam->GANDLF==0.0.14) (3.4.1)\n",
      "Requirement already satisfied: MarkupSafe in /home/karan/workspace/fl-tutorial/venv/lib/python3.8/site-packages (from medcam->GANDLF==0.0.14) (2.1.1)\n",
      "Requirement already satisfied: Mako in /home/karan/workspace/fl-tutorial/venv/lib/python3.8/site-packages (from medcam->GANDLF==0.0.14) (1.2.2)\n",
      "Requirement already satisfied: six in /home/karan/workspace/fl-tutorial/venv/lib/python3.8/site-packages (from medcam->GANDLF==0.0.14) (1.16.0)\n",
      "Requirement already satisfied: pytz in /home/karan/workspace/fl-tutorial/venv/lib/python3.8/site-packages (from medcam->GANDLF==0.0.14) (2022.2.1)\n",
      "Requirement already satisfied: decorator in /home/karan/workspace/fl-tutorial/venv/lib/python3.8/site-packages (from medcam->GANDLF==0.0.14) (5.1.1)\n",
      "Requirement already satisfied: future in /home/karan/workspace/fl-tutorial/venv/lib/python3.8/site-packages (from medcam->GANDLF==0.0.14) (0.18.2)\n",
      "Requirement already satisfied: protobuf<=3.20.1,>=3.12.2 in /home/karan/workspace/fl-tutorial/venv/lib/python3.8/site-packages (from onnx->GANDLF==0.0.14) (3.19.4)\n",
      "Requirement already satisfied: dill>=0.2 in /home/karan/workspace/fl-tutorial/venv/lib/python3.8/site-packages (from pylint->GANDLF==0.0.14) (0.3.5.1)\n",
      "Requirement already satisfied: tomlkit>=0.10.1 in /home/karan/workspace/fl-tutorial/venv/lib/python3.8/site-packages (from pylint->GANDLF==0.0.14) (0.11.4)\n",
      "Requirement already satisfied: astroid<=2.14.0-dev0,>=2.12.9 in /home/karan/workspace/fl-tutorial/venv/lib/python3.8/site-packages (from pylint->GANDLF==0.0.14) (2.12.9)\n",
      "Requirement already satisfied: mccabe<0.8,>=0.6 in /home/karan/workspace/fl-tutorial/venv/lib/python3.8/site-packages (from pylint->GANDLF==0.0.14) (0.7.0)\n",
      "Requirement already satisfied: isort<6,>=4.2.5 in /home/karan/workspace/fl-tutorial/venv/lib/python3.8/site-packages (from pylint->GANDLF==0.0.14) (5.10.1)\n",
      "Requirement already satisfied: py>=1.8.2 in /home/karan/workspace/fl-tutorial/venv/lib/python3.8/site-packages (from pytest->GANDLF==0.0.14) (1.11.0)\n",
      "Requirement already satisfied: attrs>=19.2.0 in /home/karan/workspace/fl-tutorial/venv/lib/python3.8/site-packages (from pytest->GANDLF==0.0.14) (22.1.0)\n",
      "Requirement already satisfied: iniconfig in /home/karan/workspace/fl-tutorial/venv/lib/python3.8/site-packages (from pytest->GANDLF==0.0.14) (1.1.1)\n",
      "Requirement already satisfied: pluggy<2.0,>=0.12 in /home/karan/workspace/fl-tutorial/venv/lib/python3.8/site-packages (from pytest->GANDLF==0.0.14) (1.0.0)\n",
      "Requirement already satisfied: cffi>=1.0.0 in /home/karan/workspace/fl-tutorial/venv/lib/python3.8/site-packages (from pyvips->GANDLF==0.0.14) (1.15.1)\n",
      "Requirement already satisfied: fsspec in /home/karan/workspace/fl-tutorial/venv/lib/python3.8/site-packages (from tiffslide->GANDLF==0.0.14) (2022.8.2)\n",
      "Requirement already satisfied: lazy-object-proxy>=1.4.0 in /home/karan/workspace/fl-tutorial/venv/lib/python3.8/site-packages (from astroid<=2.14.0-dev0,>=2.12.9->pylint->GANDLF==0.0.14) (1.7.1)\n",
      "Requirement already satisfied: wrapt<2,>=1.11 in /home/karan/workspace/fl-tutorial/venv/lib/python3.8/site-packages (from astroid<=2.14.0-dev0,>=2.12.9->pylint->GANDLF==0.0.14) (1.14.1)\n",
      "Requirement already satisfied: pycparser in /home/karan/workspace/fl-tutorial/venv/lib/python3.8/site-packages (from cffi>=1.0.0->pyvips->GANDLF==0.0.14) (2.21)\n",
      "Requirement already satisfied: entrypoints in /home/karan/workspace/fl-tutorial/venv/lib/python3.8/site-packages (from numcodecs>=0.6.4->zarr==2.10.3->GANDLF==0.0.14) (0.4)\n",
      "Requirement already satisfied: jaraco.classes in /home/karan/workspace/fl-tutorial/venv/lib/python3.8/site-packages (from keyring->OpenPatchMiner==0.1.8->GANDLF==0.0.14) (3.2.2)\n",
      "Requirement already satisfied: jeepney>=0.4.2 in /home/karan/workspace/fl-tutorial/venv/lib/python3.8/site-packages (from keyring->OpenPatchMiner==0.1.8->GANDLF==0.0.14) (0.8.0)\n",
      "Requirement already satisfied: SecretStorage>=3.2 in /home/karan/workspace/fl-tutorial/venv/lib/python3.8/site-packages (from keyring->OpenPatchMiner==0.1.8->GANDLF==0.0.14) (3.3.3)\n",
      "Requirement already satisfied: importlib-metadata>=3.6 in /home/karan/workspace/fl-tutorial/venv/lib/python3.8/site-packages (from keyring->OpenPatchMiner==0.1.8->GANDLF==0.0.14) (4.12.0)\n",
      "Requirement already satisfied: requests-toolbelt!=0.9.0,>=0.8.0 in /home/karan/workspace/fl-tutorial/venv/lib/python3.8/site-packages (from twine->OpenPatchMiner==0.1.8->GANDLF==0.0.14) (0.9.1)\n",
      "Requirement already satisfied: rfc3986>=1.4.0 in /home/karan/workspace/fl-tutorial/venv/lib/python3.8/site-packages (from twine->OpenPatchMiner==0.1.8->GANDLF==0.0.14) (2.0.0)\n",
      "Requirement already satisfied: pkginfo>=1.8.1 in /home/karan/workspace/fl-tutorial/venv/lib/python3.8/site-packages (from twine->OpenPatchMiner==0.1.8->GANDLF==0.0.14) (1.8.3)\n",
      "Requirement already satisfied: rich>=12.0.0 in /home/karan/workspace/fl-tutorial/venv/lib/python3.8/site-packages (from twine->OpenPatchMiner==0.1.8->GANDLF==0.0.14) (12.5.1)\n",
      "Requirement already satisfied: readme-renderer>=35.0 in /home/karan/workspace/fl-tutorial/venv/lib/python3.8/site-packages (from twine->OpenPatchMiner==0.1.8->GANDLF==0.0.14) (37.1)\n",
      "Requirement already satisfied: zipp>=0.5 in /home/karan/workspace/fl-tutorial/venv/lib/python3.8/site-packages (from importlib-metadata>=3.6->keyring->OpenPatchMiner==0.1.8->GANDLF==0.0.14) (3.8.1)\n",
      "Requirement already satisfied: Pygments>=2.5.1 in /home/karan/workspace/fl-tutorial/venv/lib/python3.8/site-packages (from readme-renderer>=35.0->twine->OpenPatchMiner==0.1.8->GANDLF==0.0.14) (2.13.0)\n",
      "Requirement already satisfied: bleach>=2.1.0 in /home/karan/workspace/fl-tutorial/venv/lib/python3.8/site-packages (from readme-renderer>=35.0->twine->OpenPatchMiner==0.1.8->GANDLF==0.0.14) (5.0.1)\n",
      "Requirement already satisfied: docutils>=0.13.1 in /home/karan/workspace/fl-tutorial/venv/lib/python3.8/site-packages (from readme-renderer>=35.0->twine->OpenPatchMiner==0.1.8->GANDLF==0.0.14) (0.19)\n",
      "Requirement already satisfied: commonmark<0.10.0,>=0.9.0 in /home/karan/workspace/fl-tutorial/venv/lib/python3.8/site-packages (from rich>=12.0.0->twine->OpenPatchMiner==0.1.8->GANDLF==0.0.14) (0.9.1)\n",
      "Requirement already satisfied: cryptography>=2.0 in /home/karan/workspace/fl-tutorial/venv/lib/python3.8/site-packages (from SecretStorage>=3.2->keyring->OpenPatchMiner==0.1.8->GANDLF==0.0.14) (38.0.1)\n",
      "Requirement already satisfied: more-itertools in /home/karan/workspace/fl-tutorial/venv/lib/python3.8/site-packages (from jaraco.classes->keyring->OpenPatchMiner==0.1.8->GANDLF==0.0.14) (8.14.0)\n",
      "Requirement already satisfied: webencodings in /home/karan/workspace/fl-tutorial/venv/lib/python3.8/site-packages (from bleach>=2.1.0->readme-renderer>=35.0->twine->OpenPatchMiner==0.1.8->GANDLF==0.0.14) (0.5.1)\n",
      "Building wheels for collected packages: GANDLF\n",
      "  Building wheel for GANDLF (pyproject.toml): started\n",
      "  Building wheel for GANDLF (pyproject.toml): finished with status 'done'\n",
      "  Created wheel for GANDLF: filename=GANDLF-0.0.14-py3-none-any.whl size=162746 sha256=1f0620c58822f3c9ccd03cc8d728aef8875509ca9c8a16f58180b3ca74b98526\n",
      "  Stored in directory: /tmp/pip-ephem-wheel-cache-83ox6jxd/wheels/03/6f/df/f3f78a986e004f144adeff9ef54ed85aa3bef01ae7dc71d280\n",
      "Successfully built GANDLF\n",
      "Installing collected packages: GANDLF\n",
      "  Attempting uninstall: GANDLF\n",
      "    Found existing installation: GANDLF 0.0.14\n",
      "    Uninstalling GANDLF-0.0.14:\n",
      "      Successfully uninstalled GANDLF-0.0.14\n",
      "Successfully installed GANDLF-0.0.14\n",
      "GaNDLF installed version: 0.0.14\n",
      "Obtaining file:///home/karan/workspace/fl-tutorial/tutorial_notebooks/GaNDLF\n",
      "  Installing build dependencies: started\n",
      "  Installing build dependencies: finished with status 'done'\n",
      "  Checking if build backend supports build_editable: started\n",
      "  Checking if build backend supports build_editable: finished with status 'done'\n",
      "  Getting requirements to build editable: started\n",
      "  Getting requirements to build editable: finished with status 'done'\n",
      "  Preparing editable metadata (pyproject.toml): started\n",
      "  Preparing editable metadata (pyproject.toml): finished with status 'done'\n",
      "Requirement already satisfied: tqdm in /home/karan/workspace/fl-tutorial/venv/lib/python3.8/site-packages (from GANDLF==0.0.14) (4.64.1)\n",
      "Requirement already satisfied: scipy in /home/karan/workspace/fl-tutorial/venv/lib/python3.8/site-packages (from GANDLF==0.0.14) (1.9.1)\n",
      "Requirement already satisfied: SimpleITK!=2.0.* in /home/karan/workspace/fl-tutorial/venv/lib/python3.8/site-packages (from GANDLF==0.0.14) (2.2.0)\n",
      "Requirement already satisfied: torchio==0.18.57 in /home/karan/workspace/fl-tutorial/venv/lib/python3.8/site-packages (from GANDLF==0.0.14) (0.18.57)\n",
      "Requirement already satisfied: pylint in /home/karan/workspace/fl-tutorial/venv/lib/python3.8/site-packages (from GANDLF==0.0.14) (2.15.2)\n",
      "Requirement already satisfied: zarr==2.10.3 in /home/karan/workspace/fl-tutorial/venv/lib/python3.8/site-packages (from GANDLF==0.0.14) (2.10.3)\n",
      "Requirement already satisfied: pytest-cov in /home/karan/workspace/fl-tutorial/venv/lib/python3.8/site-packages (from GANDLF==0.0.14) (3.0.0)\n",
      "Requirement already satisfied: matplotlib in /home/karan/workspace/fl-tutorial/venv/lib/python3.8/site-packages (from GANDLF==0.0.14) (3.6.0)\n",
      "Requirement already satisfied: pandas in /home/karan/workspace/fl-tutorial/venv/lib/python3.8/site-packages (from GANDLF==0.0.14) (1.4.4)\n",
      "Requirement already satisfied: medcam in /home/karan/workspace/fl-tutorial/venv/lib/python3.8/site-packages (from GANDLF==0.0.14) (0.1.21)\n",
      "Requirement already satisfied: pyvips in /home/karan/workspace/fl-tutorial/venv/lib/python3.8/site-packages (from GANDLF==0.0.14) (2.2.1)\n",
      "Requirement already satisfied: psutil in /home/karan/workspace/fl-tutorial/venv/lib/python3.8/site-packages (from GANDLF==0.0.14) (5.9.2)\n",
      "Requirement already satisfied: torchvision in /home/karan/workspace/fl-tutorial/venv/lib/python3.8/site-packages (from GANDLF==0.0.14) (0.9.2+cu111)\n",
      "Requirement already satisfied: pyyaml in /home/karan/workspace/fl-tutorial/venv/lib/python3.8/site-packages (from GANDLF==0.0.14) (6.0)\n",
      "Requirement already satisfied: tiffslide in /home/karan/workspace/fl-tutorial/venv/lib/python3.8/site-packages (from GANDLF==0.0.14) (1.8.1)\n",
      "Requirement already satisfied: pydicom in /home/karan/workspace/fl-tutorial/venv/lib/python3.8/site-packages (from GANDLF==0.0.14) (2.3.0)\n",
      "Requirement already satisfied: black in /home/karan/workspace/fl-tutorial/venv/lib/python3.8/site-packages (from GANDLF==0.0.14) (22.8.0)\n",
      "Requirement already satisfied: requests>=2.25.0 in /home/karan/workspace/fl-tutorial/venv/lib/python3.8/site-packages (from GANDLF==0.0.14) (2.28.1)\n",
      "Requirement already satisfied: scikit-learn>=0.23.2 in /home/karan/workspace/fl-tutorial/venv/lib/python3.8/site-packages (from GANDLF==0.0.14) (1.1.2)\n",
      "Requirement already satisfied: OpenPatchMiner==0.1.8 in /home/karan/workspace/fl-tutorial/venv/lib/python3.8/site-packages (from GANDLF==0.0.14) (0.1.8)\n",
      "Requirement already satisfied: onnx in /home/karan/workspace/fl-tutorial/venv/lib/python3.8/site-packages (from GANDLF==0.0.14) (1.12.0)\n",
      "Requirement already satisfied: scikit-image>=0.19.1 in /home/karan/workspace/fl-tutorial/venv/lib/python3.8/site-packages (from GANDLF==0.0.14) (0.19.3)\n",
      "Requirement already satisfied: torchmetrics==0.5.1 in /home/karan/workspace/fl-tutorial/venv/lib/python3.8/site-packages (from GANDLF==0.0.14) (0.5.1)\n",
      "Requirement already satisfied: opencv-python in /home/karan/workspace/fl-tutorial/venv/lib/python3.8/site-packages (from GANDLF==0.0.14) (4.6.0.66)\n",
      "Requirement already satisfied: coverage in /home/karan/workspace/fl-tutorial/venv/lib/python3.8/site-packages (from GANDLF==0.0.14) (6.4.4)\n",
      "Requirement already satisfied: seaborn in /home/karan/workspace/fl-tutorial/venv/lib/python3.8/site-packages (from GANDLF==0.0.14) (0.12.0)\n",
      "Requirement already satisfied: setuptools in /home/karan/workspace/fl-tutorial/venv/lib/python3.8/site-packages (from GANDLF==0.0.14) (65.3.0)\n",
      "Requirement already satisfied: numpy==1.21.0 in /home/karan/workspace/fl-tutorial/venv/lib/python3.8/site-packages (from GANDLF==0.0.14) (1.21.0)\n",
      "Requirement already satisfied: torch==1.8.2 in /home/karan/workspace/fl-tutorial/venv/lib/python3.8/site-packages (from GANDLF==0.0.14) (1.8.2+cu111)\n",
      "Requirement already satisfied: pickle5>=0.0.11 in /home/karan/workspace/fl-tutorial/venv/lib/python3.8/site-packages (from GANDLF==0.0.14) (0.0.11)\n",
      "Requirement already satisfied: pytest in /home/karan/workspace/fl-tutorial/venv/lib/python3.8/site-packages (from GANDLF==0.0.14) (7.1.3)\n",
      "Requirement already satisfied: wheel in /home/karan/workspace/fl-tutorial/venv/lib/python3.8/site-packages (from OpenPatchMiner==0.1.8->GANDLF==0.0.14) (0.37.1)\n",
      "Requirement already satisfied: imagecodecs in /home/karan/workspace/fl-tutorial/venv/lib/python3.8/site-packages (from OpenPatchMiner==0.1.8->GANDLF==0.0.14) (2022.8.8)\n",
      "Requirement already satisfied: twine in /home/karan/workspace/fl-tutorial/venv/lib/python3.8/site-packages (from OpenPatchMiner==0.1.8->GANDLF==0.0.14) (4.0.1)\n",
      "Requirement already satisfied: keyring in /home/karan/workspace/fl-tutorial/venv/lib/python3.8/site-packages (from OpenPatchMiner==0.1.8->GANDLF==0.0.14) (23.9.1)\n",
      "Requirement already satisfied: tifffile in /home/karan/workspace/fl-tutorial/venv/lib/python3.8/site-packages (from OpenPatchMiner==0.1.8->GANDLF==0.0.14) (2022.8.12)\n",
      "Requirement already satisfied: typing-extensions in /home/karan/workspace/fl-tutorial/venv/lib/python3.8/site-packages (from torch==1.8.2->GANDLF==0.0.14) (4.3.0)\n",
      "Requirement already satisfied: Deprecated in /home/karan/workspace/fl-tutorial/venv/lib/python3.8/site-packages (from torchio==0.18.57->GANDLF==0.0.14) (1.2.13)\n",
      "Requirement already satisfied: nibabel in /home/karan/workspace/fl-tutorial/venv/lib/python3.8/site-packages (from torchio==0.18.57->GANDLF==0.0.14) (4.0.2)\n",
      "Requirement already satisfied: click in /home/karan/workspace/fl-tutorial/venv/lib/python3.8/site-packages (from torchio==0.18.57->GANDLF==0.0.14) (8.0.1)\n",
      "Requirement already satisfied: humanize in /home/karan/workspace/fl-tutorial/venv/lib/python3.8/site-packages (from torchio==0.18.57->GANDLF==0.0.14) (4.3.0)\n",
      "Requirement already satisfied: packaging in /home/karan/workspace/fl-tutorial/venv/lib/python3.8/site-packages (from torchmetrics==0.5.1->GANDLF==0.0.14) (21.3)\n",
      "Requirement already satisfied: asciitree in /home/karan/workspace/fl-tutorial/venv/lib/python3.8/site-packages (from zarr==2.10.3->GANDLF==0.0.14) (0.3.3)\n",
      "Requirement already satisfied: fasteners in /home/karan/workspace/fl-tutorial/venv/lib/python3.8/site-packages (from zarr==2.10.3->GANDLF==0.0.14) (0.18)\n",
      "Requirement already satisfied: numcodecs>=0.6.4 in /home/karan/workspace/fl-tutorial/venv/lib/python3.8/site-packages (from zarr==2.10.3->GANDLF==0.0.14) (0.10.2)\n",
      "Requirement already satisfied: idna<4,>=2.5 in /home/karan/workspace/fl-tutorial/venv/lib/python3.8/site-packages (from requests>=2.25.0->GANDLF==0.0.14) (3.4)\n",
      "Requirement already satisfied: urllib3<1.27,>=1.21.1 in /home/karan/workspace/fl-tutorial/venv/lib/python3.8/site-packages (from requests>=2.25.0->GANDLF==0.0.14) (1.26.12)\n",
      "Requirement already satisfied: certifi>=2017.4.17 in /home/karan/workspace/fl-tutorial/venv/lib/python3.8/site-packages (from requests>=2.25.0->GANDLF==0.0.14) (2022.9.14)\n",
      "Requirement already satisfied: charset-normalizer<3,>=2 in /home/karan/workspace/fl-tutorial/venv/lib/python3.8/site-packages (from requests>=2.25.0->GANDLF==0.0.14) (2.1.1)\n",
      "Requirement already satisfied: PyWavelets>=1.1.1 in /home/karan/workspace/fl-tutorial/venv/lib/python3.8/site-packages (from scikit-image>=0.19.1->GANDLF==0.0.14) (1.4.0)\n",
      "Requirement already satisfied: imageio>=2.4.1 in /home/karan/workspace/fl-tutorial/venv/lib/python3.8/site-packages (from scikit-image>=0.19.1->GANDLF==0.0.14) (2.21.3)\n",
      "Requirement already satisfied: networkx>=2.2 in /home/karan/workspace/fl-tutorial/venv/lib/python3.8/site-packages (from scikit-image>=0.19.1->GANDLF==0.0.14) (2.8.6)\n",
      "Requirement already satisfied: pillow!=7.1.0,!=7.1.1,!=8.3.0,>=6.1.0 in /home/karan/workspace/fl-tutorial/venv/lib/python3.8/site-packages (from scikit-image>=0.19.1->GANDLF==0.0.14) (9.2.0)\n",
      "Requirement already satisfied: joblib>=1.0.0 in /home/karan/workspace/fl-tutorial/venv/lib/python3.8/site-packages (from scikit-learn>=0.23.2->GANDLF==0.0.14) (1.2.0)\n",
      "Requirement already satisfied: threadpoolctl>=2.0.0 in /home/karan/workspace/fl-tutorial/venv/lib/python3.8/site-packages (from scikit-learn>=0.23.2->GANDLF==0.0.14) (3.1.0)\n",
      "Requirement already satisfied: pathspec>=0.9.0 in /home/karan/workspace/fl-tutorial/venv/lib/python3.8/site-packages (from black->GANDLF==0.0.14) (0.10.1)\n",
      "Requirement already satisfied: platformdirs>=2 in /home/karan/workspace/fl-tutorial/venv/lib/python3.8/site-packages (from black->GANDLF==0.0.14) (2.5.2)\n",
      "Requirement already satisfied: mypy-extensions>=0.4.3 in /home/karan/workspace/fl-tutorial/venv/lib/python3.8/site-packages (from black->GANDLF==0.0.14) (0.4.3)\n",
      "Requirement already satisfied: tomli>=1.1.0 in /home/karan/workspace/fl-tutorial/venv/lib/python3.8/site-packages (from black->GANDLF==0.0.14) (2.0.1)\n",
      "Requirement already satisfied: cycler>=0.10 in /home/karan/workspace/fl-tutorial/venv/lib/python3.8/site-packages (from matplotlib->GANDLF==0.0.14) (0.11.0)\n",
      "Requirement already satisfied: kiwisolver>=1.0.1 in /home/karan/workspace/fl-tutorial/venv/lib/python3.8/site-packages (from matplotlib->GANDLF==0.0.14) (1.4.4)\n",
      "Requirement already satisfied: pyparsing>=2.2.1 in /home/karan/workspace/fl-tutorial/venv/lib/python3.8/site-packages (from matplotlib->GANDLF==0.0.14) (3.0.9)\n",
      "Requirement already satisfied: fonttools>=4.22.0 in /home/karan/workspace/fl-tutorial/venv/lib/python3.8/site-packages (from matplotlib->GANDLF==0.0.14) (4.37.2)\n",
      "Requirement already satisfied: python-dateutil>=2.7 in /home/karan/workspace/fl-tutorial/venv/lib/python3.8/site-packages (from matplotlib->GANDLF==0.0.14) (2.8.2)\n",
      "Requirement already satisfied: contourpy>=1.0.1 in /home/karan/workspace/fl-tutorial/venv/lib/python3.8/site-packages (from matplotlib->GANDLF==0.0.14) (1.0.5)\n",
      "Requirement already satisfied: Markdown in /home/karan/workspace/fl-tutorial/venv/lib/python3.8/site-packages (from medcam->GANDLF==0.0.14) (3.4.1)\n",
      "Requirement already satisfied: decorator in /home/karan/workspace/fl-tutorial/venv/lib/python3.8/site-packages (from medcam->GANDLF==0.0.14) (5.1.1)\n",
      "Requirement already satisfied: pytz in /home/karan/workspace/fl-tutorial/venv/lib/python3.8/site-packages (from medcam->GANDLF==0.0.14) (2022.2.1)\n",
      "Requirement already satisfied: MarkupSafe in /home/karan/workspace/fl-tutorial/venv/lib/python3.8/site-packages (from medcam->GANDLF==0.0.14) (2.1.1)\n",
      "Requirement already satisfied: future in /home/karan/workspace/fl-tutorial/venv/lib/python3.8/site-packages (from medcam->GANDLF==0.0.14) (0.18.2)\n",
      "Requirement already satisfied: Mako in /home/karan/workspace/fl-tutorial/venv/lib/python3.8/site-packages (from medcam->GANDLF==0.0.14) (1.2.2)\n",
      "Requirement already satisfied: six in /home/karan/workspace/fl-tutorial/venv/lib/python3.8/site-packages (from medcam->GANDLF==0.0.14) (1.16.0)\n",
      "Requirement already satisfied: protobuf<=3.20.1,>=3.12.2 in /home/karan/workspace/fl-tutorial/venv/lib/python3.8/site-packages (from onnx->GANDLF==0.0.14) (3.19.4)\n",
      "Requirement already satisfied: isort<6,>=4.2.5 in /home/karan/workspace/fl-tutorial/venv/lib/python3.8/site-packages (from pylint->GANDLF==0.0.14) (5.10.1)\n",
      "Requirement already satisfied: astroid<=2.14.0-dev0,>=2.12.9 in /home/karan/workspace/fl-tutorial/venv/lib/python3.8/site-packages (from pylint->GANDLF==0.0.14) (2.12.9)\n",
      "Requirement already satisfied: mccabe<0.8,>=0.6 in /home/karan/workspace/fl-tutorial/venv/lib/python3.8/site-packages (from pylint->GANDLF==0.0.14) (0.7.0)\n",
      "Requirement already satisfied: dill>=0.2 in /home/karan/workspace/fl-tutorial/venv/lib/python3.8/site-packages (from pylint->GANDLF==0.0.14) (0.3.5.1)\n",
      "Requirement already satisfied: tomlkit>=0.10.1 in /home/karan/workspace/fl-tutorial/venv/lib/python3.8/site-packages (from pylint->GANDLF==0.0.14) (0.11.4)\n",
      "Requirement already satisfied: pluggy<2.0,>=0.12 in /home/karan/workspace/fl-tutorial/venv/lib/python3.8/site-packages (from pytest->GANDLF==0.0.14) (1.0.0)\n",
      "Requirement already satisfied: py>=1.8.2 in /home/karan/workspace/fl-tutorial/venv/lib/python3.8/site-packages (from pytest->GANDLF==0.0.14) (1.11.0)\n",
      "Requirement already satisfied: attrs>=19.2.0 in /home/karan/workspace/fl-tutorial/venv/lib/python3.8/site-packages (from pytest->GANDLF==0.0.14) (22.1.0)\n",
      "Requirement already satisfied: iniconfig in /home/karan/workspace/fl-tutorial/venv/lib/python3.8/site-packages (from pytest->GANDLF==0.0.14) (1.1.1)\n",
      "Requirement already satisfied: cffi>=1.0.0 in /home/karan/workspace/fl-tutorial/venv/lib/python3.8/site-packages (from pyvips->GANDLF==0.0.14) (1.15.1)\n",
      "Requirement already satisfied: fsspec in /home/karan/workspace/fl-tutorial/venv/lib/python3.8/site-packages (from tiffslide->GANDLF==0.0.14) (2022.8.2)\n",
      "Requirement already satisfied: wrapt<2,>=1.11 in /home/karan/workspace/fl-tutorial/venv/lib/python3.8/site-packages (from astroid<=2.14.0-dev0,>=2.12.9->pylint->GANDLF==0.0.14) (1.14.1)\n",
      "Requirement already satisfied: lazy-object-proxy>=1.4.0 in /home/karan/workspace/fl-tutorial/venv/lib/python3.8/site-packages (from astroid<=2.14.0-dev0,>=2.12.9->pylint->GANDLF==0.0.14) (1.7.1)\n",
      "Requirement already satisfied: pycparser in /home/karan/workspace/fl-tutorial/venv/lib/python3.8/site-packages (from cffi>=1.0.0->pyvips->GANDLF==0.0.14) (2.21)\n",
      "Requirement already satisfied: entrypoints in /home/karan/workspace/fl-tutorial/venv/lib/python3.8/site-packages (from numcodecs>=0.6.4->zarr==2.10.3->GANDLF==0.0.14) (0.4)\n",
      "Requirement already satisfied: importlib-metadata>=3.6 in /home/karan/workspace/fl-tutorial/venv/lib/python3.8/site-packages (from keyring->OpenPatchMiner==0.1.8->GANDLF==0.0.14) (4.12.0)\n",
      "Requirement already satisfied: SecretStorage>=3.2 in /home/karan/workspace/fl-tutorial/venv/lib/python3.8/site-packages (from keyring->OpenPatchMiner==0.1.8->GANDLF==0.0.14) (3.3.3)\n",
      "Requirement already satisfied: jeepney>=0.4.2 in /home/karan/workspace/fl-tutorial/venv/lib/python3.8/site-packages (from keyring->OpenPatchMiner==0.1.8->GANDLF==0.0.14) (0.8.0)\n",
      "Requirement already satisfied: jaraco.classes in /home/karan/workspace/fl-tutorial/venv/lib/python3.8/site-packages (from keyring->OpenPatchMiner==0.1.8->GANDLF==0.0.14) (3.2.2)\n",
      "Requirement already satisfied: rich>=12.0.0 in /home/karan/workspace/fl-tutorial/venv/lib/python3.8/site-packages (from twine->OpenPatchMiner==0.1.8->GANDLF==0.0.14) (12.5.1)\n",
      "Requirement already satisfied: readme-renderer>=35.0 in /home/karan/workspace/fl-tutorial/venv/lib/python3.8/site-packages (from twine->OpenPatchMiner==0.1.8->GANDLF==0.0.14) (37.1)\n",
      "Requirement already satisfied: rfc3986>=1.4.0 in /home/karan/workspace/fl-tutorial/venv/lib/python3.8/site-packages (from twine->OpenPatchMiner==0.1.8->GANDLF==0.0.14) (2.0.0)\n",
      "Requirement already satisfied: requests-toolbelt!=0.9.0,>=0.8.0 in /home/karan/workspace/fl-tutorial/venv/lib/python3.8/site-packages (from twine->OpenPatchMiner==0.1.8->GANDLF==0.0.14) (0.9.1)\n",
      "Requirement already satisfied: pkginfo>=1.8.1 in /home/karan/workspace/fl-tutorial/venv/lib/python3.8/site-packages (from twine->OpenPatchMiner==0.1.8->GANDLF==0.0.14) (1.8.3)\n",
      "Requirement already satisfied: zipp>=0.5 in /home/karan/workspace/fl-tutorial/venv/lib/python3.8/site-packages (from importlib-metadata>=3.6->keyring->OpenPatchMiner==0.1.8->GANDLF==0.0.14) (3.8.1)\n",
      "Requirement already satisfied: Pygments>=2.5.1 in /home/karan/workspace/fl-tutorial/venv/lib/python3.8/site-packages (from readme-renderer>=35.0->twine->OpenPatchMiner==0.1.8->GANDLF==0.0.14) (2.13.0)\n",
      "Requirement already satisfied: docutils>=0.13.1 in /home/karan/workspace/fl-tutorial/venv/lib/python3.8/site-packages (from readme-renderer>=35.0->twine->OpenPatchMiner==0.1.8->GANDLF==0.0.14) (0.19)\n",
      "Requirement already satisfied: bleach>=2.1.0 in /home/karan/workspace/fl-tutorial/venv/lib/python3.8/site-packages (from readme-renderer>=35.0->twine->OpenPatchMiner==0.1.8->GANDLF==0.0.14) (5.0.1)\n",
      "Requirement already satisfied: commonmark<0.10.0,>=0.9.0 in /home/karan/workspace/fl-tutorial/venv/lib/python3.8/site-packages (from rich>=12.0.0->twine->OpenPatchMiner==0.1.8->GANDLF==0.0.14) (0.9.1)\n",
      "Requirement already satisfied: cryptography>=2.0 in /home/karan/workspace/fl-tutorial/venv/lib/python3.8/site-packages (from SecretStorage>=3.2->keyring->OpenPatchMiner==0.1.8->GANDLF==0.0.14) (38.0.1)\n",
      "Requirement already satisfied: more-itertools in /home/karan/workspace/fl-tutorial/venv/lib/python3.8/site-packages (from jaraco.classes->keyring->OpenPatchMiner==0.1.8->GANDLF==0.0.14) (8.14.0)\n",
      "Requirement already satisfied: webencodings in /home/karan/workspace/fl-tutorial/venv/lib/python3.8/site-packages (from bleach>=2.1.0->readme-renderer>=35.0->twine->OpenPatchMiner==0.1.8->GANDLF==0.0.14) (0.5.1)\n",
      "Building wheels for collected packages: GANDLF\n",
      "  Building editable for GANDLF (pyproject.toml): started\n",
      "  Building editable for GANDLF (pyproject.toml): finished with status 'done'\n",
      "  Created wheel for GANDLF: filename=GANDLF-0.0.14-0.editable-py3-none-any.whl size=14247 sha256=6b8028d8a0d745529cc735cd3ba1c5497e81a9f744833844126ea477b57e1f3c\n",
      "  Stored in directory: /tmp/pip-ephem-wheel-cache-1xh1jrwc/wheels/03/6f/df/f3f78a986e004f144adeff9ef54ed85aa3bef01ae7dc71d280\n",
      "Successfully built GANDLF\n",
      "Installing collected packages: GANDLF\n",
      "  Attempting uninstall: GANDLF\n",
      "    Found existing installation: GANDLF 0.0.14\n",
      "    Uninstalling GANDLF-0.0.14:\n",
      "      Successfully uninstalled GANDLF-0.0.14\n",
      "Successfully installed GANDLF-0.0.14\n",
      "GaNDLF is ready. See https://cbica.github.io/GaNDLF/usage\n"
     ]
    }
   ],
   "source": [
    "%%bash\n",
    "# Download and install GaNDLF modules\n",
    "rm -rf GaNDLF\n",
    "git clone -b 0.0.14 --depth 1 https://github.com/CBICA/GaNDLF.git\n",
    "cd GaNDLF\n",
    "git submodule update --init --recursive\n",
    "echo \"Installing GANDLF\"\n",
    "python -m pip install .\n",
    "python ./gandlf_verifyInstall"
   ]
  },
  {
   "cell_type": "code",
   "execution_count": 9,
   "metadata": {
    "colab": {
     "base_uri": "https://localhost:8080/"
    },
    "id": "vLFo1D1BvW9t",
    "outputId": "7fe9abfd-c43d-4435-ceb3-fb434db0f7af"
   },
   "outputs": [
    {
     "name": "stdout",
     "output_type": "stream",
     "text": [
      "GaNDLF 0.0.14\n",
      "OpenFL 1.4\n"
     ]
    }
   ],
   "source": [
    "# Verify installations\n",
    "import sys\n",
    "gandlf_src = os.path.abspath('./GaNDLF')\n",
    "sys.path.insert(0, gandlf_src)                # For current kernel python runtime\n",
    "if 'PYTHONPATH' not in os.environ:\n",
    "    os.environ['PYTHONPATH'] = ''\n",
    "os.environ['PYTHONPATH'] += f':{gandlf_src}'  # For shell-invoked python runtime\n",
    "\n",
    "import GANDLF\n",
    "print('GaNDLF', GANDLF.__version__)\n",
    "\n",
    "import openfl\n",
    "print('OpenFL', openfl.__version__)"
   ]
  },
  {
   "cell_type": "markdown",
   "metadata": {
    "id": "XqOwMCopjuIy"
   },
   "source": [
    "### 2.1 Create a Federated Learning Workspace"
   ]
  },
  {
   "cell_type": "code",
   "execution_count": 10,
   "metadata": {
    "colab": {
     "base_uri": "https://localhost:8080/"
    },
    "id": "dqaxKPbhjuIy",
    "outputId": "f4764c8e-8307-4a7a-8861-2157fb230079"
   },
   "outputs": [
    {
     "name": "stdout",
     "output_type": "stream",
     "text": [
      "Copied `./medmnist/dataset/train_path_full.csv` to workspace `/home/karan/workspace/fl-tutorial/tutorial_notebooks/gandlf_example_workspace`\n",
      "Copied `./medmnist/dataset/val_path_full.csv` to workspace `/home/karan/workspace/fl-tutorial/tutorial_notebooks/gandlf_example_workspace`\n",
      "Copied `./medmnist/dataset/test_path_tiny.csv` to workspace `/home/karan/workspace/fl-tutorial/tutorial_notebooks/gandlf_example_workspace`\n"
     ]
    }
   ],
   "source": [
    "import os\n",
    "import shutil\n",
    "\n",
    "# Choose what you like\n",
    "FL_WORKSPACE_NAME = 'gandlf_example_workspace'\n",
    "ROUNDS_TO_TRAIN = 2\n",
    "BATCH_SIZE = 16\n",
    "DEVICE = 'cpu'\n",
    "\n",
    "# Create a blank directory with CSV files copied over\n",
    "workspace_dir = os.path.abspath(os.path.join(os.getcwd(), FL_WORKSPACE_NAME))\n",
    "if os.path.exists(workspace_dir):\n",
    "    shutil.rmtree(workspace_dir)\n",
    "os.mkdir(workspace_dir)\n",
    "\n",
    "for file in csv_files.values():\n",
    "    shutil.copy2(file, workspace_dir)\n",
    "    print(f'Copied `{file}` to workspace `{workspace_dir}`')"
   ]
  },
  {
   "cell_type": "code",
   "execution_count": 11,
   "metadata": {
    "colab": {
     "base_uri": "https://localhost:8080/"
    },
    "id": "w2gJMFDDjuIz",
    "outputId": "612383e6-a13e-4ea4-cc0f-f5779675cf13",
    "scrolled": true
   },
   "outputs": [
    {
     "name": "stdout",
     "output_type": "stream",
     "text": [
      "Creating Workspace Directories\n",
      "Creating Workspace Templates\n",
      "\u001b[2;36m[16:13:40]\u001b[0m\u001b[2;36m \u001b[0m\u001b[34mINFO    \u001b[0m Loading DEFAULTS for section \u001b[31maggregator\u001b[0m from file                                                                                \u001b]8;id=350672;file:///home/karan/workspace/fl-tutorial/venv/lib/python3.8/site-packages/openfl/federated/plan/plan.py\u001b\\\u001b[2mplan.py\u001b[0m\u001b]8;;\u001b\\\u001b[2m:\u001b[0m\u001b]8;id=493860;file:///home/karan/workspace/fl-tutorial/venv/lib/python3.8/site-packages/openfl/federated/plan/plan.py#108\u001b\\\u001b[2m108\u001b[0m\u001b]8;;\u001b\\\n",
      "\u001b[2;36m           \u001b[0m         \u001b[35m/home/karan/workspace/fl-tutorial/venv/lib/python3.8/site-packages/openfl-workspace/workspace/plan/defaults/\u001b[0m\u001b[95maggregator.yaml\u001b[0m\u001b[95m.\u001b[0m     \u001b[2m           \u001b[0m\n",
      "\u001b[2;36m          \u001b[0m\u001b[2;36m \u001b[0m\u001b[34mINFO    \u001b[0m Loading DEFAULTS for section \u001b[31massigner\u001b[0m from file                                                                                  \u001b]8;id=832457;file:///home/karan/workspace/fl-tutorial/venv/lib/python3.8/site-packages/openfl/federated/plan/plan.py\u001b\\\u001b[2mplan.py\u001b[0m\u001b]8;;\u001b\\\u001b[2m:\u001b[0m\u001b]8;id=292382;file:///home/karan/workspace/fl-tutorial/venv/lib/python3.8/site-packages/openfl/federated/plan/plan.py#108\u001b\\\u001b[2m108\u001b[0m\u001b]8;;\u001b\\\n",
      "\u001b[2;36m           \u001b[0m         \u001b[35m/home/karan/workspace/fl-tutorial/venv/lib/python3.8/site-packages/openfl-workspace/workspace/plan/defaults/\u001b[0m\u001b[95massigner.yaml\u001b[0m\u001b[95m.\u001b[0m       \u001b[2m           \u001b[0m\n",
      "\u001b[2;36m          \u001b[0m\u001b[2;36m \u001b[0m\u001b[34mINFO    \u001b[0m Loading DEFAULTS for section \u001b[31mcollaborator\u001b[0m from file                                                                              \u001b]8;id=838228;file:///home/karan/workspace/fl-tutorial/venv/lib/python3.8/site-packages/openfl/federated/plan/plan.py\u001b\\\u001b[2mplan.py\u001b[0m\u001b]8;;\u001b\\\u001b[2m:\u001b[0m\u001b]8;id=110296;file:///home/karan/workspace/fl-tutorial/venv/lib/python3.8/site-packages/openfl/federated/plan/plan.py#108\u001b\\\u001b[2m108\u001b[0m\u001b]8;;\u001b\\\n",
      "\u001b[2;36m           \u001b[0m         \u001b[35m/home/karan/workspace/fl-tutorial/venv/lib/python3.8/site-packages/openfl-workspace/workspace/plan/defaults/\u001b[0m\u001b[95mcollaborator.yaml\u001b[0m\u001b[95m.\u001b[0m   \u001b[2m           \u001b[0m\n",
      "\u001b[2;36m          \u001b[0m\u001b[2;36m \u001b[0m\u001b[34mINFO    \u001b[0m Loading DEFAULTS for section \u001b[31mcompression_pipeline\u001b[0m from file                                                                      \u001b]8;id=412265;file:///home/karan/workspace/fl-tutorial/venv/lib/python3.8/site-packages/openfl/federated/plan/plan.py\u001b\\\u001b[2mplan.py\u001b[0m\u001b]8;;\u001b\\\u001b[2m:\u001b[0m\u001b]8;id=752054;file:///home/karan/workspace/fl-tutorial/venv/lib/python3.8/site-packages/openfl/federated/plan/plan.py#108\u001b\\\u001b[2m108\u001b[0m\u001b]8;;\u001b\\\n",
      "\u001b[2;36m           \u001b[0m         \u001b[35m/home/karan/workspace/fl-tutorial/venv/lib/python3.8/site-packages/openfl-workspace/workspace/plan/defaults/\u001b[0m\u001b[95mcompression_pipeline\u001b[0m \u001b[2m           \u001b[0m\n",
      "\u001b[2;36m           \u001b[0m         \u001b[95m.yaml\u001b[0m\u001b[95m.\u001b[0m                                                                                                                           \u001b[2m           \u001b[0m\n",
      "\u001b[2;36m          \u001b[0m\u001b[2;36m \u001b[0m\u001b[34mINFO    \u001b[0m Loading DEFAULTS for section \u001b[31mdata_loader\u001b[0m from file                                                                               \u001b]8;id=67454;file:///home/karan/workspace/fl-tutorial/venv/lib/python3.8/site-packages/openfl/federated/plan/plan.py\u001b\\\u001b[2mplan.py\u001b[0m\u001b]8;;\u001b\\\u001b[2m:\u001b[0m\u001b]8;id=112153;file:///home/karan/workspace/fl-tutorial/venv/lib/python3.8/site-packages/openfl/federated/plan/plan.py#108\u001b\\\u001b[2m108\u001b[0m\u001b]8;;\u001b\\\n",
      "\u001b[2;36m           \u001b[0m         \u001b[35m/home/karan/workspace/fl-tutorial/venv/lib/python3.8/site-packages/openfl-workspace/workspace/plan/defaults/\u001b[0m\u001b[95mdata_loader.yaml\u001b[0m\u001b[95m.\u001b[0m    \u001b[2m           \u001b[0m\n",
      "\u001b[2;36m          \u001b[0m\u001b[2;36m \u001b[0m\u001b[34mINFO    \u001b[0m Loading DEFAULTS for section \u001b[31mnetwork\u001b[0m from file                                                                                   \u001b]8;id=302153;file:///home/karan/workspace/fl-tutorial/venv/lib/python3.8/site-packages/openfl/federated/plan/plan.py\u001b\\\u001b[2mplan.py\u001b[0m\u001b]8;;\u001b\\\u001b[2m:\u001b[0m\u001b]8;id=346976;file:///home/karan/workspace/fl-tutorial/venv/lib/python3.8/site-packages/openfl/federated/plan/plan.py#108\u001b\\\u001b[2m108\u001b[0m\u001b]8;;\u001b\\\n",
      "\u001b[2;36m           \u001b[0m         \u001b[35m/home/karan/workspace/fl-tutorial/venv/lib/python3.8/site-packages/openfl-workspace/workspace/plan/defaults/\u001b[0m\u001b[95mnetwork.yaml\u001b[0m\u001b[95m.\u001b[0m        \u001b[2m           \u001b[0m\n",
      "\u001b[2;36m          \u001b[0m\u001b[2;36m \u001b[0m\u001b[34mINFO    \u001b[0m FL-Plan hash is \u001b[34mad256ab4b1357072f47bcf060e64688835ee25d75938bf0f97ed1868919d4683689d4db3fe3da81e73b0c2b5dc3eb5f6\u001b[0m                 \u001b]8;id=54529;file:///home/karan/workspace/fl-tutorial/venv/lib/python3.8/site-packages/openfl/federated/plan/plan.py\u001b\\\u001b[2mplan.py\u001b[0m\u001b]8;;\u001b\\\u001b[2m:\u001b[0m\u001b]8;id=361748;file:///home/karan/workspace/fl-tutorial/venv/lib/python3.8/site-packages/openfl/federated/plan/plan.py#237\u001b\\\u001b[2m237\u001b[0m\u001b]8;;\u001b\\\n",
      "\u001b[2;36m          \u001b[0m\u001b[2;36m \u001b[0m\u001b[34mINFO    \u001b[0m FL-Plan hash is \u001b[34m095e97548e13f822d2e61a24ac4c06dcd4fd15d396793f29e3c45dbcdc225b926ac4b28a6b9c0e62e484abb3a43dd35c\u001b[0m                 \u001b]8;id=655625;file:///home/karan/workspace/fl-tutorial/venv/lib/python3.8/site-packages/openfl/federated/plan/plan.py\u001b\\\u001b[2mplan.py\u001b[0m\u001b]8;;\u001b\\\u001b[2m:\u001b[0m\u001b]8;id=768172;file:///home/karan/workspace/fl-tutorial/venv/lib/python3.8/site-packages/openfl/federated/plan/plan.py#237\u001b\\\u001b[2m237\u001b[0m\u001b]8;;\u001b\\\n",
      "\u001b[2;36m          \u001b[0m\u001b[2;36m \u001b[0m\u001b[34mINFO    \u001b[0m Parsing Federated Learning Plan : \u001b[32mSUCCESS\u001b[0m :                                                                                      \u001b]8;id=839277;file:///home/karan/workspace/fl-tutorial/venv/lib/python3.8/site-packages/openfl/federated/plan/plan.py\u001b\\\u001b[2mplan.py\u001b[0m\u001b]8;;\u001b\\\u001b[2m:\u001b[0m\u001b]8;id=264764;file:///home/karan/workspace/fl-tutorial/venv/lib/python3.8/site-packages/openfl/federated/plan/plan.py#144\u001b\\\u001b[2m144\u001b[0m\u001b]8;;\u001b\\\n",
      "\u001b[2;36m           \u001b[0m         \u001b[35m/home/karan/workspace/fl-tutorial/venv/lib/python3.8/site-packages/openfl-workspace/gandalf_classification_test/plan/\u001b[0m\u001b[95mplan.yaml\u001b[0m\u001b[95m.\u001b[0m  \u001b[2m           \u001b[0m\n",
      "\u001b[2;36m          \u001b[0m\u001b[2;36m \u001b[0m\u001b[34mINFO    \u001b[0m aggregator:                                                                                                                      \u001b]8;id=764828;file:///home/karan/workspace/fl-tutorial/venv/lib/python3.8/site-packages/openfl/federated/plan/plan.py\u001b\\\u001b[2mplan.py\u001b[0m\u001b]8;;\u001b\\\u001b[2m:\u001b[0m\u001b]8;id=628219;file:///home/karan/workspace/fl-tutorial/venv/lib/python3.8/site-packages/openfl/federated/plan/plan.py#148\u001b\\\u001b[2m148\u001b[0m\u001b]8;;\u001b\\\n",
      "\u001b[2;36m           \u001b[0m           settings:                                                                                                                      \u001b[2m           \u001b[0m\n",
      "\u001b[2;36m           \u001b[0m             best_state_path: save/fets_seg_test_best.pbuf                                                                                \u001b[2m           \u001b[0m\n",
      "\u001b[2;36m           \u001b[0m             db_store_rounds: \u001b[1;36m2\u001b[0m                                                                                                           \u001b[2m           \u001b[0m\n",
      "\u001b[2;36m           \u001b[0m             init_state_path: save/fets_seg_test_init.pbuf                                                                                \u001b[2m           \u001b[0m\n",
      "\u001b[2;36m           \u001b[0m             last_state_path: save/fets_seg_test_last.pbuf                                                                                \u001b[2m           \u001b[0m\n",
      "\u001b[2;36m           \u001b[0m             rounds_to_train: \u001b[1;36m3\u001b[0m                                                                                                           \u001b[2m           \u001b[0m\n",
      "\u001b[2;36m           \u001b[0m             write_logs: true                                                                                                             \u001b[2m           \u001b[0m\n",
      "\u001b[2;36m           \u001b[0m           template: openfl.component.Aggregator                                                                                          \u001b[2m           \u001b[0m\n",
      "\u001b[2;36m           \u001b[0m         assigner:                                                                                                                        \u001b[2m           \u001b[0m\n",
      "\u001b[2;36m           \u001b[0m           settings:                                                                                                                      \u001b[2m           \u001b[0m\n",
      "\u001b[2;36m           \u001b[0m             task_groups:                                                                                                                 \u001b[2m           \u001b[0m\n",
      "\u001b[2;36m           \u001b[0m             - name: train_and_validate                                                                                                   \u001b[2m           \u001b[0m\n",
      "\u001b[2;36m           \u001b[0m               percentage: \u001b[1;36m1.0\u001b[0m                                                                                                            \u001b[2m           \u001b[0m\n",
      "\u001b[2;36m           \u001b[0m               tasks:                                                                                                                     \u001b[2m           \u001b[0m\n",
      "\u001b[2;36m           \u001b[0m               - aggregated_model_validation                                                                                              \u001b[2m           \u001b[0m\n",
      "\u001b[2;36m           \u001b[0m               - train                                                                                                                    \u001b[2m           \u001b[0m\n",
      "\u001b[2;36m           \u001b[0m               - locally_tuned_model_validation                                                                                           \u001b[2m           \u001b[0m\n",
      "\u001b[2;36m           \u001b[0m           template: openfl.component.RandomGroupedAssigner                                                                               \u001b[2m           \u001b[0m\n",
      "\u001b[2;36m           \u001b[0m         collaborator:                                                                                                                    \u001b[2m           \u001b[0m\n",
      "\u001b[2;36m           \u001b[0m           settings:                                                                                                                      \u001b[2m           \u001b[0m\n",
      "\u001b[2;36m           \u001b[0m             db_store_rounds: \u001b[1;36m1\u001b[0m                                                                                                           \u001b[2m           \u001b[0m\n",
      "\u001b[2;36m           \u001b[0m             delta_updates: false                                                                                                         \u001b[2m           \u001b[0m\n",
      "\u001b[2;36m           \u001b[0m             opt_treatment: RESET                                                                                                         \u001b[2m           \u001b[0m\n",
      "\u001b[2;36m           \u001b[0m           template: openfl.component.Collaborator                                                                                        \u001b[2m           \u001b[0m\n",
      "\u001b[2;36m           \u001b[0m         compression_pipeline:                                                                                                            \u001b[2m           \u001b[0m\n",
      "\u001b[2;36m           \u001b[0m           settings: \u001b[1m{\u001b[0m\u001b[1m}\u001b[0m                                                                                                                   \u001b[2m           \u001b[0m\n",
      "\u001b[2;36m           \u001b[0m           template: openfl.pipelines.NoCompressionPipeline                                                                               \u001b[2m           \u001b[0m\n",
      "\u001b[2;36m           \u001b[0m         data_loader:                                                                                                                     \u001b[2m           \u001b[0m\n",
      "\u001b[2;36m           \u001b[0m           settings:                                                                                                                      \u001b[2m           \u001b[0m\n",
      "\u001b[2;36m           \u001b[0m             feature_shape:                                                                                                               \u001b[2m           \u001b[0m\n",
      "\u001b[2;36m           \u001b[0m             - \u001b[1;36m128\u001b[0m                                                                                                                        \u001b[2m           \u001b[0m\n",
      "\u001b[2;36m           \u001b[0m             - \u001b[1;36m128\u001b[0m                                                                                                                        \u001b[2m           \u001b[0m\n",
      "\u001b[2;36m           \u001b[0m           template: openfl.federated.data.loader_fets_challenge.FeTSChallengeDataLoaderWrapper                                           \u001b[2m           \u001b[0m\n",
      "\u001b[2;36m           \u001b[0m         network:                                                                                                                         \u001b[2m           \u001b[0m\n",
      "\u001b[2;36m           \u001b[0m           settings:                                                                                                                      \u001b[2m           \u001b[0m\n",
      "\u001b[2;36m           \u001b[0m             agg_addr: karansh1-MOBL1.gar.corp.intel.com                                                                                  \u001b[2m           \u001b[0m\n",
      "\u001b[2;36m           \u001b[0m             agg_port: \u001b[1;36m57224\u001b[0m                                                                                                              \u001b[2m           \u001b[0m\n",
      "\u001b[2;36m           \u001b[0m             cert_folder: cert                                                                                                            \u001b[2m           \u001b[0m\n",
      "\u001b[2;36m           \u001b[0m             client_reconnect_interval: \u001b[1;36m5\u001b[0m                                                                                                 \u001b[2m           \u001b[0m\n",
      "\u001b[2;36m           \u001b[0m             disable_client_auth: false                                                                                                   \u001b[2m           \u001b[0m\n",
      "\u001b[2;36m           \u001b[0m             hash_salt: auto                                                                                                              \u001b[2m           \u001b[0m\n",
      "\u001b[2;36m           \u001b[0m             tls: true                                                                                                                    \u001b[2m           \u001b[0m\n",
      "\u001b[2;36m           \u001b[0m           template: openfl.federation.Network                                                                                            \u001b[2m           \u001b[0m\n",
      "\u001b[2;36m           \u001b[0m         task_runner:                                                                                                                     \u001b[2m           \u001b[0m\n",
      "\u001b[2;36m           \u001b[0m           settings:                                                                                                                      \u001b[2m           \u001b[0m\n",
      "\u001b[2;36m           \u001b[0m             device: cuda                                                                                                                 \u001b[2m           \u001b[0m\n",
      "\u001b[2;36m           \u001b[0m             fets_config_dict:                                                                                                            \u001b[2m           \u001b[0m\n",
      "\u001b[2;36m           \u001b[0m               batch_size: \u001b[1;36m16\u001b[0m                                                                                                             \u001b[2m           \u001b[0m\n",
      "\u001b[2;36m           \u001b[0m               clip_grad: null                                                                                                            \u001b[2m           \u001b[0m\n",
      "\u001b[2;36m           \u001b[0m               clip_mode: null                                                                                                            \u001b[2m           \u001b[0m\n",
      "\u001b[2;36m           \u001b[0m               data_augmentation: \u001b[1m{\u001b[0m\u001b[1m}\u001b[0m                                                                                                      \u001b[2m           \u001b[0m\n",
      "\u001b[2;36m           \u001b[0m               data_postprocessing: \u001b[1m{\u001b[0m\u001b[1m}\u001b[0m                                                                                                    \u001b[2m           \u001b[0m\n",
      "\u001b[2;36m           \u001b[0m               data_preprocessing:                                                                                                        \u001b[2m           \u001b[0m\n",
      "\u001b[2;36m           \u001b[0m                 resize:                                                                                                                  \u001b[2m           \u001b[0m\n",
      "\u001b[2;36m           \u001b[0m                 - \u001b[1;36m128\u001b[0m                                                                                                                    \u001b[2m           \u001b[0m\n",
      "\u001b[2;36m           \u001b[0m                 - \u001b[1;36m128\u001b[0m                                                                                                                    \u001b[2m           \u001b[0m\n",
      "\u001b[2;36m           \u001b[0m               enable_padding: false                                                                                                      \u001b[2m           \u001b[0m\n",
      "\u001b[2;36m           \u001b[0m               grid_aggregator_overlap: crop                                                                                              \u001b[2m           \u001b[0m\n",
      "\u001b[2;36m           \u001b[0m               in_memory: false                                                                                                           \u001b[2m           \u001b[0m\n",
      "\u001b[2;36m           \u001b[0m               inference_mechanism:                                                                                                       \u001b[2m           \u001b[0m\n",
      "\u001b[2;36m           \u001b[0m                 grid_aggregator_overlap: crop                                                                                            \u001b[2m           \u001b[0m\n",
      "\u001b[2;36m           \u001b[0m                 patch_overlap: \u001b[1;36m0\u001b[0m                                                                                                         \u001b[2m           \u001b[0m\n",
      "\u001b[2;36m           \u001b[0m               learning_rate: \u001b[1;36m0.001\u001b[0m                                                                                                       \u001b[2m           \u001b[0m\n",
      "\u001b[2;36m           \u001b[0m               loss_function: cel                                                                                                         \u001b[2m           \u001b[0m\n",
      "\u001b[2;36m           \u001b[0m               medcam_enabled: false                                                                                                      \u001b[2m           \u001b[0m\n",
      "\u001b[2;36m           \u001b[0m               metrics:                                                                                                                   \u001b[2m           \u001b[0m\n",
      "\u001b[2;36m           \u001b[0m                 accuracy:                                                                                                                \u001b[2m           \u001b[0m\n",
      "\u001b[2;36m           \u001b[0m                   average: weighted                                                                                                      \u001b[2m           \u001b[0m\n",
      "\u001b[2;36m           \u001b[0m                   mdmc_average: samplewise                                                                                               \u001b[2m           \u001b[0m\n",
      "\u001b[2;36m           \u001b[0m                   multi_class: true                                                                                                      \u001b[2m           \u001b[0m\n",
      "\u001b[2;36m           \u001b[0m                   subset_accuracy: false                                                                                                 \u001b[2m           \u001b[0m\n",
      "\u001b[2;36m           \u001b[0m                   threshold: \u001b[1;36m0.5\u001b[0m                                                                                                         \u001b[2m           \u001b[0m\n",
      "\u001b[2;36m           \u001b[0m                 balanced_accuracy: \u001b[3;35mNone\u001b[0m                                                                                                  \u001b[2m           \u001b[0m\n",
      "\u001b[2;36m           \u001b[0m                 classification_accuracy: \u001b[3;35mNone\u001b[0m                                                                                            \u001b[2m           \u001b[0m\n",
      "\u001b[2;36m           \u001b[0m                 f1:                                                                                                                      \u001b[2m           \u001b[0m\n",
      "\u001b[2;36m           \u001b[0m                   average: weighted                                                                                                      \u001b[2m           \u001b[0m\n",
      "\u001b[2;36m           \u001b[0m                   f1:                                                                                                                    \u001b[2m           \u001b[0m\n",
      "\u001b[2;36m           \u001b[0m                     average: weighted                                                                                                    \u001b[2m           \u001b[0m\n",
      "\u001b[2;36m           \u001b[0m                   mdmc_average: samplewise                                                                                               \u001b[2m           \u001b[0m\n",
      "\u001b[2;36m           \u001b[0m                   multi_class: true                                                                                                      \u001b[2m           \u001b[0m\n",
      "\u001b[2;36m           \u001b[0m                   threshold: \u001b[1;36m0.5\u001b[0m                                                                                                         \u001b[2m           \u001b[0m\n",
      "\u001b[2;36m           \u001b[0m               modality: rad                                                                                                              \u001b[2m           \u001b[0m\n",
      "\u001b[2;36m           \u001b[0m               model:                                                                                                                     \u001b[2m           \u001b[0m\n",
      "\u001b[2;36m           \u001b[0m                 amp: false                                                                                                               \u001b[2m           \u001b[0m\n",
      "\u001b[2;36m           \u001b[0m                 architecture: resnet18                                                                                                   \u001b[2m           \u001b[0m\n",
      "\u001b[2;36m           \u001b[0m                 base_filters: \u001b[1;36m32\u001b[0m                                                                                                         \u001b[2m           \u001b[0m\n",
      "\u001b[2;36m           \u001b[0m                 batch_norm: true                                                                                                         \u001b[2m           \u001b[0m\n",
      "\u001b[2;36m           \u001b[0m                 class_list:                                                                                                              \u001b[2m           \u001b[0m\n",
      "\u001b[2;36m           \u001b[0m                 - \u001b[1;36m0\u001b[0m                                                                                                                      \u001b[2m           \u001b[0m\n",
      "\u001b[2;36m           \u001b[0m                 - \u001b[1;36m1\u001b[0m                                                                                                                      \u001b[2m           \u001b[0m\n",
      "\u001b[2;36m           \u001b[0m                 - \u001b[1;36m2\u001b[0m                                                                                                                      \u001b[2m           \u001b[0m\n",
      "\u001b[2;36m           \u001b[0m                 - \u001b[1;36m3\u001b[0m                                                                                                                      \u001b[2m           \u001b[0m\n",
      "\u001b[2;36m           \u001b[0m                 - \u001b[1;36m4\u001b[0m                                                                                                                      \u001b[2m           \u001b[0m\n",
      "\u001b[2;36m           \u001b[0m                 - \u001b[1;36m5\u001b[0m                                                                                                                      \u001b[2m           \u001b[0m\n",
      "\u001b[2;36m           \u001b[0m                 - \u001b[1;36m6\u001b[0m                                                                                                                      \u001b[2m           \u001b[0m\n",
      "\u001b[2;36m           \u001b[0m                 - \u001b[1;36m7\u001b[0m                                                                                                                      \u001b[2m           \u001b[0m\n",
      "\u001b[2;36m           \u001b[0m                 - \u001b[1;36m8\u001b[0m                                                                                                                      \u001b[2m           \u001b[0m\n",
      "\u001b[2;36m           \u001b[0m                 dimension: \u001b[1;36m2\u001b[0m                                                                                                             \u001b[2m           \u001b[0m\n",
      "\u001b[2;36m           \u001b[0m                 final_layer: sigmoid                                                                                                     \u001b[2m           \u001b[0m\n",
      "\u001b[2;36m           \u001b[0m                 ignore_label_validation: \u001b[3;35mNone\u001b[0m                                                                                            \u001b[2m           \u001b[0m\n",
      "\u001b[2;36m           \u001b[0m                 n_channels: \u001b[1;36m3\u001b[0m                                                                                                            \u001b[2m           \u001b[0m\n",
      "\u001b[2;36m           \u001b[0m                 norm_type: batch                                                                                                         \u001b[2m           \u001b[0m\n",
      "\u001b[2;36m           \u001b[0m                 num_channels: \u001b[1;36m3\u001b[0m                                                                                                          \u001b[2m           \u001b[0m\n",
      "\u001b[2;36m           \u001b[0m                 save_at_every_epoch: false                                                                                               \u001b[2m           \u001b[0m\n",
      "\u001b[2;36m           \u001b[0m                 type: torch                                                                                                              \u001b[2m           \u001b[0m\n",
      "\u001b[2;36m           \u001b[0m               nested_training:                                                                                                           \u001b[2m           \u001b[0m\n",
      "\u001b[2;36m           \u001b[0m                 testing: \u001b[1;36m1\u001b[0m                                                                                                               \u001b[2m           \u001b[0m\n",
      "\u001b[2;36m           \u001b[0m                 validation: \u001b[1;36m-5\u001b[0m                                                                                                           \u001b[2m           \u001b[0m\n",
      "\u001b[2;36m           \u001b[0m               num_epochs: \u001b[1;36m5\u001b[0m                                                                                                              \u001b[2m           \u001b[0m\n",
      "\u001b[2;36m           \u001b[0m               opt: adam                                                                                                                  \u001b[2m           \u001b[0m\n",
      "\u001b[2;36m           \u001b[0m               optimizer:                                                                                                                 \u001b[2m           \u001b[0m\n",
      "\u001b[2;36m           \u001b[0m                 type: adam                                                                                                               \u001b[2m           \u001b[0m\n",
      "\u001b[2;36m           \u001b[0m               output_dir: .                                                                                                              \u001b[2m           \u001b[0m\n",
      "\u001b[2;36m           \u001b[0m               parallel_compute_command: \u001b[32m''\u001b[0m                                                                                               \u001b[2m           \u001b[0m\n",
      "\u001b[2;36m           \u001b[0m               patch_sampler: uniform                                                                                                     \u001b[2m           \u001b[0m\n",
      "\u001b[2;36m           \u001b[0m               patch_size:                                                                                                                \u001b[2m           \u001b[0m\n",
      "\u001b[2;36m           \u001b[0m               - \u001b[1;36m128\u001b[0m                                                                                                                      \u001b[2m           \u001b[0m\n",
      "\u001b[2;36m           \u001b[0m               - \u001b[1;36m128\u001b[0m                                                                                                                      \u001b[2m           \u001b[0m\n",
      "\u001b[2;36m           \u001b[0m               - \u001b[1;36m1\u001b[0m                                                                                                                        \u001b[2m           \u001b[0m\n",
      "\u001b[2;36m           \u001b[0m               patience: \u001b[1;36m5\u001b[0m                                                                                                                \u001b[2m           \u001b[0m\n",
      "\u001b[2;36m           \u001b[0m               pin_memory_dataloader: false                                                                                               \u001b[2m           \u001b[0m\n",
      "\u001b[2;36m           \u001b[0m               print_rgb_label_warning: true                                                                                              \u001b[2m           \u001b[0m\n",
      "\u001b[2;36m           \u001b[0m               q_max_length: \u001b[1;36m5\u001b[0m                                                                                                            \u001b[2m           \u001b[0m\n",
      "\u001b[2;36m           \u001b[0m               q_num_workers: \u001b[1;36m0\u001b[0m                                                                                                           \u001b[2m           \u001b[0m\n",
      "\u001b[2;36m           \u001b[0m               q_samples_per_volume: \u001b[1;36m1\u001b[0m                                                                                                    \u001b[2m           \u001b[0m\n",
      "\u001b[2;36m           \u001b[0m               q_verbose: false                                                                                                           \u001b[2m           \u001b[0m\n",
      "\u001b[2;36m           \u001b[0m               save_masks: false                                                                                                          \u001b[2m           \u001b[0m\n",
      "\u001b[2;36m           \u001b[0m               save_output: false                                                                                                         \u001b[2m           \u001b[0m\n",
      "\u001b[2;36m           \u001b[0m               save_training: false                                                                                                       \u001b[2m           \u001b[0m\n",
      "\u001b[2;36m           \u001b[0m               scaling_factor: \u001b[1;36m1\u001b[0m                                                                                                          \u001b[2m           \u001b[0m\n",
      "\u001b[2;36m           \u001b[0m               scheduler:                                                                                                                 \u001b[2m           \u001b[0m\n",
      "\u001b[2;36m           \u001b[0m                 step_size: \u001b[1;36m0.0002\u001b[0m                                                                                                        \u001b[2m           \u001b[0m\n",
      "\u001b[2;36m           \u001b[0m                 type: triangle                                                                                                           \u001b[2m           \u001b[0m\n",
      "\u001b[2;36m           \u001b[0m               track_memory_usage: false                                                                                                  \u001b[2m           \u001b[0m\n",
      "\u001b[2;36m           \u001b[0m               verbose: false                                                                                                             \u001b[2m           \u001b[0m\n",
      "\u001b[2;36m           \u001b[0m               version:                                                                                                                   \u001b[2m           \u001b[0m\n",
      "\u001b[2;36m           \u001b[0m                 maximum: \u001b[1;36m0.0\u001b[0m.\u001b[1;36m14\u001b[0m                                                                                                          \u001b[2m           \u001b[0m\n",
      "\u001b[2;36m           \u001b[0m                 minimum: \u001b[1;36m0.0\u001b[0m.\u001b[1;36m14\u001b[0m                                                                                                          \u001b[2m           \u001b[0m\n",
      "\u001b[2;36m           \u001b[0m               weighted_loss: true                                                                                                        \u001b[2m           \u001b[0m\n",
      "\u001b[2;36m           \u001b[0m             train_csv: train_path_full.csv                                                                                               \u001b[2m           \u001b[0m\n",
      "\u001b[2;36m           \u001b[0m             val_csv: val_path_full.csv                                                                                                   \u001b[2m           \u001b[0m\n",
      "\u001b[2;36m           \u001b[0m           template: openfl.federated.task.runner_fets_challenge.FeTSChallengeTaskRunner                                                  \u001b[2m           \u001b[0m\n",
      "\u001b[2;36m           \u001b[0m         tasks:                                                                                                                           \u001b[2m           \u001b[0m\n",
      "\u001b[2;36m           \u001b[0m           aggregated_model_validation:                                                                                                   \u001b[2m           \u001b[0m\n",
      "\u001b[2;36m           \u001b[0m             function: validate                                                                                                           \u001b[2m           \u001b[0m\n",
      "\u001b[2;36m           \u001b[0m             kwargs:                                                                                                                      \u001b[2m           \u001b[0m\n",
      "\u001b[2;36m           \u001b[0m               apply: global                                                                                                              \u001b[2m           \u001b[0m\n",
      "\u001b[2;36m           \u001b[0m               metrics:                                                                                                                   \u001b[2m           \u001b[0m\n",
      "\u001b[2;36m           \u001b[0m               - valid_loss                                                                                                               \u001b[2m           \u001b[0m\n",
      "\u001b[2;36m           \u001b[0m               - valid_accuracy                                                                                                           \u001b[2m           \u001b[0m\n",
      "\u001b[2;36m           \u001b[0m           locally_tuned_model_validation:                                                                                                \u001b[2m           \u001b[0m\n",
      "\u001b[2;36m           \u001b[0m             function: validate                                                                                                           \u001b[2m           \u001b[0m\n",
      "\u001b[2;36m           \u001b[0m             kwargs:                                                                                                                      \u001b[2m           \u001b[0m\n",
      "\u001b[2;36m           \u001b[0m               apply: local                                                                                                               \u001b[2m           \u001b[0m\n",
      "\u001b[2;36m           \u001b[0m               metrics:                                                                                                                   \u001b[2m           \u001b[0m\n",
      "\u001b[2;36m           \u001b[0m               - valid_loss                                                                                                               \u001b[2m           \u001b[0m\n",
      "\u001b[2;36m           \u001b[0m               - valid_accuracy                                                                                                           \u001b[2m           \u001b[0m\n",
      "\u001b[2;36m           \u001b[0m           settings: \u001b[1m{\u001b[0m\u001b[1m}\u001b[0m                                                                                                                   \u001b[2m           \u001b[0m\n",
      "\u001b[2;36m           \u001b[0m           train:                                                                                                                         \u001b[2m           \u001b[0m\n",
      "\u001b[2;36m           \u001b[0m             function: train                                                                                                              \u001b[2m           \u001b[0m\n",
      "\u001b[2;36m           \u001b[0m             kwargs:                                                                                                                      \u001b[2m           \u001b[0m\n",
      "\u001b[2;36m           \u001b[0m               epochs: \u001b[1;36m1\u001b[0m                                                                                                                  \u001b[2m           \u001b[0m\n",
      "\u001b[2;36m           \u001b[0m               metrics:                                                                                                                   \u001b[2m           \u001b[0m\n",
      "\u001b[2;36m           \u001b[0m               - loss                                                                                                                     \u001b[2m           \u001b[0m\n",
      "\u001b[2;36m           \u001b[0m               - train_accuracy                                                                                                           \u001b[2m           \u001b[0m\n",
      "\u001b[2;36m           \u001b[0m                                                                                                                                          \u001b[2m           \u001b[0m\n",
      "No additional requirements for workspace defined. Skipping...\n",
      "\n",
      "New workspace directory structure:\n",
      "gandlf_example_workspace\n",
      "├── data\n",
      "├── src\n",
      "├── test_path_tiny.csv\n",
      "├── cert\n",
      "├── val_path_full.csv\n",
      "├── save\n",
      "├── train_path_full.csv\n",
      "├── .workspace\n",
      "├── plan\n",
      "│   ├── defaults\n",
      "│   ├── cols.yaml\n",
      "│   ├── plan.yaml\n",
      "│   └── data.yaml\n",
      "└── logs\n",
      "\n",
      "6 directories, 8 files\n",
      "\n",
      " ✔️ OK\n"
     ]
    }
   ],
   "source": [
    "# Create FL workspace from template\n",
    "!fx workspace create --prefix $FL_WORKSPACE_NAME --template \"gandalf_classification_test\" 2>&1"
   ]
  },
  {
   "cell_type": "code",
   "execution_count": 12,
   "metadata": {
    "colab": {
     "base_uri": "https://localhost:8080/"
    },
    "id": "gsroH-0Ar0BK",
    "outputId": "77979c25-0211-4451-aa1c-745e4bb0f387",
    "scrolled": false
   },
   "outputs": [
    {
     "name": "stdout",
     "output_type": "stream",
     "text": [
      "localhost\n",
      "[16:13:43] INFO     FL-Plan hash is 946b1657f911b0a65d783e1bdc692f55342398fc77f87b7573a9dd63517b3ddb6e51a96aa0d44b8172c48b05ee0bd8c1                 plan.py:237\n",
      "           INFO     Parsing Federated Learning Plan : SUCCESS :                                                                                      plan.py:144\n",
      "                    /home/karan/workspace/fl-tutorial/tutorial_notebooks/gandlf_example_workspace/plan/plan.yaml.                                               \n",
      "           INFO     aggregator:                                                                                                                      plan.py:148\n",
      "                      settings:                                                                                                                                 \n",
      "                        best_state_path: save/fets_seg_test_best.pbuf                                                                                           \n",
      "                        db_store_rounds: 2                                                                                                                      \n",
      "                        init_state_path: save/fets_seg_test_init.pbuf                                                                                           \n",
      "                        last_state_path: save/fets_seg_test_last.pbuf                                                                                           \n",
      "                        rounds_to_train: 2                                                                                                                      \n",
      "                        write_logs: true                                                                                                                        \n",
      "                      template: openfl.component.Aggregator                                                                                                     \n",
      "                    assigner:                                                                                                                                   \n",
      "                      settings:                                                                                                                                 \n",
      "                        task_groups:                                                                                                                            \n",
      "                        - name: train_and_validate                                                                                                              \n",
      "                          percentage: 1.0                                                                                                                       \n",
      "                          tasks:                                                                                                                                \n",
      "                          - aggregated_model_validation                                                                                                         \n",
      "                          - train                                                                                                                               \n",
      "                          - locally_tuned_model_validation                                                                                                      \n",
      "                      template: openfl.component.RandomGroupedAssigner                                                                                          \n",
      "                    collaborator:                                                                                                                               \n",
      "                      settings:                                                                                                                                 \n",
      "                        db_store_rounds: 1                                                                                                                      \n",
      "                        delta_updates: false                                                                                                                    \n",
      "                        opt_treatment: RESET                                                                                                                    \n",
      "                      template: openfl.component.Collaborator                                                                                                   \n",
      "                    compression_pipeline:                                                                                                                       \n",
      "                      settings: {}                                                                                                                              \n",
      "                      template: openfl.pipelines.NoCompressionPipeline                                                                                          \n",
      "                    data_loader:                                                                                                                                \n",
      "                      settings:                                                                                                                                 \n",
      "                        feature_shape:                                                                                                                          \n",
      "                        - 128                                                                                                                                   \n",
      "                        - 128                                                                                                                                   \n",
      "                      template: openfl.federated.data.loader_fets_challenge.FeTSChallengeDataLoaderWrapper                                                      \n",
      "                    network:                                                                                                                                    \n",
      "                      settings:                                                                                                                                 \n",
      "                        agg_addr: karansh1-MOBL1.gar.corp.intel.com                                                                                             \n",
      "                        agg_port: 57224                                                                                                                         \n",
      "                        cert_folder: cert                                                                                                                       \n",
      "                        client_reconnect_interval: 5                                                                                                            \n",
      "                        disable_client_auth: false                                                                                                              \n",
      "                        hash_salt: auto                                                                                                                         \n",
      "                        tls: true                                                                                                                               \n",
      "                      template: openfl.federation.Network                                                                                                       \n",
      "                    task_runner:                                                                                                                                \n",
      "                      settings:                                                                                                                                 \n",
      "                        device: cpu                                                                                                                             \n",
      "                        fets_config_dict:                                                                                                                       \n",
      "                          batch_size: 16                                                                                                                        \n",
      "                          clip_grad: null                                                                                                                       \n",
      "                          clip_mode: null                                                                                                                       \n",
      "                          data_augmentation: {}                                                                                                                 \n",
      "                          data_postprocessing: {}                                                                                                               \n",
      "                          data_preprocessing:                                                                                                                   \n",
      "                            resize:                                                                                                                             \n",
      "                            - 128                                                                                                                               \n",
      "                            - 128                                                                                                                               \n",
      "                          enable_padding: false                                                                                                                 \n",
      "                          grid_aggregator_overlap: crop                                                                                                         \n",
      "                          in_memory: false                                                                                                                      \n",
      "                          inference_mechanism:                                                                                                                  \n",
      "                            grid_aggregator_overlap: crop                                                                                                       \n",
      "                            patch_overlap: 0                                                                                                                    \n",
      "                          learning_rate: 0.001                                                                                                                  \n",
      "                          loss_function: cel                                                                                                                    \n",
      "                          medcam_enabled: false                                                                                                                 \n",
      "                          metrics:                                                                                                                              \n",
      "                            accuracy:                                                                                                                           \n",
      "                              average: weighted                                                                                                                 \n",
      "                              mdmc_average: samplewise                                                                                                          \n",
      "                              multi_class: true                                                                                                                 \n",
      "                              subset_accuracy: false                                                                                                            \n",
      "                              threshold: 0.5                                                                                                                    \n",
      "                            balanced_accuracy: None                                                                                                             \n",
      "                            classification_accuracy: None                                                                                                       \n",
      "                            f1:                                                                                                                                 \n",
      "                              average: weighted                                                                                                                 \n",
      "                              f1:                                                                                                                               \n",
      "                                average: weighted                                                                                                               \n",
      "                              mdmc_average: samplewise                                                                                                          \n",
      "                              multi_class: true                                                                                                                 \n",
      "                              threshold: 0.5                                                                                                                    \n",
      "                          modality: rad                                                                                                                         \n",
      "                          model:                                                                                                                                \n",
      "                            amp: false                                                                                                                          \n",
      "                            architecture: resnet18                                                                                                              \n",
      "                            base_filters: 32                                                                                                                    \n",
      "                            batch_norm: true                                                                                                                    \n",
      "                            class_list:                                                                                                                         \n",
      "                            - 0                                                                                                                                 \n",
      "                            - 1                                                                                                                                 \n",
      "                            - 2                                                                                                                                 \n",
      "                            - 3                                                                                                                                 \n",
      "                            - 4                                                                                                                                 \n",
      "                            - 5                                                                                                                                 \n",
      "                            - 6                                                                                                                                 \n",
      "                            - 7                                                                                                                                 \n",
      "                            - 8                                                                                                                                 \n",
      "                            dimension: 2                                                                                                                        \n",
      "                            final_layer: sigmoid                                                                                                                \n",
      "                            ignore_label_validation: None                                                                                                       \n",
      "                            n_channels: 3                                                                                                                       \n",
      "                            norm_type: batch                                                                                                                    \n",
      "                            num_channels: 3                                                                                                                     \n",
      "                            save_at_every_epoch: false                                                                                                          \n",
      "                            type: torch                                                                                                                         \n",
      "                          nested_training:                                                                                                                      \n",
      "                            testing: 1                                                                                                                          \n",
      "                            validation: -5                                                                                                                      \n",
      "                          num_epochs: 5                                                                                                                         \n",
      "                          opt: adam                                                                                                                             \n",
      "                          optimizer:                                                                                                                            \n",
      "                            type: adam                                                                                                                          \n",
      "                          output_dir: .                                                                                                                         \n",
      "                          parallel_compute_command: ''                                                                                                          \n",
      "                          patch_sampler: uniform                                                                                                                \n",
      "                          patch_size:                                                                                                                           \n",
      "                          - 128                                                                                                                                 \n",
      "                          - 128                                                                                                                                 \n",
      "                          - 1                                                                                                                                   \n",
      "                          patience: 5                                                                                                                           \n",
      "                          pin_memory_dataloader: false                                                                                                          \n",
      "                          print_rgb_label_warning: true                                                                                                         \n",
      "                          q_max_length: 5                                                                                                                       \n",
      "                          q_num_workers: 0                                                                                                                      \n",
      "                          q_samples_per_volume: 1                                                                                                               \n",
      "                          q_verbose: false                                                                                                                      \n",
      "                          save_masks: false                                                                                                                     \n",
      "                          save_output: false                                                                                                                    \n",
      "                          save_training: false                                                                                                                  \n",
      "                          scaling_factor: 1                                                                                                                     \n",
      "                          scheduler:                                                                                                                            \n",
      "                            step_size: 0.0002                                                                                                                   \n",
      "                            type: triangle                                                                                                                      \n",
      "                          track_memory_usage: false                                                                                                             \n",
      "                          verbose: false                                                                                                                        \n",
      "                          version:                                                                                                                              \n",
      "                            maximum: 0.0.14                                                                                                                     \n",
      "                            minimum: 0.0.14                                                                                                                     \n",
      "                          weighted_loss: true                                                                                                                   \n",
      "                        train_csv: train_path_full.csv                                                                                                          \n",
      "                        val_csv: val_path_full.csv                                                                                                              \n",
      "                      template: openfl.federated.task.runner_fets_challenge.FeTSChallengeTaskRunner                                                             \n",
      "                    tasks:                                                                                                                                      \n",
      "                      aggregated_model_validation:                                                                                                              \n",
      "                        function: validate                                                                                                                      \n",
      "                        kwargs:                                                                                                                                 \n",
      "                          apply: global                                                                                                                         \n",
      "                          metrics:                                                                                                                              \n",
      "                          - valid_loss                                                                                                                          \n",
      "                          - valid_accuracy                                                                                                                      \n",
      "                      locally_tuned_model_validation:                                                                                                           \n",
      "                        function: validate                                                                                                                      \n",
      "                        kwargs:                                                                                                                                 \n",
      "                          apply: local                                                                                                                          \n",
      "                          metrics:                                                                                                                              \n",
      "                          - valid_loss                                                                                                                          \n",
      "                          - valid_accuracy                                                                                                                      \n",
      "                      settings: {}                                                                                                                              \n",
      "                      train:                                                                                                                                    \n",
      "                        function: train                                                                                                                         \n",
      "                        kwargs:                                                                                                                                 \n",
      "                          epochs: 1                                                                                                                             \n",
      "                          metrics:                                                                                                                              \n",
      "                          - loss                                                                                                                                \n",
      "                          - train_accuracy                                                                                                                      \n",
      "                                                                                                                                                                \n",
      "{'one': '1'}\n",
      "           INFO     Building 🡆 Object FeTSChallengeDataLoaderWrapper from openfl.federated.data.loader_fets_challenge Module.                        plan.py:173\n",
      "           INFO     Building 🡆 Object FeTSChallengeTaskRunner from openfl.federated.task.runner_fets_challenge Module.                               plan.py:173\n",
      "Constructing queue for train data: 100%|████| 4000/4000 [00:48<00:00, 83.04it/s]\n",
      "Calculating weights\n",
      "Constructing queue for validation data: 100%|█| 1000/1000 [00:12<00:00, 80.97it/\n",
      "Since Device is CPU, Mixed Precision Training is set to False\n",
      "[16:14:45] INFO     Building 🡆 Object NoCompressionPipeline from openfl.pipelines Module.                                                            plan.py:173\n",
      "           WARNING  tried to remove tensor: __opt_state_needed not present in the tensor dict                                                       utils.py:170\n",
      "           WARNING  Following parameters omitted from global initial model, local initialization will determine values: []                            plan.py:93\n",
      "           INFO     Creating Initial Weights File    🠆 save/fets_seg_test_init.pbuf                                                                  plan.py:101\n",
      "           WARNING  Patching Aggregator Addr in Plan 🠆 localhost                                                                                     plan.py:111\n",
      "           INFO     FL-Plan hash is 4390748cae22cba42b7a5a3fb99a05d2c4b65b6d33831da9871ade52e3df9f6827adedbcfb05ab5c85241bded55dd607                 plan.py:237\n",
      "           INFO     ['plan_4390748c']                                                                                                                plan.py:122\n",
      "\n",
      " ✔️ OK\n",
      "Setting Up Certificate Authority...\n",
      "\n",
      "1.  Create Root CA\n",
      "1.1 Create Directories\n",
      "1.2 Create Database\n",
      "1.3 Create CA Request and Certificate\n",
      "2.  Create Signing Certificate\n",
      "2.1 Create Directories\n",
      "2.2 Create Database\n",
      "2.3 Create Signing Certificate CSR\n",
      "2.4 Sign Signing Certificate CSR\n",
      "3   Create Certificate Chain\n",
      "\n",
      "Done.\n",
      "\n",
      " ✔️ OK\n",
      "[16:14:55] INFO     FL-Plan hash is 4390748cae22cba42b7a5a3fb99a05d2c4b65b6d33831da9871ade52e3df9f6827adedbcfb05ab5c85241bded55dd607                 plan.py:237\n",
      "           INFO     plan.yaml frozen successfully                                                                                                     plan.py:64\n",
      "/home/karan/workspace/fl-tutorial/venv/lib/python3.8/site-packages/_distutils_hack/__init__.py:33: UserWarning: Setuptools is replacing distutils.\n",
      "  warnings.warn(\"Setuptools is replacing distutils.\")\n",
      "\n",
      " 🗜️ Preparing workspace distribution zip file\n",
      "\n",
      " ✔️ Workspace exported to archive: gandlf_example_workspace.zip\n",
      "\n",
      " ✔️ OK\n"
     ]
    }
   ],
   "source": [
    "# Certify and Export the workspace\n",
    "import socket\n",
    "FQDN = 'localhost'\n",
    "print(FQDN)\n",
    "!(cd $workspace_dir &&\\\n",
    "  sed -i \"/rounds_to_train/c\\    rounds_to_train: $ROUNDS_TO_TRAIN\" plan/plan.yaml &&\\\n",
    "  sed -i \"/batch_size/c\\      batch_size: $BATCH_SIZE\" plan/plan.yaml &&\\\n",
    "  sed -i \"/device/c\\    device: $DEVICE\" plan/plan.yaml &&\\\n",
    "  fx plan initialize -a $FQDN &&\\\n",
    "  fx workspace certify &&\\\n",
    "  fx workspace export) | tee 2>&1"
   ]
  },
  {
   "cell_type": "markdown",
   "metadata": {
    "id": "nt2kg7SijuI0"
   },
   "source": [
    "### 2.2 Simulating \"Silos\" of Data\n",
    "The core idea behind Federated Learning, is to enable training across data silos, without sharing the data itself.\n",
    "\n",
    "In this tutorial, we will \"simulate\" silos of data, by partitioning the training set into `N` parts, `N` is as many collaborators are to be simulated.\n",
    "\n",
    "In real world, this is called Non-IID partitioning. But for simplicity purposes, we will equally partition our data into `N` parts.\n",
    "\n",
    "Optionally, you could define your own partitioning scheme here.\n",
    "\n",
    "Note: We assume your data is shuffled before partitioning. If not, you'd be simulating Non-IID conditions!"
   ]
  },
  {
   "cell_type": "code",
   "execution_count": 13,
   "metadata": {
    "id": "GM-5lRVvjuI0"
   },
   "outputs": [],
   "source": [
    "# Partition the dataset amongst as many collaborators\n",
    "def data_split(data: np.ndarray, n: int):\n",
    "    \"\"\"Equally partition data into n parts\"\"\"\n",
    "    return np.array_split(data, n)"
   ]
  },
  {
   "cell_type": "code",
   "execution_count": 14,
   "metadata": {
    "colab": {
     "base_uri": "https://localhost:8080/"
    },
    "id": "OoWlWwMQjuI1",
    "outputId": "318234a2-1cb5-4e09-d8c8-4753f1f0fa63"
   },
   "outputs": [
    {
     "name": "stdout",
     "output_type": "stream",
     "text": [
      "Train/Test/Val CSV for `bob` written to /home/karan/workspace/fl-tutorial/tutorial_notebooks/bob/gandlf_example_workspace\n",
      "Train/Test/Val CSV for `charlie` written to /home/karan/workspace/fl-tutorial/tutorial_notebooks/charlie/gandlf_example_workspace\n"
     ]
    }
   ],
   "source": [
    "collaborators = ['bob', 'charlie']  # Lowercase names are required\n",
    "full_list_train = pd.read_csv(csv_files['train'])\n",
    "train_partitions = data_split(full_list_train.values, n=len(collaborators))\n",
    "full_list_val = pd.read_csv(csv_files['val'])\n",
    "val_partitions = data_split(full_list_val.values, n=len(collaborators))\n",
    "\n",
    "for i, col in enumerate(collaborators):\n",
    "    # If it exists, clean up and create new\n",
    "    col_path = os.path.abspath(os.path.join(col, FL_WORKSPACE_NAME))\n",
    "    if os.path.exists(col_path):\n",
    "        shutil.rmtree(col_path)\n",
    "    os.makedirs(col_path)\n",
    "\n",
    "    # Write train partition as a CSV\n",
    "    col_list = pd.DataFrame(data=train_partitions[i], columns=full_list_train.columns.values)\n",
    "    col_csv_path = os.path.join(col_path, 'train_path_full.csv')\n",
    "    col_list.to_csv(col_csv_path, index=False)\n",
    "\n",
    "    # Write val partition as a CSV\n",
    "    col_list = pd.DataFrame(data=val_partitions[i], columns=full_list_val.columns.values)\n",
    "    col_csv_path = os.path.join(col_path, 'val_path_full.csv')\n",
    "    col_list.to_csv(col_csv_path, index=False)\n",
    "\n",
    "    # Copy test/val partition as-is\n",
    "    shutil.copy2(csv_files['test'], col_path)\n",
    "    print(f'Train/Test/Val CSV for `{col}` written to {col_path}')"
   ]
  },
  {
   "cell_type": "markdown",
   "metadata": {
    "id": "OJx4LVVYTP63"
   },
   "source": [
    "### 2.3 Registering Aggregators and Collaborators\n",
    "\n",
    "This step involves generating certificates, registering them across one another, and preparing individual workspaces of the collaborators.\n",
    "\n",
    "If you were to do this in a real-world Federation, same steps would apply individually across different devices."
   ]
  },
  {
   "cell_type": "code",
   "execution_count": 15,
   "metadata": {
    "colab": {
     "base_uri": "https://localhost:8080/"
    },
    "id": "WD-A-H5gjuI1",
    "outputId": "7d47d716-481b-48d6-94b4-bc608787797e"
   },
   "outputs": [
    {
     "name": "stderr",
     "output_type": "stream",
     "text": [
      "\n",
      "     0K .........                                             100%  499K=0.02s\n",
      "     0K .........                                             100%  743K=0.01s"
     ]
    }
   ],
   "source": [
    "%%bash\n",
    "# Download config file for training/inference settings\n",
    "wget -q --show-progress -O config.yaml \"https://app.box.com/index.php?rm=box_download_shared_file&shared_name=hs0zwezggl4rxtzgrcaq86enu7qwuvqx&file_id=f_974251081617\"\n",
    "\n",
    "# This file will help plotting and visualizing our results\n",
    "wget -q --show-progress -O gandlf_collectStats_final \"https://app.box.com/index.php?rm=box_download_shared_file&shared_name=avq6pvqg3uzsc4uzbklab66mad6eaik5&file_id=f_989875069231\""
   ]
  },
  {
   "cell_type": "code",
   "execution_count": 16,
   "metadata": {
    "id": "nuvP9gR_juI1"
   },
   "outputs": [],
   "source": [
    "# Get the path to archives\n",
    "archive_path = os.path.join(workspace_dir, f'{FL_WORKSPACE_NAME}.zip')\n",
    "data_path = './medmnist/dataset/pathmnist'"
   ]
  },
  {
   "cell_type": "code",
   "execution_count": 17,
   "metadata": {
    "colab": {
     "base_uri": "https://localhost:8080/"
    },
    "id": "-VwPpln0juI2",
    "outputId": "451739d7-382f-44b7-f1f2-1f6232a18c35",
    "scrolled": false
   },
   "outputs": [
    {
     "name": "stdout",
     "output_type": "stream",
     "text": [
      "Collaborator:  bob\n",
      "Importing workspace\n",
      "Generating collaborator `bob` certificate\n",
      "Creating COLLABORATOR certificate key pair with following settings: CN=\u001b[31mbob\u001b[0m, SAN=\u001b[31mDNS:bob\u001b[0m\n",
      "  Moving COLLABORATOR certificate to: \u001b[32m/home/karan/workspace/fl-tutorial/tutorial_notebooks/bob/gandlf_example_workspace/cert/col_bob\u001b[0m\n",
      "Archive col_bob_to_agg_cert_request.zip with certificate signing request created\n",
      "This file should be sent to the certificate authority (typically hosted by the aggregator) for signing\n",
      "\n",
      " ✔️ OK\n",
      "The CSR Hash for file \u001b[32mcol_bob.csr\u001b[0m = \u001b[31mb261bef3683e85432c715c5e08fffe5dd6b379d594d607c1dce53071f83e03f24f6f1a4258691adb37b5b62219bf5512\u001b[0m\n",
      " Signing COLLABORATOR certificate\n",
      "\n",
      "Registering \u001b[32mbob\u001b[0m in \u001b[32m/home/karan/workspace/fl-tutorial/tutorial_notebooks/gandlf_example_workspace/plan/cols.yaml\u001b[0m\n",
      "\n",
      " ✔️ OK\n",
      "Collaborator:  charlie\n",
      "Importing workspace\n",
      "Generating collaborator `charlie` certificate\n",
      "Creating COLLABORATOR certificate key pair with following settings: CN=\u001b[31mcharlie\u001b[0m, SAN=\u001b[31mDNS:charlie\u001b[0m\n",
      "  Moving COLLABORATOR certificate to: \u001b[32m/home/karan/workspace/fl-tutorial/tutorial_notebooks/charlie/gandlf_example_workspace/cert/col_charlie\u001b[0m\n",
      "Archive col_charlie_to_agg_cert_request.zip with certificate signing request created\n",
      "This file should be sent to the certificate authority (typically hosted by the aggregator) for signing\n",
      "\n",
      " ✔️ OK\n",
      "The CSR Hash for file \u001b[32mcol_charlie.csr\u001b[0m = \u001b[31m2d1a41edc0b75d287c133863160e7e11f87dc39c6ec865be3a8b9afcf0ce0459fe0c0852b3f53f6c640ac9943b1cefa2\u001b[0m\n",
      " Signing COLLABORATOR certificate\n",
      "\n",
      "Registering \u001b[32mcharlie\u001b[0m in \u001b[32m/home/karan/workspace/fl-tutorial/tutorial_notebooks/gandlf_example_workspace/plan/cols.yaml\u001b[0m\n",
      "\n",
      " ✔️ OK\n"
     ]
    }
   ],
   "source": [
    "# Import workspace in each collaborator's path\n",
    "for col in collaborators:\n",
    "    col_path = os.path.abspath(col)\n",
    "    col_workspace_path = os.path.join(col_path, FL_WORKSPACE_NAME)\n",
    "    print('Collaborator: ', col)\n",
    "    print('Importing workspace')\n",
    "    !cd $col_path && fx workspace import --archive $archive_path >/dev/null\n",
    "    \n",
    "    print(f'Generating collaborator `{col}` certificate')\n",
    "    !cd $col_workspace_path && fx collaborator generate-cert-request -n $col -d $data_path --silent\n",
    "    col_cert_path = os.path.join(col_workspace_path, f'col_{col}_to_agg_cert_request.zip')\n",
    "    !cd $workspace_dir && fx collaborator certify --request-pkg $col_cert_path --silent\n",
    "  "
   ]
  },
  {
   "cell_type": "code",
   "execution_count": 18,
   "metadata": {
    "colab": {
     "base_uri": "https://localhost:8080/"
    },
    "id": "Xx0ksjsQjuI2",
    "outputId": "9c277024-5ca4-4308-b718-c8521bb656b9"
   },
   "outputs": [
    {
     "name": "stdout",
     "output_type": "stream",
     "text": [
      "Creating AGGREGATOR certificate key pair with following settings: CN=\u001b[31mlocalhost\u001b[0m, SAN=\u001b[31mDNS:localhost\u001b[0m\n",
      "  Writing AGGREGATOR certificate key pair to: \u001b[32m/home/karan/workspace/fl-tutorial/tutorial_notebooks/gandlf_example_workspace/cert/server\u001b[0m\n",
      "\n",
      " ✔️ OK\n",
      "The CSR Hash for file \u001b[32mserver/agg_localhost.csr\u001b[0m = \u001b[31me7ddaedde3f104ad4d5e41452ba966797ad580cc65a92f43f54d380a2c36244c7a07d0b78deba5372c6a6772d470aac5\u001b[0m\n",
      " Signing AGGREGATOR certificate\n",
      "\n",
      " ✔️ OK\n",
      "Certificate col_bob.crt installed to PKI directory\n",
      "\n",
      " ✔️ OK\n",
      "Certificate col_charlie.crt installed to PKI directory\n",
      "\n",
      " ✔️ OK\n"
     ]
    }
   ],
   "source": [
    "# Generate certificate and key-pairs for talking to the aggregator\n",
    "!cd $workspace_dir && fx aggregator generate-cert-request --fqdn $FQDN\n",
    "!cd $workspace_dir && fx aggregator certify --fqdn $FQDN --silent\n",
    "\n",
    "# Import these certificates to the collaborator (so that it can talk to the aggregator)\n",
    "for col in collaborators:\n",
    "    col_path = os.path.abspath(os.path.join(col, FL_WORKSPACE_NAME))\n",
    "    agg_cert_path = os.path.join(workspace_dir, f'agg_to_col_{col}_signed_cert.zip')\n",
    "    !cd $col_path && fx collaborator certify --import $agg_cert_path"
   ]
  },
  {
   "cell_type": "markdown",
   "metadata": {
    "id": "UTKAeAXDTjuv"
   },
   "source": [
    "### 2.4 Go!"
   ]
  },
  {
   "cell_type": "code",
   "execution_count": 19,
   "metadata": {
    "id": "gNx0daeHjuI2",
    "scrolled": false
   },
   "outputs": [
    {
     "data": {
      "text/plain": [
       "0"
      ]
     },
     "execution_count": 19,
     "metadata": {},
     "output_type": "execute_result"
    }
   ],
   "source": [
    "# Run collaborators\n",
    "for col in collaborators:\n",
    "  os.system(f'cd {col}/{FL_WORKSPACE_NAME} && fx collaborator start -n {col} > log.log 2>&1 &')\n",
    "\n",
    "# Run aggregator\n",
    "os.system(f'cd {FL_WORKSPACE_NAME} && fx aggregator start > log.log 2>&1 &')"
   ]
  },
  {
   "cell_type": "markdown",
   "metadata": {
    "id": "_DH1L7rUPx6y"
   },
   "source": [
    "### 2.5 Check progress\n",
    "\n",
    "And wind down after a while."
   ]
  },
  {
   "cell_type": "code",
   "execution_count": 20,
   "metadata": {
    "colab": {
     "base_uri": "https://localhost:8080/"
    },
    "id": "HfSJplaAdNUj",
    "outputId": "96f20064-779a-440e-a2af-695e2f6a461c",
    "scrolled": false
   },
   "outputs": [
    {
     "name": "stdout",
     "output_type": "stream",
     "text": [
      "[16:15:35] INFO     FL-Plan hash is 4390748cae22cba42b7a5a3fb99a05d2c4b65b6d33831da9871ade52e3df9f6827adedbcfb05ab5c85241bded55dd607                 plan.py:237\n",
      "           INFO     Parsing Federated Learning Plan : SUCCESS :                                                                                      plan.py:144\n",
      "                    /home/karan/workspace/fl-tutorial/tutorial_notebooks/gandlf_example_workspace/plan/plan.yaml.                                               \n",
      "           INFO     aggregator:                                                                                                                      plan.py:148\n",
      "                      settings:                                                                                                                                 \n",
      "                        best_state_path: save/fets_seg_test_best.pbuf                                                                                           \n",
      "                        db_store_rounds: 2                                                                                                                      \n",
      "                        init_state_path: save/fets_seg_test_init.pbuf                                                                                           \n",
      "                        last_state_path: save/fets_seg_test_last.pbuf                                                                                           \n",
      "                        rounds_to_train: 2                                                                                                                      \n",
      "                        write_logs: true                                                                                                                        \n",
      "                      template: openfl.component.Aggregator                                                                                                     \n",
      "                    assigner:                                                                                                                                   \n",
      "                      settings:                                                                                                                                 \n",
      "                        task_groups:                                                                                                                            \n",
      "                        - name: train_and_validate                                                                                                              \n",
      "                          percentage: 1.0                                                                                                                       \n",
      "                          tasks:                                                                                                                                \n",
      "                          - aggregated_model_validation                                                                                                         \n",
      "                          - train                                                                                                                               \n",
      "                          - locally_tuned_model_validation                                                                                                      \n",
      "                      template: openfl.component.RandomGroupedAssigner                                                                                          \n",
      "                    collaborator:                                                                                                                               \n",
      "                      settings:                                                                                                                                 \n",
      "                        db_store_rounds: 1                                                                                                                      \n",
      "                        delta_updates: false                                                                                                                    \n",
      "                        opt_treatment: RESET                                                                                                                    \n",
      "                      template: openfl.component.Collaborator                                                                                                   \n",
      "                    compression_pipeline:                                                                                                                       \n",
      "                      settings: {}                                                                                                                              \n",
      "                      template: openfl.pipelines.NoCompressionPipeline                                                                                          \n",
      "                    data_loader:                                                                                                                                \n",
      "                      settings:                                                                                                                                 \n",
      "                        feature_shape:                                                                                                                          \n",
      "                        - 128                                                                                                                                   \n",
      "                        - 128                                                                                                                                   \n",
      "                      template: openfl.federated.data.loader_fets_challenge.FeTSChallengeDataLoaderWrapper                                                      \n",
      "                    network:                                                                                                                                    \n",
      "                      settings:                                                                                                                                 \n",
      "                        agg_addr: localhost                                                                                                                     \n",
      "                        agg_port: 57224                                                                                                                         \n",
      "                        cert_folder: cert                                                                                                                       \n",
      "                        client_reconnect_interval: 5                                                                                                            \n",
      "                        disable_client_auth: false                                                                                                              \n",
      "                        hash_salt: auto                                                                                                                         \n",
      "                        tls: true                                                                                                                               \n",
      "                      template: openfl.federation.Network                                                                                                       \n",
      "                    task_runner:                                                                                                                                \n",
      "                      settings:                                                                                                                                 \n",
      "                        device: cpu                                                                                                                             \n",
      "                        fets_config_dict:                                                                                                                       \n",
      "                          batch_size: 16                                                                                                                        \n",
      "                          clip_grad: null                                                                                                                       \n",
      "                          clip_mode: null                                                                                                                       \n",
      "                          data_augmentation: {}                                                                                                                 \n",
      "                          data_postprocessing: {}                                                                                                               \n",
      "                          data_preprocessing:                                                                                                                   \n",
      "                            resize:                                                                                                                             \n",
      "                            - 128                                                                                                                               \n",
      "                            - 128                                                                                                                               \n",
      "                          enable_padding: false                                                                                                                 \n",
      "                          grid_aggregator_overlap: crop                                                                                                         \n",
      "                          in_memory: false                                                                                                                      \n",
      "                          inference_mechanism:                                                                                                                  \n",
      "                            grid_aggregator_overlap: crop                                                                                                       \n",
      "                            patch_overlap: 0                                                                                                                    \n",
      "                          learning_rate: 0.001                                                                                                                  \n",
      "                          loss_function: cel                                                                                                                    \n",
      "                          medcam_enabled: false                                                                                                                 \n",
      "                          metrics:                                                                                                                              \n",
      "                            accuracy:                                                                                                                           \n",
      "                              average: weighted                                                                                                                 \n",
      "                              mdmc_average: samplewise                                                                                                          \n",
      "                              multi_class: true                                                                                                                 \n",
      "                              subset_accuracy: false                                                                                                            \n",
      "                              threshold: 0.5                                                                                                                    \n",
      "                            balanced_accuracy: None                                                                                                             \n",
      "                            classification_accuracy: None                                                                                                       \n",
      "                            f1:                                                                                                                                 \n",
      "                              average: weighted                                                                                                                 \n",
      "                              f1:                                                                                                                               \n",
      "                                average: weighted                                                                                                               \n",
      "                              mdmc_average: samplewise                                                                                                          \n",
      "                              multi_class: true                                                                                                                 \n",
      "                              threshold: 0.5                                                                                                                    \n",
      "                          modality: rad                                                                                                                         \n",
      "                          model:                                                                                                                                \n",
      "                            amp: false                                                                                                                          \n",
      "                            architecture: resnet18                                                                                                              \n",
      "                            base_filters: 32                                                                                                                    \n",
      "                            batch_norm: true                                                                                                                    \n",
      "                            class_list:                                                                                                                         \n",
      "                            - 0                                                                                                                                 \n",
      "                            - 1                                                                                                                                 \n",
      "                            - 2                                                                                                                                 \n",
      "                            - 3                                                                                                                                 \n",
      "                            - 4                                                                                                                                 \n",
      "                            - 5                                                                                                                                 \n",
      "                            - 6                                                                                                                                 \n",
      "                            - 7                                                                                                                                 \n",
      "                            - 8                                                                                                                                 \n",
      "                            dimension: 2                                                                                                                        \n",
      "                            final_layer: sigmoid                                                                                                                \n",
      "                            ignore_label_validation: None                                                                                                       \n",
      "                            n_channels: 3                                                                                                                       \n",
      "                            norm_type: batch                                                                                                                    \n",
      "                            num_channels: 3                                                                                                                     \n",
      "                            save_at_every_epoch: false                                                                                                          \n",
      "                            type: torch                                                                                                                         \n",
      "                          nested_training:                                                                                                                      \n",
      "                            testing: 1                                                                                                                          \n",
      "                            validation: -5                                                                                                                      \n",
      "                          num_epochs: 5                                                                                                                         \n",
      "                          opt: adam                                                                                                                             \n",
      "                          optimizer:                                                                                                                            \n",
      "                            type: adam                                                                                                                          \n",
      "                          output_dir: .                                                                                                                         \n",
      "                          parallel_compute_command: ''                                                                                                          \n",
      "                          patch_sampler: uniform                                                                                                                \n",
      "                          patch_size:                                                                                                                           \n",
      "                          - 128                                                                                                                                 \n",
      "                          - 128                                                                                                                                 \n",
      "                          - 1                                                                                                                                   \n",
      "                          patience: 5                                                                                                                           \n",
      "                          pin_memory_dataloader: false                                                                                                          \n",
      "                          print_rgb_label_warning: true                                                                                                         \n",
      "                          q_max_length: 5                                                                                                                       \n",
      "                          q_num_workers: 0                                                                                                                      \n",
      "                          q_samples_per_volume: 1                                                                                                               \n",
      "                          q_verbose: false                                                                                                                      \n",
      "                          save_masks: false                                                                                                                     \n",
      "                          save_output: false                                                                                                                    \n",
      "                          save_training: false                                                                                                                  \n",
      "                          scaling_factor: 1                                                                                                                     \n",
      "                          scheduler:                                                                                                                            \n",
      "                            step_size: 0.0002                                                                                                                   \n",
      "                            type: triangle                                                                                                                      \n",
      "                          track_memory_usage: false                                                                                                             \n",
      "                          verbose: false                                                                                                                        \n",
      "                          version:                                                                                                                              \n",
      "                            maximum: 0.0.14                                                                                                                     \n",
      "                            minimum: 0.0.14                                                                                                                     \n",
      "                          weighted_loss: true                                                                                                                   \n",
      "                        train_csv: train_path_full.csv                                                                                                          \n",
      "                        val_csv: val_path_full.csv                                                                                                              \n",
      "                      template: openfl.federated.task.runner_fets_challenge.FeTSChallengeTaskRunner                                                             \n",
      "                    tasks:                                                                                                                                      \n",
      "                      aggregated_model_validation:                                                                                                              \n",
      "                        function: validate                                                                                                                      \n",
      "                        kwargs:                                                                                                                                 \n",
      "                          apply: global                                                                                                                         \n",
      "                          metrics:                                                                                                                              \n",
      "                          - valid_loss                                                                                                                          \n",
      "                          - valid_accuracy                                                                                                                      \n",
      "                      locally_tuned_model_validation:                                                                                                           \n",
      "                        function: validate                                                                                                                      \n",
      "                        kwargs:                                                                                                                                 \n",
      "                          apply: local                                                                                                                          \n",
      "                          metrics:                                                                                                                              \n",
      "                          - valid_loss                                                                                                                          \n",
      "                          - valid_accuracy                                                                                                                      \n",
      "                      settings: {}                                                                                                                              \n",
      "                      train:                                                                                                                                    \n",
      "                        function: train                                                                                                                         \n",
      "                        kwargs:                                                                                                                                 \n",
      "                          epochs: 1                                                                                                                             \n",
      "                          metrics:                                                                                                                              \n",
      "                          - loss                                                                                                                                \n",
      "                          - train_accuracy                                                                                                                      \n",
      "                                                                                                                                                                \n",
      "           INFO     🧿 Starting the Aggregator Service.                                                                                         aggregator.py:55\n",
      "           INFO     Building 🡆 Object RandomGroupedAssigner from openfl.component Module.                                                            plan.py:173\n",
      "           INFO     Building 🡆 Object NoCompressionPipeline from openfl.pipelines Module.                                                            plan.py:173\n",
      "           INFO     Building 🡆 Object CutoffTimeBasedStragglerHandling from openfl.component.straggler_handling_functions Module.                    plan.py:173\n",
      "           INFO     Building 🡆 Object Aggregator from openfl.component Module.                                                                       plan.py:173\n",
      "[16:15:36] INFO     Starting Aggregator gRPC Server                                                                                     aggregator_server.py:269\n",
      "[16:16:05] INFO     Sending tasks to collaborator charlie for round 0                                                                          aggregator.py:325\n",
      "           INFO     Sending tasks to collaborator bob for round 0                                                                              aggregator.py:325\n",
      "[16:16:49] INFO     Collaborator charlie is sending task results for aggregated_model_validation, round 0                                      aggregator.py:515\n",
      "           METRIC   Round 0, collaborator validate_agg aggregated_model_validation result valid_loss:       2.247303                           aggregator.py:554\n",
      "           METRIC   Round 0, collaborator validate_agg aggregated_model_validation result valid_accuracy:   0.013111                           aggregator.py:554\n",
      "           METRIC   Round 0, collaborator validate_agg aggregated_model_validation result valid_balanced_accuracy:  0.118000                   aggregator.py:554\n",
      "           METRIC   Round 0, collaborator validate_agg aggregated_model_validation result valid_classification_accuracy:    0.118000           aggregator.py:554\n",
      "           METRIC   Round 0, collaborator validate_agg aggregated_model_validation result valid_f1: 0.013111                                   aggregator.py:554\n",
      "           INFO     Collaborator bob is sending task results for aggregated_model_validation, round 0                                          aggregator.py:515\n",
      "           METRIC   Round 0, collaborator validate_agg aggregated_model_validation result valid_loss:       2.248920                           aggregator.py:554\n",
      "           METRIC   Round 0, collaborator validate_agg aggregated_model_validation result valid_accuracy:   0.012889                           aggregator.py:554\n",
      "           METRIC   Round 0, collaborator validate_agg aggregated_model_validation result valid_balanced_accuracy:  0.116000                   aggregator.py:554\n",
      "           METRIC   Round 0, collaborator validate_agg aggregated_model_validation result valid_classification_accuracy:    0.116000           aggregator.py:554\n",
      "           METRIC   Round 0, collaborator validate_agg aggregated_model_validation result valid_f1: 0.012889                                   aggregator.py:554\n",
      "[16:20:06] INFO     Collaborator charlie is sending task results for train, round 0                                                            aggregator.py:515\n",
      "[16:20:07] METRIC   Round 0, collaborator metric train result loss: 1.898706                                                                   aggregator.py:554\n",
      "           METRIC   Round 0, collaborator metric train result train_accuracy:       0.035278                                                   aggregator.py:554\n",
      "           METRIC   Round 0, collaborator metric train result train_balanced_accuracy:      0.353028                                           aggregator.py:554\n",
      "           METRIC   Round 0, collaborator metric train result train_classification_accuracy:        0.317500                                   aggregator.py:554\n",
      "           METRIC   Round 0, collaborator metric train result train_f1:     0.030890                                                           aggregator.py:554\n",
      "[16:20:31] INFO     Collaborator charlie is sending task results for locally_tuned_model_validation, round 0                                   aggregator.py:515\n",
      "           METRIC   Round 0, collaborator validate_local locally_tuned_model_validation result valid_loss:  1.956371                           aggregator.py:554\n",
      "           METRIC   Round 0, collaborator validate_local locally_tuned_model_validation result valid_accuracy:      0.029556                   aggregator.py:554\n",
      "           METRIC   Round 0, collaborator validate_local locally_tuned_model_validation result valid_balanced_accuracy:     0.266000           aggregator.py:554\n",
      "           METRIC   Round 0, collaborator validate_local locally_tuned_model_validation result valid_classification_accuracy:       0.266000   aggregator.py:554\n",
      "           METRIC   Round 0, collaborator validate_local locally_tuned_model_validation result valid_f1:    0.029556                           aggregator.py:554\n",
      "^C\n"
     ]
    }
   ],
   "source": [
    "# Stream aggregator logs\n",
    "!tail -f $FL_WORKSPACE_NAME/log.log"
   ]
  },
  {
   "cell_type": "code",
   "execution_count": null,
   "metadata": {
    "colab": {
     "base_uri": "https://localhost:8080/",
     "height": 363
    },
    "id": "QHJVkEbjPx6y",
    "outputId": "263d9c97-1675-4c7b-b738-6aee56020f11"
   },
   "outputs": [],
   "source": [
    "%%bash\n",
    "# Optional, kill all fx commands\n",
    "ps -ax | grep fx\n",
    "pkill fx"
   ]
  },
  {
   "cell_type": "markdown",
   "metadata": {
    "id": "nFZo678138FJ"
   },
   "source": [
    "## Summary\n",
    "\n",
    "We looked at GaNDLF, that internally takes care of model definition, training and validation loops; while OpenFL enables the infrastructure to aggregate models across participants."
   ]
  }
 ],
 "metadata": {
  "accelerator": "GPU",
  "colab": {
   "collapsed_sections": [],
   "provenance": []
  },
  "gpuClass": "standard",
  "kernelspec": {
   "display_name": "Python 3.8.0 ('venv': venv)",
   "language": "python",
   "name": "python3"
  },
  "language_info": {
   "codemirror_mode": {
    "name": "ipython",
    "version": 3
   },
   "file_extension": ".py",
   "mimetype": "text/x-python",
   "name": "python",
   "nbconvert_exporter": "python",
   "pygments_lexer": "ipython3",
   "version": "3.8.0"
  },
  "vscode": {
   "interpreter": {
    "hash": "f43db3e1b37af6d897db69efad3b1c690ae8b3c11b26caaa91054cfebd4932bb"
   }
  }
 },
 "nbformat": 4,
 "nbformat_minor": 1
}
