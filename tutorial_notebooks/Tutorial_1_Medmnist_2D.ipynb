{
 "cells": [
  {
   "cell_type": "markdown",
   "id": "ee73e205-d273-4b6c-878a-5ea958bfe267",
   "metadata": {
    "id": "ee73e205-d273-4b6c-878a-5ea958bfe267"
   },
   "source": [
    "# Federated Learning with BloodMNIST2D Dataset\n",
    "[![Open In Colab](https://colab.research.google.com/assets/colab-badge.svg)](https://colab.research.google.com/github/intel/fl-tutorial/blob/gh-pages/tutorial_notebooks/Tutorial_1_Medmnist_2D.ipynb)\n",
    "### Note: If running the notebook on google colab, please make sure to use python version 3.8, OpenFL works with this version only."
   ]
  },
  {
   "cell_type": "markdown",
   "id": "27eb846d",
   "metadata": {},
   "source": [
    "\n",
    "### Dependencies and Packages\n",
    "Let's get these out of the way first."
   ]
  },
  {
   "cell_type": "code",
   "execution_count": 1,
   "id": "c6fafe9e",
   "metadata": {
    "colab": {
     "base_uri": "https://localhost:8080/"
    },
    "id": "c6fafe9e",
    "outputId": "201e93a4-6ba8-4394-e1ec-369f318fe64d",
    "scrolled": false
   },
   "outputs": [
    {
     "name": "stdout",
     "output_type": "stream",
     "text": [
      "Requirement already satisfied: pip in /home/karan/workspace/fl-tutorial/venv/lib/python3.8/site-packages (22.2.2)\n",
      "Requirement already satisfied: tqdm in /home/karan/workspace/fl-tutorial/venv/lib/python3.8/site-packages (4.64.1)\n",
      "Requirement already satisfied: torch in /home/karan/workspace/fl-tutorial/venv/lib/python3.8/site-packages (1.8.2+cu111)\n",
      "Requirement already satisfied: torchvision in /home/karan/workspace/fl-tutorial/venv/lib/python3.8/site-packages (0.9.2+cu111)\n",
      "Requirement already satisfied: medmnist in /home/karan/workspace/fl-tutorial/venv/lib/python3.8/site-packages (2.1.0)\n",
      "Requirement already satisfied: matplotlib in /home/karan/workspace/fl-tutorial/venv/lib/python3.8/site-packages (3.6.0)\n",
      "Requirement already satisfied: numpy in /home/karan/workspace/fl-tutorial/venv/lib/python3.8/site-packages (from torch) (1.23.3)\n",
      "Requirement already satisfied: typing-extensions in /home/karan/workspace/fl-tutorial/venv/lib/python3.8/site-packages (from torch) (4.3.0)\n",
      "Requirement already satisfied: pillow>=4.1.1 in /home/karan/workspace/fl-tutorial/venv/lib/python3.8/site-packages (from torchvision) (9.2.0)\n",
      "Requirement already satisfied: fire in /home/karan/workspace/fl-tutorial/venv/lib/python3.8/site-packages (from medmnist) (0.4.0)\n",
      "Requirement already satisfied: scikit-image in /home/karan/workspace/fl-tutorial/venv/lib/python3.8/site-packages (from medmnist) (0.19.3)\n",
      "Requirement already satisfied: pandas in /home/karan/workspace/fl-tutorial/venv/lib/python3.8/site-packages (from medmnist) (1.4.4)\n",
      "Requirement already satisfied: scikit-learn in /home/karan/workspace/fl-tutorial/venv/lib/python3.8/site-packages (from medmnist) (1.1.2)\n",
      "Requirement already satisfied: packaging>=20.0 in /home/karan/workspace/fl-tutorial/venv/lib/python3.8/site-packages (from matplotlib) (21.3)\n",
      "Requirement already satisfied: kiwisolver>=1.0.1 in /home/karan/workspace/fl-tutorial/venv/lib/python3.8/site-packages (from matplotlib) (1.4.4)\n",
      "Requirement already satisfied: fonttools>=4.22.0 in /home/karan/workspace/fl-tutorial/venv/lib/python3.8/site-packages (from matplotlib) (4.37.2)\n",
      "Requirement already satisfied: contourpy>=1.0.1 in /home/karan/workspace/fl-tutorial/venv/lib/python3.8/site-packages (from matplotlib) (1.0.5)\n",
      "Requirement already satisfied: pyparsing>=2.2.1 in /home/karan/workspace/fl-tutorial/venv/lib/python3.8/site-packages (from matplotlib) (3.0.9)\n",
      "Requirement already satisfied: python-dateutil>=2.7 in /home/karan/workspace/fl-tutorial/venv/lib/python3.8/site-packages (from matplotlib) (2.8.2)\n",
      "Requirement already satisfied: cycler>=0.10 in /home/karan/workspace/fl-tutorial/venv/lib/python3.8/site-packages (from matplotlib) (0.11.0)\n",
      "Requirement already satisfied: six>=1.5 in /home/karan/workspace/fl-tutorial/venv/lib/python3.8/site-packages (from python-dateutil>=2.7->matplotlib) (1.16.0)\n",
      "Requirement already satisfied: termcolor in /home/karan/workspace/fl-tutorial/venv/lib/python3.8/site-packages (from fire->medmnist) (2.0.1)\n",
      "Requirement already satisfied: pytz>=2020.1 in /home/karan/workspace/fl-tutorial/venv/lib/python3.8/site-packages (from pandas->medmnist) (2022.2.1)\n",
      "Requirement already satisfied: scipy>=1.4.1 in /home/karan/workspace/fl-tutorial/venv/lib/python3.8/site-packages (from scikit-image->medmnist) (1.9.1)\n",
      "Requirement already satisfied: imageio>=2.4.1 in /home/karan/workspace/fl-tutorial/venv/lib/python3.8/site-packages (from scikit-image->medmnist) (2.21.3)\n",
      "Requirement already satisfied: PyWavelets>=1.1.1 in /home/karan/workspace/fl-tutorial/venv/lib/python3.8/site-packages (from scikit-image->medmnist) (1.4.0)\n",
      "Requirement already satisfied: networkx>=2.2 in /home/karan/workspace/fl-tutorial/venv/lib/python3.8/site-packages (from scikit-image->medmnist) (2.8.6)\n",
      "Requirement already satisfied: tifffile>=2019.7.26 in /home/karan/workspace/fl-tutorial/venv/lib/python3.8/site-packages (from scikit-image->medmnist) (2022.8.12)\n",
      "Requirement already satisfied: joblib>=1.0.0 in /home/karan/workspace/fl-tutorial/venv/lib/python3.8/site-packages (from scikit-learn->medmnist) (1.2.0)\n",
      "Requirement already satisfied: threadpoolctl>=2.0.0 in /home/karan/workspace/fl-tutorial/venv/lib/python3.8/site-packages (from scikit-learn->medmnist) (3.1.0)\n"
     ]
    }
   ],
   "source": [
    "!python -m pip install -U pip\n",
    "!python -m pip install tqdm torch torchvision medmnist matplotlib\n",
    "!pip install ipywidgets"
   ]
  },
  {
   "cell_type": "code",
   "execution_count": 2,
   "id": "4289d65b",
   "metadata": {
    "colab": {
     "base_uri": "https://localhost:8080/"
    },
    "id": "4289d65b",
    "outputId": "b14e5a07-1be5-46b2-aafd-9901683f19d7"
   },
   "outputs": [
    {
     "name": "stdout",
     "output_type": "stream",
     "text": [
      "Cloning into 'openfl'...\n",
      "remote: Enumerating objects: 5025, done.\u001b[K\n",
      "remote: Counting objects: 100% (434/434), done.\u001b[K\n",
      "remote: Compressing objects: 100% (328/328), done.\u001b[K\n",
      "remote: Total 5025 (delta 204), reused 272 (delta 90), pack-reused 4591\u001b[K\n",
      "Receiving objects: 100% (5025/5025), 118.37 MiB | 2.50 MiB/s, done.\n",
      "Resolving deltas: 100% (2887/2887), done.\n",
      "Processing /home/karan/workspace/fl-tutorial/tutorial_notebooks/openfl\n",
      "  Preparing metadata (setup.py) ... \u001b[?25ldone\n",
      "\u001b[?25hRequirement already satisfied: Click==8.0.1 in /home/karan/workspace/fl-tutorial/venv/lib/python3.8/site-packages (from openfl==1.4) (8.0.1)\n",
      "Requirement already satisfied: PyYAML>=5.4.1 in /home/karan/workspace/fl-tutorial/venv/lib/python3.8/site-packages (from openfl==1.4) (6.0)\n",
      "Requirement already satisfied: cloudpickle in /home/karan/workspace/fl-tutorial/venv/lib/python3.8/site-packages (from openfl==1.4) (2.2.0)\n",
      "Requirement already satisfied: cryptography>=3.4.6 in /home/karan/workspace/fl-tutorial/venv/lib/python3.8/site-packages (from openfl==1.4) (38.0.1)\n",
      "Requirement already satisfied: docker in /home/karan/workspace/fl-tutorial/venv/lib/python3.8/site-packages (from openfl==1.4) (6.0.0)\n",
      "Requirement already satisfied: dynaconf==3.1.7 in /home/karan/workspace/fl-tutorial/venv/lib/python3.8/site-packages (from openfl==1.4) (3.1.7)\n",
      "Requirement already satisfied: flatten_json in /home/karan/workspace/fl-tutorial/venv/lib/python3.8/site-packages (from openfl==1.4) (0.1.13)\n",
      "Requirement already satisfied: grpcio~=1.34.0 in /home/karan/workspace/fl-tutorial/venv/lib/python3.8/site-packages (from openfl==1.4) (1.34.1)\n",
      "Requirement already satisfied: ipykernel in /home/karan/workspace/fl-tutorial/venv/lib/python3.8/site-packages (from openfl==1.4) (6.15.3)\n",
      "Requirement already satisfied: jupyterlab in /home/karan/workspace/fl-tutorial/venv/lib/python3.8/site-packages (from openfl==1.4) (3.4.7)\n",
      "Requirement already satisfied: numpy in /home/karan/workspace/fl-tutorial/venv/lib/python3.8/site-packages (from openfl==1.4) (1.23.3)\n",
      "Requirement already satisfied: pandas in /home/karan/workspace/fl-tutorial/venv/lib/python3.8/site-packages (from openfl==1.4) (1.4.4)\n",
      "Requirement already satisfied: protobuf==3.19.4 in /home/karan/workspace/fl-tutorial/venv/lib/python3.8/site-packages (from openfl==1.4) (3.19.4)\n",
      "Requirement already satisfied: requests in /home/karan/workspace/fl-tutorial/venv/lib/python3.8/site-packages (from openfl==1.4) (2.28.1)\n",
      "Requirement already satisfied: rich in /home/karan/workspace/fl-tutorial/venv/lib/python3.8/site-packages (from openfl==1.4) (12.5.1)\n",
      "Requirement already satisfied: scikit-learn in /home/karan/workspace/fl-tutorial/venv/lib/python3.8/site-packages (from openfl==1.4) (1.1.2)\n",
      "Requirement already satisfied: tensorboard in /home/karan/workspace/fl-tutorial/venv/lib/python3.8/site-packages (from openfl==1.4) (2.10.0)\n",
      "Requirement already satisfied: tensorboardX in /home/karan/workspace/fl-tutorial/venv/lib/python3.8/site-packages (from openfl==1.4) (2.5.1)\n",
      "Requirement already satisfied: tqdm in /home/karan/workspace/fl-tutorial/venv/lib/python3.8/site-packages (from openfl==1.4) (4.64.1)\n",
      "Requirement already satisfied: cffi>=1.12 in /home/karan/workspace/fl-tutorial/venv/lib/python3.8/site-packages (from cryptography>=3.4.6->openfl==1.4) (1.15.1)\n",
      "Requirement already satisfied: six>=1.5.2 in /home/karan/workspace/fl-tutorial/venv/lib/python3.8/site-packages (from grpcio~=1.34.0->openfl==1.4) (1.16.0)\n",
      "Requirement already satisfied: urllib3>=1.26.0 in /home/karan/workspace/fl-tutorial/venv/lib/python3.8/site-packages (from docker->openfl==1.4) (1.26.12)\n",
      "Requirement already satisfied: websocket-client>=0.32.0 in /home/karan/workspace/fl-tutorial/venv/lib/python3.8/site-packages (from docker->openfl==1.4) (1.4.1)\n",
      "Requirement already satisfied: packaging>=14.0 in /home/karan/workspace/fl-tutorial/venv/lib/python3.8/site-packages (from docker->openfl==1.4) (21.3)\n",
      "Requirement already satisfied: charset-normalizer<3,>=2 in /home/karan/workspace/fl-tutorial/venv/lib/python3.8/site-packages (from requests->openfl==1.4) (2.1.1)\n",
      "Requirement already satisfied: certifi>=2017.4.17 in /home/karan/workspace/fl-tutorial/venv/lib/python3.8/site-packages (from requests->openfl==1.4) (2022.9.14)\n",
      "Requirement already satisfied: idna<4,>=2.5 in /home/karan/workspace/fl-tutorial/venv/lib/python3.8/site-packages (from requests->openfl==1.4) (3.4)\n",
      "Requirement already satisfied: debugpy>=1.0 in /home/karan/workspace/fl-tutorial/venv/lib/python3.8/site-packages (from ipykernel->openfl==1.4) (1.6.3)\n",
      "Requirement already satisfied: pyzmq>=17 in /home/karan/workspace/fl-tutorial/venv/lib/python3.8/site-packages (from ipykernel->openfl==1.4) (24.0.0)\n",
      "Requirement already satisfied: traitlets>=5.1.0 in /home/karan/workspace/fl-tutorial/venv/lib/python3.8/site-packages (from ipykernel->openfl==1.4) (5.4.0)\n",
      "Requirement already satisfied: nest-asyncio in /home/karan/workspace/fl-tutorial/venv/lib/python3.8/site-packages (from ipykernel->openfl==1.4) (1.5.5)\n",
      "Requirement already satisfied: ipython>=7.23.1 in /home/karan/workspace/fl-tutorial/venv/lib/python3.8/site-packages (from ipykernel->openfl==1.4) (8.5.0)\n",
      "Requirement already satisfied: tornado>=6.1 in /home/karan/workspace/fl-tutorial/venv/lib/python3.8/site-packages (from ipykernel->openfl==1.4) (6.2)\n",
      "Requirement already satisfied: jupyter-client>=6.1.12 in /home/karan/workspace/fl-tutorial/venv/lib/python3.8/site-packages (from ipykernel->openfl==1.4) (7.3.5)\n",
      "Requirement already satisfied: matplotlib-inline>=0.1 in /home/karan/workspace/fl-tutorial/venv/lib/python3.8/site-packages (from ipykernel->openfl==1.4) (0.1.6)\n",
      "Requirement already satisfied: psutil in /home/karan/workspace/fl-tutorial/venv/lib/python3.8/site-packages (from ipykernel->openfl==1.4) (5.9.2)\n",
      "Requirement already satisfied: jinja2>=2.1 in /home/karan/workspace/fl-tutorial/venv/lib/python3.8/site-packages (from jupyterlab->openfl==1.4) (3.1.2)\n",
      "Requirement already satisfied: jupyter-server~=1.16 in /home/karan/workspace/fl-tutorial/venv/lib/python3.8/site-packages (from jupyterlab->openfl==1.4) (1.18.1)\n",
      "Requirement already satisfied: jupyterlab-server~=2.10 in /home/karan/workspace/fl-tutorial/venv/lib/python3.8/site-packages (from jupyterlab->openfl==1.4) (2.15.1)\n",
      "Requirement already satisfied: nbclassic in /home/karan/workspace/fl-tutorial/venv/lib/python3.8/site-packages (from jupyterlab->openfl==1.4) (0.4.3)\n",
      "Requirement already satisfied: jupyter-core in /home/karan/workspace/fl-tutorial/venv/lib/python3.8/site-packages (from jupyterlab->openfl==1.4) (4.11.1)\n",
      "Requirement already satisfied: tomli in /home/karan/workspace/fl-tutorial/venv/lib/python3.8/site-packages (from jupyterlab->openfl==1.4) (2.0.1)\n",
      "Requirement already satisfied: notebook<7 in /home/karan/workspace/fl-tutorial/venv/lib/python3.8/site-packages (from jupyterlab->openfl==1.4) (6.4.12)\n",
      "Requirement already satisfied: python-dateutil>=2.8.1 in /home/karan/workspace/fl-tutorial/venv/lib/python3.8/site-packages (from pandas->openfl==1.4) (2.8.2)\n",
      "Requirement already satisfied: pytz>=2020.1 in /home/karan/workspace/fl-tutorial/venv/lib/python3.8/site-packages (from pandas->openfl==1.4) (2022.2.1)\n",
      "Requirement already satisfied: commonmark<0.10.0,>=0.9.0 in /home/karan/workspace/fl-tutorial/venv/lib/python3.8/site-packages (from rich->openfl==1.4) (0.9.1)\n",
      "Requirement already satisfied: pygments<3.0.0,>=2.6.0 in /home/karan/workspace/fl-tutorial/venv/lib/python3.8/site-packages (from rich->openfl==1.4) (2.13.0)\n",
      "Requirement already satisfied: typing-extensions<5.0,>=4.0.0 in /home/karan/workspace/fl-tutorial/venv/lib/python3.8/site-packages (from rich->openfl==1.4) (4.3.0)\n",
      "Requirement already satisfied: threadpoolctl>=2.0.0 in /home/karan/workspace/fl-tutorial/venv/lib/python3.8/site-packages (from scikit-learn->openfl==1.4) (3.1.0)\n",
      "Requirement already satisfied: joblib>=1.0.0 in /home/karan/workspace/fl-tutorial/venv/lib/python3.8/site-packages (from scikit-learn->openfl==1.4) (1.2.0)\n",
      "Requirement already satisfied: scipy>=1.3.2 in /home/karan/workspace/fl-tutorial/venv/lib/python3.8/site-packages (from scikit-learn->openfl==1.4) (1.9.1)\n",
      "Requirement already satisfied: tensorboard-data-server<0.7.0,>=0.6.0 in /home/karan/workspace/fl-tutorial/venv/lib/python3.8/site-packages (from tensorboard->openfl==1.4) (0.6.1)\n",
      "Requirement already satisfied: absl-py>=0.4 in /home/karan/workspace/fl-tutorial/venv/lib/python3.8/site-packages (from tensorboard->openfl==1.4) (1.2.0)\n",
      "Requirement already satisfied: tensorboard-plugin-wit>=1.6.0 in /home/karan/workspace/fl-tutorial/venv/lib/python3.8/site-packages (from tensorboard->openfl==1.4) (1.8.1)\n",
      "Requirement already satisfied: setuptools>=41.0.0 in /home/karan/workspace/fl-tutorial/venv/lib/python3.8/site-packages (from tensorboard->openfl==1.4) (65.3.0)\n",
      "Requirement already satisfied: google-auth-oauthlib<0.5,>=0.4.1 in /home/karan/workspace/fl-tutorial/venv/lib/python3.8/site-packages (from tensorboard->openfl==1.4) (0.4.6)\n",
      "Requirement already satisfied: werkzeug>=1.0.1 in /home/karan/workspace/fl-tutorial/venv/lib/python3.8/site-packages (from tensorboard->openfl==1.4) (2.2.2)\n",
      "Requirement already satisfied: markdown>=2.6.8 in /home/karan/workspace/fl-tutorial/venv/lib/python3.8/site-packages (from tensorboard->openfl==1.4) (3.4.1)\n",
      "Requirement already satisfied: wheel>=0.26 in /home/karan/workspace/fl-tutorial/venv/lib/python3.8/site-packages (from tensorboard->openfl==1.4) (0.37.1)\n",
      "Requirement already satisfied: google-auth<3,>=1.6.3 in /home/karan/workspace/fl-tutorial/venv/lib/python3.8/site-packages (from tensorboard->openfl==1.4) (2.11.0)\n",
      "Requirement already satisfied: pycparser in /home/karan/workspace/fl-tutorial/venv/lib/python3.8/site-packages (from cffi>=1.12->cryptography>=3.4.6->openfl==1.4) (2.21)\n",
      "Requirement already satisfied: rsa<5,>=3.1.4 in /home/karan/workspace/fl-tutorial/venv/lib/python3.8/site-packages (from google-auth<3,>=1.6.3->tensorboard->openfl==1.4) (4.9)\n",
      "Requirement already satisfied: cachetools<6.0,>=2.0.0 in /home/karan/workspace/fl-tutorial/venv/lib/python3.8/site-packages (from google-auth<3,>=1.6.3->tensorboard->openfl==1.4) (5.2.0)\n",
      "Requirement already satisfied: pyasn1-modules>=0.2.1 in /home/karan/workspace/fl-tutorial/venv/lib/python3.8/site-packages (from google-auth<3,>=1.6.3->tensorboard->openfl==1.4) (0.2.8)\n",
      "Requirement already satisfied: requests-oauthlib>=0.7.0 in /home/karan/workspace/fl-tutorial/venv/lib/python3.8/site-packages (from google-auth-oauthlib<0.5,>=0.4.1->tensorboard->openfl==1.4) (1.3.1)\n",
      "Requirement already satisfied: decorator in /home/karan/workspace/fl-tutorial/venv/lib/python3.8/site-packages (from ipython>=7.23.1->ipykernel->openfl==1.4) (5.1.1)\n",
      "Requirement already satisfied: prompt-toolkit<3.1.0,>3.0.1 in /home/karan/workspace/fl-tutorial/venv/lib/python3.8/site-packages (from ipython>=7.23.1->ipykernel->openfl==1.4) (3.0.31)\n",
      "Requirement already satisfied: backcall in /home/karan/workspace/fl-tutorial/venv/lib/python3.8/site-packages (from ipython>=7.23.1->ipykernel->openfl==1.4) (0.2.0)\n",
      "Requirement already satisfied: pexpect>4.3 in /home/karan/workspace/fl-tutorial/venv/lib/python3.8/site-packages (from ipython>=7.23.1->ipykernel->openfl==1.4) (4.8.0)\n",
      "Requirement already satisfied: jedi>=0.16 in /home/karan/workspace/fl-tutorial/venv/lib/python3.8/site-packages (from ipython>=7.23.1->ipykernel->openfl==1.4) (0.18.1)\n",
      "Requirement already satisfied: stack-data in /home/karan/workspace/fl-tutorial/venv/lib/python3.8/site-packages (from ipython>=7.23.1->ipykernel->openfl==1.4) (0.5.0)\n",
      "Requirement already satisfied: pickleshare in /home/karan/workspace/fl-tutorial/venv/lib/python3.8/site-packages (from ipython>=7.23.1->ipykernel->openfl==1.4) (0.7.5)\n",
      "Requirement already satisfied: MarkupSafe>=2.0 in /home/karan/workspace/fl-tutorial/venv/lib/python3.8/site-packages (from jinja2>=2.1->jupyterlab->openfl==1.4) (2.1.1)\n",
      "Requirement already satisfied: entrypoints in /home/karan/workspace/fl-tutorial/venv/lib/python3.8/site-packages (from jupyter-client>=6.1.12->ipykernel->openfl==1.4) (0.4)\n",
      "Requirement already satisfied: argon2-cffi in /home/karan/workspace/fl-tutorial/venv/lib/python3.8/site-packages (from jupyter-server~=1.16->jupyterlab->openfl==1.4) (21.3.0)\n",
      "Requirement already satisfied: prometheus-client in /home/karan/workspace/fl-tutorial/venv/lib/python3.8/site-packages (from jupyter-server~=1.16->jupyterlab->openfl==1.4) (0.14.1)\n",
      "Requirement already satisfied: nbconvert>=6.4.4 in /home/karan/workspace/fl-tutorial/venv/lib/python3.8/site-packages (from jupyter-server~=1.16->jupyterlab->openfl==1.4) (7.0.0)\n",
      "Requirement already satisfied: anyio<4,>=3.1.0 in /home/karan/workspace/fl-tutorial/venv/lib/python3.8/site-packages (from jupyter-server~=1.16->jupyterlab->openfl==1.4) (3.6.1)\n",
      "Requirement already satisfied: nbformat>=5.2.0 in /home/karan/workspace/fl-tutorial/venv/lib/python3.8/site-packages (from jupyter-server~=1.16->jupyterlab->openfl==1.4) (5.5.0)\n",
      "Requirement already satisfied: Send2Trash in /home/karan/workspace/fl-tutorial/venv/lib/python3.8/site-packages (from jupyter-server~=1.16->jupyterlab->openfl==1.4) (1.8.0)\n",
      "Requirement already satisfied: terminado>=0.8.3 in /home/karan/workspace/fl-tutorial/venv/lib/python3.8/site-packages (from jupyter-server~=1.16->jupyterlab->openfl==1.4) (0.15.0)\n",
      "Requirement already satisfied: jsonschema>=3.0.1 in /home/karan/workspace/fl-tutorial/venv/lib/python3.8/site-packages (from jupyterlab-server~=2.10->jupyterlab->openfl==1.4) (4.16.0)\n",
      "Requirement already satisfied: babel in /home/karan/workspace/fl-tutorial/venv/lib/python3.8/site-packages (from jupyterlab-server~=2.10->jupyterlab->openfl==1.4) (2.10.3)\n",
      "Requirement already satisfied: importlib-metadata>=3.6 in /home/karan/workspace/fl-tutorial/venv/lib/python3.8/site-packages (from jupyterlab-server~=2.10->jupyterlab->openfl==1.4) (4.12.0)\n",
      "Requirement already satisfied: json5 in /home/karan/workspace/fl-tutorial/venv/lib/python3.8/site-packages (from jupyterlab-server~=2.10->jupyterlab->openfl==1.4) (0.9.10)\n",
      "Requirement already satisfied: ipython-genutils in /home/karan/workspace/fl-tutorial/venv/lib/python3.8/site-packages (from notebook<7->jupyterlab->openfl==1.4) (0.2.0)\n",
      "Requirement already satisfied: pyparsing!=3.0.5,>=2.0.2 in /home/karan/workspace/fl-tutorial/venv/lib/python3.8/site-packages (from packaging>=14.0->docker->openfl==1.4) (3.0.9)\n",
      "Requirement already satisfied: notebook-shim>=0.1.0 in /home/karan/workspace/fl-tutorial/venv/lib/python3.8/site-packages (from nbclassic->jupyterlab->openfl==1.4) (0.1.0)\n",
      "Requirement already satisfied: sniffio>=1.1 in /home/karan/workspace/fl-tutorial/venv/lib/python3.8/site-packages (from anyio<4,>=3.1.0->jupyter-server~=1.16->jupyterlab->openfl==1.4) (1.3.0)\n",
      "Requirement already satisfied: zipp>=0.5 in /home/karan/workspace/fl-tutorial/venv/lib/python3.8/site-packages (from importlib-metadata>=3.6->jupyterlab-server~=2.10->jupyterlab->openfl==1.4) (3.8.1)\n",
      "Requirement already satisfied: parso<0.9.0,>=0.8.0 in /home/karan/workspace/fl-tutorial/venv/lib/python3.8/site-packages (from jedi>=0.16->ipython>=7.23.1->ipykernel->openfl==1.4) (0.8.3)\n",
      "Requirement already satisfied: attrs>=17.4.0 in /home/karan/workspace/fl-tutorial/venv/lib/python3.8/site-packages (from jsonschema>=3.0.1->jupyterlab-server~=2.10->jupyterlab->openfl==1.4) (22.1.0)\n",
      "Requirement already satisfied: pkgutil-resolve-name>=1.3.10 in /home/karan/workspace/fl-tutorial/venv/lib/python3.8/site-packages (from jsonschema>=3.0.1->jupyterlab-server~=2.10->jupyterlab->openfl==1.4) (1.3.10)\n",
      "Requirement already satisfied: importlib-resources>=1.4.0 in /home/karan/workspace/fl-tutorial/venv/lib/python3.8/site-packages (from jsonschema>=3.0.1->jupyterlab-server~=2.10->jupyterlab->openfl==1.4) (5.9.0)\n",
      "Requirement already satisfied: pyrsistent!=0.17.0,!=0.17.1,!=0.17.2,>=0.14.0 in /home/karan/workspace/fl-tutorial/venv/lib/python3.8/site-packages (from jsonschema>=3.0.1->jupyterlab-server~=2.10->jupyterlab->openfl==1.4) (0.18.1)\n",
      "Requirement already satisfied: lxml in /home/karan/workspace/fl-tutorial/venv/lib/python3.8/site-packages (from nbconvert>=6.4.4->jupyter-server~=1.16->jupyterlab->openfl==1.4) (4.9.1)\n",
      "Requirement already satisfied: defusedxml in /home/karan/workspace/fl-tutorial/venv/lib/python3.8/site-packages (from nbconvert>=6.4.4->jupyter-server~=1.16->jupyterlab->openfl==1.4) (0.7.1)\n",
      "Requirement already satisfied: beautifulsoup4 in /home/karan/workspace/fl-tutorial/venv/lib/python3.8/site-packages (from nbconvert>=6.4.4->jupyter-server~=1.16->jupyterlab->openfl==1.4) (4.11.1)\n",
      "Requirement already satisfied: mistune<3,>=2.0.3 in /home/karan/workspace/fl-tutorial/venv/lib/python3.8/site-packages (from nbconvert>=6.4.4->jupyter-server~=1.16->jupyterlab->openfl==1.4) (2.0.4)\n",
      "Requirement already satisfied: tinycss2 in /home/karan/workspace/fl-tutorial/venv/lib/python3.8/site-packages (from nbconvert>=6.4.4->jupyter-server~=1.16->jupyterlab->openfl==1.4) (1.1.1)\n",
      "Requirement already satisfied: nbclient>=0.5.0 in /home/karan/workspace/fl-tutorial/venv/lib/python3.8/site-packages (from nbconvert>=6.4.4->jupyter-server~=1.16->jupyterlab->openfl==1.4) (0.6.8)\n",
      "Requirement already satisfied: bleach in /home/karan/workspace/fl-tutorial/venv/lib/python3.8/site-packages (from nbconvert>=6.4.4->jupyter-server~=1.16->jupyterlab->openfl==1.4) (5.0.1)\n",
      "Requirement already satisfied: pandocfilters>=1.4.1 in /home/karan/workspace/fl-tutorial/venv/lib/python3.8/site-packages (from nbconvert>=6.4.4->jupyter-server~=1.16->jupyterlab->openfl==1.4) (1.5.0)\n",
      "Requirement already satisfied: jupyterlab-pygments in /home/karan/workspace/fl-tutorial/venv/lib/python3.8/site-packages (from nbconvert>=6.4.4->jupyter-server~=1.16->jupyterlab->openfl==1.4) (0.2.2)\n",
      "Requirement already satisfied: fastjsonschema in /home/karan/workspace/fl-tutorial/venv/lib/python3.8/site-packages (from nbformat>=5.2.0->jupyter-server~=1.16->jupyterlab->openfl==1.4) (2.16.1)\n",
      "Requirement already satisfied: ptyprocess>=0.5 in /home/karan/workspace/fl-tutorial/venv/lib/python3.8/site-packages (from pexpect>4.3->ipython>=7.23.1->ipykernel->openfl==1.4) (0.7.0)\n",
      "Requirement already satisfied: wcwidth in /home/karan/workspace/fl-tutorial/venv/lib/python3.8/site-packages (from prompt-toolkit<3.1.0,>3.0.1->ipython>=7.23.1->ipykernel->openfl==1.4) (0.2.5)\n",
      "Requirement already satisfied: pyasn1<0.5.0,>=0.4.6 in /home/karan/workspace/fl-tutorial/venv/lib/python3.8/site-packages (from pyasn1-modules>=0.2.1->google-auth<3,>=1.6.3->tensorboard->openfl==1.4) (0.4.8)\n",
      "Requirement already satisfied: oauthlib>=3.0.0 in /home/karan/workspace/fl-tutorial/venv/lib/python3.8/site-packages (from requests-oauthlib>=0.7.0->google-auth-oauthlib<0.5,>=0.4.1->tensorboard->openfl==1.4) (3.2.1)\n",
      "Requirement already satisfied: argon2-cffi-bindings in /home/karan/workspace/fl-tutorial/venv/lib/python3.8/site-packages (from argon2-cffi->jupyter-server~=1.16->jupyterlab->openfl==1.4) (21.2.0)\n",
      "Requirement already satisfied: executing in /home/karan/workspace/fl-tutorial/venv/lib/python3.8/site-packages (from stack-data->ipython>=7.23.1->ipykernel->openfl==1.4) (1.0.0)\n",
      "Requirement already satisfied: asttokens in /home/karan/workspace/fl-tutorial/venv/lib/python3.8/site-packages (from stack-data->ipython>=7.23.1->ipykernel->openfl==1.4) (2.0.8)\n",
      "Requirement already satisfied: pure-eval in /home/karan/workspace/fl-tutorial/venv/lib/python3.8/site-packages (from stack-data->ipython>=7.23.1->ipykernel->openfl==1.4) (0.2.2)\n",
      "Requirement already satisfied: soupsieve>1.2 in /home/karan/workspace/fl-tutorial/venv/lib/python3.8/site-packages (from beautifulsoup4->nbconvert>=6.4.4->jupyter-server~=1.16->jupyterlab->openfl==1.4) (2.3.2.post1)\n",
      "Requirement already satisfied: webencodings in /home/karan/workspace/fl-tutorial/venv/lib/python3.8/site-packages (from bleach->nbconvert>=6.4.4->jupyter-server~=1.16->jupyterlab->openfl==1.4) (0.5.1)\n",
      "Building wheels for collected packages: openfl\n",
      "  Building wheel for openfl (setup.py) ... \u001b[?25ldone\n",
      "\u001b[?25h  Created wheel for openfl: filename=openfl-1.4-py3-none-any.whl size=615343 sha256=2061f779b2e2211f6ce1f801a8c2180f6a4105e4935bd15bacc871beb582417e\n",
      "  Stored in directory: /tmp/pip-ephem-wheel-cache-i8_nxqx7/wheels/63/88/54/cd14f60121c308a944503cb09825c66d9f4c92e44e441e9a80\n",
      "Successfully built openfl\n",
      "Installing collected packages: openfl\n",
      "  Attempting uninstall: openfl\n",
      "    Found existing installation: openfl 1.4\n",
      "    Uninstalling openfl-1.4:\n",
      "      Successfully uninstalled openfl-1.4\n",
      "Successfully installed openfl-1.4\n"
     ]
    }
   ],
   "source": [
    "# To access example workspaces and director/envoy scripts\n",
    "!rm -rf openfl\n",
    "!git clone -b miccai_fl_tutorial https://github.com/intel/openfl.git\n",
    "!cd openfl && python -m pip install ."
   ]
  },
  {
   "cell_type": "markdown",
   "id": "f5cf7c13",
   "metadata": {
    "id": "f5cf7c13"
   },
   "source": [
    "### Hacks\n",
    "\n",
    "A few duct-tape fixes to allow us to 1-click execute."
   ]
  },
  {
   "cell_type": "code",
   "execution_count": 3,
   "id": "2fdeaed6",
   "metadata": {
    "id": "2fdeaed6"
   },
   "outputs": [],
   "source": [
    "import os\n",
    "import logging\n",
    "\n",
    "# Better CPU Utilization\n",
    "os.environ['OMP_NUM_THREADS'] = str(int(os.cpu_count()))\n",
    "\n",
    "# Logging fix for Google Colab\n",
    "log = logging.getLogger()\n",
    "log.setLevel(logging.INFO)\n",
    "\n",
    "# Switch to the tutorial directory within OpenFL tutorials\n",
    "tutorial_dir = os.path.abspath(\n",
    "    'openfl/openfl-tutorials/interactive_api/PyTorch_MedMNIST_2D')\n",
    "os.chdir(tutorial_dir)"
   ]
  },
  {
   "cell_type": "markdown",
   "id": "63217fab",
   "metadata": {
    "id": "63217fab"
   },
   "source": [
    "# Part 1. Centralized Setting\n",
    "\n",
    "Setting up your model, optimizer and data."
   ]
  },
  {
   "cell_type": "markdown",
   "id": "578678b6",
   "metadata": {
    "id": "578678b6"
   },
   "source": [
    "### Imports"
   ]
  },
  {
   "cell_type": "code",
   "execution_count": 4,
   "id": "ca564a9a-8473-4207-aa41-c80111021e48",
   "metadata": {
    "colab": {
     "base_uri": "https://localhost:8080/"
    },
    "id": "ca564a9a-8473-4207-aa41-c80111021e48",
    "outputId": "72f9a98b-baa2-4995-f253-47bb038c364e"
   },
   "outputs": [
    {
     "name": "stdout",
     "output_type": "stream",
     "text": [
      "PyTorch 1.8.2+cu111\n",
      "MedMNIST 2.2.1\n"
     ]
    }
   ],
   "source": [
    "import numpy as np\n",
    "from tqdm import tqdm\n",
    "from pprint import pprint\n",
    "\n",
    "import torch\n",
    "import medmnist\n",
    "\n",
    "print('PyTorch', torch.__version__)\n",
    "print('MedMNIST', medmnist.__version__)"
   ]
  },
  {
   "cell_type": "markdown",
   "id": "b3d3d879",
   "metadata": {
    "id": "b3d3d879"
   },
   "source": [
    "### Familiarize yourself with the Dataset\n",
    "\n",
    "MedMNIST is a large-scale MNIST-like collection of standardized biomedical images, including 12 datasets for 2D and 6 datasets for 3D. MedMNIST is designed to perform classification on lightweight 2D and 3D images with various data scales (from 100 to 100,000) and diverse tasks (binary/multi-class, ordinal regression and multi-label).\n",
    "\n",
    "![Datasets in MedMNIST](https://raw.githubusercontent.com/MedMNIST/MedMNIST/main/assets/medmnistv2.jpg)\n",
    "\n",
    "Source: https://github.com/MedMNIST/MedMNIST\n",
    "\n",
    "Jiancheng Yang, Rui Shi, Donglai Wei, Zequan Liu, Lin Zhao, Bilian Ke, Hanspeter Pfister, Bingbing Ni. \"MedMNIST v2: A Large-Scale Lightweight Benchmark for 2D and 3D Biomedical Image Classification\". arXiv preprint arXiv:2110.14795, 2021."
   ]
  },
  {
   "cell_type": "markdown",
   "id": "1637381d-84d0-4132-92c3-bf1a1e9c7f7a",
   "metadata": {
    "id": "1637381d-84d0-4132-92c3-bf1a1e9c7f7a"
   },
   "source": [
    "### Dataset Configuration"
   ]
  },
  {
   "cell_type": "code",
   "execution_count": 5,
   "id": "oJur9-6midCi",
   "metadata": {
    "colab": {
     "base_uri": "https://localhost:8080/"
    },
    "id": "oJur9-6midCi",
    "outputId": "25cbfa76-aac1-494b-9c46-364eaa7753e8"
   },
   "outputs": [
    {
     "name": "stdout",
     "output_type": "stream",
     "text": [
      "{'MD5': '7053d0359d879ad8a5505303e11de1dc',\n",
      " 'description': 'The BloodMNIST is based on a dataset of individual normal '\n",
      "                'cells, captured from individuals without infection, '\n",
      "                'hematologic or oncologic disease and free of any '\n",
      "                'pharmacologic treatment at the moment of blood collection. It '\n",
      "                'contains a total of 17,092 images and is organized into 8 '\n",
      "                'classes. We split the source dataset with a ratio of 7:1:2 '\n",
      "                'into training, validation and test set. The source images '\n",
      "                'with resolution 3×360×363 pixels are center-cropped into '\n",
      "                '3×200×200, and then resized into 3×28×28.',\n",
      " 'label': {'0': 'basophil',\n",
      "           '1': 'eosinophil',\n",
      "           '2': 'erythroblast',\n",
      "           '3': 'immature granulocytes(myelocytes, metamyelocytes and '\n",
      "                'promyelocytes)',\n",
      "           '4': 'lymphocyte',\n",
      "           '5': 'monocyte',\n",
      "           '6': 'neutrophil',\n",
      "           '7': 'platelet'},\n",
      " 'license': 'CC BY 4.0',\n",
      " 'n_channels': 3,\n",
      " 'n_samples': {'test': 3421, 'train': 11959, 'val': 1712},\n",
      " 'python_class': 'BloodMNIST',\n",
      " 'task': 'multi-class',\n",
      " 'url': 'https://zenodo.org/record/6496656/files/bloodmnist.npz?download=1'}\n"
     ]
    }
   ],
   "source": [
    "# Train/test options\n",
    "NUM_EPOCHS = 3\n",
    "BATCH_SIZE = 64\n",
    "DEVICE = 'cpu'\n",
    "\n",
    "# Dataset\n",
    "DATASET_NAME = 'bloodmnist'\n",
    "DATASET_PATH = './data'\n",
    "ds_info = medmnist.INFO[DATASET_NAME]\n",
    "pprint(ds_info)"
   ]
  },
  {
   "cell_type": "markdown",
   "id": "a0ff90c2",
   "metadata": {
    "id": "a0ff90c2"
   },
   "source": [
    "### Familiarize with the Dataset\n",
    "\n",
    "Let's use some plotting tools here."
   ]
  },
  {
   "cell_type": "code",
   "execution_count": 6,
   "id": "983adc4a",
   "metadata": {
    "colab": {
     "base_uri": "https://localhost:8080/",
     "height": 690,
     "referenced_widgets": [
      "5fceddccde554f2d942c11679dc3c986",
      "5ba4547a5f404864b5dc28e1a18cc384",
      "ec26fda46b5449e59d4a39e55b700db1",
      "a2818c8b53df4482817879334c8c8559",
      "30c12d51d9f747f8b65b2222e28d0956",
      "2b250da531934bb5874a5af261c97e53",
      "39930de3b8774a1fa5841adbabec699e",
      "bcca1e1d2ad8446797fc9d67f25bc694",
      "90f9f36e05b54e799daf9aee65a133a8",
      "dd68ec9dea2141a4892663e66e9d54a8",
      "37ef8c1ab50b4364bde3991c8d3047ee"
     ]
    },
    "id": "983adc4a",
    "outputId": "29220bc3-7064-4788-b4d7-23c7bb8663cc"
   },
   "outputs": [
    {
     "name": "stdout",
     "output_type": "stream",
     "text": [
      "Downloading https://zenodo.org/record/6496656/files/bloodmnist.npz?download=1 to ./data/bloodmnist.npz\n"
     ]
    },
    {
     "data": {
      "application/vnd.jupyter.widget-view+json": {
       "model_id": "c8a7d5b935d449b4a39a871d8d9c2a3c",
       "version_major": 2,
       "version_minor": 0
      },
      "text/plain": [
       "  0%|          | 0/35461855 [00:00<?, ?it/s]"
      ]
     },
     "metadata": {},
     "output_type": "display_data"
    },
    {
     "data": {
      "image/png": "[encoded data removed]",
      "text/plain": [
       "<Figure size 800x800 with 25 Axes>"
      ]
     },
     "metadata": {},
     "output_type": "display_data"
    }
   ],
   "source": [
    "import pandas as pd\n",
    "from PIL import Image\n",
    "import matplotlib.pyplot as plt\n",
    "from torchvision import transforms as T\n",
    "from torch.utils.data import Dataset, DataLoader\n",
    "\n",
    "from envoy.medmnist_shard_descriptor import MedMNISTShardDescriptor\n",
    "\n",
    "# Download raw numpy dataset\n",
    "sd = MedMNISTShardDescriptor(datapath=DATASET_PATH, dataname=DATASET_NAME)\n",
    "(x_train, y_train), (x_test, y_test) = sd.load_data()\n",
    "\n",
    "# Visualize few samples\n",
    "n_img = 5\n",
    "train_samples = x_train[:n_img*n_img]\n",
    "\n",
    "label2str = list(ds_info['label'].values())\n",
    "\n",
    "fig, ax = plt.subplots(n_img, n_img, figsize=(8, 8))\n",
    "\n",
    "for k in range(len(train_samples)):\n",
    "    i = k // n_img\n",
    "    j = k % n_img\n",
    "    img = train_samples[k]\n",
    "    label = np.squeeze(y_train[k])\n",
    "    ax[i, j].imshow(Image.fromarray(img))\n",
    "    ax[i, j].title.set_text(label2str[label][:9])\n",
    "    ax[i, j].axis('off')\n",
    "plt.suptitle(DATASET_NAME)\n",
    "fig.subplots_adjust(wspace=0.03, hspace=0.3)\n"
   ]
  },
  {
   "cell_type": "markdown",
   "id": "ceeedac3",
   "metadata": {
    "id": "ceeedac3"
   },
   "source": [
    "### Define Dataset/Dataloader Classes\n",
    "\n",
    "We'll create a simple PyTorch-style iterator dataset that returns single `numpy` element as a `torch.Tensor`. The class used for this would be `torch.utils.data.Dataset`\n",
    "\n",
    "We will then wrap this dataset object with a Dataloader class, that batches and shuffles the elements. Class: `torch.utils.data.DataLoader`"
   ]
  },
  {
   "cell_type": "code",
   "execution_count": 7,
   "id": "cda53dec",
   "metadata": {
    "colab": {
     "base_uri": "https://localhost:8080/"
    },
    "id": "cda53dec",
    "outputId": "b24848de-8a7f-4223-e631-6537a1b8a251"
   },
   "outputs": [],
   "source": [
    "\n",
    "class MedMNISTDataset(Dataset):\n",
    "    \"\"\"MedMNIST dataset class\"\"\"\n",
    "\n",
    "    def __init__(self, x, y, data_type: str = 'train') -> None:\n",
    "        \"\"\"Initialize MedMNISTDataset.\"\"\"\n",
    "        self.x, self.y = x, y\n",
    "        self.data_type = data_type\n",
    "\n",
    "    def __getitem__(self, index: int):\n",
    "        \"\"\"Return an item by the index.\"\"\"\n",
    "        return self.x[index], self.y[index]\n",
    "\n",
    "    def __len__(self) -> int:\n",
    "        \"\"\"Return the len of the dataset.\"\"\"\n",
    "        return len(self.x)\n",
    "\n",
    "\n",
    "class TransformDataset(Dataset):\n",
    "    \"\"\"Apply transforms to each element of dataset\"\"\"\n",
    "\n",
    "    def __init__(self, dataset, transform=None, target_transform=None):\n",
    "        self.dataset = dataset\n",
    "        self.transform = transform\n",
    "        self.target_transform = target_transform\n",
    "\n",
    "    def __len__(self):\n",
    "        return len(self.dataset)\n",
    "\n",
    "    def __getitem__(self, index):\n",
    "        img, label = self.dataset[index]\n",
    "\n",
    "        if self.target_transform:\n",
    "            label = self.target_transform(label)\n",
    "\n",
    "        if self.transform:\n",
    "            img = Image.fromarray(img)\n",
    "            img = self.transform(img)\n",
    "        \n",
    "        return img, label\n",
    "\n",
    "\n",
    "transform = T.Compose([T.ToTensor(), T.Normalize(mean=[0.], std=[1.0])])\n",
    "\n",
    "train_ds = TransformDataset(MedMNISTDataset(x=x_train, y=y_train),\n",
    "                              transform=transform)\n",
    "train_dl = DataLoader(train_ds,\n",
    "                      batch_size=BATCH_SIZE,\n",
    "                      shuffle=True,\n",
    "                      num_workers=8)\n",
    "\n",
    "test_ds = TransformDataset(MedMNISTDataset(x=x_test, y=y_test),\n",
    "                             transform=transform)\n",
    "test_dl = DataLoader(test_ds, batch_size=BATCH_SIZE, num_workers=8)\n"
   ]
  },
  {
   "cell_type": "markdown",
   "id": "a0864d43",
   "metadata": {
    "id": "a0864d43"
   },
   "source": [
    "### Model Definition (CNN)"
   ]
  },
  {
   "cell_type": "code",
   "execution_count": 8,
   "id": "fde856d8-da4e-4d2f-bee2-85e673050623",
   "metadata": {
    "colab": {
     "base_uri": "https://localhost:8080/"
    },
    "id": "fde856d8-da4e-4d2f-bee2-85e673050623",
    "outputId": "e1f941ca-a0e1-4119-faef-afa92b4df224"
   },
   "outputs": [
    {
     "name": "stdout",
     "output_type": "stream",
     "text": [
      "Net(\n",
      "  (layer1): Sequential(\n",
      "    (0): Conv2d(3, 16, kernel_size=(3, 3), stride=(1, 1))\n",
      "    (1): BatchNorm2d(16, eps=1e-05, momentum=0.1, affine=True, track_running_stats=True)\n",
      "    (2): ReLU()\n",
      "  )\n",
      "  (layer2): Sequential(\n",
      "    (0): Conv2d(16, 16, kernel_size=(3, 3), stride=(1, 1))\n",
      "    (1): BatchNorm2d(16, eps=1e-05, momentum=0.1, affine=True, track_running_stats=True)\n",
      "    (2): ReLU()\n",
      "    (3): MaxPool2d(kernel_size=2, stride=2, padding=0, dilation=1, ceil_mode=False)\n",
      "  )\n",
      "  (layer3): Sequential(\n",
      "    (0): Conv2d(16, 64, kernel_size=(3, 3), stride=(1, 1))\n",
      "    (1): BatchNorm2d(64, eps=1e-05, momentum=0.1, affine=True, track_running_stats=True)\n",
      "    (2): ReLU()\n",
      "  )\n",
      "  (layer4): Sequential(\n",
      "    (0): Conv2d(64, 64, kernel_size=(3, 3), stride=(1, 1))\n",
      "    (1): BatchNorm2d(64, eps=1e-05, momentum=0.1, affine=True, track_running_stats=True)\n",
      "    (2): ReLU()\n",
      "  )\n",
      "  (layer5): Sequential(\n",
      "    (0): Conv2d(64, 64, kernel_size=(3, 3), stride=(1, 1), padding=(1, 1))\n",
      "    (1): BatchNorm2d(64, eps=1e-05, momentum=0.1, affine=True, track_running_stats=True)\n",
      "    (2): ReLU()\n",
      "    (3): MaxPool2d(kernel_size=2, stride=2, padding=0, dilation=1, ceil_mode=False)\n",
      "  )\n",
      "  (fc): Sequential(\n",
      "    (0): Linear(in_features=1024, out_features=128, bias=True)\n",
      "    (1): ReLU()\n",
      "    (2): Dropout(p=0.5, inplace=False)\n",
      "    (3): Linear(in_features=128, out_features=8, bias=True)\n",
      "  )\n",
      ")\n",
      "Total Parameters: 218584\n",
      "Trainable Parameters: 218584\n"
     ]
    }
   ],
   "source": [
    "import torch.nn as nn\n",
    "import torch.nn.functional as F\n",
    "\n",
    "\n",
    "class Net(nn.Module):\n",
    "\n",
    "    def __init__(self, in_channels, num_classes):\n",
    "        super(Net, self).__init__()\n",
    "\n",
    "        self.layer1 = nn.Sequential(nn.Conv2d(in_channels, 16, kernel_size=3),\n",
    "                                    nn.BatchNorm2d(16), nn.ReLU())\n",
    "\n",
    "        self.layer2 = nn.Sequential(nn.Conv2d(16, 16, kernel_size=3),\n",
    "                                    nn.BatchNorm2d(16), nn.ReLU(),\n",
    "                                    nn.MaxPool2d(kernel_size=2, stride=2))\n",
    "\n",
    "        self.layer3 = nn.Sequential(nn.Conv2d(16, 64, kernel_size=3),\n",
    "                                    nn.BatchNorm2d(64), nn.ReLU())\n",
    "\n",
    "        self.layer4 = nn.Sequential(nn.Conv2d(64, 64, kernel_size=3),\n",
    "                                    nn.BatchNorm2d(64), nn.ReLU())\n",
    "\n",
    "        self.layer5 = nn.Sequential(nn.Conv2d(64, 64, kernel_size=3, padding=1),\n",
    "                                    nn.BatchNorm2d(64), nn.ReLU(),\n",
    "                                    nn.MaxPool2d(kernel_size=2, stride=2))\n",
    "\n",
    "        self.fc = nn.Sequential(nn.Linear(64 * 4 * 4, 128), \n",
    "                                nn.ReLU(),\n",
    "                                nn.Dropout(0.5),\n",
    "                                nn.Linear(128, num_classes))\n",
    "\n",
    "    def forward(self, x):\n",
    "        x = self.layer1(x)\n",
    "        x = self.layer2(x)\n",
    "        x = self.layer3(x)\n",
    "        x = self.layer4(x)\n",
    "        x = self.layer5(x)\n",
    "        x = x.view(x.size(0), -1)\n",
    "        x = self.fc(x)\n",
    "        return x\n",
    "\n",
    "\n",
    "test_model = Net(in_channels=ds_info['n_channels'],\n",
    "                 num_classes=len(ds_info['label']))\n",
    "print(test_model)\n",
    "print('Total Parameters:',\n",
    "      sum([torch.numel(p) for p in test_model.parameters()]))\n",
    "print('Trainable Parameters:',\n",
    "      sum([torch.numel(p) for p in test_model.parameters() if p.requires_grad]))\n"
   ]
  },
  {
   "cell_type": "markdown",
   "id": "55fa0e3c",
   "metadata": {
    "id": "55fa0e3c"
   },
   "source": [
    "### Define Training/Validation Loops"
   ]
  },
  {
   "cell_type": "code",
   "execution_count": 9,
   "id": "01a0ce23",
   "metadata": {
    "id": "01a0ce23"
   },
   "outputs": [],
   "source": [
    "def train(model, train_loader, optimizer, device, criterion, task):\n",
    "    model.train()\n",
    "    model = model.to(device)\n",
    "\n",
    "    losses = []\n",
    "    correct = 0\n",
    "    total = 0\n",
    "    for inputs, targets in tqdm(train_loader, desc=\"train\"):\n",
    "\n",
    "        optimizer.zero_grad()\n",
    "        outputs = model(inputs.to(device))\n",
    "\n",
    "        if task == 'multi-label, binary-class':\n",
    "            targets = targets.to(torch.float32).to(device)\n",
    "            loss = criterion(outputs, targets)\n",
    "        else:\n",
    "            targets = torch.squeeze(targets, 1).long().to(device)\n",
    "            loss = criterion(outputs, targets)\n",
    "\n",
    "        losses.append(loss.item())\n",
    "        loss.backward()\n",
    "        optimizer.step()\n",
    "\n",
    "    total += targets.shape[0]\n",
    "    correct += torch.sum(outputs.max(1)[1] == targets).item()\n",
    "\n",
    "    return {\n",
    "        'train_acc': np.round(correct / total, 3),\n",
    "        'train_loss': np.round(np.mean(losses), 3),\n",
    "    }\n",
    "\n",
    "\n",
    "def validate(model, val_loader, device, criterion, task):\n",
    "    model.eval()\n",
    "    model = model.to(device)\n",
    "\n",
    "    losses = []\n",
    "    correct = 0\n",
    "    total = 0\n",
    "    with torch.no_grad():\n",
    "        for inputs, targets in tqdm(val_loader, desc=\"validate\"):\n",
    "            outputs = model(inputs.to(device))\n",
    "\n",
    "            if task == 'multi-label, binary-class':\n",
    "                targets = targets.to(torch.float32).to(device)\n",
    "                loss = criterion(outputs, targets)\n",
    "                m = nn.Sigmoid()\n",
    "                outputs = m(outputs).to(device)\n",
    "            else:\n",
    "                targets = torch.squeeze(targets, 1).long().to(device)\n",
    "                loss = criterion(outputs, targets)\n",
    "\n",
    "            losses.append(loss.item())\n",
    "            total += targets.shape[0]\n",
    "            correct += (outputs.max(1)[1] == targets).sum().cpu().numpy()\n",
    "\n",
    "        return {\n",
    "            'val_acc': np.round(correct / total, 3),\n",
    "            'val_loss': np.round(np.mean(losses), 3),\n",
    "        }\n"
   ]
  },
  {
   "cell_type": "markdown",
   "id": "ee349f9c",
   "metadata": {
    "id": "ee349f9c"
   },
   "source": [
    "### Train\n",
    "\n",
    "This is how you'd train **with** access to all data."
   ]
  },
  {
   "cell_type": "code",
   "execution_count": 10,
   "id": "2018225f",
   "metadata": {
    "colab": {
     "base_uri": "https://localhost:8080/"
    },
    "id": "2018225f",
    "outputId": "78372771-e616-4e63-ae67-04ec092d52c8"
   },
   "outputs": [
    {
     "name": "stderr",
     "output_type": "stream",
     "text": [
      "validate: 100%|███████████████████████████████████████████████████████████████████████████████████████████████████████████████████████████████████████████████████████████| 54/54 [00:00<00:00, 121.60it/s]\n"
     ]
    },
    {
     "name": "stdout",
     "output_type": "stream",
     "text": [
      "Before training:  {'val_acc': 0.182, 'val_loss': 2.082}\n"
     ]
    },
    {
     "name": "stderr",
     "output_type": "stream",
     "text": [
      "train:   0%|                                                                                                                                                                       | 0/187 [00:00<?, ?it/s]/home/nesubuntu20nvda/miniconda3/envs/hack_openfl/lib/python3.8/site-packages/torch/autograd/__init__.py:145: UserWarning: CUDA initialization: Unexpected error from cudaGetDeviceCount(). Did you run some cuda functions before calling NumCudaDevices() that might have already set an error? Error 804: forward compatibility was attempted on non supported HW (Triggered internally at  ../c10/cuda/CUDAFunctions.cpp:109.)\n",
      "  Variable._execution_engine.run_backward(\n",
      "train: 100%|█████████████████████████████████████████████████████████████████████████████████████████████████████████████████████████████████████████████████████████████| 187/187 [00:03<00:00, 60.28it/s]\n",
      "validate: 100%|███████████████████████████████████████████████████████████████████████████████████████████████████████████████████████████████████████████████████████████| 54/54 [00:00<00:00, 119.96it/s]\n"
     ]
    },
    {
     "name": "stdout",
     "output_type": "stream",
     "text": [
      "Epoch 0: {'train_acc': 0.873, 'train_loss': 1.019} - {'val_acc': 0.821, 'val_loss': 0.573}\n"
     ]
    },
    {
     "name": "stderr",
     "output_type": "stream",
     "text": [
      "train: 100%|█████████████████████████████████████████████████████████████████████████████████████████████████████████████████████████████████████████████████████████████| 187/187 [00:03<00:00, 59.26it/s]\n",
      "validate: 100%|███████████████████████████████████████████████████████████████████████████████████████████████████████████████████████████████████████████████████████████| 54/54 [00:00<00:00, 115.45it/s]\n"
     ]
    },
    {
     "name": "stdout",
     "output_type": "stream",
     "text": [
      "Epoch 1: {'train_acc': 0.855, 'train_loss': 0.555} - {'val_acc': 0.848, 'val_loss': 0.427}\n"
     ]
    },
    {
     "name": "stderr",
     "output_type": "stream",
     "text": [
      "train: 100%|█████████████████████████████████████████████████████████████████████████████████████████████████████████████████████████████████████████████████████████████| 187/187 [00:03<00:00, 62.32it/s]\n",
      "validate: 100%|███████████████████████████████████████████████████████████████████████████████████████████████████████████████████████████████████████████████████████████| 54/54 [00:00<00:00, 120.54it/s]"
     ]
    },
    {
     "name": "stdout",
     "output_type": "stream",
     "text": [
      "Epoch 2: {'train_acc': 0.782, 'train_loss': 0.444} - {'val_acc': 0.867, 'val_loss': 0.368}\n"
     ]
    },
    {
     "name": "stderr",
     "output_type": "stream",
     "text": [
      "\n"
     ]
    }
   ],
   "source": [
    "centralized_model = Net(in_channels=ds_info['n_channels'],\n",
    "                        num_classes=len(ds_info['label']))\n",
    "optimizer = torch.optim.Adam(centralized_model.parameters(), lr=1e-4)\n",
    "criterion = nn.CrossEntropyLoss()\n",
    "\n",
    "# Start!\n",
    "history = validate(centralized_model,\n",
    "                   test_dl,\n",
    "                   device=DEVICE,\n",
    "                   criterion=criterion,\n",
    "                   task=ds_info['task'])\n",
    "print('Before training: ', history)\n",
    "\n",
    "for epoch in range(NUM_EPOCHS):\n",
    "    train_history = train(centralized_model,\n",
    "                          train_dl,\n",
    "                          device=DEVICE,\n",
    "                          optimizer=optimizer,\n",
    "                          criterion=criterion,\n",
    "                          task=ds_info['task'])\n",
    "    val_history = validate(centralized_model,\n",
    "                           test_dl,\n",
    "                           device=DEVICE,\n",
    "                           criterion=criterion,\n",
    "                           task=ds_info['task'])\n",
    "    print(f'Epoch {epoch}: {train_history} - {val_history}')\n"
   ]
  },
  {
   "cell_type": "markdown",
   "id": "cd2e26a5-9f4e-4011-a999-e428246aa8c1",
   "metadata": {
    "id": "cd2e26a5-9f4e-4011-a999-e428246aa8c1"
   },
   "source": [
    "# Part 2. Go Federated"
   ]
  },
  {
   "cell_type": "markdown",
   "id": "83378ece-9cd5-4d40-a134-24cf68bdb79a",
   "metadata": {
    "id": "83378ece-9cd5-4d40-a134-24cf68bdb79a",
    "tags": []
   },
   "source": [
    "### Imports"
   ]
  },
  {
   "cell_type": "code",
   "execution_count": 11,
   "id": "c0c3e78b-6e9d-4efc-9b30-3ddc413c0423",
   "metadata": {
    "id": "c0c3e78b-6e9d-4efc-9b30-3ddc413c0423"
   },
   "outputs": [],
   "source": [
    "import os\n",
    "import yaml\n",
    "import time\n",
    "from pathlib import Path\n",
    "from typing import Dict, List, Union"
   ]
  },
  {
   "cell_type": "markdown",
   "id": "463a2821-b657-4e12-90ac-33b7810c5ff4",
   "metadata": {
    "id": "463a2821-b657-4e12-90ac-33b7810c5ff4"
   },
   "source": [
    "### Configure `Director`\n",
    "\n",
    "This is the entity that orchestrates the tasks and aggregation of models from participants. Below cells are to configure the `yaml` and start the `Director` service."
   ]
  },
  {
   "cell_type": "code",
   "execution_count": 12,
   "id": "e736d33f-5df2-4a2f-8210-f1feba9fd367",
   "metadata": {
    "colab": {
     "base_uri": "https://localhost:8080/"
    },
    "id": "e736d33f-5df2-4a2f-8210-f1feba9fd367",
    "outputId": "f454cbb2-5c02-4805-cf27-37bda40dea25"
   },
   "outputs": [
    {
     "name": "stdout",
     "output_type": "stream",
     "text": [
      "\u001b[2;36m[15:22:04]\u001b[0m\u001b[2;36m \u001b[0m\u001b[34mINFO    \u001b[0m 🧿 Starting the Director Service.                                                                                             \u001b]8;id=998503;file:///home/nesubuntu20nvda/miniconda3/envs/hack_openfl/lib/python3.8/site-packages/openfl/interface/director.py\u001b\\\u001b[2mdirector.py\u001b[0m\u001b]8;;\u001b\\\u001b[2m:\u001b[0m\u001b]8;id=218357;file:///home/nesubuntu20nvda/miniconda3/envs/hack_openfl/lib/python3.8/site-packages/openfl/interface/director.py#50\u001b\\\u001b[2m50\u001b[0m\u001b]8;;\u001b\\\r\n",
      "\u001b[2;36m          \u001b[0m\u001b[2;36m \u001b[0m\u001b[34mINFO    \u001b[0m Sample shape: \u001b[1m[\u001b[0m\u001b[32m'28'\u001b[0m, \u001b[32m'28'\u001b[0m, \u001b[32m'3'\u001b[0m\u001b[1m]\u001b[0m, target shape: \u001b[1m[\u001b[0m\u001b[32m'1'\u001b[0m, \u001b[32m'1'\u001b[0m\u001b[1m]\u001b[0m                                                                     \u001b]8;id=421026;file:///home/nesubuntu20nvda/miniconda3/envs/hack_openfl/lib/python3.8/site-packages/openfl/interface/director.py\u001b\\\u001b[2mdirector.py\u001b[0m\u001b]8;;\u001b\\\u001b[2m:\u001b[0m\u001b]8;id=93804;file:///home/nesubuntu20nvda/miniconda3/envs/hack_openfl/lib/python3.8/site-packages/openfl/interface/director.py#74\u001b\\\u001b[2m74\u001b[0m\u001b]8;;\u001b\\\r\n",
      "\u001b[2;36m          \u001b[0m\u001b[2;36m \u001b[0m\u001b[34mINFO    \u001b[0m Starting server on localhost:\u001b[1;36m50051\u001b[0m                                                                                    \u001b]8;id=407767;file:///home/nesubuntu20nvda/miniconda3/envs/hack_openfl/lib/python3.8/site-packages/openfl/transport/grpc/director_server.py\u001b\\\u001b[2mdirector_server.py\u001b[0m\u001b]8;;\u001b\\\u001b[2m:\u001b[0m\u001b]8;id=641413;file:///home/nesubuntu20nvda/miniconda3/envs/hack_openfl/lib/python3.8/site-packages/openfl/transport/grpc/director_server.py#114\u001b\\\u001b[2m114\u001b[0m\u001b]8;;\u001b\\\r\n"
     ]
    }
   ],
   "source": [
    "# Should be the same as defined in `director_config.yaml`\n",
    "director_node_fqdn = 'localhost'\n",
    "director_port = 50051\n",
    "\n",
    "director_workspace_path = os.path.join(tutorial_dir, 'director')\n",
    "director_config_file = os.path.join(director_workspace_path,'director_config.yaml')\n",
    "director_logfile = os.path.join(director_workspace_path, 'director.log')\n",
    "\n",
    "# Start director\n",
    "os.system(f'cd {director_workspace_path};'\n",
    "          f'fx director start --disable-tls -c {director_config_file} '\n",
    "          f'>{director_logfile} &')\n",
    "!sleep 5 && tail -n5 $director_logfile"
   ]
  },
  {
   "cell_type": "markdown",
   "id": "223f0037-c87e-440d-b8df-8fe9211c34dc",
   "metadata": {
    "id": "223f0037-c87e-440d-b8df-8fe9211c34dc",
    "tags": []
   },
   "source": [
    "### Configure `Envoys`\n",
    "\n",
    "`Envoy`, for sake of simplicity, can be thought of as collaborators. Technically, `Envoy` defines the dataloading interface for each participant and runs python code (called a `task`) that it receives via this notebook.\n",
    "\n",
    "We create as many config files as number of participants that we intend to simulate here."
   ]
  },
  {
   "cell_type": "code",
   "execution_count": 13,
   "id": "c0e65a39-15f7-4cca-90bb-a2970b7be9f0",
   "metadata": {
    "id": "c0e65a39-15f7-4cca-90bb-a2970b7be9f0"
   },
   "outputs": [],
   "source": [
    "def generate_envoy_configs(\n",
    "        config: dict,\n",
    "        n_cols: int,\n",
    "        datapath: str,\n",
    "        dataname: str,\n",
    "        save_path: str) -> list:\n",
    "    \n",
    "    config_paths = list()\n",
    "    for i in range(1, n_cols+1):\n",
    "        path = os.path.abspath(os.path.join(save_path, f'{i}_envoy_config.yaml'))\n",
    "        config['shard_descriptor']['params']['datapath'] = datapath\n",
    "        config['shard_descriptor']['params']['dataname'] = dataname    \n",
    "        config['shard_descriptor']['params']['rank_worldsize'] = f'{i},{n_cols}'\n",
    "        with open(path, 'w') as f:\n",
    "            yaml.safe_dump(config, f)\n",
    "        config_paths.append(path)\n",
    "    return config_paths"
   ]
  },
  {
   "cell_type": "markdown",
   "id": "09ae8c90",
   "metadata": {},
   "source": [
    "### Generate configs and start `Envoys`"
   ]
  },
  {
   "cell_type": "code",
   "execution_count": 14,
   "id": "90109c5b-c785-4af7-ace9-dcd913018dca",
   "metadata": {
    "id": "90109c5b-c785-4af7-ace9-dcd913018dca"
   },
   "outputs": [
    {
     "name": "stdout",
     "output_type": "stream",
     "text": [
      "Starting Envoy 1\n",
      "Starting Envoy 2\n"
     ]
    }
   ],
   "source": [
    "# Read the original envoy config file content\n",
    "original_config_path = os.path.join(tutorial_dir, 'envoy', 'envoy_config.yaml')\n",
    "with open(original_config_path, 'r') as f:\n",
    "    original_config = yaml.safe_load(f)\n",
    "\n",
    "# Generate configs for as many envoys\n",
    "config_paths = generate_envoy_configs(original_config,\n",
    "                                      n_cols=2,\n",
    "                                      datapath=DATASET_PATH,\n",
    "                                      dataname=DATASET_NAME,\n",
    "                                      save_path=os.path.dirname(original_config_path))\n",
    "# Start envoys in a loop\n",
    "cwd = os.getcwd()\n",
    "for i, path in enumerate(config_paths):\n",
    "    print(f'Starting Envoy {i+1}')\n",
    "    os.chdir(os.path.dirname(path))\n",
    "\n",
    "    # Wait until envoy loads dataset\n",
    "    os.system(f'fx envoy start -n env_{i+1} --disable-tls '\n",
    "                f'--envoy-config-path {path} -dh {director_node_fqdn} -dp {director_port} '\n",
    "                f'>env_{i+1}.log 2>&1 &')\n",
    "    !grep -q \"MedMNIST data was loaded\" <( tail -f env_{i+1}.log )\n",
    "    \n",
    "    os.chdir(cwd)"
   ]
  },
  {
   "cell_type": "markdown",
   "id": "6216f14c-78d8-444c-9144-ee8316d1487b",
   "metadata": {
    "id": "6216f14c-78d8-444c-9144-ee8316d1487b"
   },
   "source": [
    "### Connect this Notebook\n",
    "\n",
    "This is where you take the seat of a Data Scientist, who bears control over the `model`, `train()`, `validate()` and other logic that `Director` and `Envoy` help you execute across participants."
   ]
  },
  {
   "cell_type": "code",
   "execution_count": 15,
   "id": "b9d3b764-cb86-4eec-ba8e-df119da7a27f",
   "metadata": {
    "colab": {
     "base_uri": "https://localhost:8080/"
    },
    "id": "b9d3b764-cb86-4eec-ba8e-df119da7a27f",
    "outputId": "f74cad4f-6c88-4118-b67c-06c38adb6100"
   },
   "outputs": [
    {
     "name": "stdout",
     "output_type": "stream",
     "text": [
      "{'env_1': {'current_time': '2023-04-26 15:22:46',\n",
      "           'experiment_name': 'ExperimentName Mock',\n",
      "           'is_experiment_running': False,\n",
      "           'is_online': True,\n",
      "           'last_updated': '2023-04-26 15:22:44',\n",
      "           'shard_info': node_info {\n",
      "  name: \"env_1\"\n",
      "}\n",
      "shard_description: \"MedMNIST dataset, shard number 1 out of 2\"\n",
      "sample_shape: \"28\"\n",
      "sample_shape: \"28\"\n",
      "sample_shape: \"3\"\n",
      "target_shape: \"1\"\n",
      "target_shape: \"1\"\n",
      ",\n",
      "           'valid_duration': seconds: 120\n",
      "},\n",
      " 'env_2': {'current_time': '2023-04-26 15:22:46',\n",
      "           'experiment_name': 'ExperimentName Mock',\n",
      "           'is_experiment_running': False,\n",
      "           'is_online': True,\n",
      "           'last_updated': '2023-04-26 15:22:45',\n",
      "           'shard_info': node_info {\n",
      "  name: \"env_2\"\n",
      "}\n",
      "shard_description: \"MedMNIST dataset, shard number 2 out of 2\"\n",
      "sample_shape: \"28\"\n",
      "sample_shape: \"28\"\n",
      "sample_shape: \"3\"\n",
      "target_shape: \"1\"\n",
      "target_shape: \"1\"\n",
      ",\n",
      "           'valid_duration': seconds: 120\n",
      "}}\n"
     ]
    }
   ],
   "source": [
    "# Create a federation\n",
    "from openfl.interface.interactive_api.federation import Federation\n",
    "\n",
    "# Federation can also determine local fqdn automatically\n",
    "federation = Federation(client_id='frontend',\n",
    "                        director_node_fqdn=director_node_fqdn,\n",
    "                        director_port=director_port,\n",
    "                        tls=False)\n",
    "\n",
    "# Data scientist may request a list of connected envoys\n",
    "shard_registry = federation.get_shard_registry()\n",
    "pprint(shard_registry)"
   ]
  },
  {
   "cell_type": "markdown",
   "id": "c6401026-795f-491e-90cb-dd59b451df5f",
   "metadata": {
    "id": "c6401026-795f-491e-90cb-dd59b451df5f"
   },
   "source": [
    "### Ingredients of a Federated Learning Experiment in OpenFL\n",
    "\n",
    "* `DataInterface`: This class defines the dataloading primitives for OpenFL. We'll reuse some of our previous logic.\n",
    "* `ModelInterface`: Registers model graph and optimizer; serializes them and sends them to collaborator nodes.\n",
    "* `TaskInterface`: Registers the python methods that constitute each task like `training`, `validation` etc."
   ]
  },
  {
   "cell_type": "markdown",
   "id": "8166c689-9dde-4500-b05c-5b1ddf968978",
   "metadata": {
    "id": "8166c689-9dde-4500-b05c-5b1ddf968978"
   },
   "source": [
    "### `DataInterface`"
   ]
  },
  {
   "cell_type": "code",
   "execution_count": 16,
   "id": "13f9d6e8-d020-4ceb-89d0-14113e0f8b9e",
   "metadata": {
    "id": "13f9d6e8-d020-4ceb-89d0-14113e0f8b9e"
   },
   "outputs": [],
   "source": [
    "from openfl.interface.interactive_api.experiment import DataInterface\n",
    "\n",
    "\n",
    "class MedMnistFedDataset(DataInterface):\n",
    "\n",
    "    def __init__(self, **kwargs):\n",
    "        self.kwargs = kwargs\n",
    "\n",
    "    @property\n",
    "    def shard_descriptor(self):\n",
    "        return self._shard_descriptor\n",
    "\n",
    "    @shard_descriptor.setter\n",
    "    def shard_descriptor(self, shard_descriptor):\n",
    "        \"\"\"\n",
    "        Describe per-collaborator procedures or sharding.\n",
    "\n",
    "        This method will be called during a collaborator initialization.\n",
    "        Local shard_descriptor  will be set by Envoy.\n",
    "        \"\"\"\n",
    "        self._shard_descriptor = shard_descriptor\n",
    "\n",
    "        self.train_set = TransformDataset(\n",
    "            self._shard_descriptor.get_dataset('train'), transform=transform)\n",
    "\n",
    "        self.valid_set = TransformDataset(\n",
    "            self._shard_descriptor.get_dataset('val'), transform=transform)\n",
    "\n",
    "    def get_train_loader(self, **kwargs):\n",
    "        \"\"\"\n",
    "        Output of this method will be provided to tasks with optimizer in contract\n",
    "        \"\"\"\n",
    "        return DataLoader(self.train_set,\n",
    "                          num_workers=8,\n",
    "                          batch_size=self.kwargs['train_bs'],\n",
    "                          shuffle=True)\n",
    "\n",
    "    def get_valid_loader(self, **kwargs):\n",
    "        \"\"\"\n",
    "        Output of this method will be provided to tasks without optimizer in contract\n",
    "        \"\"\"\n",
    "        return DataLoader(self.valid_set,\n",
    "                          num_workers=8,\n",
    "                          batch_size=self.kwargs['valid_bs'])\n",
    "\n",
    "    def get_train_data_size(self):\n",
    "        \"\"\"\n",
    "        Information for aggregation\n",
    "        \"\"\"\n",
    "        return len(self.train_set)\n",
    "\n",
    "    def get_valid_data_size(self):\n",
    "        \"\"\"\n",
    "        Information for aggregation\n",
    "        \"\"\"\n",
    "        return len(self.valid_set)\n"
   ]
  },
  {
   "cell_type": "code",
   "execution_count": 17,
   "id": "ccccaa67-6dfb-437f-b201-46b2a2561730",
   "metadata": {
    "id": "ccccaa67-6dfb-437f-b201-46b2a2561730"
   },
   "outputs": [],
   "source": [
    "fed_dataset = MedMnistFedDataset(train_bs=BATCH_SIZE, valid_bs=BATCH_SIZE)"
   ]
  },
  {
   "cell_type": "markdown",
   "id": "6233e1ed-a2f2-456f-9417-f35a2c27b236",
   "metadata": {
    "id": "6233e1ed-a2f2-456f-9417-f35a2c27b236"
   },
   "source": [
    "### `ModelInterface`"
   ]
  },
  {
   "cell_type": "code",
   "execution_count": 18,
   "id": "885a8530-6248-4060-a30a-45cdc79bc41a",
   "metadata": {
    "id": "885a8530-6248-4060-a30a-45cdc79bc41a"
   },
   "outputs": [],
   "source": [
    "from openfl.interface.interactive_api.experiment import ModelInterface\n",
    "\n",
    "model = Net(in_channels=ds_info['n_channels'],\n",
    "            num_classes=len(ds_info['label']))\n",
    "optimizer = torch.optim.Adam(model.parameters(), lr=1e-4)\n",
    "framework_adapter = 'openfl.plugins.frameworks_adapters.pytorch_adapter.FrameworkAdapterPlugin'\n",
    "\n",
    "MI = ModelInterface(model=model,\n",
    "                    optimizer=optimizer,\n",
    "                    framework_plugin=framework_adapter)"
   ]
  },
  {
   "cell_type": "markdown",
   "id": "dc9da235-02a8-4e7a-9455-5fe2462aa317",
   "metadata": {
    "id": "dc9da235-02a8-4e7a-9455-5fe2462aa317",
    "tags": []
   },
   "source": [
    "### `TaskInterface`\n",
    "We register our tasks with a `TaskInterface` class.\n",
    "OpenFL decides which model is the best based on an *increasing* metric."
   ]
  },
  {
   "cell_type": "code",
   "execution_count": 19,
   "id": "7e101689-8a63-4562-98ff-09443b1ab9f2",
   "metadata": {
    "colab": {
     "base_uri": "https://localhost:8080/"
    },
    "id": "7e101689-8a63-4562-98ff-09443b1ab9f2",
    "outputId": "7565f47f-bd3e-4b69-8e2d-b821410a71ff"
   },
   "outputs": [
    {
     "data": {
      "text/plain": [
       "<function __main__.validate(model, val_loader, device, criterion, task)>"
      ]
     },
     "execution_count": 19,
     "metadata": {},
     "output_type": "execute_result"
    }
   ],
   "source": [
    "from openfl.interface.interactive_api.experiment import TaskInterface\n",
    "\n",
    "# Task interface currently supports only standalone functions.\n",
    "TI = TaskInterface()\n",
    "fixed = {'criterion': criterion, 'task': ds_info['task']}\n",
    "\n",
    "# Train task\n",
    "TI.add_kwargs(**fixed)(TI.register_fl_task(model='model',\n",
    "                                           data_loader='train_loader',\n",
    "                                           device='device',\n",
    "                                           optimizer='optimizer')(train))\n",
    "\n",
    "# Validate task\n",
    "TI.add_kwargs(**fixed)(TI.register_fl_task(model='model',\n",
    "                                           device='device',\n",
    "                                           data_loader='val_loader')(validate))\n"
   ]
  },
  {
   "cell_type": "markdown",
   "id": "40a4623e-6559-4d4c-b199-f9afe16c0bbd",
   "metadata": {
    "id": "40a4623e-6559-4d4c-b199-f9afe16c0bbd",
    "tags": []
   },
   "source": [
    "### Run the experiment"
   ]
  },
  {
   "cell_type": "code",
   "execution_count": 20,
   "id": "fb357a88-7098-45b2-85f4-71fe2f2e0f82",
   "metadata": {
    "colab": {
     "base_uri": "https://localhost:8080/"
    },
    "id": "fb357a88-7098-45b2-85f4-71fe2f2e0f82",
    "outputId": "9bdf0082-39a8-46ea-9b82-35adbdaf2061"
   },
   "outputs": [
    {
     "data": {
      "text/html": [
       "<pre style=\"white-space:pre;overflow-x:auto;line-height:normal;font-family:Menlo,'DejaVu Sans Mono',consolas,'Courier New',monospace\"><span style=\"color: #7fbfbf; text-decoration-color: #7fbfbf\">[15:22:46] </span><span style=\"color: #000080; text-decoration-color: #000080\">INFO    </span> Building <span style=\"color: #800000; text-decoration-color: #800000\">🡆</span> Object <span style=\"color: #800000; text-decoration-color: #800000\">CloudpickleSerializer</span> from <span style=\"color: #800000; text-decoration-color: #800000\">openfl.plugins.interface_serializer.cloudpickle_serializer</span> Module.                  <a href=\"file:///home/nesubuntu20nvda/miniconda3/envs/hack_openfl/lib/python3.8/site-packages/openfl/federated/plan/plan.py\" target=\"_blank\"><span style=\"color: #7f7f7f; text-decoration-color: #7f7f7f\">plan.py</span></a><span style=\"color: #7f7f7f; text-decoration-color: #7f7f7f\">:</span><a href=\"file:///home/nesubuntu20nvda/miniconda3/envs/hack_openfl/lib/python3.8/site-packages/openfl/federated/plan/plan.py#173\" target=\"_blank\"><span style=\"color: #7f7f7f; text-decoration-color: #7f7f7f\">173</span></a>\n",
       "</pre>\n"
      ],
      "text/plain": [
       "\u001b[2;36m[15:22:46]\u001b[0m\u001b[2;36m \u001b[0m\u001b[34mINFO    \u001b[0m Building \u001b[31m🡆\u001b[0m Object \u001b[31mCloudpickleSerializer\u001b[0m from \u001b[31mopenfl.plugins.interface_serializer.cloudpickle_serializer\u001b[0m Module.                  \u001b]8;id=435922;file:///home/nesubuntu20nvda/miniconda3/envs/hack_openfl/lib/python3.8/site-packages/openfl/federated/plan/plan.py\u001b\\\u001b[2mplan.py\u001b[0m\u001b]8;;\u001b\\\u001b[2m:\u001b[0m\u001b]8;id=251733;file:///home/nesubuntu20nvda/miniconda3/envs/hack_openfl/lib/python3.8/site-packages/openfl/federated/plan/plan.py#173\u001b\\\u001b[2m173\u001b[0m\u001b]8;;\u001b\\\n"
      ]
     },
     "metadata": {},
     "output_type": "display_data"
    },
    {
     "data": {
      "text/html": [
       "<pre style=\"white-space:pre;overflow-x:auto;line-height:normal;font-family:Menlo,'DejaVu Sans Mono',consolas,'Courier New',monospace\"><span style=\"color: #7fbfbf; text-decoration-color: #7fbfbf\">           </span><span style=\"color: #000080; text-decoration-color: #000080\">INFO    </span> Building <span style=\"color: #800000; text-decoration-color: #800000\">🡆</span> Object <span style=\"color: #800000; text-decoration-color: #800000\">FrameworkAdapterPlugin</span> from <span style=\"color: #800000; text-decoration-color: #800000\">openfl.plugins.frameworks_adapters.pytorch_adapter</span> Module.                         <a href=\"file:///home/nesubuntu20nvda/miniconda3/envs/hack_openfl/lib/python3.8/site-packages/openfl/federated/plan/plan.py\" target=\"_blank\"><span style=\"color: #7f7f7f; text-decoration-color: #7f7f7f\">plan.py</span></a><span style=\"color: #7f7f7f; text-decoration-color: #7f7f7f\">:</span><a href=\"file:///home/nesubuntu20nvda/miniconda3/envs/hack_openfl/lib/python3.8/site-packages/openfl/federated/plan/plan.py#173\" target=\"_blank\"><span style=\"color: #7f7f7f; text-decoration-color: #7f7f7f\">173</span></a>\n",
       "</pre>\n"
      ],
      "text/plain": [
       "\u001b[2;36m          \u001b[0m\u001b[2;36m \u001b[0m\u001b[34mINFO    \u001b[0m Building \u001b[31m🡆\u001b[0m Object \u001b[31mFrameworkAdapterPlugin\u001b[0m from \u001b[31mopenfl.plugins.frameworks_adapters.pytorch_adapter\u001b[0m Module.                         \u001b]8;id=455197;file:///home/nesubuntu20nvda/miniconda3/envs/hack_openfl/lib/python3.8/site-packages/openfl/federated/plan/plan.py\u001b\\\u001b[2mplan.py\u001b[0m\u001b]8;;\u001b\\\u001b[2m:\u001b[0m\u001b]8;id=456140;file:///home/nesubuntu20nvda/miniconda3/envs/hack_openfl/lib/python3.8/site-packages/openfl/federated/plan/plan.py#173\u001b\\\u001b[2m173\u001b[0m\u001b]8;;\u001b\\\n"
      ]
     },
     "metadata": {},
     "output_type": "display_data"
    },
    {
     "name": "stderr",
     "output_type": "stream",
     "text": [
      "/home/nesubuntu20nvda/miniconda3/envs/hack_openfl/lib/python3.8/site-packages/_distutils_hack/__init__.py:33: UserWarning: Setuptools is replacing distutils.\n",
      "  warnings.warn(\"Setuptools is replacing distutils.\")\n"
     ]
    },
    {
     "data": {
      "text/html": [
       "<pre style=\"white-space:pre;overflow-x:auto;line-height:normal;font-family:Menlo,'DejaVu Sans Mono',consolas,'Courier New',monospace\"><span style=\"color: #7fbfbf; text-decoration-color: #7fbfbf\">           </span><span style=\"color: #000080; text-decoration-color: #000080\">INFO    </span> Starting experiment!                                                                                                       <a href=\"file:///home/nesubuntu20nvda/miniconda3/envs/hack_openfl/lib/python3.8/site-packages/openfl/interface/interactive_api/experiment.py\" target=\"_blank\"><span style=\"color: #7f7f7f; text-decoration-color: #7f7f7f\">experiment.py</span></a><span style=\"color: #7f7f7f; text-decoration-color: #7f7f7f\">:</span><a href=\"file:///home/nesubuntu20nvda/miniconda3/envs/hack_openfl/lib/python3.8/site-packages/openfl/interface/interactive_api/experiment.py#232\" target=\"_blank\"><span style=\"color: #7f7f7f; text-decoration-color: #7f7f7f\">232</span></a>\n",
       "</pre>\n"
      ],
      "text/plain": [
       "\u001b[2;36m          \u001b[0m\u001b[2;36m \u001b[0m\u001b[34mINFO    \u001b[0m Starting experiment!                                                                                                       \u001b]8;id=469215;file:///home/nesubuntu20nvda/miniconda3/envs/hack_openfl/lib/python3.8/site-packages/openfl/interface/interactive_api/experiment.py\u001b\\\u001b[2mexperiment.py\u001b[0m\u001b]8;;\u001b\\\u001b[2m:\u001b[0m\u001b]8;id=933536;file:///home/nesubuntu20nvda/miniconda3/envs/hack_openfl/lib/python3.8/site-packages/openfl/interface/interactive_api/experiment.py#232\u001b\\\u001b[2m232\u001b[0m\u001b]8;;\u001b\\\n"
      ]
     },
     "metadata": {},
     "output_type": "display_data"
    },
    {
     "data": {
      "text/html": [
       "<pre style=\"white-space:pre;overflow-x:auto;line-height:normal;font-family:Menlo,'DejaVu Sans Mono',consolas,'Courier New',monospace\"><span style=\"color: #7fbfbf; text-decoration-color: #7fbfbf\">           </span><span style=\"color: #000080; text-decoration-color: #000080\">INFO    </span> FL-Plan hash is <span style=\"color: #000080; text-decoration-color: #000080\">e1d5a86e62cf1be070fbd584cf7a66279272ddb1ff6d3ee7cb5d12ee179ae6d5d253fd067652870a9d77864ee2725b1f</span>                 <a href=\"file:///home/nesubuntu20nvda/miniconda3/envs/hack_openfl/lib/python3.8/site-packages/openfl/federated/plan/plan.py\" target=\"_blank\"><span style=\"color: #7f7f7f; text-decoration-color: #7f7f7f\">plan.py</span></a><span style=\"color: #7f7f7f; text-decoration-color: #7f7f7f\">:</span><a href=\"file:///home/nesubuntu20nvda/miniconda3/envs/hack_openfl/lib/python3.8/site-packages/openfl/federated/plan/plan.py#237\" target=\"_blank\"><span style=\"color: #7f7f7f; text-decoration-color: #7f7f7f\">237</span></a>\n",
       "</pre>\n"
      ],
      "text/plain": [
       "\u001b[2;36m          \u001b[0m\u001b[2;36m \u001b[0m\u001b[34mINFO    \u001b[0m FL-Plan hash is \u001b[34me1d5a86e62cf1be070fbd584cf7a66279272ddb1ff6d3ee7cb5d12ee179ae6d5d253fd067652870a9d77864ee2725b1f\u001b[0m                 \u001b]8;id=335623;file:///home/nesubuntu20nvda/miniconda3/envs/hack_openfl/lib/python3.8/site-packages/openfl/federated/plan/plan.py\u001b\\\u001b[2mplan.py\u001b[0m\u001b]8;;\u001b\\\u001b[2m:\u001b[0m\u001b]8;id=225420;file:///home/nesubuntu20nvda/miniconda3/envs/hack_openfl/lib/python3.8/site-packages/openfl/federated/plan/plan.py#237\u001b\\\u001b[2m237\u001b[0m\u001b]8;;\u001b\\\n"
      ]
     },
     "metadata": {},
     "output_type": "display_data"
    },
    {
     "data": {
      "text/html": [
       "<pre style=\"white-space:pre;overflow-x:auto;line-height:normal;font-family:Menlo,'DejaVu Sans Mono',consolas,'Courier New',monospace\"><span style=\"color: #7fbfbf; text-decoration-color: #7fbfbf\">           </span><span style=\"color: #000080; text-decoration-color: #000080\">INFO    </span> FL-Plan hash is <span style=\"color: #000080; text-decoration-color: #000080\">e1d5a86e62cf1be070fbd584cf7a66279272ddb1ff6d3ee7cb5d12ee179ae6d5d253fd067652870a9d77864ee2725b1f</span>                 <a href=\"file:///home/nesubuntu20nvda/miniconda3/envs/hack_openfl/lib/python3.8/site-packages/openfl/federated/plan/plan.py\" target=\"_blank\"><span style=\"color: #7f7f7f; text-decoration-color: #7f7f7f\">plan.py</span></a><span style=\"color: #7f7f7f; text-decoration-color: #7f7f7f\">:</span><a href=\"file:///home/nesubuntu20nvda/miniconda3/envs/hack_openfl/lib/python3.8/site-packages/openfl/federated/plan/plan.py#237\" target=\"_blank\"><span style=\"color: #7f7f7f; text-decoration-color: #7f7f7f\">237</span></a>\n",
       "</pre>\n"
      ],
      "text/plain": [
       "\u001b[2;36m          \u001b[0m\u001b[2;36m \u001b[0m\u001b[34mINFO    \u001b[0m FL-Plan hash is \u001b[34me1d5a86e62cf1be070fbd584cf7a66279272ddb1ff6d3ee7cb5d12ee179ae6d5d253fd067652870a9d77864ee2725b1f\u001b[0m                 \u001b]8;id=296873;file:///home/nesubuntu20nvda/miniconda3/envs/hack_openfl/lib/python3.8/site-packages/openfl/federated/plan/plan.py\u001b\\\u001b[2mplan.py\u001b[0m\u001b]8;;\u001b\\\u001b[2m:\u001b[0m\u001b]8;id=754382;file:///home/nesubuntu20nvda/miniconda3/envs/hack_openfl/lib/python3.8/site-packages/openfl/federated/plan/plan.py#237\u001b\\\u001b[2m237\u001b[0m\u001b]8;;\u001b\\\n"
      ]
     },
     "metadata": {},
     "output_type": "display_data"
    },
    {
     "data": {
      "text/html": [
       "<pre style=\"white-space:pre;overflow-x:auto;line-height:normal;font-family:Menlo,'DejaVu Sans Mono',consolas,'Courier New',monospace\"><span style=\"color: #7fbfbf; text-decoration-color: #7fbfbf\">           </span><span style=\"color: #000080; text-decoration-color: #000080\">INFO    </span> Building <span style=\"color: #800000; text-decoration-color: #800000\">🡆</span> Object <span style=\"color: #800000; text-decoration-color: #800000\">CoreTaskRunner</span> from <span style=\"color: #800000; text-decoration-color: #800000\">openfl.federated.task.task_runner</span> Module.                                                  <a href=\"file:///home/nesubuntu20nvda/miniconda3/envs/hack_openfl/lib/python3.8/site-packages/openfl/federated/plan/plan.py\" target=\"_blank\"><span style=\"color: #7f7f7f; text-decoration-color: #7f7f7f\">plan.py</span></a><span style=\"color: #7f7f7f; text-decoration-color: #7f7f7f\">:</span><a href=\"file:///home/nesubuntu20nvda/miniconda3/envs/hack_openfl/lib/python3.8/site-packages/openfl/federated/plan/plan.py#173\" target=\"_blank\"><span style=\"color: #7f7f7f; text-decoration-color: #7f7f7f\">173</span></a>\n",
       "</pre>\n"
      ],
      "text/plain": [
       "\u001b[2;36m          \u001b[0m\u001b[2;36m \u001b[0m\u001b[34mINFO    \u001b[0m Building \u001b[31m🡆\u001b[0m Object \u001b[31mCoreTaskRunner\u001b[0m from \u001b[31mopenfl.federated.task.task_runner\u001b[0m Module.                                                  \u001b]8;id=761013;file:///home/nesubuntu20nvda/miniconda3/envs/hack_openfl/lib/python3.8/site-packages/openfl/federated/plan/plan.py\u001b\\\u001b[2mplan.py\u001b[0m\u001b]8;;\u001b\\\u001b[2m:\u001b[0m\u001b]8;id=329090;file:///home/nesubuntu20nvda/miniconda3/envs/hack_openfl/lib/python3.8/site-packages/openfl/federated/plan/plan.py#173\u001b\\\u001b[2m173\u001b[0m\u001b]8;;\u001b\\\n"
      ]
     },
     "metadata": {},
     "output_type": "display_data"
    },
    {
     "data": {
      "text/html": [
       "<pre style=\"white-space:pre;overflow-x:auto;line-height:normal;font-family:Menlo,'DejaVu Sans Mono',consolas,'Courier New',monospace\"><span style=\"color: #7fbfbf; text-decoration-color: #7fbfbf\">           </span><span style=\"color: #000080; text-decoration-color: #000080\">INFO    </span> Building <span style=\"color: #800000; text-decoration-color: #800000\">🡆</span> Object <span style=\"color: #800000; text-decoration-color: #800000\">FrameworkAdapterPlugin</span> from <span style=\"color: #800000; text-decoration-color: #800000\">openfl.plugins.frameworks_adapters.pytorch_adapter</span> Module.                         <a href=\"file:///home/nesubuntu20nvda/miniconda3/envs/hack_openfl/lib/python3.8/site-packages/openfl/federated/plan/plan.py\" target=\"_blank\"><span style=\"color: #7f7f7f; text-decoration-color: #7f7f7f\">plan.py</span></a><span style=\"color: #7f7f7f; text-decoration-color: #7f7f7f\">:</span><a href=\"file:///home/nesubuntu20nvda/miniconda3/envs/hack_openfl/lib/python3.8/site-packages/openfl/federated/plan/plan.py#173\" target=\"_blank\"><span style=\"color: #7f7f7f; text-decoration-color: #7f7f7f\">173</span></a>\n",
       "</pre>\n"
      ],
      "text/plain": [
       "\u001b[2;36m          \u001b[0m\u001b[2;36m \u001b[0m\u001b[34mINFO    \u001b[0m Building \u001b[31m🡆\u001b[0m Object \u001b[31mFrameworkAdapterPlugin\u001b[0m from \u001b[31mopenfl.plugins.frameworks_adapters.pytorch_adapter\u001b[0m Module.                         \u001b]8;id=460886;file:///home/nesubuntu20nvda/miniconda3/envs/hack_openfl/lib/python3.8/site-packages/openfl/federated/plan/plan.py\u001b\\\u001b[2mplan.py\u001b[0m\u001b]8;;\u001b\\\u001b[2m:\u001b[0m\u001b]8;id=535272;file:///home/nesubuntu20nvda/miniconda3/envs/hack_openfl/lib/python3.8/site-packages/openfl/federated/plan/plan.py#173\u001b\\\u001b[2m173\u001b[0m\u001b]8;;\u001b\\\n"
      ]
     },
     "metadata": {},
     "output_type": "display_data"
    },
    {
     "data": {
      "text/html": [
       "<pre style=\"white-space:pre;overflow-x:auto;line-height:normal;font-family:Menlo,'DejaVu Sans Mono',consolas,'Courier New',monospace\"><span style=\"color: #7fbfbf; text-decoration-color: #7fbfbf\">           </span><span style=\"color: #800000; text-decoration-color: #800000\">WARNING </span> tried to remove tensor: __opt_state_needed not present in the tensor dict                                                       <a href=\"file:///home/nesubuntu20nvda/miniconda3/envs/hack_openfl/lib/python3.8/site-packages/openfl/utilities/utils.py\" target=\"_blank\"><span style=\"color: #7f7f7f; text-decoration-color: #7f7f7f\">utils.py</span></a><span style=\"color: #7f7f7f; text-decoration-color: #7f7f7f\">:</span><a href=\"file:///home/nesubuntu20nvda/miniconda3/envs/hack_openfl/lib/python3.8/site-packages/openfl/utilities/utils.py#170\" target=\"_blank\"><span style=\"color: #7f7f7f; text-decoration-color: #7f7f7f\">170</span></a>\n",
       "</pre>\n"
      ],
      "text/plain": [
       "\u001b[2;36m          \u001b[0m\u001b[2;36m \u001b[0m\u001b[31mWARNING \u001b[0m tried to remove tensor: __opt_state_needed not present in the tensor dict                                                       \u001b]8;id=641679;file:///home/nesubuntu20nvda/miniconda3/envs/hack_openfl/lib/python3.8/site-packages/openfl/utilities/utils.py\u001b\\\u001b[2mutils.py\u001b[0m\u001b]8;;\u001b\\\u001b[2m:\u001b[0m\u001b]8;id=227221;file:///home/nesubuntu20nvda/miniconda3/envs/hack_openfl/lib/python3.8/site-packages/openfl/utilities/utils.py#170\u001b\\\u001b[2m170\u001b[0m\u001b]8;;\u001b\\\n"
      ]
     },
     "metadata": {},
     "output_type": "display_data"
    },
    {
     "data": {
      "text/html": [
       "<pre style=\"white-space:pre;overflow-x:auto;line-height:normal;font-family:Menlo,'DejaVu Sans Mono',consolas,'Courier New',monospace\"><span style=\"color: #7fbfbf; text-decoration-color: #7fbfbf\">           </span><span style=\"color: #800000; text-decoration-color: #800000\">WARNING </span> tried to remove tensor: __opt_state_needed not present in the tensor dict                                                       <a href=\"file:///home/nesubuntu20nvda/miniconda3/envs/hack_openfl/lib/python3.8/site-packages/openfl/utilities/utils.py\" target=\"_blank\"><span style=\"color: #7f7f7f; text-decoration-color: #7f7f7f\">utils.py</span></a><span style=\"color: #7f7f7f; text-decoration-color: #7f7f7f\">:</span><a href=\"file:///home/nesubuntu20nvda/miniconda3/envs/hack_openfl/lib/python3.8/site-packages/openfl/utilities/utils.py#170\" target=\"_blank\"><span style=\"color: #7f7f7f; text-decoration-color: #7f7f7f\">170</span></a>\n",
       "</pre>\n"
      ],
      "text/plain": [
       "\u001b[2;36m          \u001b[0m\u001b[2;36m \u001b[0m\u001b[31mWARNING \u001b[0m tried to remove tensor: __opt_state_needed not present in the tensor dict                                                       \u001b]8;id=879858;file:///home/nesubuntu20nvda/miniconda3/envs/hack_openfl/lib/python3.8/site-packages/openfl/utilities/utils.py\u001b\\\u001b[2mutils.py\u001b[0m\u001b]8;;\u001b\\\u001b[2m:\u001b[0m\u001b]8;id=650152;file:///home/nesubuntu20nvda/miniconda3/envs/hack_openfl/lib/python3.8/site-packages/openfl/utilities/utils.py#170\u001b\\\u001b[2m170\u001b[0m\u001b]8;;\u001b\\\n"
      ]
     },
     "metadata": {},
     "output_type": "display_data"
    },
    {
     "data": {
      "text/html": [
       "<pre style=\"white-space:pre;overflow-x:auto;line-height:normal;font-family:Menlo,'DejaVu Sans Mono',consolas,'Courier New',monospace\"><span style=\"color: #7fbfbf; text-decoration-color: #7fbfbf\">           </span><span style=\"color: #000080; text-decoration-color: #000080\">INFO    </span> SetNewExperiment                                                                                                      <a href=\"file:///home/nesubuntu20nvda/miniconda3/envs/hack_openfl/lib/python3.8/site-packages/openfl/transport/grpc/director_client.py\" target=\"_blank\"><span style=\"color: #7f7f7f; text-decoration-color: #7f7f7f\">director_client.py</span></a><span style=\"color: #7f7f7f; text-decoration-color: #7f7f7f\">:</span><a href=\"file:///home/nesubuntu20nvda/miniconda3/envs/hack_openfl/lib/python3.8/site-packages/openfl/transport/grpc/director_client.py#202\" target=\"_blank\"><span style=\"color: #7f7f7f; text-decoration-color: #7f7f7f\">202</span></a>\n",
       "</pre>\n"
      ],
      "text/plain": [
       "\u001b[2;36m          \u001b[0m\u001b[2;36m \u001b[0m\u001b[34mINFO    \u001b[0m SetNewExperiment                                                                                                      \u001b]8;id=598768;file:///home/nesubuntu20nvda/miniconda3/envs/hack_openfl/lib/python3.8/site-packages/openfl/transport/grpc/director_client.py\u001b\\\u001b[2mdirector_client.py\u001b[0m\u001b]8;;\u001b\\\u001b[2m:\u001b[0m\u001b]8;id=663425;file:///home/nesubuntu20nvda/miniconda3/envs/hack_openfl/lib/python3.8/site-packages/openfl/transport/grpc/director_client.py#202\u001b\\\u001b[2m202\u001b[0m\u001b]8;;\u001b\\\n"
      ]
     },
     "metadata": {},
     "output_type": "display_data"
    },
    {
     "data": {
      "text/html": [
       "<pre style=\"white-space:pre;overflow-x:auto;line-height:normal;font-family:Menlo,'DejaVu Sans Mono',consolas,'Courier New',monospace\"><span style=\"color: #7fbfbf; text-decoration-color: #7fbfbf\">           </span><span style=\"color: #000080; text-decoration-color: #000080\">INFO    </span> Experiment was accepted and launched.                                                                                      <a href=\"file:///home/nesubuntu20nvda/miniconda3/envs/hack_openfl/lib/python3.8/site-packages/openfl/interface/interactive_api/experiment.py\" target=\"_blank\"><span style=\"color: #7f7f7f; text-decoration-color: #7f7f7f\">experiment.py</span></a><span style=\"color: #7f7f7f; text-decoration-color: #7f7f7f\">:</span><a href=\"file:///home/nesubuntu20nvda/miniconda3/envs/hack_openfl/lib/python3.8/site-packages/openfl/interface/interactive_api/experiment.py#246\" target=\"_blank\"><span style=\"color: #7f7f7f; text-decoration-color: #7f7f7f\">246</span></a>\n",
       "</pre>\n"
      ],
      "text/plain": [
       "\u001b[2;36m          \u001b[0m\u001b[2;36m \u001b[0m\u001b[34mINFO    \u001b[0m Experiment was accepted and launched.                                                                                      \u001b]8;id=729824;file:///home/nesubuntu20nvda/miniconda3/envs/hack_openfl/lib/python3.8/site-packages/openfl/interface/interactive_api/experiment.py\u001b\\\u001b[2mexperiment.py\u001b[0m\u001b]8;;\u001b\\\u001b[2m:\u001b[0m\u001b]8;id=648152;file:///home/nesubuntu20nvda/miniconda3/envs/hack_openfl/lib/python3.8/site-packages/openfl/interface/interactive_api/experiment.py#246\u001b\\\u001b[2m246\u001b[0m\u001b]8;;\u001b\\\n"
      ]
     },
     "metadata": {},
     "output_type": "display_data"
    }
   ],
   "source": [
    "from openfl.interface.interactive_api.experiment import FLExperiment\n",
    "\n",
    "fl_experiment = FLExperiment(federation=federation,\n",
    "                             experiment_name='bloodmnist2d_experiment')\n",
    "fl_experiment.start(model_provider=MI,\n",
    "                    task_keeper=TI,\n",
    "                    data_loader=fed_dataset,\n",
    "                    rounds_to_train=3,\n",
    "                    device_assignment_policy='CUDA_PREFERRED')"
   ]
  },
  {
   "cell_type": "code",
   "execution_count": 21,
   "id": "4909be2b-d23b-4356-b2af-10a212382d52",
   "metadata": {
    "colab": {
     "base_uri": "https://localhost:8080/"
    },
    "id": "4909be2b-d23b-4356-b2af-10a212382d52",
    "outputId": "e24b859b-0ac2-4dce-ab1e-ed97932d632c",
    "scrolled": false,
    "tags": []
   },
   "outputs": [
    {
     "data": {
      "text/html": [
       "<pre style=\"white-space:pre;overflow-x:auto;line-height:normal;font-family:Menlo,'DejaVu Sans Mono',consolas,'Courier New',monospace\"><span style=\"color: #7fbfbf; text-decoration-color: #7fbfbf\">[15:22:58] </span>METRIC   Round <span style=\"color: #008080; text-decoration-color: #008080; font-weight: bold\">0</span>, collaborator trained train result train_acc:   <span style=\"color: #008080; text-decoration-color: #008080; font-weight: bold\">0.679000</span>                                                           <a href=\"file:///home/nesubuntu20nvda/miniconda3/envs/hack_openfl/lib/python3.8/site-packages/openfl/interface/interactive_api/experiment.py\" target=\"_blank\"><span style=\"color: #7f7f7f; text-decoration-color: #7f7f7f\">experiment.py</span></a><span style=\"color: #7f7f7f; text-decoration-color: #7f7f7f\">:</span><a href=\"file:///home/nesubuntu20nvda/miniconda3/envs/hack_openfl/lib/python3.8/site-packages/openfl/interface/interactive_api/experiment.py#132\" target=\"_blank\"><span style=\"color: #7f7f7f; text-decoration-color: #7f7f7f\">132</span></a>\n",
       "</pre>\n"
      ],
      "text/plain": [
       "\u001b[2;36m[15:22:58]\u001b[0m\u001b[2;36m \u001b[0mMETRIC   Round \u001b[1;36m0\u001b[0m, collaborator trained train result train_acc:   \u001b[1;36m0.679000\u001b[0m                                                           \u001b]8;id=820951;file:///home/nesubuntu20nvda/miniconda3/envs/hack_openfl/lib/python3.8/site-packages/openfl/interface/interactive_api/experiment.py\u001b\\\u001b[2mexperiment.py\u001b[0m\u001b]8;;\u001b\\\u001b[2m:\u001b[0m\u001b]8;id=935945;file:///home/nesubuntu20nvda/miniconda3/envs/hack_openfl/lib/python3.8/site-packages/openfl/interface/interactive_api/experiment.py#132\u001b\\\u001b[2m132\u001b[0m\u001b]8;;\u001b\\\n"
      ]
     },
     "metadata": {},
     "output_type": "display_data"
    },
    {
     "data": {
      "text/html": [
       "<pre style=\"white-space:pre;overflow-x:auto;line-height:normal;font-family:Menlo,'DejaVu Sans Mono',consolas,'Courier New',monospace\"><span style=\"color: #7fbfbf; text-decoration-color: #7fbfbf\">           </span>METRIC   Round <span style=\"color: #008080; text-decoration-color: #008080; font-weight: bold\">0</span>, collaborator trained train result train_loss:  <span style=\"color: #008080; text-decoration-color: #008080; font-weight: bold\">1.265000</span>                                                           <a href=\"file:///home/nesubuntu20nvda/miniconda3/envs/hack_openfl/lib/python3.8/site-packages/openfl/interface/interactive_api/experiment.py\" target=\"_blank\"><span style=\"color: #7f7f7f; text-decoration-color: #7f7f7f\">experiment.py</span></a><span style=\"color: #7f7f7f; text-decoration-color: #7f7f7f\">:</span><a href=\"file:///home/nesubuntu20nvda/miniconda3/envs/hack_openfl/lib/python3.8/site-packages/openfl/interface/interactive_api/experiment.py#132\" target=\"_blank\"><span style=\"color: #7f7f7f; text-decoration-color: #7f7f7f\">132</span></a>\n",
       "</pre>\n"
      ],
      "text/plain": [
       "\u001b[2;36m          \u001b[0m\u001b[2;36m \u001b[0mMETRIC   Round \u001b[1;36m0\u001b[0m, collaborator trained train result train_loss:  \u001b[1;36m1.265000\u001b[0m                                                           \u001b]8;id=721353;file:///home/nesubuntu20nvda/miniconda3/envs/hack_openfl/lib/python3.8/site-packages/openfl/interface/interactive_api/experiment.py\u001b\\\u001b[2mexperiment.py\u001b[0m\u001b]8;;\u001b\\\u001b[2m:\u001b[0m\u001b]8;id=584763;file:///home/nesubuntu20nvda/miniconda3/envs/hack_openfl/lib/python3.8/site-packages/openfl/interface/interactive_api/experiment.py#132\u001b\\\u001b[2m132\u001b[0m\u001b]8;;\u001b\\\n"
      ]
     },
     "metadata": {},
     "output_type": "display_data"
    },
    {
     "data": {
      "text/html": [
       "<pre style=\"white-space:pre;overflow-x:auto;line-height:normal;font-family:Menlo,'DejaVu Sans Mono',consolas,'Courier New',monospace\"><span style=\"color: #7fbfbf; text-decoration-color: #7fbfbf\">           </span>METRIC   Round <span style=\"color: #008080; text-decoration-color: #008080; font-weight: bold\">0</span>, collaborator trained train result train_acc:   <span style=\"color: #008080; text-decoration-color: #008080; font-weight: bold\">0.556000</span>                                                           <a href=\"file:///home/nesubuntu20nvda/miniconda3/envs/hack_openfl/lib/python3.8/site-packages/openfl/interface/interactive_api/experiment.py\" target=\"_blank\"><span style=\"color: #7f7f7f; text-decoration-color: #7f7f7f\">experiment.py</span></a><span style=\"color: #7f7f7f; text-decoration-color: #7f7f7f\">:</span><a href=\"file:///home/nesubuntu20nvda/miniconda3/envs/hack_openfl/lib/python3.8/site-packages/openfl/interface/interactive_api/experiment.py#132\" target=\"_blank\"><span style=\"color: #7f7f7f; text-decoration-color: #7f7f7f\">132</span></a>\n",
       "</pre>\n"
      ],
      "text/plain": [
       "\u001b[2;36m          \u001b[0m\u001b[2;36m \u001b[0mMETRIC   Round \u001b[1;36m0\u001b[0m, collaborator trained train result train_acc:   \u001b[1;36m0.556000\u001b[0m                                                           \u001b]8;id=659849;file:///home/nesubuntu20nvda/miniconda3/envs/hack_openfl/lib/python3.8/site-packages/openfl/interface/interactive_api/experiment.py\u001b\\\u001b[2mexperiment.py\u001b[0m\u001b]8;;\u001b\\\u001b[2m:\u001b[0m\u001b]8;id=519060;file:///home/nesubuntu20nvda/miniconda3/envs/hack_openfl/lib/python3.8/site-packages/openfl/interface/interactive_api/experiment.py#132\u001b\\\u001b[2m132\u001b[0m\u001b]8;;\u001b\\\n"
      ]
     },
     "metadata": {},
     "output_type": "display_data"
    },
    {
     "data": {
      "text/html": [
       "<pre style=\"white-space:pre;overflow-x:auto;line-height:normal;font-family:Menlo,'DejaVu Sans Mono',consolas,'Courier New',monospace\"><span style=\"color: #7fbfbf; text-decoration-color: #7fbfbf\">           </span>METRIC   Round <span style=\"color: #008080; text-decoration-color: #008080; font-weight: bold\">0</span>, collaborator trained train result train_loss:  <span style=\"color: #008080; text-decoration-color: #008080; font-weight: bold\">1.293000</span>                                                           <a href=\"file:///home/nesubuntu20nvda/miniconda3/envs/hack_openfl/lib/python3.8/site-packages/openfl/interface/interactive_api/experiment.py\" target=\"_blank\"><span style=\"color: #7f7f7f; text-decoration-color: #7f7f7f\">experiment.py</span></a><span style=\"color: #7f7f7f; text-decoration-color: #7f7f7f\">:</span><a href=\"file:///home/nesubuntu20nvda/miniconda3/envs/hack_openfl/lib/python3.8/site-packages/openfl/interface/interactive_api/experiment.py#132\" target=\"_blank\"><span style=\"color: #7f7f7f; text-decoration-color: #7f7f7f\">132</span></a>\n",
       "</pre>\n"
      ],
      "text/plain": [
       "\u001b[2;36m          \u001b[0m\u001b[2;36m \u001b[0mMETRIC   Round \u001b[1;36m0\u001b[0m, collaborator trained train result train_loss:  \u001b[1;36m1.293000\u001b[0m                                                           \u001b]8;id=112668;file:///home/nesubuntu20nvda/miniconda3/envs/hack_openfl/lib/python3.8/site-packages/openfl/interface/interactive_api/experiment.py\u001b\\\u001b[2mexperiment.py\u001b[0m\u001b]8;;\u001b\\\u001b[2m:\u001b[0m\u001b]8;id=805845;file:///home/nesubuntu20nvda/miniconda3/envs/hack_openfl/lib/python3.8/site-packages/openfl/interface/interactive_api/experiment.py#132\u001b\\\u001b[2m132\u001b[0m\u001b]8;;\u001b\\\n"
      ]
     },
     "metadata": {},
     "output_type": "display_data"
    },
    {
     "data": {
      "text/html": [
       "<pre style=\"white-space:pre;overflow-x:auto;line-height:normal;font-family:Menlo,'DejaVu Sans Mono',consolas,'Courier New',monospace\"><span style=\"color: #7fbfbf; text-decoration-color: #7fbfbf\">           </span>METRIC   Round <span style=\"color: #008080; text-decoration-color: #008080; font-weight: bold\">0</span>, collaborator validate_local locally_tuned_model_validate result val_acc:       <span style=\"color: #008080; text-decoration-color: #008080; font-weight: bold\">0.763000</span>                           <a href=\"file:///home/nesubuntu20nvda/miniconda3/envs/hack_openfl/lib/python3.8/site-packages/openfl/interface/interactive_api/experiment.py\" target=\"_blank\"><span style=\"color: #7f7f7f; text-decoration-color: #7f7f7f\">experiment.py</span></a><span style=\"color: #7f7f7f; text-decoration-color: #7f7f7f\">:</span><a href=\"file:///home/nesubuntu20nvda/miniconda3/envs/hack_openfl/lib/python3.8/site-packages/openfl/interface/interactive_api/experiment.py#132\" target=\"_blank\"><span style=\"color: #7f7f7f; text-decoration-color: #7f7f7f\">132</span></a>\n",
       "</pre>\n"
      ],
      "text/plain": [
       "\u001b[2;36m          \u001b[0m\u001b[2;36m \u001b[0mMETRIC   Round \u001b[1;36m0\u001b[0m, collaborator validate_local locally_tuned_model_validate result val_acc:       \u001b[1;36m0.763000\u001b[0m                           \u001b]8;id=500589;file:///home/nesubuntu20nvda/miniconda3/envs/hack_openfl/lib/python3.8/site-packages/openfl/interface/interactive_api/experiment.py\u001b\\\u001b[2mexperiment.py\u001b[0m\u001b]8;;\u001b\\\u001b[2m:\u001b[0m\u001b]8;id=443200;file:///home/nesubuntu20nvda/miniconda3/envs/hack_openfl/lib/python3.8/site-packages/openfl/interface/interactive_api/experiment.py#132\u001b\\\u001b[2m132\u001b[0m\u001b]8;;\u001b\\\n"
      ]
     },
     "metadata": {},
     "output_type": "display_data"
    },
    {
     "data": {
      "text/html": [
       "<pre style=\"white-space:pre;overflow-x:auto;line-height:normal;font-family:Menlo,'DejaVu Sans Mono',consolas,'Courier New',monospace\"><span style=\"color: #7fbfbf; text-decoration-color: #7fbfbf\">           </span>METRIC   Round <span style=\"color: #008080; text-decoration-color: #008080; font-weight: bold\">0</span>, collaborator validate_local locally_tuned_model_validate result val_loss:      <span style=\"color: #008080; text-decoration-color: #008080; font-weight: bold\">0.745000</span>                           <a href=\"file:///home/nesubuntu20nvda/miniconda3/envs/hack_openfl/lib/python3.8/site-packages/openfl/interface/interactive_api/experiment.py\" target=\"_blank\"><span style=\"color: #7f7f7f; text-decoration-color: #7f7f7f\">experiment.py</span></a><span style=\"color: #7f7f7f; text-decoration-color: #7f7f7f\">:</span><a href=\"file:///home/nesubuntu20nvda/miniconda3/envs/hack_openfl/lib/python3.8/site-packages/openfl/interface/interactive_api/experiment.py#132\" target=\"_blank\"><span style=\"color: #7f7f7f; text-decoration-color: #7f7f7f\">132</span></a>\n",
       "</pre>\n"
      ],
      "text/plain": [
       "\u001b[2;36m          \u001b[0m\u001b[2;36m \u001b[0mMETRIC   Round \u001b[1;36m0\u001b[0m, collaborator validate_local locally_tuned_model_validate result val_loss:      \u001b[1;36m0.745000\u001b[0m                           \u001b]8;id=25970;file:///home/nesubuntu20nvda/miniconda3/envs/hack_openfl/lib/python3.8/site-packages/openfl/interface/interactive_api/experiment.py\u001b\\\u001b[2mexperiment.py\u001b[0m\u001b]8;;\u001b\\\u001b[2m:\u001b[0m\u001b]8;id=144002;file:///home/nesubuntu20nvda/miniconda3/envs/hack_openfl/lib/python3.8/site-packages/openfl/interface/interactive_api/experiment.py#132\u001b\\\u001b[2m132\u001b[0m\u001b]8;;\u001b\\\n"
      ]
     },
     "metadata": {},
     "output_type": "display_data"
    },
    {
     "data": {
      "text/html": [
       "<pre style=\"white-space:pre;overflow-x:auto;line-height:normal;font-family:Menlo,'DejaVu Sans Mono',consolas,'Courier New',monospace\"><span style=\"color: #7fbfbf; text-decoration-color: #7fbfbf\">           </span>METRIC   Round <span style=\"color: #008080; text-decoration-color: #008080; font-weight: bold\">0</span>, collaborator validate_local locally_tuned_model_validate result val_acc:       <span style=\"color: #008080; text-decoration-color: #008080; font-weight: bold\">0.746000</span>                           <a href=\"file:///home/nesubuntu20nvda/miniconda3/envs/hack_openfl/lib/python3.8/site-packages/openfl/interface/interactive_api/experiment.py\" target=\"_blank\"><span style=\"color: #7f7f7f; text-decoration-color: #7f7f7f\">experiment.py</span></a><span style=\"color: #7f7f7f; text-decoration-color: #7f7f7f\">:</span><a href=\"file:///home/nesubuntu20nvda/miniconda3/envs/hack_openfl/lib/python3.8/site-packages/openfl/interface/interactive_api/experiment.py#132\" target=\"_blank\"><span style=\"color: #7f7f7f; text-decoration-color: #7f7f7f\">132</span></a>\n",
       "</pre>\n"
      ],
      "text/plain": [
       "\u001b[2;36m          \u001b[0m\u001b[2;36m \u001b[0mMETRIC   Round \u001b[1;36m0\u001b[0m, collaborator validate_local locally_tuned_model_validate result val_acc:       \u001b[1;36m0.746000\u001b[0m                           \u001b]8;id=70335;file:///home/nesubuntu20nvda/miniconda3/envs/hack_openfl/lib/python3.8/site-packages/openfl/interface/interactive_api/experiment.py\u001b\\\u001b[2mexperiment.py\u001b[0m\u001b]8;;\u001b\\\u001b[2m:\u001b[0m\u001b]8;id=413043;file:///home/nesubuntu20nvda/miniconda3/envs/hack_openfl/lib/python3.8/site-packages/openfl/interface/interactive_api/experiment.py#132\u001b\\\u001b[2m132\u001b[0m\u001b]8;;\u001b\\\n"
      ]
     },
     "metadata": {},
     "output_type": "display_data"
    },
    {
     "data": {
      "text/html": [
       "<pre style=\"white-space:pre;overflow-x:auto;line-height:normal;font-family:Menlo,'DejaVu Sans Mono',consolas,'Courier New',monospace\"><span style=\"color: #7fbfbf; text-decoration-color: #7fbfbf\">           </span>METRIC   Round <span style=\"color: #008080; text-decoration-color: #008080; font-weight: bold\">0</span>, collaborator validate_local locally_tuned_model_validate result val_loss:      <span style=\"color: #008080; text-decoration-color: #008080; font-weight: bold\">0.750000</span>                           <a href=\"file:///home/nesubuntu20nvda/miniconda3/envs/hack_openfl/lib/python3.8/site-packages/openfl/interface/interactive_api/experiment.py\" target=\"_blank\"><span style=\"color: #7f7f7f; text-decoration-color: #7f7f7f\">experiment.py</span></a><span style=\"color: #7f7f7f; text-decoration-color: #7f7f7f\">:</span><a href=\"file:///home/nesubuntu20nvda/miniconda3/envs/hack_openfl/lib/python3.8/site-packages/openfl/interface/interactive_api/experiment.py#132\" target=\"_blank\"><span style=\"color: #7f7f7f; text-decoration-color: #7f7f7f\">132</span></a>\n",
       "</pre>\n"
      ],
      "text/plain": [
       "\u001b[2;36m          \u001b[0m\u001b[2;36m \u001b[0mMETRIC   Round \u001b[1;36m0\u001b[0m, collaborator validate_local locally_tuned_model_validate result val_loss:      \u001b[1;36m0.750000\u001b[0m                           \u001b]8;id=522021;file:///home/nesubuntu20nvda/miniconda3/envs/hack_openfl/lib/python3.8/site-packages/openfl/interface/interactive_api/experiment.py\u001b\\\u001b[2mexperiment.py\u001b[0m\u001b]8;;\u001b\\\u001b[2m:\u001b[0m\u001b]8;id=759175;file:///home/nesubuntu20nvda/miniconda3/envs/hack_openfl/lib/python3.8/site-packages/openfl/interface/interactive_api/experiment.py#132\u001b\\\u001b[2m132\u001b[0m\u001b]8;;\u001b\\\n"
      ]
     },
     "metadata": {},
     "output_type": "display_data"
    },
    {
     "data": {
      "text/html": [
       "<pre style=\"white-space:pre;overflow-x:auto;line-height:normal;font-family:Menlo,'DejaVu Sans Mono',consolas,'Courier New',monospace\"><span style=\"color: #7fbfbf; text-decoration-color: #7fbfbf\">[15:22:59] </span>METRIC   Round <span style=\"color: #008080; text-decoration-color: #008080; font-weight: bold\">0</span>, collaborator validate_agg aggregated_model_validate result val_acc:    <span style=\"color: #008080; text-decoration-color: #008080; font-weight: bold\">0.125000</span>                                   <a href=\"file:///home/nesubuntu20nvda/miniconda3/envs/hack_openfl/lib/python3.8/site-packages/openfl/interface/interactive_api/experiment.py\" target=\"_blank\"><span style=\"color: #7f7f7f; text-decoration-color: #7f7f7f\">experiment.py</span></a><span style=\"color: #7f7f7f; text-decoration-color: #7f7f7f\">:</span><a href=\"file:///home/nesubuntu20nvda/miniconda3/envs/hack_openfl/lib/python3.8/site-packages/openfl/interface/interactive_api/experiment.py#132\" target=\"_blank\"><span style=\"color: #7f7f7f; text-decoration-color: #7f7f7f\">132</span></a>\n",
       "</pre>\n"
      ],
      "text/plain": [
       "\u001b[2;36m[15:22:59]\u001b[0m\u001b[2;36m \u001b[0mMETRIC   Round \u001b[1;36m0\u001b[0m, collaborator validate_agg aggregated_model_validate result val_acc:    \u001b[1;36m0.125000\u001b[0m                                   \u001b]8;id=842602;file:///home/nesubuntu20nvda/miniconda3/envs/hack_openfl/lib/python3.8/site-packages/openfl/interface/interactive_api/experiment.py\u001b\\\u001b[2mexperiment.py\u001b[0m\u001b]8;;\u001b\\\u001b[2m:\u001b[0m\u001b]8;id=899573;file:///home/nesubuntu20nvda/miniconda3/envs/hack_openfl/lib/python3.8/site-packages/openfl/interface/interactive_api/experiment.py#132\u001b\\\u001b[2m132\u001b[0m\u001b]8;;\u001b\\\n"
      ]
     },
     "metadata": {},
     "output_type": "display_data"
    },
    {
     "data": {
      "text/html": [
       "<pre style=\"white-space:pre;overflow-x:auto;line-height:normal;font-family:Menlo,'DejaVu Sans Mono',consolas,'Courier New',monospace\"><span style=\"color: #7fbfbf; text-decoration-color: #7fbfbf\">           </span>METRIC   Round <span style=\"color: #008080; text-decoration-color: #008080; font-weight: bold\">0</span>, collaborator validate_agg aggregated_model_validate result val_loss:   <span style=\"color: #008080; text-decoration-color: #008080; font-weight: bold\">2.093000</span>                                   <a href=\"file:///home/nesubuntu20nvda/miniconda3/envs/hack_openfl/lib/python3.8/site-packages/openfl/interface/interactive_api/experiment.py\" target=\"_blank\"><span style=\"color: #7f7f7f; text-decoration-color: #7f7f7f\">experiment.py</span></a><span style=\"color: #7f7f7f; text-decoration-color: #7f7f7f\">:</span><a href=\"file:///home/nesubuntu20nvda/miniconda3/envs/hack_openfl/lib/python3.8/site-packages/openfl/interface/interactive_api/experiment.py#132\" target=\"_blank\"><span style=\"color: #7f7f7f; text-decoration-color: #7f7f7f\">132</span></a>\n",
       "</pre>\n"
      ],
      "text/plain": [
       "\u001b[2;36m          \u001b[0m\u001b[2;36m \u001b[0mMETRIC   Round \u001b[1;36m0\u001b[0m, collaborator validate_agg aggregated_model_validate result val_loss:   \u001b[1;36m2.093000\u001b[0m                                   \u001b]8;id=730453;file:///home/nesubuntu20nvda/miniconda3/envs/hack_openfl/lib/python3.8/site-packages/openfl/interface/interactive_api/experiment.py\u001b\\\u001b[2mexperiment.py\u001b[0m\u001b]8;;\u001b\\\u001b[2m:\u001b[0m\u001b]8;id=662903;file:///home/nesubuntu20nvda/miniconda3/envs/hack_openfl/lib/python3.8/site-packages/openfl/interface/interactive_api/experiment.py#132\u001b\\\u001b[2m132\u001b[0m\u001b]8;;\u001b\\\n"
      ]
     },
     "metadata": {},
     "output_type": "display_data"
    },
    {
     "data": {
      "text/html": [
       "<pre style=\"white-space:pre;overflow-x:auto;line-height:normal;font-family:Menlo,'DejaVu Sans Mono',consolas,'Courier New',monospace\"><span style=\"color: #7fbfbf; text-decoration-color: #7fbfbf\">           </span>METRIC   Round <span style=\"color: #008080; text-decoration-color: #008080; font-weight: bold\">0</span>, collaborator validate_agg aggregated_model_validate result val_acc:    <span style=\"color: #008080; text-decoration-color: #008080; font-weight: bold\">0.150000</span>                                   <a href=\"file:///home/nesubuntu20nvda/miniconda3/envs/hack_openfl/lib/python3.8/site-packages/openfl/interface/interactive_api/experiment.py\" target=\"_blank\"><span style=\"color: #7f7f7f; text-decoration-color: #7f7f7f\">experiment.py</span></a><span style=\"color: #7f7f7f; text-decoration-color: #7f7f7f\">:</span><a href=\"file:///home/nesubuntu20nvda/miniconda3/envs/hack_openfl/lib/python3.8/site-packages/openfl/interface/interactive_api/experiment.py#132\" target=\"_blank\"><span style=\"color: #7f7f7f; text-decoration-color: #7f7f7f\">132</span></a>\n",
       "</pre>\n"
      ],
      "text/plain": [
       "\u001b[2;36m          \u001b[0m\u001b[2;36m \u001b[0mMETRIC   Round \u001b[1;36m0\u001b[0m, collaborator validate_agg aggregated_model_validate result val_acc:    \u001b[1;36m0.150000\u001b[0m                                   \u001b]8;id=929637;file:///home/nesubuntu20nvda/miniconda3/envs/hack_openfl/lib/python3.8/site-packages/openfl/interface/interactive_api/experiment.py\u001b\\\u001b[2mexperiment.py\u001b[0m\u001b]8;;\u001b\\\u001b[2m:\u001b[0m\u001b]8;id=931986;file:///home/nesubuntu20nvda/miniconda3/envs/hack_openfl/lib/python3.8/site-packages/openfl/interface/interactive_api/experiment.py#132\u001b\\\u001b[2m132\u001b[0m\u001b]8;;\u001b\\\n"
      ]
     },
     "metadata": {},
     "output_type": "display_data"
    },
    {
     "data": {
      "text/html": [
       "<pre style=\"white-space:pre;overflow-x:auto;line-height:normal;font-family:Menlo,'DejaVu Sans Mono',consolas,'Courier New',monospace\"><span style=\"color: #7fbfbf; text-decoration-color: #7fbfbf\">           </span>METRIC   Round <span style=\"color: #008080; text-decoration-color: #008080; font-weight: bold\">0</span>, collaborator validate_agg aggregated_model_validate result val_loss:   <span style=\"color: #008080; text-decoration-color: #008080; font-weight: bold\">2.089000</span>                                   <a href=\"file:///home/nesubuntu20nvda/miniconda3/envs/hack_openfl/lib/python3.8/site-packages/openfl/interface/interactive_api/experiment.py\" target=\"_blank\"><span style=\"color: #7f7f7f; text-decoration-color: #7f7f7f\">experiment.py</span></a><span style=\"color: #7f7f7f; text-decoration-color: #7f7f7f\">:</span><a href=\"file:///home/nesubuntu20nvda/miniconda3/envs/hack_openfl/lib/python3.8/site-packages/openfl/interface/interactive_api/experiment.py#132\" target=\"_blank\"><span style=\"color: #7f7f7f; text-decoration-color: #7f7f7f\">132</span></a>\n",
       "</pre>\n"
      ],
      "text/plain": [
       "\u001b[2;36m          \u001b[0m\u001b[2;36m \u001b[0mMETRIC   Round \u001b[1;36m0\u001b[0m, collaborator validate_agg aggregated_model_validate result val_loss:   \u001b[1;36m2.089000\u001b[0m                                   \u001b]8;id=407894;file:///home/nesubuntu20nvda/miniconda3/envs/hack_openfl/lib/python3.8/site-packages/openfl/interface/interactive_api/experiment.py\u001b\\\u001b[2mexperiment.py\u001b[0m\u001b]8;;\u001b\\\u001b[2m:\u001b[0m\u001b]8;id=824562;file:///home/nesubuntu20nvda/miniconda3/envs/hack_openfl/lib/python3.8/site-packages/openfl/interface/interactive_api/experiment.py#132\u001b\\\u001b[2m132\u001b[0m\u001b]8;;\u001b\\\n"
      ]
     },
     "metadata": {},
     "output_type": "display_data"
    },
    {
     "data": {
      "text/html": [
       "<pre style=\"white-space:pre;overflow-x:auto;line-height:normal;font-family:Menlo,'DejaVu Sans Mono',consolas,'Courier New',monospace\"><span style=\"color: #7fbfbf; text-decoration-color: #7fbfbf\">[15:23:00] </span>METRIC   Round <span style=\"color: #008080; text-decoration-color: #008080; font-weight: bold\">0</span>, collaborator Aggregator train result train_acc:        <span style=\"color: #008080; text-decoration-color: #008080; font-weight: bold\">0.617505</span>                                                   <a href=\"file:///home/nesubuntu20nvda/miniconda3/envs/hack_openfl/lib/python3.8/site-packages/openfl/interface/interactive_api/experiment.py\" target=\"_blank\"><span style=\"color: #7f7f7f; text-decoration-color: #7f7f7f\">experiment.py</span></a><span style=\"color: #7f7f7f; text-decoration-color: #7f7f7f\">:</span><a href=\"file:///home/nesubuntu20nvda/miniconda3/envs/hack_openfl/lib/python3.8/site-packages/openfl/interface/interactive_api/experiment.py#132\" target=\"_blank\"><span style=\"color: #7f7f7f; text-decoration-color: #7f7f7f\">132</span></a>\n",
       "</pre>\n"
      ],
      "text/plain": [
       "\u001b[2;36m[15:23:00]\u001b[0m\u001b[2;36m \u001b[0mMETRIC   Round \u001b[1;36m0\u001b[0m, collaborator Aggregator train result train_acc:        \u001b[1;36m0.617505\u001b[0m                                                   \u001b]8;id=277606;file:///home/nesubuntu20nvda/miniconda3/envs/hack_openfl/lib/python3.8/site-packages/openfl/interface/interactive_api/experiment.py\u001b\\\u001b[2mexperiment.py\u001b[0m\u001b]8;;\u001b\\\u001b[2m:\u001b[0m\u001b]8;id=275814;file:///home/nesubuntu20nvda/miniconda3/envs/hack_openfl/lib/python3.8/site-packages/openfl/interface/interactive_api/experiment.py#132\u001b\\\u001b[2m132\u001b[0m\u001b]8;;\u001b\\\n"
      ]
     },
     "metadata": {},
     "output_type": "display_data"
    },
    {
     "data": {
      "text/html": [
       "<pre style=\"white-space:pre;overflow-x:auto;line-height:normal;font-family:Menlo,'DejaVu Sans Mono',consolas,'Courier New',monospace\"><span style=\"color: #7fbfbf; text-decoration-color: #7fbfbf\">           </span>METRIC   Round <span style=\"color: #008080; text-decoration-color: #008080; font-weight: bold\">0</span>, collaborator Aggregator train result train_loss:       <span style=\"color: #008080; text-decoration-color: #008080; font-weight: bold\">1.278999</span>                                                   <a href=\"file:///home/nesubuntu20nvda/miniconda3/envs/hack_openfl/lib/python3.8/site-packages/openfl/interface/interactive_api/experiment.py\" target=\"_blank\"><span style=\"color: #7f7f7f; text-decoration-color: #7f7f7f\">experiment.py</span></a><span style=\"color: #7f7f7f; text-decoration-color: #7f7f7f\">:</span><a href=\"file:///home/nesubuntu20nvda/miniconda3/envs/hack_openfl/lib/python3.8/site-packages/openfl/interface/interactive_api/experiment.py#132\" target=\"_blank\"><span style=\"color: #7f7f7f; text-decoration-color: #7f7f7f\">132</span></a>\n",
       "</pre>\n"
      ],
      "text/plain": [
       "\u001b[2;36m          \u001b[0m\u001b[2;36m \u001b[0mMETRIC   Round \u001b[1;36m0\u001b[0m, collaborator Aggregator train result train_loss:       \u001b[1;36m1.278999\u001b[0m                                                   \u001b]8;id=157511;file:///home/nesubuntu20nvda/miniconda3/envs/hack_openfl/lib/python3.8/site-packages/openfl/interface/interactive_api/experiment.py\u001b\\\u001b[2mexperiment.py\u001b[0m\u001b]8;;\u001b\\\u001b[2m:\u001b[0m\u001b]8;id=164661;file:///home/nesubuntu20nvda/miniconda3/envs/hack_openfl/lib/python3.8/site-packages/openfl/interface/interactive_api/experiment.py#132\u001b\\\u001b[2m132\u001b[0m\u001b]8;;\u001b\\\n"
      ]
     },
     "metadata": {},
     "output_type": "display_data"
    },
    {
     "data": {
      "text/html": [
       "<pre style=\"white-space:pre;overflow-x:auto;line-height:normal;font-family:Menlo,'DejaVu Sans Mono',consolas,'Courier New',monospace\"><span style=\"color: #7fbfbf; text-decoration-color: #7fbfbf\">           </span>METRIC   Round <span style=\"color: #008080; text-decoration-color: #008080; font-weight: bold\">0</span>, collaborator Aggregator locally_tuned_model_validate result val_acc:   <span style=\"color: #008080; text-decoration-color: #008080; font-weight: bold\">0.754502</span>                                   <a href=\"file:///home/nesubuntu20nvda/miniconda3/envs/hack_openfl/lib/python3.8/site-packages/openfl/interface/interactive_api/experiment.py\" target=\"_blank\"><span style=\"color: #7f7f7f; text-decoration-color: #7f7f7f\">experiment.py</span></a><span style=\"color: #7f7f7f; text-decoration-color: #7f7f7f\">:</span><a href=\"file:///home/nesubuntu20nvda/miniconda3/envs/hack_openfl/lib/python3.8/site-packages/openfl/interface/interactive_api/experiment.py#132\" target=\"_blank\"><span style=\"color: #7f7f7f; text-decoration-color: #7f7f7f\">132</span></a>\n",
       "</pre>\n"
      ],
      "text/plain": [
       "\u001b[2;36m          \u001b[0m\u001b[2;36m \u001b[0mMETRIC   Round \u001b[1;36m0\u001b[0m, collaborator Aggregator locally_tuned_model_validate result val_acc:   \u001b[1;36m0.754502\u001b[0m                                   \u001b]8;id=606626;file:///home/nesubuntu20nvda/miniconda3/envs/hack_openfl/lib/python3.8/site-packages/openfl/interface/interactive_api/experiment.py\u001b\\\u001b[2mexperiment.py\u001b[0m\u001b]8;;\u001b\\\u001b[2m:\u001b[0m\u001b]8;id=411576;file:///home/nesubuntu20nvda/miniconda3/envs/hack_openfl/lib/python3.8/site-packages/openfl/interface/interactive_api/experiment.py#132\u001b\\\u001b[2m132\u001b[0m\u001b]8;;\u001b\\\n"
      ]
     },
     "metadata": {},
     "output_type": "display_data"
    },
    {
     "data": {
      "text/html": [
       "<pre style=\"white-space:pre;overflow-x:auto;line-height:normal;font-family:Menlo,'DejaVu Sans Mono',consolas,'Courier New',monospace\"><span style=\"color: #7fbfbf; text-decoration-color: #7fbfbf\">           </span>METRIC   Round <span style=\"color: #008080; text-decoration-color: #008080; font-weight: bold\">0</span>, collaborator Aggregator locally_tuned_model_validate result val_loss:  <span style=\"color: #008080; text-decoration-color: #008080; font-weight: bold\">0.747499</span>                                   <a href=\"file:///home/nesubuntu20nvda/miniconda3/envs/hack_openfl/lib/python3.8/site-packages/openfl/interface/interactive_api/experiment.py\" target=\"_blank\"><span style=\"color: #7f7f7f; text-decoration-color: #7f7f7f\">experiment.py</span></a><span style=\"color: #7f7f7f; text-decoration-color: #7f7f7f\">:</span><a href=\"file:///home/nesubuntu20nvda/miniconda3/envs/hack_openfl/lib/python3.8/site-packages/openfl/interface/interactive_api/experiment.py#132\" target=\"_blank\"><span style=\"color: #7f7f7f; text-decoration-color: #7f7f7f\">132</span></a>\n",
       "</pre>\n"
      ],
      "text/plain": [
       "\u001b[2;36m          \u001b[0m\u001b[2;36m \u001b[0mMETRIC   Round \u001b[1;36m0\u001b[0m, collaborator Aggregator locally_tuned_model_validate result val_loss:  \u001b[1;36m0.747499\u001b[0m                                   \u001b]8;id=177345;file:///home/nesubuntu20nvda/miniconda3/envs/hack_openfl/lib/python3.8/site-packages/openfl/interface/interactive_api/experiment.py\u001b\\\u001b[2mexperiment.py\u001b[0m\u001b]8;;\u001b\\\u001b[2m:\u001b[0m\u001b]8;id=568241;file:///home/nesubuntu20nvda/miniconda3/envs/hack_openfl/lib/python3.8/site-packages/openfl/interface/interactive_api/experiment.py#132\u001b\\\u001b[2m132\u001b[0m\u001b]8;;\u001b\\\n"
      ]
     },
     "metadata": {},
     "output_type": "display_data"
    },
    {
     "data": {
      "text/html": [
       "<pre style=\"white-space:pre;overflow-x:auto;line-height:normal;font-family:Menlo,'DejaVu Sans Mono',consolas,'Courier New',monospace\"><span style=\"color: #7fbfbf; text-decoration-color: #7fbfbf\">           </span>METRIC   Round <span style=\"color: #008080; text-decoration-color: #008080; font-weight: bold\">0</span>, collaborator Aggregator aggregated_model_validate result val_acc:      <span style=\"color: #008080; text-decoration-color: #008080; font-weight: bold\">0.137496</span>                                   <a href=\"file:///home/nesubuntu20nvda/miniconda3/envs/hack_openfl/lib/python3.8/site-packages/openfl/interface/interactive_api/experiment.py\" target=\"_blank\"><span style=\"color: #7f7f7f; text-decoration-color: #7f7f7f\">experiment.py</span></a><span style=\"color: #7f7f7f; text-decoration-color: #7f7f7f\">:</span><a href=\"file:///home/nesubuntu20nvda/miniconda3/envs/hack_openfl/lib/python3.8/site-packages/openfl/interface/interactive_api/experiment.py#132\" target=\"_blank\"><span style=\"color: #7f7f7f; text-decoration-color: #7f7f7f\">132</span></a>\n",
       "</pre>\n"
      ],
      "text/plain": [
       "\u001b[2;36m          \u001b[0m\u001b[2;36m \u001b[0mMETRIC   Round \u001b[1;36m0\u001b[0m, collaborator Aggregator aggregated_model_validate result val_acc:      \u001b[1;36m0.137496\u001b[0m                                   \u001b]8;id=45775;file:///home/nesubuntu20nvda/miniconda3/envs/hack_openfl/lib/python3.8/site-packages/openfl/interface/interactive_api/experiment.py\u001b\\\u001b[2mexperiment.py\u001b[0m\u001b]8;;\u001b\\\u001b[2m:\u001b[0m\u001b]8;id=775976;file:///home/nesubuntu20nvda/miniconda3/envs/hack_openfl/lib/python3.8/site-packages/openfl/interface/interactive_api/experiment.py#132\u001b\\\u001b[2m132\u001b[0m\u001b]8;;\u001b\\\n"
      ]
     },
     "metadata": {},
     "output_type": "display_data"
    },
    {
     "data": {
      "text/html": [
       "<pre style=\"white-space:pre;overflow-x:auto;line-height:normal;font-family:Menlo,'DejaVu Sans Mono',consolas,'Courier New',monospace\"><span style=\"color: #7fbfbf; text-decoration-color: #7fbfbf\">           </span>METRIC   Round <span style=\"color: #008080; text-decoration-color: #008080; font-weight: bold\">0</span>, collaborator Aggregator aggregated_model_validate result val_loss:     <span style=\"color: #008080; text-decoration-color: #008080; font-weight: bold\">2.091001</span>                                   <a href=\"file:///home/nesubuntu20nvda/miniconda3/envs/hack_openfl/lib/python3.8/site-packages/openfl/interface/interactive_api/experiment.py\" target=\"_blank\"><span style=\"color: #7f7f7f; text-decoration-color: #7f7f7f\">experiment.py</span></a><span style=\"color: #7f7f7f; text-decoration-color: #7f7f7f\">:</span><a href=\"file:///home/nesubuntu20nvda/miniconda3/envs/hack_openfl/lib/python3.8/site-packages/openfl/interface/interactive_api/experiment.py#132\" target=\"_blank\"><span style=\"color: #7f7f7f; text-decoration-color: #7f7f7f\">132</span></a>\n",
       "</pre>\n"
      ],
      "text/plain": [
       "\u001b[2;36m          \u001b[0m\u001b[2;36m \u001b[0mMETRIC   Round \u001b[1;36m0\u001b[0m, collaborator Aggregator aggregated_model_validate result val_loss:     \u001b[1;36m2.091001\u001b[0m                                   \u001b]8;id=589227;file:///home/nesubuntu20nvda/miniconda3/envs/hack_openfl/lib/python3.8/site-packages/openfl/interface/interactive_api/experiment.py\u001b\\\u001b[2mexperiment.py\u001b[0m\u001b]8;;\u001b\\\u001b[2m:\u001b[0m\u001b]8;id=121181;file:///home/nesubuntu20nvda/miniconda3/envs/hack_openfl/lib/python3.8/site-packages/openfl/interface/interactive_api/experiment.py#132\u001b\\\u001b[2m132\u001b[0m\u001b]8;;\u001b\\\n"
      ]
     },
     "metadata": {},
     "output_type": "display_data"
    },
    {
     "data": {
      "text/html": [
       "<pre style=\"white-space:pre;overflow-x:auto;line-height:normal;font-family:Menlo,'DejaVu Sans Mono',consolas,'Courier New',monospace\"><span style=\"color: #7fbfbf; text-decoration-color: #7fbfbf\">[15:23:02] </span>METRIC   Round <span style=\"color: #008080; text-decoration-color: #008080; font-weight: bold\">1</span>, collaborator trained train result train_acc:   <span style=\"color: #008080; text-decoration-color: #008080; font-weight: bold\">0.815000</span>                                                           <a href=\"file:///home/nesubuntu20nvda/miniconda3/envs/hack_openfl/lib/python3.8/site-packages/openfl/interface/interactive_api/experiment.py\" target=\"_blank\"><span style=\"color: #7f7f7f; text-decoration-color: #7f7f7f\">experiment.py</span></a><span style=\"color: #7f7f7f; text-decoration-color: #7f7f7f\">:</span><a href=\"file:///home/nesubuntu20nvda/miniconda3/envs/hack_openfl/lib/python3.8/site-packages/openfl/interface/interactive_api/experiment.py#132\" target=\"_blank\"><span style=\"color: #7f7f7f; text-decoration-color: #7f7f7f\">132</span></a>\n",
       "</pre>\n"
      ],
      "text/plain": [
       "\u001b[2;36m[15:23:02]\u001b[0m\u001b[2;36m \u001b[0mMETRIC   Round \u001b[1;36m1\u001b[0m, collaborator trained train result train_acc:   \u001b[1;36m0.815000\u001b[0m                                                           \u001b]8;id=793130;file:///home/nesubuntu20nvda/miniconda3/envs/hack_openfl/lib/python3.8/site-packages/openfl/interface/interactive_api/experiment.py\u001b\\\u001b[2mexperiment.py\u001b[0m\u001b]8;;\u001b\\\u001b[2m:\u001b[0m\u001b]8;id=482711;file:///home/nesubuntu20nvda/miniconda3/envs/hack_openfl/lib/python3.8/site-packages/openfl/interface/interactive_api/experiment.py#132\u001b\\\u001b[2m132\u001b[0m\u001b]8;;\u001b\\\n"
      ]
     },
     "metadata": {},
     "output_type": "display_data"
    },
    {
     "data": {
      "text/html": [
       "<pre style=\"white-space:pre;overflow-x:auto;line-height:normal;font-family:Menlo,'DejaVu Sans Mono',consolas,'Courier New',monospace\"><span style=\"color: #7fbfbf; text-decoration-color: #7fbfbf\">           </span>METRIC   Round <span style=\"color: #008080; text-decoration-color: #008080; font-weight: bold\">1</span>, collaborator trained train result train_loss:  <span style=\"color: #008080; text-decoration-color: #008080; font-weight: bold\">0.693000</span>                                                           <a href=\"file:///home/nesubuntu20nvda/miniconda3/envs/hack_openfl/lib/python3.8/site-packages/openfl/interface/interactive_api/experiment.py\" target=\"_blank\"><span style=\"color: #7f7f7f; text-decoration-color: #7f7f7f\">experiment.py</span></a><span style=\"color: #7f7f7f; text-decoration-color: #7f7f7f\">:</span><a href=\"file:///home/nesubuntu20nvda/miniconda3/envs/hack_openfl/lib/python3.8/site-packages/openfl/interface/interactive_api/experiment.py#132\" target=\"_blank\"><span style=\"color: #7f7f7f; text-decoration-color: #7f7f7f\">132</span></a>\n",
       "</pre>\n"
      ],
      "text/plain": [
       "\u001b[2;36m          \u001b[0m\u001b[2;36m \u001b[0mMETRIC   Round \u001b[1;36m1\u001b[0m, collaborator trained train result train_loss:  \u001b[1;36m0.693000\u001b[0m                                                           \u001b]8;id=384803;file:///home/nesubuntu20nvda/miniconda3/envs/hack_openfl/lib/python3.8/site-packages/openfl/interface/interactive_api/experiment.py\u001b\\\u001b[2mexperiment.py\u001b[0m\u001b]8;;\u001b\\\u001b[2m:\u001b[0m\u001b]8;id=218508;file:///home/nesubuntu20nvda/miniconda3/envs/hack_openfl/lib/python3.8/site-packages/openfl/interface/interactive_api/experiment.py#132\u001b\\\u001b[2m132\u001b[0m\u001b]8;;\u001b\\\n"
      ]
     },
     "metadata": {},
     "output_type": "display_data"
    },
    {
     "data": {
      "text/html": [
       "<pre style=\"white-space:pre;overflow-x:auto;line-height:normal;font-family:Menlo,'DejaVu Sans Mono',consolas,'Courier New',monospace\"><span style=\"color: #7fbfbf; text-decoration-color: #7fbfbf\">           </span>METRIC   Round <span style=\"color: #008080; text-decoration-color: #008080; font-weight: bold\">1</span>, collaborator validate_local locally_tuned_model_validate result val_acc:       <span style=\"color: #008080; text-decoration-color: #008080; font-weight: bold\">0.820000</span>                           <a href=\"file:///home/nesubuntu20nvda/miniconda3/envs/hack_openfl/lib/python3.8/site-packages/openfl/interface/interactive_api/experiment.py\" target=\"_blank\"><span style=\"color: #7f7f7f; text-decoration-color: #7f7f7f\">experiment.py</span></a><span style=\"color: #7f7f7f; text-decoration-color: #7f7f7f\">:</span><a href=\"file:///home/nesubuntu20nvda/miniconda3/envs/hack_openfl/lib/python3.8/site-packages/openfl/interface/interactive_api/experiment.py#132\" target=\"_blank\"><span style=\"color: #7f7f7f; text-decoration-color: #7f7f7f\">132</span></a>\n",
       "</pre>\n"
      ],
      "text/plain": [
       "\u001b[2;36m          \u001b[0m\u001b[2;36m \u001b[0mMETRIC   Round \u001b[1;36m1\u001b[0m, collaborator validate_local locally_tuned_model_validate result val_acc:       \u001b[1;36m0.820000\u001b[0m                           \u001b]8;id=120665;file:///home/nesubuntu20nvda/miniconda3/envs/hack_openfl/lib/python3.8/site-packages/openfl/interface/interactive_api/experiment.py\u001b\\\u001b[2mexperiment.py\u001b[0m\u001b]8;;\u001b\\\u001b[2m:\u001b[0m\u001b]8;id=130133;file:///home/nesubuntu20nvda/miniconda3/envs/hack_openfl/lib/python3.8/site-packages/openfl/interface/interactive_api/experiment.py#132\u001b\\\u001b[2m132\u001b[0m\u001b]8;;\u001b\\\n"
      ]
     },
     "metadata": {},
     "output_type": "display_data"
    },
    {
     "data": {
      "text/html": [
       "<pre style=\"white-space:pre;overflow-x:auto;line-height:normal;font-family:Menlo,'DejaVu Sans Mono',consolas,'Courier New',monospace\"><span style=\"color: #7fbfbf; text-decoration-color: #7fbfbf\">           </span>METRIC   Round <span style=\"color: #008080; text-decoration-color: #008080; font-weight: bold\">1</span>, collaborator validate_local locally_tuned_model_validate result val_loss:      <span style=\"color: #008080; text-decoration-color: #008080; font-weight: bold\">0.532000</span>                           <a href=\"file:///home/nesubuntu20nvda/miniconda3/envs/hack_openfl/lib/python3.8/site-packages/openfl/interface/interactive_api/experiment.py\" target=\"_blank\"><span style=\"color: #7f7f7f; text-decoration-color: #7f7f7f\">experiment.py</span></a><span style=\"color: #7f7f7f; text-decoration-color: #7f7f7f\">:</span><a href=\"file:///home/nesubuntu20nvda/miniconda3/envs/hack_openfl/lib/python3.8/site-packages/openfl/interface/interactive_api/experiment.py#132\" target=\"_blank\"><span style=\"color: #7f7f7f; text-decoration-color: #7f7f7f\">132</span></a>\n",
       "</pre>\n"
      ],
      "text/plain": [
       "\u001b[2;36m          \u001b[0m\u001b[2;36m \u001b[0mMETRIC   Round \u001b[1;36m1\u001b[0m, collaborator validate_local locally_tuned_model_validate result val_loss:      \u001b[1;36m0.532000\u001b[0m                           \u001b]8;id=149339;file:///home/nesubuntu20nvda/miniconda3/envs/hack_openfl/lib/python3.8/site-packages/openfl/interface/interactive_api/experiment.py\u001b\\\u001b[2mexperiment.py\u001b[0m\u001b]8;;\u001b\\\u001b[2m:\u001b[0m\u001b]8;id=41473;file:///home/nesubuntu20nvda/miniconda3/envs/hack_openfl/lib/python3.8/site-packages/openfl/interface/interactive_api/experiment.py#132\u001b\\\u001b[2m132\u001b[0m\u001b]8;;\u001b\\\n"
      ]
     },
     "metadata": {},
     "output_type": "display_data"
    },
    {
     "data": {
      "text/html": [
       "<pre style=\"white-space:pre;overflow-x:auto;line-height:normal;font-family:Menlo,'DejaVu Sans Mono',consolas,'Courier New',monospace\"><span style=\"color: #7fbfbf; text-decoration-color: #7fbfbf\">           </span>METRIC   Round <span style=\"color: #008080; text-decoration-color: #008080; font-weight: bold\">1</span>, collaborator validate_agg aggregated_model_validate result val_acc:    <span style=\"color: #008080; text-decoration-color: #008080; font-weight: bold\">0.751000</span>                                   <a href=\"file:///home/nesubuntu20nvda/miniconda3/envs/hack_openfl/lib/python3.8/site-packages/openfl/interface/interactive_api/experiment.py\" target=\"_blank\"><span style=\"color: #7f7f7f; text-decoration-color: #7f7f7f\">experiment.py</span></a><span style=\"color: #7f7f7f; text-decoration-color: #7f7f7f\">:</span><a href=\"file:///home/nesubuntu20nvda/miniconda3/envs/hack_openfl/lib/python3.8/site-packages/openfl/interface/interactive_api/experiment.py#132\" target=\"_blank\"><span style=\"color: #7f7f7f; text-decoration-color: #7f7f7f\">132</span></a>\n",
       "</pre>\n"
      ],
      "text/plain": [
       "\u001b[2;36m          \u001b[0m\u001b[2;36m \u001b[0mMETRIC   Round \u001b[1;36m1\u001b[0m, collaborator validate_agg aggregated_model_validate result val_acc:    \u001b[1;36m0.751000\u001b[0m                                   \u001b]8;id=772968;file:///home/nesubuntu20nvda/miniconda3/envs/hack_openfl/lib/python3.8/site-packages/openfl/interface/interactive_api/experiment.py\u001b\\\u001b[2mexperiment.py\u001b[0m\u001b]8;;\u001b\\\u001b[2m:\u001b[0m\u001b]8;id=370425;file:///home/nesubuntu20nvda/miniconda3/envs/hack_openfl/lib/python3.8/site-packages/openfl/interface/interactive_api/experiment.py#132\u001b\\\u001b[2m132\u001b[0m\u001b]8;;\u001b\\\n"
      ]
     },
     "metadata": {},
     "output_type": "display_data"
    },
    {
     "data": {
      "text/html": [
       "<pre style=\"white-space:pre;overflow-x:auto;line-height:normal;font-family:Menlo,'DejaVu Sans Mono',consolas,'Courier New',monospace\"><span style=\"color: #7fbfbf; text-decoration-color: #7fbfbf\">           </span>METRIC   Round <span style=\"color: #008080; text-decoration-color: #008080; font-weight: bold\">1</span>, collaborator validate_agg aggregated_model_validate result val_loss:   <span style=\"color: #008080; text-decoration-color: #008080; font-weight: bold\">0.750000</span>                                   <a href=\"file:///home/nesubuntu20nvda/miniconda3/envs/hack_openfl/lib/python3.8/site-packages/openfl/interface/interactive_api/experiment.py\" target=\"_blank\"><span style=\"color: #7f7f7f; text-decoration-color: #7f7f7f\">experiment.py</span></a><span style=\"color: #7f7f7f; text-decoration-color: #7f7f7f\">:</span><a href=\"file:///home/nesubuntu20nvda/miniconda3/envs/hack_openfl/lib/python3.8/site-packages/openfl/interface/interactive_api/experiment.py#132\" target=\"_blank\"><span style=\"color: #7f7f7f; text-decoration-color: #7f7f7f\">132</span></a>\n",
       "</pre>\n"
      ],
      "text/plain": [
       "\u001b[2;36m          \u001b[0m\u001b[2;36m \u001b[0mMETRIC   Round \u001b[1;36m1\u001b[0m, collaborator validate_agg aggregated_model_validate result val_loss:   \u001b[1;36m0.750000\u001b[0m                                   \u001b]8;id=52637;file:///home/nesubuntu20nvda/miniconda3/envs/hack_openfl/lib/python3.8/site-packages/openfl/interface/interactive_api/experiment.py\u001b\\\u001b[2mexperiment.py\u001b[0m\u001b]8;;\u001b\\\u001b[2m:\u001b[0m\u001b]8;id=667876;file:///home/nesubuntu20nvda/miniconda3/envs/hack_openfl/lib/python3.8/site-packages/openfl/interface/interactive_api/experiment.py#132\u001b\\\u001b[2m132\u001b[0m\u001b]8;;\u001b\\\n"
      ]
     },
     "metadata": {},
     "output_type": "display_data"
    },
    {
     "data": {
      "text/html": [
       "<pre style=\"white-space:pre;overflow-x:auto;line-height:normal;font-family:Menlo,'DejaVu Sans Mono',consolas,'Courier New',monospace\"><span style=\"color: #7fbfbf; text-decoration-color: #7fbfbf\">[15:23:11] </span>METRIC   Round <span style=\"color: #008080; text-decoration-color: #008080; font-weight: bold\">1</span>, collaborator trained train result train_acc:   <span style=\"color: #008080; text-decoration-color: #008080; font-weight: bold\">0.786000</span>                                                           <a href=\"file:///home/nesubuntu20nvda/miniconda3/envs/hack_openfl/lib/python3.8/site-packages/openfl/interface/interactive_api/experiment.py\" target=\"_blank\"><span style=\"color: #7f7f7f; text-decoration-color: #7f7f7f\">experiment.py</span></a><span style=\"color: #7f7f7f; text-decoration-color: #7f7f7f\">:</span><a href=\"file:///home/nesubuntu20nvda/miniconda3/envs/hack_openfl/lib/python3.8/site-packages/openfl/interface/interactive_api/experiment.py#132\" target=\"_blank\"><span style=\"color: #7f7f7f; text-decoration-color: #7f7f7f\">132</span></a>\n",
       "</pre>\n"
      ],
      "text/plain": [
       "\u001b[2;36m[15:23:11]\u001b[0m\u001b[2;36m \u001b[0mMETRIC   Round \u001b[1;36m1\u001b[0m, collaborator trained train result train_acc:   \u001b[1;36m0.786000\u001b[0m                                                           \u001b]8;id=875783;file:///home/nesubuntu20nvda/miniconda3/envs/hack_openfl/lib/python3.8/site-packages/openfl/interface/interactive_api/experiment.py\u001b\\\u001b[2mexperiment.py\u001b[0m\u001b]8;;\u001b\\\u001b[2m:\u001b[0m\u001b]8;id=62142;file:///home/nesubuntu20nvda/miniconda3/envs/hack_openfl/lib/python3.8/site-packages/openfl/interface/interactive_api/experiment.py#132\u001b\\\u001b[2m132\u001b[0m\u001b]8;;\u001b\\\n"
      ]
     },
     "metadata": {},
     "output_type": "display_data"
    },
    {
     "data": {
      "text/html": [
       "<pre style=\"white-space:pre;overflow-x:auto;line-height:normal;font-family:Menlo,'DejaVu Sans Mono',consolas,'Courier New',monospace\"><span style=\"color: #7fbfbf; text-decoration-color: #7fbfbf\">           </span>METRIC   Round <span style=\"color: #008080; text-decoration-color: #008080; font-weight: bold\">1</span>, collaborator trained train result train_loss:  <span style=\"color: #008080; text-decoration-color: #008080; font-weight: bold\">0.699000</span>                                                           <a href=\"file:///home/nesubuntu20nvda/miniconda3/envs/hack_openfl/lib/python3.8/site-packages/openfl/interface/interactive_api/experiment.py\" target=\"_blank\"><span style=\"color: #7f7f7f; text-decoration-color: #7f7f7f\">experiment.py</span></a><span style=\"color: #7f7f7f; text-decoration-color: #7f7f7f\">:</span><a href=\"file:///home/nesubuntu20nvda/miniconda3/envs/hack_openfl/lib/python3.8/site-packages/openfl/interface/interactive_api/experiment.py#132\" target=\"_blank\"><span style=\"color: #7f7f7f; text-decoration-color: #7f7f7f\">132</span></a>\n",
       "</pre>\n"
      ],
      "text/plain": [
       "\u001b[2;36m          \u001b[0m\u001b[2;36m \u001b[0mMETRIC   Round \u001b[1;36m1\u001b[0m, collaborator trained train result train_loss:  \u001b[1;36m0.699000\u001b[0m                                                           \u001b]8;id=957709;file:///home/nesubuntu20nvda/miniconda3/envs/hack_openfl/lib/python3.8/site-packages/openfl/interface/interactive_api/experiment.py\u001b\\\u001b[2mexperiment.py\u001b[0m\u001b]8;;\u001b\\\u001b[2m:\u001b[0m\u001b]8;id=306149;file:///home/nesubuntu20nvda/miniconda3/envs/hack_openfl/lib/python3.8/site-packages/openfl/interface/interactive_api/experiment.py#132\u001b\\\u001b[2m132\u001b[0m\u001b]8;;\u001b\\\n"
      ]
     },
     "metadata": {},
     "output_type": "display_data"
    },
    {
     "data": {
      "text/html": [
       "<pre style=\"white-space:pre;overflow-x:auto;line-height:normal;font-family:Menlo,'DejaVu Sans Mono',consolas,'Courier New',monospace\"><span style=\"color: #7fbfbf; text-decoration-color: #7fbfbf\">           </span>METRIC   Round <span style=\"color: #008080; text-decoration-color: #008080; font-weight: bold\">1</span>, collaborator validate_local locally_tuned_model_validate result val_acc:       <span style=\"color: #008080; text-decoration-color: #008080; font-weight: bold\">0.823000</span>                           <a href=\"file:///home/nesubuntu20nvda/miniconda3/envs/hack_openfl/lib/python3.8/site-packages/openfl/interface/interactive_api/experiment.py\" target=\"_blank\"><span style=\"color: #7f7f7f; text-decoration-color: #7f7f7f\">experiment.py</span></a><span style=\"color: #7f7f7f; text-decoration-color: #7f7f7f\">:</span><a href=\"file:///home/nesubuntu20nvda/miniconda3/envs/hack_openfl/lib/python3.8/site-packages/openfl/interface/interactive_api/experiment.py#132\" target=\"_blank\"><span style=\"color: #7f7f7f; text-decoration-color: #7f7f7f\">132</span></a>\n",
       "</pre>\n"
      ],
      "text/plain": [
       "\u001b[2;36m          \u001b[0m\u001b[2;36m \u001b[0mMETRIC   Round \u001b[1;36m1\u001b[0m, collaborator validate_local locally_tuned_model_validate result val_acc:       \u001b[1;36m0.823000\u001b[0m                           \u001b]8;id=966210;file:///home/nesubuntu20nvda/miniconda3/envs/hack_openfl/lib/python3.8/site-packages/openfl/interface/interactive_api/experiment.py\u001b\\\u001b[2mexperiment.py\u001b[0m\u001b]8;;\u001b\\\u001b[2m:\u001b[0m\u001b]8;id=163511;file:///home/nesubuntu20nvda/miniconda3/envs/hack_openfl/lib/python3.8/site-packages/openfl/interface/interactive_api/experiment.py#132\u001b\\\u001b[2m132\u001b[0m\u001b]8;;\u001b\\\n"
      ]
     },
     "metadata": {},
     "output_type": "display_data"
    },
    {
     "data": {
      "text/html": [
       "<pre style=\"white-space:pre;overflow-x:auto;line-height:normal;font-family:Menlo,'DejaVu Sans Mono',consolas,'Courier New',monospace\"><span style=\"color: #7fbfbf; text-decoration-color: #7fbfbf\">           </span>METRIC   Round <span style=\"color: #008080; text-decoration-color: #008080; font-weight: bold\">1</span>, collaborator validate_local locally_tuned_model_validate result val_loss:      <span style=\"color: #008080; text-decoration-color: #008080; font-weight: bold\">0.542000</span>                           <a href=\"file:///home/nesubuntu20nvda/miniconda3/envs/hack_openfl/lib/python3.8/site-packages/openfl/interface/interactive_api/experiment.py\" target=\"_blank\"><span style=\"color: #7f7f7f; text-decoration-color: #7f7f7f\">experiment.py</span></a><span style=\"color: #7f7f7f; text-decoration-color: #7f7f7f\">:</span><a href=\"file:///home/nesubuntu20nvda/miniconda3/envs/hack_openfl/lib/python3.8/site-packages/openfl/interface/interactive_api/experiment.py#132\" target=\"_blank\"><span style=\"color: #7f7f7f; text-decoration-color: #7f7f7f\">132</span></a>\n",
       "</pre>\n"
      ],
      "text/plain": [
       "\u001b[2;36m          \u001b[0m\u001b[2;36m \u001b[0mMETRIC   Round \u001b[1;36m1\u001b[0m, collaborator validate_local locally_tuned_model_validate result val_loss:      \u001b[1;36m0.542000\u001b[0m                           \u001b]8;id=774345;file:///home/nesubuntu20nvda/miniconda3/envs/hack_openfl/lib/python3.8/site-packages/openfl/interface/interactive_api/experiment.py\u001b\\\u001b[2mexperiment.py\u001b[0m\u001b]8;;\u001b\\\u001b[2m:\u001b[0m\u001b]8;id=404319;file:///home/nesubuntu20nvda/miniconda3/envs/hack_openfl/lib/python3.8/site-packages/openfl/interface/interactive_api/experiment.py#132\u001b\\\u001b[2m132\u001b[0m\u001b]8;;\u001b\\\n"
      ]
     },
     "metadata": {},
     "output_type": "display_data"
    },
    {
     "data": {
      "text/html": [
       "<pre style=\"white-space:pre;overflow-x:auto;line-height:normal;font-family:Menlo,'DejaVu Sans Mono',consolas,'Courier New',monospace\"><span style=\"color: #7fbfbf; text-decoration-color: #7fbfbf\">[15:23:12] </span>METRIC   Round <span style=\"color: #008080; text-decoration-color: #008080; font-weight: bold\">1</span>, collaborator validate_agg aggregated_model_validate result val_acc:    <span style=\"color: #008080; text-decoration-color: #008080; font-weight: bold\">0.760000</span>                                   <a href=\"file:///home/nesubuntu20nvda/miniconda3/envs/hack_openfl/lib/python3.8/site-packages/openfl/interface/interactive_api/experiment.py\" target=\"_blank\"><span style=\"color: #7f7f7f; text-decoration-color: #7f7f7f\">experiment.py</span></a><span style=\"color: #7f7f7f; text-decoration-color: #7f7f7f\">:</span><a href=\"file:///home/nesubuntu20nvda/miniconda3/envs/hack_openfl/lib/python3.8/site-packages/openfl/interface/interactive_api/experiment.py#132\" target=\"_blank\"><span style=\"color: #7f7f7f; text-decoration-color: #7f7f7f\">132</span></a>\n",
       "</pre>\n"
      ],
      "text/plain": [
       "\u001b[2;36m[15:23:12]\u001b[0m\u001b[2;36m \u001b[0mMETRIC   Round \u001b[1;36m1\u001b[0m, collaborator validate_agg aggregated_model_validate result val_acc:    \u001b[1;36m0.760000\u001b[0m                                   \u001b]8;id=179123;file:///home/nesubuntu20nvda/miniconda3/envs/hack_openfl/lib/python3.8/site-packages/openfl/interface/interactive_api/experiment.py\u001b\\\u001b[2mexperiment.py\u001b[0m\u001b]8;;\u001b\\\u001b[2m:\u001b[0m\u001b]8;id=630821;file:///home/nesubuntu20nvda/miniconda3/envs/hack_openfl/lib/python3.8/site-packages/openfl/interface/interactive_api/experiment.py#132\u001b\\\u001b[2m132\u001b[0m\u001b]8;;\u001b\\\n"
      ]
     },
     "metadata": {},
     "output_type": "display_data"
    },
    {
     "data": {
      "text/html": [
       "<pre style=\"white-space:pre;overflow-x:auto;line-height:normal;font-family:Menlo,'DejaVu Sans Mono',consolas,'Courier New',monospace\"><span style=\"color: #7fbfbf; text-decoration-color: #7fbfbf\">           </span>METRIC   Round <span style=\"color: #008080; text-decoration-color: #008080; font-weight: bold\">1</span>, collaborator validate_agg aggregated_model_validate result val_loss:   <span style=\"color: #008080; text-decoration-color: #008080; font-weight: bold\">0.753000</span>                                   <a href=\"file:///home/nesubuntu20nvda/miniconda3/envs/hack_openfl/lib/python3.8/site-packages/openfl/interface/interactive_api/experiment.py\" target=\"_blank\"><span style=\"color: #7f7f7f; text-decoration-color: #7f7f7f\">experiment.py</span></a><span style=\"color: #7f7f7f; text-decoration-color: #7f7f7f\">:</span><a href=\"file:///home/nesubuntu20nvda/miniconda3/envs/hack_openfl/lib/python3.8/site-packages/openfl/interface/interactive_api/experiment.py#132\" target=\"_blank\"><span style=\"color: #7f7f7f; text-decoration-color: #7f7f7f\">132</span></a>\n",
       "</pre>\n"
      ],
      "text/plain": [
       "\u001b[2;36m          \u001b[0m\u001b[2;36m \u001b[0mMETRIC   Round \u001b[1;36m1\u001b[0m, collaborator validate_agg aggregated_model_validate result val_loss:   \u001b[1;36m0.753000\u001b[0m                                   \u001b]8;id=11807;file:///home/nesubuntu20nvda/miniconda3/envs/hack_openfl/lib/python3.8/site-packages/openfl/interface/interactive_api/experiment.py\u001b\\\u001b[2mexperiment.py\u001b[0m\u001b]8;;\u001b\\\u001b[2m:\u001b[0m\u001b]8;id=568829;file:///home/nesubuntu20nvda/miniconda3/envs/hack_openfl/lib/python3.8/site-packages/openfl/interface/interactive_api/experiment.py#132\u001b\\\u001b[2m132\u001b[0m\u001b]8;;\u001b\\\n"
      ]
     },
     "metadata": {},
     "output_type": "display_data"
    },
    {
     "data": {
      "text/html": [
       "<pre style=\"white-space:pre;overflow-x:auto;line-height:normal;font-family:Menlo,'DejaVu Sans Mono',consolas,'Courier New',monospace\"><span style=\"color: #7fbfbf; text-decoration-color: #7fbfbf\">           </span>METRIC   Round <span style=\"color: #008080; text-decoration-color: #008080; font-weight: bold\">1</span>, collaborator Aggregator train result train_acc:        <span style=\"color: #008080; text-decoration-color: #008080; font-weight: bold\">0.800499</span>                                                   <a href=\"file:///home/nesubuntu20nvda/miniconda3/envs/hack_openfl/lib/python3.8/site-packages/openfl/interface/interactive_api/experiment.py\" target=\"_blank\"><span style=\"color: #7f7f7f; text-decoration-color: #7f7f7f\">experiment.py</span></a><span style=\"color: #7f7f7f; text-decoration-color: #7f7f7f\">:</span><a href=\"file:///home/nesubuntu20nvda/miniconda3/envs/hack_openfl/lib/python3.8/site-packages/openfl/interface/interactive_api/experiment.py#132\" target=\"_blank\"><span style=\"color: #7f7f7f; text-decoration-color: #7f7f7f\">132</span></a>\n",
       "</pre>\n"
      ],
      "text/plain": [
       "\u001b[2;36m          \u001b[0m\u001b[2;36m \u001b[0mMETRIC   Round \u001b[1;36m1\u001b[0m, collaborator Aggregator train result train_acc:        \u001b[1;36m0.800499\u001b[0m                                                   \u001b]8;id=548949;file:///home/nesubuntu20nvda/miniconda3/envs/hack_openfl/lib/python3.8/site-packages/openfl/interface/interactive_api/experiment.py\u001b\\\u001b[2mexperiment.py\u001b[0m\u001b]8;;\u001b\\\u001b[2m:\u001b[0m\u001b]8;id=625199;file:///home/nesubuntu20nvda/miniconda3/envs/hack_openfl/lib/python3.8/site-packages/openfl/interface/interactive_api/experiment.py#132\u001b\\\u001b[2m132\u001b[0m\u001b]8;;\u001b\\\n"
      ]
     },
     "metadata": {},
     "output_type": "display_data"
    },
    {
     "data": {
      "text/html": [
       "<pre style=\"white-space:pre;overflow-x:auto;line-height:normal;font-family:Menlo,'DejaVu Sans Mono',consolas,'Courier New',monospace\"><span style=\"color: #7fbfbf; text-decoration-color: #7fbfbf\">           </span>METRIC   Round <span style=\"color: #008080; text-decoration-color: #008080; font-weight: bold\">1</span>, collaborator Aggregator train result train_loss:       <span style=\"color: #008080; text-decoration-color: #008080; font-weight: bold\">0.696000</span>                                                   <a href=\"file:///home/nesubuntu20nvda/miniconda3/envs/hack_openfl/lib/python3.8/site-packages/openfl/interface/interactive_api/experiment.py\" target=\"_blank\"><span style=\"color: #7f7f7f; text-decoration-color: #7f7f7f\">experiment.py</span></a><span style=\"color: #7f7f7f; text-decoration-color: #7f7f7f\">:</span><a href=\"file:///home/nesubuntu20nvda/miniconda3/envs/hack_openfl/lib/python3.8/site-packages/openfl/interface/interactive_api/experiment.py#132\" target=\"_blank\"><span style=\"color: #7f7f7f; text-decoration-color: #7f7f7f\">132</span></a>\n",
       "</pre>\n"
      ],
      "text/plain": [
       "\u001b[2;36m          \u001b[0m\u001b[2;36m \u001b[0mMETRIC   Round \u001b[1;36m1\u001b[0m, collaborator Aggregator train result train_loss:       \u001b[1;36m0.696000\u001b[0m                                                   \u001b]8;id=699999;file:///home/nesubuntu20nvda/miniconda3/envs/hack_openfl/lib/python3.8/site-packages/openfl/interface/interactive_api/experiment.py\u001b\\\u001b[2mexperiment.py\u001b[0m\u001b]8;;\u001b\\\u001b[2m:\u001b[0m\u001b]8;id=945747;file:///home/nesubuntu20nvda/miniconda3/envs/hack_openfl/lib/python3.8/site-packages/openfl/interface/interactive_api/experiment.py#132\u001b\\\u001b[2m132\u001b[0m\u001b]8;;\u001b\\\n"
      ]
     },
     "metadata": {},
     "output_type": "display_data"
    },
    {
     "data": {
      "text/html": [
       "<pre style=\"white-space:pre;overflow-x:auto;line-height:normal;font-family:Menlo,'DejaVu Sans Mono',consolas,'Courier New',monospace\"><span style=\"color: #7fbfbf; text-decoration-color: #7fbfbf\">           </span>METRIC   Round <span style=\"color: #008080; text-decoration-color: #008080; font-weight: bold\">1</span>, collaborator Aggregator locally_tuned_model_validate result val_acc:   <span style=\"color: #008080; text-decoration-color: #008080; font-weight: bold\">0.821500</span>                                   <a href=\"file:///home/nesubuntu20nvda/miniconda3/envs/hack_openfl/lib/python3.8/site-packages/openfl/interface/interactive_api/experiment.py\" target=\"_blank\"><span style=\"color: #7f7f7f; text-decoration-color: #7f7f7f\">experiment.py</span></a><span style=\"color: #7f7f7f; text-decoration-color: #7f7f7f\">:</span><a href=\"file:///home/nesubuntu20nvda/miniconda3/envs/hack_openfl/lib/python3.8/site-packages/openfl/interface/interactive_api/experiment.py#132\" target=\"_blank\"><span style=\"color: #7f7f7f; text-decoration-color: #7f7f7f\">132</span></a>\n",
       "</pre>\n"
      ],
      "text/plain": [
       "\u001b[2;36m          \u001b[0m\u001b[2;36m \u001b[0mMETRIC   Round \u001b[1;36m1\u001b[0m, collaborator Aggregator locally_tuned_model_validate result val_acc:   \u001b[1;36m0.821500\u001b[0m                                   \u001b]8;id=753414;file:///home/nesubuntu20nvda/miniconda3/envs/hack_openfl/lib/python3.8/site-packages/openfl/interface/interactive_api/experiment.py\u001b\\\u001b[2mexperiment.py\u001b[0m\u001b]8;;\u001b\\\u001b[2m:\u001b[0m\u001b]8;id=605838;file:///home/nesubuntu20nvda/miniconda3/envs/hack_openfl/lib/python3.8/site-packages/openfl/interface/interactive_api/experiment.py#132\u001b\\\u001b[2m132\u001b[0m\u001b]8;;\u001b\\\n"
      ]
     },
     "metadata": {},
     "output_type": "display_data"
    },
    {
     "data": {
      "text/html": [
       "<pre style=\"white-space:pre;overflow-x:auto;line-height:normal;font-family:Menlo,'DejaVu Sans Mono',consolas,'Courier New',monospace\"><span style=\"color: #7fbfbf; text-decoration-color: #7fbfbf\">           </span>METRIC   Round <span style=\"color: #008080; text-decoration-color: #008080; font-weight: bold\">1</span>, collaborator Aggregator locally_tuned_model_validate result val_loss:  <span style=\"color: #008080; text-decoration-color: #008080; font-weight: bold\">0.537001</span>                                   <a href=\"file:///home/nesubuntu20nvda/miniconda3/envs/hack_openfl/lib/python3.8/site-packages/openfl/interface/interactive_api/experiment.py\" target=\"_blank\"><span style=\"color: #7f7f7f; text-decoration-color: #7f7f7f\">experiment.py</span></a><span style=\"color: #7f7f7f; text-decoration-color: #7f7f7f\">:</span><a href=\"file:///home/nesubuntu20nvda/miniconda3/envs/hack_openfl/lib/python3.8/site-packages/openfl/interface/interactive_api/experiment.py#132\" target=\"_blank\"><span style=\"color: #7f7f7f; text-decoration-color: #7f7f7f\">132</span></a>\n",
       "</pre>\n"
      ],
      "text/plain": [
       "\u001b[2;36m          \u001b[0m\u001b[2;36m \u001b[0mMETRIC   Round \u001b[1;36m1\u001b[0m, collaborator Aggregator locally_tuned_model_validate result val_loss:  \u001b[1;36m0.537001\u001b[0m                                   \u001b]8;id=230814;file:///home/nesubuntu20nvda/miniconda3/envs/hack_openfl/lib/python3.8/site-packages/openfl/interface/interactive_api/experiment.py\u001b\\\u001b[2mexperiment.py\u001b[0m\u001b]8;;\u001b\\\u001b[2m:\u001b[0m\u001b]8;id=35318;file:///home/nesubuntu20nvda/miniconda3/envs/hack_openfl/lib/python3.8/site-packages/openfl/interface/interactive_api/experiment.py#132\u001b\\\u001b[2m132\u001b[0m\u001b]8;;\u001b\\\n"
      ]
     },
     "metadata": {},
     "output_type": "display_data"
    },
    {
     "data": {
      "text/html": [
       "<pre style=\"white-space:pre;overflow-x:auto;line-height:normal;font-family:Menlo,'DejaVu Sans Mono',consolas,'Courier New',monospace\"><span style=\"color: #7fbfbf; text-decoration-color: #7fbfbf\">           </span>METRIC   Round <span style=\"color: #008080; text-decoration-color: #008080; font-weight: bold\">1</span>, collaborator Aggregator aggregated_model_validate result val_acc:      <span style=\"color: #008080; text-decoration-color: #008080; font-weight: bold\">0.755501</span>                                   <a href=\"file:///home/nesubuntu20nvda/miniconda3/envs/hack_openfl/lib/python3.8/site-packages/openfl/interface/interactive_api/experiment.py\" target=\"_blank\"><span style=\"color: #7f7f7f; text-decoration-color: #7f7f7f\">experiment.py</span></a><span style=\"color: #7f7f7f; text-decoration-color: #7f7f7f\">:</span><a href=\"file:///home/nesubuntu20nvda/miniconda3/envs/hack_openfl/lib/python3.8/site-packages/openfl/interface/interactive_api/experiment.py#132\" target=\"_blank\"><span style=\"color: #7f7f7f; text-decoration-color: #7f7f7f\">132</span></a>\n",
       "</pre>\n"
      ],
      "text/plain": [
       "\u001b[2;36m          \u001b[0m\u001b[2;36m \u001b[0mMETRIC   Round \u001b[1;36m1\u001b[0m, collaborator Aggregator aggregated_model_validate result val_acc:      \u001b[1;36m0.755501\u001b[0m                                   \u001b]8;id=930154;file:///home/nesubuntu20nvda/miniconda3/envs/hack_openfl/lib/python3.8/site-packages/openfl/interface/interactive_api/experiment.py\u001b\\\u001b[2mexperiment.py\u001b[0m\u001b]8;;\u001b\\\u001b[2m:\u001b[0m\u001b]8;id=41984;file:///home/nesubuntu20nvda/miniconda3/envs/hack_openfl/lib/python3.8/site-packages/openfl/interface/interactive_api/experiment.py#132\u001b\\\u001b[2m132\u001b[0m\u001b]8;;\u001b\\\n"
      ]
     },
     "metadata": {},
     "output_type": "display_data"
    },
    {
     "data": {
      "text/html": [
       "<pre style=\"white-space:pre;overflow-x:auto;line-height:normal;font-family:Menlo,'DejaVu Sans Mono',consolas,'Courier New',monospace\"><span style=\"color: #7fbfbf; text-decoration-color: #7fbfbf\">           </span>METRIC   Round <span style=\"color: #008080; text-decoration-color: #008080; font-weight: bold\">1</span>, collaborator Aggregator aggregated_model_validate result val_loss:     <span style=\"color: #008080; text-decoration-color: #008080; font-weight: bold\">0.751500</span>                                   <a href=\"file:///home/nesubuntu20nvda/miniconda3/envs/hack_openfl/lib/python3.8/site-packages/openfl/interface/interactive_api/experiment.py\" target=\"_blank\"><span style=\"color: #7f7f7f; text-decoration-color: #7f7f7f\">experiment.py</span></a><span style=\"color: #7f7f7f; text-decoration-color: #7f7f7f\">:</span><a href=\"file:///home/nesubuntu20nvda/miniconda3/envs/hack_openfl/lib/python3.8/site-packages/openfl/interface/interactive_api/experiment.py#132\" target=\"_blank\"><span style=\"color: #7f7f7f; text-decoration-color: #7f7f7f\">132</span></a>\n",
       "</pre>\n"
      ],
      "text/plain": [
       "\u001b[2;36m          \u001b[0m\u001b[2;36m \u001b[0mMETRIC   Round \u001b[1;36m1\u001b[0m, collaborator Aggregator aggregated_model_validate result val_loss:     \u001b[1;36m0.751500\u001b[0m                                   \u001b]8;id=936815;file:///home/nesubuntu20nvda/miniconda3/envs/hack_openfl/lib/python3.8/site-packages/openfl/interface/interactive_api/experiment.py\u001b\\\u001b[2mexperiment.py\u001b[0m\u001b]8;;\u001b\\\u001b[2m:\u001b[0m\u001b]8;id=772419;file:///home/nesubuntu20nvda/miniconda3/envs/hack_openfl/lib/python3.8/site-packages/openfl/interface/interactive_api/experiment.py#132\u001b\\\u001b[2m132\u001b[0m\u001b]8;;\u001b\\\n"
      ]
     },
     "metadata": {},
     "output_type": "display_data"
    },
    {
     "data": {
      "text/html": [
       "<pre style=\"white-space:pre;overflow-x:auto;line-height:normal;font-family:Menlo,'DejaVu Sans Mono',consolas,'Courier New',monospace\"><span style=\"color: #7fbfbf; text-decoration-color: #7fbfbf\">[15:23:14] </span>METRIC   Round <span style=\"color: #008080; text-decoration-color: #008080; font-weight: bold\">2</span>, collaborator trained train result train_acc:   <span style=\"color: #008080; text-decoration-color: #008080; font-weight: bold\">0.857000</span>                                                           <a href=\"file:///home/nesubuntu20nvda/miniconda3/envs/hack_openfl/lib/python3.8/site-packages/openfl/interface/interactive_api/experiment.py\" target=\"_blank\"><span style=\"color: #7f7f7f; text-decoration-color: #7f7f7f\">experiment.py</span></a><span style=\"color: #7f7f7f; text-decoration-color: #7f7f7f\">:</span><a href=\"file:///home/nesubuntu20nvda/miniconda3/envs/hack_openfl/lib/python3.8/site-packages/openfl/interface/interactive_api/experiment.py#132\" target=\"_blank\"><span style=\"color: #7f7f7f; text-decoration-color: #7f7f7f\">132</span></a>\n",
       "</pre>\n"
      ],
      "text/plain": [
       "\u001b[2;36m[15:23:14]\u001b[0m\u001b[2;36m \u001b[0mMETRIC   Round \u001b[1;36m2\u001b[0m, collaborator trained train result train_acc:   \u001b[1;36m0.857000\u001b[0m                                                           \u001b]8;id=856438;file:///home/nesubuntu20nvda/miniconda3/envs/hack_openfl/lib/python3.8/site-packages/openfl/interface/interactive_api/experiment.py\u001b\\\u001b[2mexperiment.py\u001b[0m\u001b]8;;\u001b\\\u001b[2m:\u001b[0m\u001b]8;id=736003;file:///home/nesubuntu20nvda/miniconda3/envs/hack_openfl/lib/python3.8/site-packages/openfl/interface/interactive_api/experiment.py#132\u001b\\\u001b[2m132\u001b[0m\u001b]8;;\u001b\\\n"
      ]
     },
     "metadata": {},
     "output_type": "display_data"
    },
    {
     "data": {
      "text/html": [
       "<pre style=\"white-space:pre;overflow-x:auto;line-height:normal;font-family:Menlo,'DejaVu Sans Mono',consolas,'Courier New',monospace\"><span style=\"color: #7fbfbf; text-decoration-color: #7fbfbf\">           </span>METRIC   Round <span style=\"color: #008080; text-decoration-color: #008080; font-weight: bold\">2</span>, collaborator trained train result train_loss:  <span style=\"color: #008080; text-decoration-color: #008080; font-weight: bold\">0.557000</span>                                                           <a href=\"file:///home/nesubuntu20nvda/miniconda3/envs/hack_openfl/lib/python3.8/site-packages/openfl/interface/interactive_api/experiment.py\" target=\"_blank\"><span style=\"color: #7f7f7f; text-decoration-color: #7f7f7f\">experiment.py</span></a><span style=\"color: #7f7f7f; text-decoration-color: #7f7f7f\">:</span><a href=\"file:///home/nesubuntu20nvda/miniconda3/envs/hack_openfl/lib/python3.8/site-packages/openfl/interface/interactive_api/experiment.py#132\" target=\"_blank\"><span style=\"color: #7f7f7f; text-decoration-color: #7f7f7f\">132</span></a>\n",
       "</pre>\n"
      ],
      "text/plain": [
       "\u001b[2;36m          \u001b[0m\u001b[2;36m \u001b[0mMETRIC   Round \u001b[1;36m2\u001b[0m, collaborator trained train result train_loss:  \u001b[1;36m0.557000\u001b[0m                                                           \u001b]8;id=968986;file:///home/nesubuntu20nvda/miniconda3/envs/hack_openfl/lib/python3.8/site-packages/openfl/interface/interactive_api/experiment.py\u001b\\\u001b[2mexperiment.py\u001b[0m\u001b]8;;\u001b\\\u001b[2m:\u001b[0m\u001b]8;id=356017;file:///home/nesubuntu20nvda/miniconda3/envs/hack_openfl/lib/python3.8/site-packages/openfl/interface/interactive_api/experiment.py#132\u001b\\\u001b[2m132\u001b[0m\u001b]8;;\u001b\\\n"
      ]
     },
     "metadata": {},
     "output_type": "display_data"
    },
    {
     "data": {
      "text/html": [
       "<pre style=\"white-space:pre;overflow-x:auto;line-height:normal;font-family:Menlo,'DejaVu Sans Mono',consolas,'Courier New',monospace\"><span style=\"color: #7fbfbf; text-decoration-color: #7fbfbf\">[15:23:15] </span>METRIC   Round <span style=\"color: #008080; text-decoration-color: #008080; font-weight: bold\">2</span>, collaborator validate_local locally_tuned_model_validate result val_acc:       <span style=\"color: #008080; text-decoration-color: #008080; font-weight: bold\">0.842000</span>                           <a href=\"file:///home/nesubuntu20nvda/miniconda3/envs/hack_openfl/lib/python3.8/site-packages/openfl/interface/interactive_api/experiment.py\" target=\"_blank\"><span style=\"color: #7f7f7f; text-decoration-color: #7f7f7f\">experiment.py</span></a><span style=\"color: #7f7f7f; text-decoration-color: #7f7f7f\">:</span><a href=\"file:///home/nesubuntu20nvda/miniconda3/envs/hack_openfl/lib/python3.8/site-packages/openfl/interface/interactive_api/experiment.py#132\" target=\"_blank\"><span style=\"color: #7f7f7f; text-decoration-color: #7f7f7f\">132</span></a>\n",
       "</pre>\n"
      ],
      "text/plain": [
       "\u001b[2;36m[15:23:15]\u001b[0m\u001b[2;36m \u001b[0mMETRIC   Round \u001b[1;36m2\u001b[0m, collaborator validate_local locally_tuned_model_validate result val_acc:       \u001b[1;36m0.842000\u001b[0m                           \u001b]8;id=608552;file:///home/nesubuntu20nvda/miniconda3/envs/hack_openfl/lib/python3.8/site-packages/openfl/interface/interactive_api/experiment.py\u001b\\\u001b[2mexperiment.py\u001b[0m\u001b]8;;\u001b\\\u001b[2m:\u001b[0m\u001b]8;id=856962;file:///home/nesubuntu20nvda/miniconda3/envs/hack_openfl/lib/python3.8/site-packages/openfl/interface/interactive_api/experiment.py#132\u001b\\\u001b[2m132\u001b[0m\u001b]8;;\u001b\\\n"
      ]
     },
     "metadata": {},
     "output_type": "display_data"
    },
    {
     "data": {
      "text/html": [
       "<pre style=\"white-space:pre;overflow-x:auto;line-height:normal;font-family:Menlo,'DejaVu Sans Mono',consolas,'Courier New',monospace\"><span style=\"color: #7fbfbf; text-decoration-color: #7fbfbf\">           </span>METRIC   Round <span style=\"color: #008080; text-decoration-color: #008080; font-weight: bold\">2</span>, collaborator validate_local locally_tuned_model_validate result val_loss:      <span style=\"color: #008080; text-decoration-color: #008080; font-weight: bold\">0.468000</span>                           <a href=\"file:///home/nesubuntu20nvda/miniconda3/envs/hack_openfl/lib/python3.8/site-packages/openfl/interface/interactive_api/experiment.py\" target=\"_blank\"><span style=\"color: #7f7f7f; text-decoration-color: #7f7f7f\">experiment.py</span></a><span style=\"color: #7f7f7f; text-decoration-color: #7f7f7f\">:</span><a href=\"file:///home/nesubuntu20nvda/miniconda3/envs/hack_openfl/lib/python3.8/site-packages/openfl/interface/interactive_api/experiment.py#132\" target=\"_blank\"><span style=\"color: #7f7f7f; text-decoration-color: #7f7f7f\">132</span></a>\n",
       "</pre>\n"
      ],
      "text/plain": [
       "\u001b[2;36m          \u001b[0m\u001b[2;36m \u001b[0mMETRIC   Round \u001b[1;36m2\u001b[0m, collaborator validate_local locally_tuned_model_validate result val_loss:      \u001b[1;36m0.468000\u001b[0m                           \u001b]8;id=628556;file:///home/nesubuntu20nvda/miniconda3/envs/hack_openfl/lib/python3.8/site-packages/openfl/interface/interactive_api/experiment.py\u001b\\\u001b[2mexperiment.py\u001b[0m\u001b]8;;\u001b\\\u001b[2m:\u001b[0m\u001b]8;id=279826;file:///home/nesubuntu20nvda/miniconda3/envs/hack_openfl/lib/python3.8/site-packages/openfl/interface/interactive_api/experiment.py#132\u001b\\\u001b[2m132\u001b[0m\u001b]8;;\u001b\\\n"
      ]
     },
     "metadata": {},
     "output_type": "display_data"
    },
    {
     "data": {
      "text/html": [
       "<pre style=\"white-space:pre;overflow-x:auto;line-height:normal;font-family:Menlo,'DejaVu Sans Mono',consolas,'Courier New',monospace\"><span style=\"color: #7fbfbf; text-decoration-color: #7fbfbf\">           </span>METRIC   Round <span style=\"color: #008080; text-decoration-color: #008080; font-weight: bold\">2</span>, collaborator validate_agg aggregated_model_validate result val_acc:    <span style=\"color: #008080; text-decoration-color: #008080; font-weight: bold\">0.824000</span>                                   <a href=\"file:///home/nesubuntu20nvda/miniconda3/envs/hack_openfl/lib/python3.8/site-packages/openfl/interface/interactive_api/experiment.py\" target=\"_blank\"><span style=\"color: #7f7f7f; text-decoration-color: #7f7f7f\">experiment.py</span></a><span style=\"color: #7f7f7f; text-decoration-color: #7f7f7f\">:</span><a href=\"file:///home/nesubuntu20nvda/miniconda3/envs/hack_openfl/lib/python3.8/site-packages/openfl/interface/interactive_api/experiment.py#132\" target=\"_blank\"><span style=\"color: #7f7f7f; text-decoration-color: #7f7f7f\">132</span></a>\n",
       "</pre>\n"
      ],
      "text/plain": [
       "\u001b[2;36m          \u001b[0m\u001b[2;36m \u001b[0mMETRIC   Round \u001b[1;36m2\u001b[0m, collaborator validate_agg aggregated_model_validate result val_acc:    \u001b[1;36m0.824000\u001b[0m                                   \u001b]8;id=231701;file:///home/nesubuntu20nvda/miniconda3/envs/hack_openfl/lib/python3.8/site-packages/openfl/interface/interactive_api/experiment.py\u001b\\\u001b[2mexperiment.py\u001b[0m\u001b]8;;\u001b\\\u001b[2m:\u001b[0m\u001b]8;id=361525;file:///home/nesubuntu20nvda/miniconda3/envs/hack_openfl/lib/python3.8/site-packages/openfl/interface/interactive_api/experiment.py#132\u001b\\\u001b[2m132\u001b[0m\u001b]8;;\u001b\\\n"
      ]
     },
     "metadata": {},
     "output_type": "display_data"
    },
    {
     "data": {
      "text/html": [
       "<pre style=\"white-space:pre;overflow-x:auto;line-height:normal;font-family:Menlo,'DejaVu Sans Mono',consolas,'Courier New',monospace\"><span style=\"color: #7fbfbf; text-decoration-color: #7fbfbf\">           </span>METRIC   Round <span style=\"color: #008080; text-decoration-color: #008080; font-weight: bold\">2</span>, collaborator validate_agg aggregated_model_validate result val_loss:   <span style=\"color: #008080; text-decoration-color: #008080; font-weight: bold\">0.539000</span>                                   <a href=\"file:///home/nesubuntu20nvda/miniconda3/envs/hack_openfl/lib/python3.8/site-packages/openfl/interface/interactive_api/experiment.py\" target=\"_blank\"><span style=\"color: #7f7f7f; text-decoration-color: #7f7f7f\">experiment.py</span></a><span style=\"color: #7f7f7f; text-decoration-color: #7f7f7f\">:</span><a href=\"file:///home/nesubuntu20nvda/miniconda3/envs/hack_openfl/lib/python3.8/site-packages/openfl/interface/interactive_api/experiment.py#132\" target=\"_blank\"><span style=\"color: #7f7f7f; text-decoration-color: #7f7f7f\">132</span></a>\n",
       "</pre>\n"
      ],
      "text/plain": [
       "\u001b[2;36m          \u001b[0m\u001b[2;36m \u001b[0mMETRIC   Round \u001b[1;36m2\u001b[0m, collaborator validate_agg aggregated_model_validate result val_loss:   \u001b[1;36m0.539000\u001b[0m                                   \u001b]8;id=231442;file:///home/nesubuntu20nvda/miniconda3/envs/hack_openfl/lib/python3.8/site-packages/openfl/interface/interactive_api/experiment.py\u001b\\\u001b[2mexperiment.py\u001b[0m\u001b]8;;\u001b\\\u001b[2m:\u001b[0m\u001b]8;id=207650;file:///home/nesubuntu20nvda/miniconda3/envs/hack_openfl/lib/python3.8/site-packages/openfl/interface/interactive_api/experiment.py#132\u001b\\\u001b[2m132\u001b[0m\u001b]8;;\u001b\\\n"
      ]
     },
     "metadata": {},
     "output_type": "display_data"
    },
    {
     "data": {
      "text/html": [
       "<pre style=\"white-space:pre;overflow-x:auto;line-height:normal;font-family:Menlo,'DejaVu Sans Mono',consolas,'Courier New',monospace\"><span style=\"color: #7fbfbf; text-decoration-color: #7fbfbf\">[15:23:24] </span>METRIC   Round <span style=\"color: #008080; text-decoration-color: #008080; font-weight: bold\">2</span>, collaborator trained train result train_acc:   <span style=\"color: #008080; text-decoration-color: #008080; font-weight: bold\">0.778000</span>                                                           <a href=\"file:///home/nesubuntu20nvda/miniconda3/envs/hack_openfl/lib/python3.8/site-packages/openfl/interface/interactive_api/experiment.py\" target=\"_blank\"><span style=\"color: #7f7f7f; text-decoration-color: #7f7f7f\">experiment.py</span></a><span style=\"color: #7f7f7f; text-decoration-color: #7f7f7f\">:</span><a href=\"file:///home/nesubuntu20nvda/miniconda3/envs/hack_openfl/lib/python3.8/site-packages/openfl/interface/interactive_api/experiment.py#132\" target=\"_blank\"><span style=\"color: #7f7f7f; text-decoration-color: #7f7f7f\">132</span></a>\n",
       "</pre>\n"
      ],
      "text/plain": [
       "\u001b[2;36m[15:23:24]\u001b[0m\u001b[2;36m \u001b[0mMETRIC   Round \u001b[1;36m2\u001b[0m, collaborator trained train result train_acc:   \u001b[1;36m0.778000\u001b[0m                                                           \u001b]8;id=85217;file:///home/nesubuntu20nvda/miniconda3/envs/hack_openfl/lib/python3.8/site-packages/openfl/interface/interactive_api/experiment.py\u001b\\\u001b[2mexperiment.py\u001b[0m\u001b]8;;\u001b\\\u001b[2m:\u001b[0m\u001b]8;id=563473;file:///home/nesubuntu20nvda/miniconda3/envs/hack_openfl/lib/python3.8/site-packages/openfl/interface/interactive_api/experiment.py#132\u001b\\\u001b[2m132\u001b[0m\u001b]8;;\u001b\\\n"
      ]
     },
     "metadata": {},
     "output_type": "display_data"
    },
    {
     "data": {
      "text/html": [
       "<pre style=\"white-space:pre;overflow-x:auto;line-height:normal;font-family:Menlo,'DejaVu Sans Mono',consolas,'Courier New',monospace\"><span style=\"color: #7fbfbf; text-decoration-color: #7fbfbf\">           </span>METRIC   Round <span style=\"color: #008080; text-decoration-color: #008080; font-weight: bold\">2</span>, collaborator trained train result train_loss:  <span style=\"color: #008080; text-decoration-color: #008080; font-weight: bold\">0.559000</span>                                                           <a href=\"file:///home/nesubuntu20nvda/miniconda3/envs/hack_openfl/lib/python3.8/site-packages/openfl/interface/interactive_api/experiment.py\" target=\"_blank\"><span style=\"color: #7f7f7f; text-decoration-color: #7f7f7f\">experiment.py</span></a><span style=\"color: #7f7f7f; text-decoration-color: #7f7f7f\">:</span><a href=\"file:///home/nesubuntu20nvda/miniconda3/envs/hack_openfl/lib/python3.8/site-packages/openfl/interface/interactive_api/experiment.py#132\" target=\"_blank\"><span style=\"color: #7f7f7f; text-decoration-color: #7f7f7f\">132</span></a>\n",
       "</pre>\n"
      ],
      "text/plain": [
       "\u001b[2;36m          \u001b[0m\u001b[2;36m \u001b[0mMETRIC   Round \u001b[1;36m2\u001b[0m, collaborator trained train result train_loss:  \u001b[1;36m0.559000\u001b[0m                                                           \u001b]8;id=301649;file:///home/nesubuntu20nvda/miniconda3/envs/hack_openfl/lib/python3.8/site-packages/openfl/interface/interactive_api/experiment.py\u001b\\\u001b[2mexperiment.py\u001b[0m\u001b]8;;\u001b\\\u001b[2m:\u001b[0m\u001b]8;id=440300;file:///home/nesubuntu20nvda/miniconda3/envs/hack_openfl/lib/python3.8/site-packages/openfl/interface/interactive_api/experiment.py#132\u001b\\\u001b[2m132\u001b[0m\u001b]8;;\u001b\\\n"
      ]
     },
     "metadata": {},
     "output_type": "display_data"
    },
    {
     "data": {
      "text/html": [
       "<pre style=\"white-space:pre;overflow-x:auto;line-height:normal;font-family:Menlo,'DejaVu Sans Mono',consolas,'Courier New',monospace\"><span style=\"color: #7fbfbf; text-decoration-color: #7fbfbf\">           </span>METRIC   Round <span style=\"color: #008080; text-decoration-color: #008080; font-weight: bold\">2</span>, collaborator validate_local locally_tuned_model_validate result val_acc:       <span style=\"color: #008080; text-decoration-color: #008080; font-weight: bold\">0.837000</span>                           <a href=\"file:///home/nesubuntu20nvda/miniconda3/envs/hack_openfl/lib/python3.8/site-packages/openfl/interface/interactive_api/experiment.py\" target=\"_blank\"><span style=\"color: #7f7f7f; text-decoration-color: #7f7f7f\">experiment.py</span></a><span style=\"color: #7f7f7f; text-decoration-color: #7f7f7f\">:</span><a href=\"file:///home/nesubuntu20nvda/miniconda3/envs/hack_openfl/lib/python3.8/site-packages/openfl/interface/interactive_api/experiment.py#132\" target=\"_blank\"><span style=\"color: #7f7f7f; text-decoration-color: #7f7f7f\">132</span></a>\n",
       "</pre>\n"
      ],
      "text/plain": [
       "\u001b[2;36m          \u001b[0m\u001b[2;36m \u001b[0mMETRIC   Round \u001b[1;36m2\u001b[0m, collaborator validate_local locally_tuned_model_validate result val_acc:       \u001b[1;36m0.837000\u001b[0m                           \u001b]8;id=148448;file:///home/nesubuntu20nvda/miniconda3/envs/hack_openfl/lib/python3.8/site-packages/openfl/interface/interactive_api/experiment.py\u001b\\\u001b[2mexperiment.py\u001b[0m\u001b]8;;\u001b\\\u001b[2m:\u001b[0m\u001b]8;id=602743;file:///home/nesubuntu20nvda/miniconda3/envs/hack_openfl/lib/python3.8/site-packages/openfl/interface/interactive_api/experiment.py#132\u001b\\\u001b[2m132\u001b[0m\u001b]8;;\u001b\\\n"
      ]
     },
     "metadata": {},
     "output_type": "display_data"
    },
    {
     "data": {
      "text/html": [
       "<pre style=\"white-space:pre;overflow-x:auto;line-height:normal;font-family:Menlo,'DejaVu Sans Mono',consolas,'Courier New',monospace\"><span style=\"color: #7fbfbf; text-decoration-color: #7fbfbf\">           </span>METRIC   Round <span style=\"color: #008080; text-decoration-color: #008080; font-weight: bold\">2</span>, collaborator validate_local locally_tuned_model_validate result val_loss:      <span style=\"color: #008080; text-decoration-color: #008080; font-weight: bold\">0.453000</span>                           <a href=\"file:///home/nesubuntu20nvda/miniconda3/envs/hack_openfl/lib/python3.8/site-packages/openfl/interface/interactive_api/experiment.py\" target=\"_blank\"><span style=\"color: #7f7f7f; text-decoration-color: #7f7f7f\">experiment.py</span></a><span style=\"color: #7f7f7f; text-decoration-color: #7f7f7f\">:</span><a href=\"file:///home/nesubuntu20nvda/miniconda3/envs/hack_openfl/lib/python3.8/site-packages/openfl/interface/interactive_api/experiment.py#132\" target=\"_blank\"><span style=\"color: #7f7f7f; text-decoration-color: #7f7f7f\">132</span></a>\n",
       "</pre>\n"
      ],
      "text/plain": [
       "\u001b[2;36m          \u001b[0m\u001b[2;36m \u001b[0mMETRIC   Round \u001b[1;36m2\u001b[0m, collaborator validate_local locally_tuned_model_validate result val_loss:      \u001b[1;36m0.453000\u001b[0m                           \u001b]8;id=39957;file:///home/nesubuntu20nvda/miniconda3/envs/hack_openfl/lib/python3.8/site-packages/openfl/interface/interactive_api/experiment.py\u001b\\\u001b[2mexperiment.py\u001b[0m\u001b]8;;\u001b\\\u001b[2m:\u001b[0m\u001b]8;id=32939;file:///home/nesubuntu20nvda/miniconda3/envs/hack_openfl/lib/python3.8/site-packages/openfl/interface/interactive_api/experiment.py#132\u001b\\\u001b[2m132\u001b[0m\u001b]8;;\u001b\\\n"
      ]
     },
     "metadata": {},
     "output_type": "display_data"
    },
    {
     "data": {
      "text/html": [
       "<pre style=\"white-space:pre;overflow-x:auto;line-height:normal;font-family:Menlo,'DejaVu Sans Mono',consolas,'Courier New',monospace\"><span style=\"color: #7fbfbf; text-decoration-color: #7fbfbf\">[15:23:25] </span>METRIC   Round <span style=\"color: #008080; text-decoration-color: #008080; font-weight: bold\">2</span>, collaborator validate_agg aggregated_model_validate result val_acc:    <span style=\"color: #008080; text-decoration-color: #008080; font-weight: bold\">0.827000</span>                                   <a href=\"file:///home/nesubuntu20nvda/miniconda3/envs/hack_openfl/lib/python3.8/site-packages/openfl/interface/interactive_api/experiment.py\" target=\"_blank\"><span style=\"color: #7f7f7f; text-decoration-color: #7f7f7f\">experiment.py</span></a><span style=\"color: #7f7f7f; text-decoration-color: #7f7f7f\">:</span><a href=\"file:///home/nesubuntu20nvda/miniconda3/envs/hack_openfl/lib/python3.8/site-packages/openfl/interface/interactive_api/experiment.py#132\" target=\"_blank\"><span style=\"color: #7f7f7f; text-decoration-color: #7f7f7f\">132</span></a>\n",
       "</pre>\n"
      ],
      "text/plain": [
       "\u001b[2;36m[15:23:25]\u001b[0m\u001b[2;36m \u001b[0mMETRIC   Round \u001b[1;36m2\u001b[0m, collaborator validate_agg aggregated_model_validate result val_acc:    \u001b[1;36m0.827000\u001b[0m                                   \u001b]8;id=784578;file:///home/nesubuntu20nvda/miniconda3/envs/hack_openfl/lib/python3.8/site-packages/openfl/interface/interactive_api/experiment.py\u001b\\\u001b[2mexperiment.py\u001b[0m\u001b]8;;\u001b\\\u001b[2m:\u001b[0m\u001b]8;id=731909;file:///home/nesubuntu20nvda/miniconda3/envs/hack_openfl/lib/python3.8/site-packages/openfl/interface/interactive_api/experiment.py#132\u001b\\\u001b[2m132\u001b[0m\u001b]8;;\u001b\\\n"
      ]
     },
     "metadata": {},
     "output_type": "display_data"
    },
    {
     "data": {
      "text/html": [
       "<pre style=\"white-space:pre;overflow-x:auto;line-height:normal;font-family:Menlo,'DejaVu Sans Mono',consolas,'Courier New',monospace\"><span style=\"color: #7fbfbf; text-decoration-color: #7fbfbf\">           </span>METRIC   Round <span style=\"color: #008080; text-decoration-color: #008080; font-weight: bold\">2</span>, collaborator validate_agg aggregated_model_validate result val_loss:   <span style=\"color: #008080; text-decoration-color: #008080; font-weight: bold\">0.524000</span>                                   <a href=\"file:///home/nesubuntu20nvda/miniconda3/envs/hack_openfl/lib/python3.8/site-packages/openfl/interface/interactive_api/experiment.py\" target=\"_blank\"><span style=\"color: #7f7f7f; text-decoration-color: #7f7f7f\">experiment.py</span></a><span style=\"color: #7f7f7f; text-decoration-color: #7f7f7f\">:</span><a href=\"file:///home/nesubuntu20nvda/miniconda3/envs/hack_openfl/lib/python3.8/site-packages/openfl/interface/interactive_api/experiment.py#132\" target=\"_blank\"><span style=\"color: #7f7f7f; text-decoration-color: #7f7f7f\">132</span></a>\n",
       "</pre>\n"
      ],
      "text/plain": [
       "\u001b[2;36m          \u001b[0m\u001b[2;36m \u001b[0mMETRIC   Round \u001b[1;36m2\u001b[0m, collaborator validate_agg aggregated_model_validate result val_loss:   \u001b[1;36m0.524000\u001b[0m                                   \u001b]8;id=574401;file:///home/nesubuntu20nvda/miniconda3/envs/hack_openfl/lib/python3.8/site-packages/openfl/interface/interactive_api/experiment.py\u001b\\\u001b[2mexperiment.py\u001b[0m\u001b]8;;\u001b\\\u001b[2m:\u001b[0m\u001b]8;id=619996;file:///home/nesubuntu20nvda/miniconda3/envs/hack_openfl/lib/python3.8/site-packages/openfl/interface/interactive_api/experiment.py#132\u001b\\\u001b[2m132\u001b[0m\u001b]8;;\u001b\\\n"
      ]
     },
     "metadata": {},
     "output_type": "display_data"
    },
    {
     "data": {
      "text/html": [
       "<pre style=\"white-space:pre;overflow-x:auto;line-height:normal;font-family:Menlo,'DejaVu Sans Mono',consolas,'Courier New',monospace\"><span style=\"color: #7fbfbf; text-decoration-color: #7fbfbf\">           </span>METRIC   Round <span style=\"color: #008080; text-decoration-color: #008080; font-weight: bold\">2</span>, collaborator Aggregator train result train_acc:        <span style=\"color: #008080; text-decoration-color: #008080; font-weight: bold\">0.817503</span>                                                   <a href=\"file:///home/nesubuntu20nvda/miniconda3/envs/hack_openfl/lib/python3.8/site-packages/openfl/interface/interactive_api/experiment.py\" target=\"_blank\"><span style=\"color: #7f7f7f; text-decoration-color: #7f7f7f\">experiment.py</span></a><span style=\"color: #7f7f7f; text-decoration-color: #7f7f7f\">:</span><a href=\"file:///home/nesubuntu20nvda/miniconda3/envs/hack_openfl/lib/python3.8/site-packages/openfl/interface/interactive_api/experiment.py#132\" target=\"_blank\"><span style=\"color: #7f7f7f; text-decoration-color: #7f7f7f\">132</span></a>\n",
       "</pre>\n"
      ],
      "text/plain": [
       "\u001b[2;36m          \u001b[0m\u001b[2;36m \u001b[0mMETRIC   Round \u001b[1;36m2\u001b[0m, collaborator Aggregator train result train_acc:        \u001b[1;36m0.817503\u001b[0m                                                   \u001b]8;id=350506;file:///home/nesubuntu20nvda/miniconda3/envs/hack_openfl/lib/python3.8/site-packages/openfl/interface/interactive_api/experiment.py\u001b\\\u001b[2mexperiment.py\u001b[0m\u001b]8;;\u001b\\\u001b[2m:\u001b[0m\u001b]8;id=487889;file:///home/nesubuntu20nvda/miniconda3/envs/hack_openfl/lib/python3.8/site-packages/openfl/interface/interactive_api/experiment.py#132\u001b\\\u001b[2m132\u001b[0m\u001b]8;;\u001b\\\n"
      ]
     },
     "metadata": {},
     "output_type": "display_data"
    },
    {
     "data": {
      "text/html": [
       "<pre style=\"white-space:pre;overflow-x:auto;line-height:normal;font-family:Menlo,'DejaVu Sans Mono',consolas,'Courier New',monospace\"><span style=\"color: #7fbfbf; text-decoration-color: #7fbfbf\">           </span>METRIC   Round <span style=\"color: #008080; text-decoration-color: #008080; font-weight: bold\">2</span>, collaborator Aggregator train result train_loss:       <span style=\"color: #008080; text-decoration-color: #008080; font-weight: bold\">0.558000</span>                                                   <a href=\"file:///home/nesubuntu20nvda/miniconda3/envs/hack_openfl/lib/python3.8/site-packages/openfl/interface/interactive_api/experiment.py\" target=\"_blank\"><span style=\"color: #7f7f7f; text-decoration-color: #7f7f7f\">experiment.py</span></a><span style=\"color: #7f7f7f; text-decoration-color: #7f7f7f\">:</span><a href=\"file:///home/nesubuntu20nvda/miniconda3/envs/hack_openfl/lib/python3.8/site-packages/openfl/interface/interactive_api/experiment.py#132\" target=\"_blank\"><span style=\"color: #7f7f7f; text-decoration-color: #7f7f7f\">132</span></a>\n",
       "</pre>\n"
      ],
      "text/plain": [
       "\u001b[2;36m          \u001b[0m\u001b[2;36m \u001b[0mMETRIC   Round \u001b[1;36m2\u001b[0m, collaborator Aggregator train result train_loss:       \u001b[1;36m0.558000\u001b[0m                                                   \u001b]8;id=812796;file:///home/nesubuntu20nvda/miniconda3/envs/hack_openfl/lib/python3.8/site-packages/openfl/interface/interactive_api/experiment.py\u001b\\\u001b[2mexperiment.py\u001b[0m\u001b]8;;\u001b\\\u001b[2m:\u001b[0m\u001b]8;id=238588;file:///home/nesubuntu20nvda/miniconda3/envs/hack_openfl/lib/python3.8/site-packages/openfl/interface/interactive_api/experiment.py#132\u001b\\\u001b[2m132\u001b[0m\u001b]8;;\u001b\\\n"
      ]
     },
     "metadata": {},
     "output_type": "display_data"
    },
    {
     "data": {
      "text/html": [
       "<pre style=\"white-space:pre;overflow-x:auto;line-height:normal;font-family:Menlo,'DejaVu Sans Mono',consolas,'Courier New',monospace\"><span style=\"color: #7fbfbf; text-decoration-color: #7fbfbf\">           </span>METRIC   Round <span style=\"color: #008080; text-decoration-color: #008080; font-weight: bold\">2</span>, collaborator Aggregator locally_tuned_model_validate result val_acc:   <span style=\"color: #008080; text-decoration-color: #008080; font-weight: bold\">0.839501</span>                                   <a href=\"file:///home/nesubuntu20nvda/miniconda3/envs/hack_openfl/lib/python3.8/site-packages/openfl/interface/interactive_api/experiment.py\" target=\"_blank\"><span style=\"color: #7f7f7f; text-decoration-color: #7f7f7f\">experiment.py</span></a><span style=\"color: #7f7f7f; text-decoration-color: #7f7f7f\">:</span><a href=\"file:///home/nesubuntu20nvda/miniconda3/envs/hack_openfl/lib/python3.8/site-packages/openfl/interface/interactive_api/experiment.py#132\" target=\"_blank\"><span style=\"color: #7f7f7f; text-decoration-color: #7f7f7f\">132</span></a>\n",
       "</pre>\n"
      ],
      "text/plain": [
       "\u001b[2;36m          \u001b[0m\u001b[2;36m \u001b[0mMETRIC   Round \u001b[1;36m2\u001b[0m, collaborator Aggregator locally_tuned_model_validate result val_acc:   \u001b[1;36m0.839501\u001b[0m                                   \u001b]8;id=410232;file:///home/nesubuntu20nvda/miniconda3/envs/hack_openfl/lib/python3.8/site-packages/openfl/interface/interactive_api/experiment.py\u001b\\\u001b[2mexperiment.py\u001b[0m\u001b]8;;\u001b\\\u001b[2m:\u001b[0m\u001b]8;id=475457;file:///home/nesubuntu20nvda/miniconda3/envs/hack_openfl/lib/python3.8/site-packages/openfl/interface/interactive_api/experiment.py#132\u001b\\\u001b[2m132\u001b[0m\u001b]8;;\u001b\\\n"
      ]
     },
     "metadata": {},
     "output_type": "display_data"
    },
    {
     "data": {
      "text/html": [
       "<pre style=\"white-space:pre;overflow-x:auto;line-height:normal;font-family:Menlo,'DejaVu Sans Mono',consolas,'Courier New',monospace\"><span style=\"color: #7fbfbf; text-decoration-color: #7fbfbf\">           </span>METRIC   Round <span style=\"color: #008080; text-decoration-color: #008080; font-weight: bold\">2</span>, collaborator Aggregator locally_tuned_model_validate result val_loss:  <span style=\"color: #008080; text-decoration-color: #008080; font-weight: bold\">0.460502</span>                                   <a href=\"file:///home/nesubuntu20nvda/miniconda3/envs/hack_openfl/lib/python3.8/site-packages/openfl/interface/interactive_api/experiment.py\" target=\"_blank\"><span style=\"color: #7f7f7f; text-decoration-color: #7f7f7f\">experiment.py</span></a><span style=\"color: #7f7f7f; text-decoration-color: #7f7f7f\">:</span><a href=\"file:///home/nesubuntu20nvda/miniconda3/envs/hack_openfl/lib/python3.8/site-packages/openfl/interface/interactive_api/experiment.py#132\" target=\"_blank\"><span style=\"color: #7f7f7f; text-decoration-color: #7f7f7f\">132</span></a>\n",
       "</pre>\n"
      ],
      "text/plain": [
       "\u001b[2;36m          \u001b[0m\u001b[2;36m \u001b[0mMETRIC   Round \u001b[1;36m2\u001b[0m, collaborator Aggregator locally_tuned_model_validate result val_loss:  \u001b[1;36m0.460502\u001b[0m                                   \u001b]8;id=153438;file:///home/nesubuntu20nvda/miniconda3/envs/hack_openfl/lib/python3.8/site-packages/openfl/interface/interactive_api/experiment.py\u001b\\\u001b[2mexperiment.py\u001b[0m\u001b]8;;\u001b\\\u001b[2m:\u001b[0m\u001b]8;id=678231;file:///home/nesubuntu20nvda/miniconda3/envs/hack_openfl/lib/python3.8/site-packages/openfl/interface/interactive_api/experiment.py#132\u001b\\\u001b[2m132\u001b[0m\u001b]8;;\u001b\\\n"
      ]
     },
     "metadata": {},
     "output_type": "display_data"
    },
    {
     "data": {
      "text/html": [
       "<pre style=\"white-space:pre;overflow-x:auto;line-height:normal;font-family:Menlo,'DejaVu Sans Mono',consolas,'Courier New',monospace\"><span style=\"color: #7fbfbf; text-decoration-color: #7fbfbf\">           </span>METRIC   Round <span style=\"color: #008080; text-decoration-color: #008080; font-weight: bold\">2</span>, collaborator Aggregator aggregated_model_validate result val_acc:      <span style=\"color: #008080; text-decoration-color: #008080; font-weight: bold\">0.825500</span>                                   <a href=\"file:///home/nesubuntu20nvda/miniconda3/envs/hack_openfl/lib/python3.8/site-packages/openfl/interface/interactive_api/experiment.py\" target=\"_blank\"><span style=\"color: #7f7f7f; text-decoration-color: #7f7f7f\">experiment.py</span></a><span style=\"color: #7f7f7f; text-decoration-color: #7f7f7f\">:</span><a href=\"file:///home/nesubuntu20nvda/miniconda3/envs/hack_openfl/lib/python3.8/site-packages/openfl/interface/interactive_api/experiment.py#132\" target=\"_blank\"><span style=\"color: #7f7f7f; text-decoration-color: #7f7f7f\">132</span></a>\n",
       "</pre>\n"
      ],
      "text/plain": [
       "\u001b[2;36m          \u001b[0m\u001b[2;36m \u001b[0mMETRIC   Round \u001b[1;36m2\u001b[0m, collaborator Aggregator aggregated_model_validate result val_acc:      \u001b[1;36m0.825500\u001b[0m                                   \u001b]8;id=458888;file:///home/nesubuntu20nvda/miniconda3/envs/hack_openfl/lib/python3.8/site-packages/openfl/interface/interactive_api/experiment.py\u001b\\\u001b[2mexperiment.py\u001b[0m\u001b]8;;\u001b\\\u001b[2m:\u001b[0m\u001b]8;id=218270;file:///home/nesubuntu20nvda/miniconda3/envs/hack_openfl/lib/python3.8/site-packages/openfl/interface/interactive_api/experiment.py#132\u001b\\\u001b[2m132\u001b[0m\u001b]8;;\u001b\\\n"
      ]
     },
     "metadata": {},
     "output_type": "display_data"
    },
    {
     "data": {
      "text/html": [
       "<pre style=\"white-space:pre;overflow-x:auto;line-height:normal;font-family:Menlo,'DejaVu Sans Mono',consolas,'Courier New',monospace\"><span style=\"color: #7fbfbf; text-decoration-color: #7fbfbf\">           </span>METRIC   Round <span style=\"color: #008080; text-decoration-color: #008080; font-weight: bold\">2</span>, collaborator Aggregator aggregated_model_validate result val_loss:     <span style=\"color: #008080; text-decoration-color: #008080; font-weight: bold\">0.531502</span>                                   <a href=\"file:///home/nesubuntu20nvda/miniconda3/envs/hack_openfl/lib/python3.8/site-packages/openfl/interface/interactive_api/experiment.py\" target=\"_blank\"><span style=\"color: #7f7f7f; text-decoration-color: #7f7f7f\">experiment.py</span></a><span style=\"color: #7f7f7f; text-decoration-color: #7f7f7f\">:</span><a href=\"file:///home/nesubuntu20nvda/miniconda3/envs/hack_openfl/lib/python3.8/site-packages/openfl/interface/interactive_api/experiment.py#132\" target=\"_blank\"><span style=\"color: #7f7f7f; text-decoration-color: #7f7f7f\">132</span></a>\n",
       "</pre>\n"
      ],
      "text/plain": [
       "\u001b[2;36m          \u001b[0m\u001b[2;36m \u001b[0mMETRIC   Round \u001b[1;36m2\u001b[0m, collaborator Aggregator aggregated_model_validate result val_loss:     \u001b[1;36m0.531502\u001b[0m                                   \u001b]8;id=457378;file:///home/nesubuntu20nvda/miniconda3/envs/hack_openfl/lib/python3.8/site-packages/openfl/interface/interactive_api/experiment.py\u001b\\\u001b[2mexperiment.py\u001b[0m\u001b]8;;\u001b\\\u001b[2m:\u001b[0m\u001b]8;id=620827;file:///home/nesubuntu20nvda/miniconda3/envs/hack_openfl/lib/python3.8/site-packages/openfl/interface/interactive_api/experiment.py#132\u001b\\\u001b[2m132\u001b[0m\u001b]8;;\u001b\\\n"
      ]
     },
     "metadata": {},
     "output_type": "display_data"
    }
   ],
   "source": [
    "# This method not only prints messages recieved from the director,\n",
    "# but also saves logs in the tensorboard format (by default)\n",
    "fl_experiment.stream_metrics()"
   ]
  },
  {
   "cell_type": "markdown",
   "id": "9e365766-4ea6-40bc-96ae-a183274e8b8c",
   "metadata": {
    "id": "9e365766-4ea6-40bc-96ae-a183274e8b8c"
   },
   "source": [
    "### Cleanup"
   ]
  },
  {
   "cell_type": "code",
   "execution_count": 22,
   "id": "e5d793be-6c20-4a22-bad7-c082c1ee76ca",
   "metadata": {
    "id": "e5d793be-6c20-4a22-bad7-c082c1ee76ca"
   },
   "outputs": [
    {
     "data": {
      "text/plain": [
       "[None, None]"
      ]
     },
     "execution_count": 22,
     "metadata": {},
     "output_type": "execute_result"
    }
   ],
   "source": [
    "# To stop all services run\n",
    "!pkill fx\n",
    "[os.remove(path) for path in config_paths]"
   ]
  }
 ],
 "metadata": {
  "colab": {
   "collapsed_sections": [],
   "provenance": []
  },
  "kernelspec": {
   "display_name": "Python 3 (ipykernel)",
   "language": "python",
   "name": "python3"
  },
  "language_info": {
   "codemirror_mode": {
    "name": "ipython",
    "version": 3
   },
   "file_extension": ".py",
   "mimetype": "text/x-python",
   "name": "python",
   "nbconvert_exporter": "python",
   "pygments_lexer": "ipython3",
   "version": "3.8.16"
  },
  "vscode": {
   "interpreter": {
    "hash": "f43db3e1b37af6d897db69efad3b1c690ae8b3c11b26caaa91054cfebd4932bb"
   }
  },
  "widgets": {
   "application/vnd.jupyter.widget-state+json": {
    "2b250da531934bb5874a5af261c97e53": {
     "model_module": "@jupyter-widgets/base",
     "model_module_version": "1.2.0",
     "model_name": "LayoutModel",
     "state": {
      "_model_module": "@jupyter-widgets/base",
      "_model_module_version": "1.2.0",
      "_model_name": "LayoutModel",
      "_view_count": null,
      "_view_module": "@jupyter-widgets/base",
      "_view_module_version": "1.2.0",
      "_view_name": "LayoutView",
      "align_content": null,
      "align_items": null,
      "align_self": null,
      "border": null,
      "bottom": null,
      "display": null,
      "flex": null,
      "flex_flow": null,
      "grid_area": null,
      "grid_auto_columns": null,
      "grid_auto_flow": null,
      "grid_auto_rows": null,
      "grid_column": null,
      "grid_gap": null,
      "grid_row": null,
      "grid_template_areas": null,
      "grid_template_columns": null,
      "grid_template_rows": null,
      "height": null,
      "justify_content": null,
      "justify_items": null,
      "left": null,
      "margin": null,
      "max_height": null,
      "max_width": null,
      "min_height": null,
      "min_width": null,
      "object_fit": null,
      "object_position": null,
      "order": null,
      "overflow": null,
      "overflow_x": null,
      "overflow_y": null,
      "padding": null,
      "right": null,
      "top": null,
      "visibility": null,
      "width": null
     }
    },
    "30c12d51d9f747f8b65b2222e28d0956": {
     "model_module": "@jupyter-widgets/base",
     "model_module_version": "1.2.0",
     "model_name": "LayoutModel",
     "state": {
      "_model_module": "@jupyter-widgets/base",
      "_model_module_version": "1.2.0",
      "_model_name": "LayoutModel",
      "_view_count": null,
      "_view_module": "@jupyter-widgets/base",
      "_view_module_version": "1.2.0",
      "_view_name": "LayoutView",
      "align_content": null,
      "align_items": null,
      "align_self": null,
      "border": null,
      "bottom": null,
      "display": null,
      "flex": null,
      "flex_flow": null,
      "grid_area": null,
      "grid_auto_columns": null,
      "grid_auto_flow": null,
      "grid_auto_rows": null,
      "grid_column": null,
      "grid_gap": null,
      "grid_row": null,
      "grid_template_areas": null,
      "grid_template_columns": null,
      "grid_template_rows": null,
      "height": null,
      "justify_content": null,
      "justify_items": null,
      "left": null,
      "margin": null,
      "max_height": null,
      "max_width": null,
      "min_height": null,
      "min_width": null,
      "object_fit": null,
      "object_position": null,
      "order": null,
      "overflow": null,
      "overflow_x": null,
      "overflow_y": null,
      "padding": null,
      "right": null,
      "top": null,
      "visibility": null,
      "width": null
     }
    },
    "37ef8c1ab50b4364bde3991c8d3047ee": {
     "model_module": "@jupyter-widgets/controls",
     "model_module_version": "1.5.0",
     "model_name": "DescriptionStyleModel",
     "state": {
      "_model_module": "@jupyter-widgets/controls",
      "_model_module_version": "1.5.0",
      "_model_name": "DescriptionStyleModel",
      "_view_count": null,
      "_view_module": "@jupyter-widgets/base",
      "_view_module_version": "1.2.0",
      "_view_name": "StyleView",
      "description_width": ""
     }
    },
    "39930de3b8774a1fa5841adbabec699e": {
     "model_module": "@jupyter-widgets/controls",
     "model_module_version": "1.5.0",
     "model_name": "DescriptionStyleModel",
     "state": {
      "_model_module": "@jupyter-widgets/controls",
      "_model_module_version": "1.5.0",
      "_model_name": "DescriptionStyleModel",
      "_view_count": null,
      "_view_module": "@jupyter-widgets/base",
      "_view_module_version": "1.2.0",
      "_view_name": "StyleView",
      "description_width": ""
     }
    },
    "5ba4547a5f404864b5dc28e1a18cc384": {
     "model_module": "@jupyter-widgets/controls",
     "model_module_version": "1.5.0",
     "model_name": "HTMLModel",
     "state": {
      "_dom_classes": [],
      "_model_module": "@jupyter-widgets/controls",
      "_model_module_version": "1.5.0",
      "_model_name": "HTMLModel",
      "_view_count": null,
      "_view_module": "@jupyter-widgets/controls",
      "_view_module_version": "1.5.0",
      "_view_name": "HTMLView",
      "description": "",
      "description_tooltip": null,
      "layout": "IPY_MODEL_2b250da531934bb5874a5af261c97e53",
      "placeholder": "​",
      "style": "IPY_MODEL_39930de3b8774a1fa5841adbabec699e",
      "value": "100%"
     }
    },
    "5fceddccde554f2d942c11679dc3c986": {
     "model_module": "@jupyter-widgets/controls",
     "model_module_version": "1.5.0",
     "model_name": "HBoxModel",
     "state": {
      "_dom_classes": [],
      "_model_module": "@jupyter-widgets/controls",
      "_model_module_version": "1.5.0",
      "_model_name": "HBoxModel",
      "_view_count": null,
      "_view_module": "@jupyter-widgets/controls",
      "_view_module_version": "1.5.0",
      "_view_name": "HBoxView",
      "box_style": "",
      "children": [
       "IPY_MODEL_5ba4547a5f404864b5dc28e1a18cc384",
       "IPY_MODEL_ec26fda46b5449e59d4a39e55b700db1",
       "IPY_MODEL_a2818c8b53df4482817879334c8c8559"
      ],
      "layout": "IPY_MODEL_30c12d51d9f747f8b65b2222e28d0956"
     }
    },
    "90f9f36e05b54e799daf9aee65a133a8": {
     "model_module": "@jupyter-widgets/controls",
     "model_module_version": "1.5.0",
     "model_name": "ProgressStyleModel",
     "state": {
      "_model_module": "@jupyter-widgets/controls",
      "_model_module_version": "1.5.0",
      "_model_name": "ProgressStyleModel",
      "_view_count": null,
      "_view_module": "@jupyter-widgets/base",
      "_view_module_version": "1.2.0",
      "_view_name": "StyleView",
      "bar_color": null,
      "description_width": ""
     }
    },
    "a2818c8b53df4482817879334c8c8559": {
     "model_module": "@jupyter-widgets/controls",
     "model_module_version": "1.5.0",
     "model_name": "HTMLModel",
     "state": {
      "_dom_classes": [],
      "_model_module": "@jupyter-widgets/controls",
      "_model_module_version": "1.5.0",
      "_model_name": "HTMLModel",
      "_view_count": null,
      "_view_module": "@jupyter-widgets/controls",
      "_view_module_version": "1.5.0",
      "_view_name": "HTMLView",
      "description": "",
      "description_tooltip": null,
      "layout": "IPY_MODEL_dd68ec9dea2141a4892663e66e9d54a8",
      "placeholder": "​",
      "style": "IPY_MODEL_37ef8c1ab50b4364bde3991c8d3047ee",
      "value": " 35461855/35461855 [01:16&lt;00:00, 5101979.40it/s]"
     }
    },
    "bcca1e1d2ad8446797fc9d67f25bc694": {
     "model_module": "@jupyter-widgets/base",
     "model_module_version": "1.2.0",
     "model_name": "LayoutModel",
     "state": {
      "_model_module": "@jupyter-widgets/base",
      "_model_module_version": "1.2.0",
      "_model_name": "LayoutModel",
      "_view_count": null,
      "_view_module": "@jupyter-widgets/base",
      "_view_module_version": "1.2.0",
      "_view_name": "LayoutView",
      "align_content": null,
      "align_items": null,
      "align_self": null,
      "border": null,
      "bottom": null,
      "display": null,
      "flex": null,
      "flex_flow": null,
      "grid_area": null,
      "grid_auto_columns": null,
      "grid_auto_flow": null,
      "grid_auto_rows": null,
      "grid_column": null,
      "grid_gap": null,
      "grid_row": null,
      "grid_template_areas": null,
      "grid_template_columns": null,
      "grid_template_rows": null,
      "height": null,
      "justify_content": null,
      "justify_items": null,
      "left": null,
      "margin": null,
      "max_height": null,
      "max_width": null,
      "min_height": null,
      "min_width": null,
      "object_fit": null,
      "object_position": null,
      "order": null,
      "overflow": null,
      "overflow_x": null,
      "overflow_y": null,
      "padding": null,
      "right": null,
      "top": null,
      "visibility": null,
      "width": null
     }
    },
    "dd68ec9dea2141a4892663e66e9d54a8": {
     "model_module": "@jupyter-widgets/base",
     "model_module_version": "1.2.0",
     "model_name": "LayoutModel",
     "state": {
      "_model_module": "@jupyter-widgets/base",
      "_model_module_version": "1.2.0",
      "_model_name": "LayoutModel",
      "_view_count": null,
      "_view_module": "@jupyter-widgets/base",
      "_view_module_version": "1.2.0",
      "_view_name": "LayoutView",
      "align_content": null,
      "align_items": null,
      "align_self": null,
      "border": null,
      "bottom": null,
      "display": null,
      "flex": null,
      "flex_flow": null,
      "grid_area": null,
      "grid_auto_columns": null,
      "grid_auto_flow": null,
      "grid_auto_rows": null,
      "grid_column": null,
      "grid_gap": null,
      "grid_row": null,
      "grid_template_areas": null,
      "grid_template_columns": null,
      "grid_template_rows": null,
      "height": null,
      "justify_content": null,
      "justify_items": null,
      "left": null,
      "margin": null,
      "max_height": null,
      "max_width": null,
      "min_height": null,
      "min_width": null,
      "object_fit": null,
      "object_position": null,
      "order": null,
      "overflow": null,
      "overflow_x": null,
      "overflow_y": null,
      "padding": null,
      "right": null,
      "top": null,
      "visibility": null,
      "width": null
     }
    },
    "ec26fda46b5449e59d4a39e55b700db1": {
     "model_module": "@jupyter-widgets/controls",
     "model_module_version": "1.5.0",
     "model_name": "FloatProgressModel",
     "state": {
      "_dom_classes": [],
      "_model_module": "@jupyter-widgets/controls",
      "_model_module_version": "1.5.0",
      "_model_name": "FloatProgressModel",
      "_view_count": null,
      "_view_module": "@jupyter-widgets/controls",
      "_view_module_version": "1.5.0",
      "_view_name": "ProgressView",
      "bar_style": "success",
      "description": "",
      "description_tooltip": null,
      "layout": "IPY_MODEL_bcca1e1d2ad8446797fc9d67f25bc694",
      "max": 35461855,
      "min": 0,
      "orientation": "horizontal",
      "style": "IPY_MODEL_90f9f36e05b54e799daf9aee65a133a8",
      "value": 35461855
     }
    }
   }
  }
 },
 "nbformat": 4,
 "nbformat_minor": 5
}
